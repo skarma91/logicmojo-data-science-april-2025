{
 "cells": [
  {
   "cell_type": "markdown",
   "id": "cf39e36c-305d-456a-b9e0-02a04cea95b0",
   "metadata": {},
   "source": [
    "# Assignment-1\n",
    "\n",
    "This notebook contains the coding questions to test the proficiency in basic python.\n",
    "\n",
    "### Date: 22nd April, 2025\n",
    "\n",
    "### Steps to solve and upload the assignment \n",
    "\n",
    "- Download the notebook in your local machine.\n",
    "- Solve the questions in the notebook and save it.\n",
    "- Rename the file as `Assignment-01-<your_name>_<your_surname>.ipynb`. For example if your name is Dipika Chopra then name the file as `Assignment-01-Dipika_Chopra.ipynb`.\n",
    "- Upload the solved notebook in the google drive location: https://drive.google.com/drive/folders/1ocablnD-nmo2Q1d4Q35BtJMcIMdwONK0?usp=sharing\n",
    "\n",
    "<h3><span style=\"color:red\"> Deadline: 30th April, 2025 </span></h3>"
   ]
  },
  {
   "cell_type": "markdown",
   "id": "fae8a82b-4baa-48a5-b7b0-cc0a77cd8419",
   "metadata": {},
   "source": [
    "#### Question-1\n",
    "\n",
    "Write a function `second_largest(numbers)` that takes a list of numbers and returns the second largest number in the list. Assume the list has at least two unique numbers.\n",
    "\n",
    "Example:\n",
    "```python\n",
    "numbers = [10, 5, 20, 8, 15]\n",
    "second = second_largest(numbers)\n",
    "print(second)\n",
    "# Expected output: 15\n",
    "```"
   ]
  },
  {
   "cell_type": "code",
   "execution_count": null,
   "id": "c59cc6dd-bf81-4e61-9d19-e086c6ebc1cf",
   "metadata": {},
   "outputs": [],
   "source": [
    "# Write your code here\n",
    "\n"
   ]
  },
  {
   "cell_type": "markdown",
   "id": "d36297be-09c5-4cda-8b52-281566a62f65",
   "metadata": {},
   "source": [
    "#### Question-2\n",
    "\n",
    "Write a function `count_vowels(text)` that takes a string as input and returns the number of vowels (a, e, i, o, u - case-insensitive) present in the string.\n",
    "\n",
    "Example:\n",
    "```python\n",
    "text = \"Hello World\"\n",
    "vowel_count = count_vowels(text)\n",
    "print(vowel_count)\n",
    "# Expected output: 3\n",
    "```\n"
   ]
  },
  {
   "cell_type": "code",
   "execution_count": null,
   "id": "35ed7370-242a-49d2-a7d2-da9b0c0d2ca4",
   "metadata": {},
   "outputs": [],
   "source": [
    "# Write your code here\n",
    "\n"
   ]
  },
  {
   "cell_type": "markdown",
   "id": "1896a5da-319f-483a-835d-a08b0710a728",
   "metadata": {},
   "source": [
    "#### Question-3\n",
    "\n",
    "Write a Python program to print all the prime numbers between 1 and N (inclusive). Where N is a positive integer and an input from user.\n",
    "\n",
    "Example:\n",
    "\n",
    "```python\n",
    "N = 20\n",
    "# Expected output: 2,3,5,7,11,13,17,19\n",
    "\n",
    "```"
   ]
  },
  {
   "cell_type": "code",
   "execution_count": null,
   "id": "f5d24378-8fc1-42da-8a41-b05794effe99",
   "metadata": {},
   "outputs": [],
   "source": [
    "# Write your code here\n",
    "\n"
   ]
  },
  {
   "cell_type": "markdown",
   "id": "7e9eedf0-23e7-4eb0-94f3-2ca0c23d9bad",
   "metadata": {},
   "source": [
    "#### Question-4\n",
    "\n",
    "Write a function `merge_sorted_lists(list1, list2)` that takes two sorted lists of integers, `list1` and `list2` and merges them into a single sorted list efficiently. One way is to simple concatenate the lists and sort. But think of a better approach.\n",
    "\n",
    "Example:\n",
    "```python\n",
    "list1 = [1, 4, 5]\n",
    "list2 = [1, 3, 4]\n",
    "merged = merge_sorted_lists(list1, list2)\n",
    "print(merged)\n",
    "# Expected output: [1, 1, 3, 4, 4, 5]\n",
    "```"
   ]
  },
  {
   "cell_type": "code",
   "execution_count": null,
   "id": "8659d4f3-1f44-461f-9f66-d1f8c1301505",
   "metadata": {},
   "outputs": [],
   "source": [
    "# Write your code here\n",
    "\n"
   ]
  },
  {
   "cell_type": "markdown",
   "id": "3c21c6f4-3fc7-476f-8ae3-ca81ca419973",
   "metadata": {},
   "source": [
    "#### Question-5\n",
    "\n",
    "Create a dictionary like: `student_grades = {\"Alice\": 85, \"Bob\": 92, \"Charlie\": 78}`. Write Python code to find and print the name of the student with the highest grade.\n",
    "\n",
    "Example:\n",
    "```python\n",
    "student_grades = {\"Alice\": 85, \"Bob\": 92, \"Charlie\": 78}\n",
    "# Expected output: Bob\n",
    "```"
   ]
  },
  {
   "cell_type": "code",
   "execution_count": null,
   "id": "4189c02b-fbca-4ca5-abdc-eab31a5b0578",
   "metadata": {},
   "outputs": [],
   "source": [
    "# Write your code here\n",
    "\n"
   ]
  },
  {
   "cell_type": "markdown",
   "id": "a4799b88-d567-4b82-b640-941633d21138",
   "metadata": {},
   "source": [
    "#### Question-6\n",
    "\n",
    "Write a function `is_anagram(str1, str2)` that checks if two given strings are anagrams of each other (contain the same characters with the same frequencies, ignoring case).\n",
    "\n",
    "Example:\n",
    "```python\n",
    "print(is_anagram(\"listen\", \"silent\"))\n",
    "print(is_anagram(\"hello\", \"world\"))\n",
    "# Expected output:\n",
    "# True\n",
    "# False\n",
    "```"
   ]
  },
  {
   "cell_type": "code",
   "execution_count": null,
   "id": "e1a3a07d-11f0-4907-9c90-5031400f5452",
   "metadata": {},
   "outputs": [],
   "source": [
    "# Write your code here\n",
    "\n"
   ]
  },
  {
   "cell_type": "markdown",
   "id": "4ede0c1c-0af8-4cbb-b9af-9cb2a200ab9d",
   "metadata": {},
   "source": [
    "#### Question-7\n",
    "\n",
    "Write a function `rotate_list(lst, k)` that rotates a given list lst to the right by `k` positions in-place. Assume `k` is a non-negative integer and can be greater than the length of the list.\n",
    "\n",
    "Example:\n",
    "\n",
    "```python\n",
    "my_list = [1, 2, 3, 4, 5]\n",
    "rotate_list(my_list, 2)\n",
    "print(my_list)\n",
    "# Expected output: [4, 5, 1, 2, 3]\n",
    "```"
   ]
  },
  {
   "cell_type": "code",
   "execution_count": null,
   "id": "5193d146-984f-46ba-ab95-9d6bfa18a711",
   "metadata": {},
   "outputs": [],
   "source": [
    "# Write your code here\n",
    "\n"
   ]
  },
  {
   "cell_type": "markdown",
   "id": "c2bb2490-9374-47ff-b4c6-a27767108436",
   "metadata": {},
   "source": [
    "#### Question-8\n",
    "\n",
    "You have a list of dictionaries, where each dictionary represents a product with keys \"name\", \"price\", and \"category\". Write a function group_by_category(products) that takes this list and returns a dictionary where the keys are the unique categories and the values are lists of product names belonging to that category.\n",
    "\n",
    "Example:\n",
    "\n",
    "```python\n",
    "products = [\n",
    "    {\"name\": \"Laptop\", \"price\": 1200, \"category\": \"Electronics\"},\n",
    "    {\"name\": \"Book\", \"price\": 25, \"category\": \"Books\"},\n",
    "    {\"name\": \"Tablet\", \"price\": 300, \"category\": \"Electronics\"},\n",
    "    {\"name\": \"Fiction\", \"price\": 15, \"category\": \"Books\"},\n",
    "]\n",
    "grouped_products = group_by_category(products)\n",
    "print(grouped_products)\n",
    "# Expected output: {'Electronics': ['Laptop', 'Tablet'], 'Books': ['Book', 'Fiction']}\n",
    "\n",
    "```\n"
   ]
  },
  {
   "cell_type": "code",
   "execution_count": null,
   "id": "3f8bb46b-304e-4d2a-93b2-b86e7be1eedb",
   "metadata": {},
   "outputs": [],
   "source": [
    "# Write your code here\n",
    "\n"
   ]
  },
  {
   "cell_type": "markdown",
   "id": "af52c3db-7673-4776-9a9a-0112ea221827",
   "metadata": {},
   "source": [
    "#### Question-9\n",
    "\n",
    "Write a Python program that prints the first `n` rows of Pascal's triangle. `n` is a positive integer and an user input. To know about Pascal's triangle see the [wikipedia article](https://en.wikipedia.org/wiki/Pascal%27s_triangle): \n",
    "\n",
    "Example:\n",
    "\n",
    "```python\n",
    "n = 5\n",
    "# Expected output:\n",
    "#     1\n",
    "#    1 1\n",
    "#   1 2 1\n",
    "#  1 3 3 1\n",
    "# 1 4 6 4 1\n",
    "```"
   ]
  },
  {
   "cell_type": "code",
   "execution_count": null,
   "id": "0d8d9fe0-65bb-4777-b487-92fa216ce2ef",
   "metadata": {},
   "outputs": [],
   "source": [
    "# Write your code here\n",
    "\n"
   ]
  },
  {
   "cell_type": "markdown",
   "id": "51492f62-3388-4956-b081-fa1193f6c9ae",
   "metadata": {},
   "source": [
    "#### Question-10\n",
    "\n",
    "Write a function `reverse_the_words(s)` which will take a string `s` as input and reverses the words in the string. \n",
    "\n",
    "Example:\n",
    "\n",
    "```python\n",
    "s = \"Python is awesome and challenging\"\n",
    "r = reverse_the_words(s)\n",
    "print(r)\n",
    "# Expected output: challenging and awesome is Python\n",
    "```"
   ]
  },
  {
   "cell_type": "code",
   "execution_count": null,
   "id": "121c0320-c9b8-4e44-93ed-0996bcb265ef",
   "metadata": {},
   "outputs": [],
   "source": [
    "# Write your code here\n",
    "\n"
   ]
  },
  {
   "cell_type": "markdown",
   "id": "c8f38103-609a-43f1-869c-a08294ca9295",
   "metadata": {},
   "source": [
    "#### Bonus question\n",
    "\n",
    "Write a function `word_counter(s)` which will take a string `s` as input and returns a dictionary with count of words (case insensitive). Remove all the punctuations and special symbols present in the string.  \n",
    "\n",
    "Example:\n",
    "```python\n",
    "s = \"This city is a beautiful city. This is where I live\"\n",
    "d = word_counter(s)\n",
    "\n",
    "# Expected output (output can be in any order): {\"this\": 2, \"city\": 2, \"is\": 2, \"a\": 1, \"beautiful\": 1, \"where\": 1, \"i\": 1, \"live\": 1}\n",
    "```"
   ]
  },
  {
   "cell_type": "code",
   "execution_count": null,
   "id": "65b4322f-bfd3-42f9-b92e-d10897742b71",
   "metadata": {},
   "outputs": [],
   "source": [
    "# Write your code here\n",
    "\n"
   ]
  }
 ],
 "metadata": {
  "kernelspec": {
   "display_name": "Python 3 (ipykernel)",
   "language": "python",
   "name": "python3"
  },
  "language_info": {
   "codemirror_mode": {
    "name": "ipython",
    "version": 3
   },
   "file_extension": ".py",
   "mimetype": "text/x-python",
   "name": "python",
   "nbconvert_exporter": "python",
   "pygments_lexer": "ipython3",
   "version": "3.12.9"
  }
 },
 "nbformat": 4,
 "nbformat_minor": 5
}
