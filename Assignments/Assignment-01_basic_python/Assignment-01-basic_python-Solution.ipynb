{
 "cells": [
  {
   "cell_type": "markdown",
   "id": "cf39e36c-305d-456a-b9e0-02a04cea95b0",
   "metadata": {},
   "source": [
    "# Assignment-1\n",
    "\n",
    "This notebook contains the coding questions to test the proficiency in basic python.\n",
    "\n",
    "### Date: 22nd April, 2025\n",
    "\n",
    "### Steps to solve and upload the assignment \n",
    "\n",
    "- Download the notebook in your local machine.\n",
    "- Solve the questions in the notebook and save it.\n",
    "- Rename the file as `Assignment-01-<your_name>_<your_surname>.ipynb`. For example if your name is Dipika Chopra then name the file as `Assignment-01-Dipika_Chopra.ipynb`.\n",
    "- Upload the solved notebook in the google drive location: https://drive.google.com/drive/folders/1ocablnD-nmo2Q1d4Q35BtJMcIMdwONK0?usp=sharing\n",
    "\n",
    "<h3><span style=\"color:red\"> Deadline: 30th April, 2025 </span></h3>"
   ]
  },
  {
   "cell_type": "markdown",
   "id": "fae8a82b-4baa-48a5-b7b0-cc0a77cd8419",
   "metadata": {},
   "source": [
    "#### Question-1\n",
    "\n",
    "Write a function `second_largest(numbers)` that takes a list of numbers and returns the second largest number in the list. Assume the list has at least two unique numbers.\n",
    "\n",
    "Example:\n",
    "```python\n",
    "numbers = [10, 5, 20, 8, 15]\n",
    "second = second_largest(numbers)\n",
    "print(second)\n",
    "# Expected output: 15\n",
    "```"
   ]
  },
  {
   "cell_type": "code",
   "execution_count": 1,
   "id": "c59cc6dd-bf81-4e61-9d19-e086c6ebc1cf",
   "metadata": {},
   "outputs": [
    {
     "name": "stdout",
     "output_type": "stream",
     "text": [
      "The second largest number is: 5\n",
      "The second largest number is: 8\n"
     ]
    }
   ],
   "source": [
    "# Write your code here\n",
    "\n",
    "def second_largest(numbers):\n",
    "  \"\"\"\n",
    "  Finds the second largest number in a list of numbers.\n",
    "\n",
    "  Args:\n",
    "    numbers: A list of numbers (assumed to have at least two unique numbers).\n",
    "\n",
    "  Returns:\n",
    "    The second largest number in the list.\n",
    "  \"\"\"\n",
    "  unique_numbers = sorted(list(set(numbers)), reverse=True)\n",
    "  return unique_numbers[1]\n",
    "\n",
    "# Example usage:\n",
    "numbers1 = [1, 5, 2, 8, 3]\n",
    "print(f\"The second largest number is: {second_largest(numbers1)}\")\n",
    "\n",
    "numbers2 = [10, 10, 5, 5, 8, 8]\n",
    "print(f\"The second largest number is: {second_largest(numbers2)}\")"
   ]
  },
  {
   "cell_type": "markdown",
   "id": "d36297be-09c5-4cda-8b52-281566a62f65",
   "metadata": {},
   "source": [
    "#### Question-2\n",
    "\n",
    "Write a function `count_vowels(text)` that takes a string as input and returns the number of vowels (a, e, i, o, u - case-insensitive) present in the string.\n",
    "\n",
    "Example:\n",
    "```python\n",
    "text = \"Hello World\"\n",
    "vowel_count = count_vowels(text)\n",
    "print(vowel_count)\n",
    "# Expected output: 3\n",
    "```\n"
   ]
  },
  {
   "cell_type": "code",
   "execution_count": 2,
   "id": "35ed7370-242a-49d2-a7d2-da9b0c0d2ca4",
   "metadata": {},
   "outputs": [
    {
     "name": "stdout",
     "output_type": "stream",
     "text": [
      "The number of vowels in 'Hello World' is: 3\n",
      "The number of vowels in 'Programming is fun' is: 5\n"
     ]
    }
   ],
   "source": [
    "# Write your code here\n",
    "\n",
    "def count_vowels(text):\n",
    "  \"\"\"\n",
    "  Counts the number of vowels (a, e, i, o, u - case-insensitive) in a string.\n",
    "\n",
    "  Args:\n",
    "    text: The input string.\n",
    "\n",
    "  Returns:\n",
    "    The number of vowels in the string.\n",
    "  \"\"\"\n",
    "  vowels = \"aeiou\"\n",
    "  vowel_count = 0\n",
    "  for char in text.lower():\n",
    "    if char in vowels:\n",
    "      vowel_count += 1\n",
    "  return vowel_count\n",
    "\n",
    "# Example usage:\n",
    "text1 = \"Hello World\"\n",
    "print(f\"The number of vowels in '{text1}' is: {count_vowels(text1)}\")\n",
    "\n",
    "text2 = \"Programming is fun\"\n",
    "print(f\"The number of vowels in '{text2}' is: {count_vowels(text2)}\")"
   ]
  },
  {
   "cell_type": "markdown",
   "id": "1896a5da-319f-483a-835d-a08b0710a728",
   "metadata": {},
   "source": [
    "#### Question-3\n",
    "\n",
    "Write a Python program to print all the prime numbers between 1 and N (inclusive). Where N is a positive integer and an input from user.\n",
    "\n",
    "Example:\n",
    "\n",
    "```python\n",
    "N = 20\n",
    "# Expected output: 2,3,5,7,11,13,17,19\n",
    "\n",
    "```"
   ]
  },
  {
   "cell_type": "code",
   "execution_count": 3,
   "id": "f5d24378-8fc1-42da-8a41-b05794effe99",
   "metadata": {},
   "outputs": [
    {
     "name": "stdout",
     "output_type": "stream",
     "text": [
      "Prime numbers between 1 and 20 are:\n",
      "2\n",
      "3\n",
      "5\n",
      "7\n",
      "11\n",
      "13\n",
      "17\n",
      "19\n"
     ]
    }
   ],
   "source": [
    "# Write your code here\n",
    "\n",
    "def is_prime(num):\n",
    "  \"\"\"\n",
    "  Checks if a number is prime.\n",
    "\n",
    "  Args:\n",
    "    num: An integer.\n",
    "\n",
    "  Returns:\n",
    "    True if the number is prime, False otherwise.\n",
    "  \"\"\"\n",
    "  if num <= 1:\n",
    "    return False\n",
    "  if num <= 3:\n",
    "    return True\n",
    "  if num % 2 == 0 or num % 3 == 0:\n",
    "    return False\n",
    "  i = 5\n",
    "  while i * i <= num:\n",
    "    if num % i == 0 or num % (i + 2) == 0:\n",
    "      return False\n",
    "    i += 6\n",
    "  return True\n",
    "\n",
    "def print_primes_up_to_n(n):\n",
    "  \"\"\"\n",
    "  Prints all prime numbers between 1 and N (inclusive).\n",
    "\n",
    "  Args:\n",
    "    n: A positive integer.\n",
    "  \"\"\"\n",
    "  assert type(n) == int and n > 0, \"Invalid input. Please enter a positive integer.\"\n",
    "\n",
    "  print(f\"Prime numbers between 1 and {n} are:\")\n",
    "  for num in range(2, n + 1):\n",
    "    if is_prime(num):\n",
    "      print(num)\n",
    "\n",
    "# Example usage:\n",
    "print_primes_up_to_n(20)"
   ]
  },
  {
   "cell_type": "markdown",
   "id": "7e9eedf0-23e7-4eb0-94f3-2ca0c23d9bad",
   "metadata": {},
   "source": [
    "#### Question-4\n",
    "\n",
    "Write a function `merge_sorted_lists(list1, list2)` that takes two sorted lists of integers, `list1` and `list2` and merges them into a single sorted list efficiently. One way is to simple concatenate the lists and sort. But think of a better approach.\n",
    "\n",
    "Example:\n",
    "```python\n",
    "list1 = [1, 4, 5]\n",
    "list2 = [1, 3, 4]\n",
    "merged = merge_sorted_lists(list1, list2)\n",
    "print(merged)\n",
    "# Expected output: [1, 1, 3, 4, 4, 5]\n",
    "```"
   ]
  },
  {
   "cell_type": "code",
   "execution_count": 4,
   "id": "8659d4f3-1f44-461f-9f66-d1f8c1301505",
   "metadata": {},
   "outputs": [
    {
     "name": "stdout",
     "output_type": "stream",
     "text": [
      "Merged list: [1, 2, 3, 4, 5, 6, 7, 8]\n"
     ]
    }
   ],
   "source": [
    "# Write your code here\n",
    "\n",
    "def merge_sorted_lists(list1, list2):\n",
    "  \"\"\"\n",
    "  Merges two sorted lists of integers into a single sorted list efficiently.\n",
    "\n",
    "  Args:\n",
    "    list1: The first sorted list of integers.\n",
    "    list2: The second sorted list of integers.\n",
    "\n",
    "  Returns:\n",
    "    A new sorted list containing all elements from list1 and list2.\n",
    "  \"\"\"\n",
    "  merged_list = []\n",
    "  i = 0\n",
    "  j = 0\n",
    "\n",
    "  while i < len(list1) and j < len(list2):\n",
    "    if list1[i] <= list2[j]:\n",
    "      merged_list.append(list1[i])\n",
    "      i += 1\n",
    "    else:\n",
    "      merged_list.append(list2[j])\n",
    "      j += 1\n",
    "\n",
    "  # Append any remaining elements from list1\n",
    "  while i < len(list1):\n",
    "    merged_list.append(list1[i])\n",
    "    i += 1\n",
    "\n",
    "  # Append any remaining elements from list2\n",
    "  while j < len(list2):\n",
    "    merged_list.append(list2[j])\n",
    "    j += 1\n",
    "\n",
    "  return merged_list\n",
    "\n",
    "\n",
    "# Example usage:\n",
    "list_a = [1, 3, 5, 7]\n",
    "list_b = [2, 4, 6, 8]\n",
    "merged = merge_sorted_lists(list_a, list_b)\n",
    "print(f\"Merged list: {merged}\")"
   ]
  },
  {
   "cell_type": "markdown",
   "id": "3c21c6f4-3fc7-476f-8ae3-ca81ca419973",
   "metadata": {},
   "source": [
    "#### Question-5\n",
    "\n",
    "Create a dictionary like: `student_grades = {\"Alice\": 85, \"Bob\": 92, \"Charlie\": 78}`. Write Python code to find and print the name of the student with the highest grade.\n",
    "\n",
    "Example:\n",
    "```python\n",
    "student_grades = {\"Alice\": 85, \"Bob\": 92, \"Charlie\": 78}\n",
    "# Expected output: Bob\n",
    "```"
   ]
  },
  {
   "cell_type": "code",
   "execution_count": 5,
   "id": "4189c02b-fbca-4ca5-abdc-eab31a5b0578",
   "metadata": {},
   "outputs": [
    {
     "name": "stdout",
     "output_type": "stream",
     "text": [
      "The student with the highest grade is David with a grade of 92.\n"
     ]
    }
   ],
   "source": [
    "# Write your code here\n",
    "\n",
    "student_grades = {\"Adam\": 85, \"David\": 92, \"Charlie\": 78, \"Bob\": 56}\n",
    "\n",
    "highest_grade = -1  # Initialize with a value lower than any possible grade\n",
    "best_student = \"\"\n",
    "\n",
    "for student, grade in student_grades.items():\n",
    "  if grade > highest_grade:\n",
    "    highest_grade = grade\n",
    "    best_student = student\n",
    "\n",
    "print(f\"The student with the highest grade is {best_student} with a grade of {highest_grade}.\")"
   ]
  },
  {
   "cell_type": "markdown",
   "id": "a4799b88-d567-4b82-b640-941633d21138",
   "metadata": {},
   "source": [
    "#### Question-6\n",
    "\n",
    "Write a function `is_anagram(str1, str2)` that checks if two given strings are anagrams of each other (contain the same characters with the same frequencies, ignoring case).\n",
    "\n",
    "Example:\n",
    "```python\n",
    "print(is_anagram(\"listen\", \"silent\"))\n",
    "print(is_anagram(\"hello\", \"world\"))\n",
    "# Expected output:\n",
    "# True\n",
    "# False\n",
    "```"
   ]
  },
  {
   "cell_type": "code",
   "execution_count": 6,
   "id": "e1a3a07d-11f0-4907-9c90-5031400f5452",
   "metadata": {},
   "outputs": [
    {
     "name": "stdout",
     "output_type": "stream",
     "text": [
      "True\n"
     ]
    }
   ],
   "source": [
    "# Write your code here\n",
    "\n",
    "def is_anagram(str1, str2):\n",
    "  \"\"\"\n",
    "  Checks if two strings are anagrams of each other (case-insensitive).\n",
    "\n",
    "  Args:\n",
    "    str1: The first string.\n",
    "    str2: The second string.\n",
    "\n",
    "  Returns:\n",
    "    True if the strings are anagrams, False otherwise.\n",
    "  \"\"\"\n",
    "  # Remove whitespace and convert to lowercase for case-insensitive comparison\n",
    "  str1 = \"\".join(str1.lower().split())\n",
    "  str2 = \"\".join(str2.lower().split())\n",
    "\n",
    "  # If the lengths are different, they cannot be anagrams\n",
    "  if len(str1) != len(str2):\n",
    "    return False\n",
    "\n",
    "  # Create character counts for both strings\n",
    "  char_count1 = {}\n",
    "  char_count2 = {}\n",
    "\n",
    "  for char in str1:\n",
    "    char_count1[char] = char_count1.get(char, 0) + 1\n",
    "\n",
    "  for char in str2:\n",
    "    char_count2[char] = char_count2.get(char, 0) + 1\n",
    "\n",
    "  # Compare the character counts\n",
    "  return char_count1 == char_count2\n",
    "\n",
    "# Example usage:\n",
    "string1_a = \"listen\"\n",
    "string2_a = \"silent\"\n",
    "print(is_anagram(string1_a, string2_a))"
   ]
  },
  {
   "cell_type": "markdown",
   "id": "4ede0c1c-0af8-4cbb-b9af-9cb2a200ab9d",
   "metadata": {},
   "source": [
    "#### Question-7\n",
    "\n",
    "Write a function `rotate_list(lst, k)` that rotates a given list lst to the right by `k` positions in-place. Assume `k` is a non-negative integer and can be greater than the length of the list.\n",
    "\n",
    "Example:\n",
    "\n",
    "```python\n",
    "my_list = [1, 2, 3, 4, 5]\n",
    "rotate_list(my_list, 2)\n",
    "print(my_list)\n",
    "# Expected output: [4, 5, 1, 2, 3]\n",
    "```"
   ]
  },
  {
   "cell_type": "code",
   "execution_count": 7,
   "id": "5193d146-984f-46ba-ab95-9d6bfa18a711",
   "metadata": {},
   "outputs": [
    {
     "name": "stdout",
     "output_type": "stream",
     "text": [
      "Rotated list: [4, 5, 1, 2, 3]\n"
     ]
    }
   ],
   "source": [
    "# Write your code here\n",
    "\n",
    "def rotate_list(lst, k):\n",
    "  \"\"\"\n",
    "  Rotates a given list lst to the right by k positions in-place.\n",
    "\n",
    "  Args:\n",
    "    lst: The list to be rotated.\n",
    "    k: The number of positions to rotate to the right.\n",
    "  \"\"\"\n",
    "  n = len(lst)\n",
    "  if n == 0:\n",
    "    return  # Nothing to rotate for an empty list\n",
    "\n",
    "  # Effective number of rotations (handles cases where k > n)\n",
    "  k = k % n\n",
    "\n",
    "  # If k is 0, no rotation is needed\n",
    "  if k == 0:\n",
    "    return\n",
    "\n",
    "  # In-place rotation using slicing and assignment\n",
    "  lst[:] = lst[-k:] + lst[:-k]\n",
    "\n",
    "\n",
    "\n",
    "\n",
    "# Example usage:\n",
    "my_list = [1, 2, 3, 4, 5]\n",
    "rotate_list(my_list, 2)\n",
    "print(f\"Rotated list: {my_list}\")"
   ]
  },
  {
   "cell_type": "markdown",
   "id": "c2bb2490-9374-47ff-b4c6-a27767108436",
   "metadata": {},
   "source": [
    "#### Question-8\n",
    "\n",
    "You have a list of dictionaries, where each dictionary represents a product with keys \"name\", \"price\", and \"category\". Write a function group_by_category(products) that takes this list and returns a dictionary where the keys are the unique categories and the values are lists of product names belonging to that category.\n",
    "\n",
    "Example:\n",
    "\n",
    "```python\n",
    "products = [\n",
    "    {\"name\": \"Laptop\", \"price\": 1200, \"category\": \"Electronics\"},\n",
    "    {\"name\": \"Book\", \"price\": 25, \"category\": \"Books\"},\n",
    "    {\"name\": \"Tablet\", \"price\": 300, \"category\": \"Electronics\"},\n",
    "    {\"name\": \"Fiction\", \"price\": 15, \"category\": \"Books\"},\n",
    "]\n",
    "grouped_products = group_by_category(products)\n",
    "print(grouped_products)\n",
    "# Expected output: {'Electronics': ['Laptop', 'Tablet'], 'Books': ['Book', 'Fiction']}\n",
    "\n",
    "```\n"
   ]
  },
  {
   "cell_type": "code",
   "execution_count": 8,
   "id": "3f8bb46b-304e-4d2a-93b2-b86e7be1eedb",
   "metadata": {},
   "outputs": [
    {
     "name": "stdout",
     "output_type": "stream",
     "text": [
      "{'Electronics': ['Laptop', 'Tablet'], 'Books': ['Book', 'Fiction']}\n"
     ]
    }
   ],
   "source": [
    "# Write your code here\n",
    "\n",
    "def group_by_category(products):\n",
    "  \"\"\"\n",
    "  Groups a list of product dictionaries by category.\n",
    "\n",
    "  Args:\n",
    "    products: A list of dictionaries, where each dictionary represents a product\n",
    "              with keys \"name\", \"price\", and \"category\".\n",
    "\n",
    "  Returns:\n",
    "    A dictionary where keys are unique categories and values are lists of\n",
    "    product names belonging to that category.\n",
    "  \"\"\"\n",
    "  grouped = {}\n",
    "  for product in products:\n",
    "    category = product[\"category\"]\n",
    "    name = product[\"name\"]\n",
    "    if category in grouped:\n",
    "      grouped[category].append(name)\n",
    "    else:\n",
    "      grouped[category] = [name]\n",
    "  return grouped\n",
    "\n",
    "\n",
    "\n",
    "# Example usage:\n",
    "products = [\n",
    "    {\"name\": \"Laptop\", \"price\": 1200, \"category\": \"Electronics\"},\n",
    "    {\"name\": \"Book\", \"price\": 25, \"category\": \"Books\"},\n",
    "    {\"name\": \"Tablet\", \"price\": 300, \"category\": \"Electronics\"},\n",
    "    {\"name\": \"Fiction\", \"price\": 15, \"category\": \"Books\"},\n",
    "]\n",
    "grouped_products = group_by_category(products)\n",
    "print(grouped_products)"
   ]
  },
  {
   "cell_type": "markdown",
   "id": "af52c3db-7673-4776-9a9a-0112ea221827",
   "metadata": {},
   "source": [
    "#### Question-9\n",
    "\n",
    "Write a Python program that prints the first `n` rows of Pascal's triangle. `n` is a positive integer and an user input. To know about Pascal's triangle see the [wikipedia article](https://en.wikipedia.org/wiki/Pascal%27s_triangle): \n",
    "\n",
    "Example:\n",
    "\n",
    "```python\n",
    "n = 5\n",
    "# Expected output:\n",
    "#     1\n",
    "#    1 1\n",
    "#   1 2 1\n",
    "#  1 3 3 1\n",
    "# 1 4 6 4 1\n",
    "```"
   ]
  },
  {
   "cell_type": "code",
   "execution_count": 9,
   "id": "0d8d9fe0-65bb-4777-b487-92fa216ce2ef",
   "metadata": {},
   "outputs": [
    {
     "name": "stdin",
     "output_type": "stream",
     "text": [
      "Enter the number of rows for Pascal's triangle:  8\n"
     ]
    },
    {
     "name": "stdout",
     "output_type": "stream",
     "text": [
      "         1         \n",
      "        1 1        \n",
      "       1 2 1       \n",
      "      1 3 3 1      \n",
      "     1 4 6 4 1     \n",
      "   1 5 10 10 5 1   \n",
      "  1 6 15 20 15 6 1 \n",
      "1 7 21 35 35 21 7 1\n"
     ]
    }
   ],
   "source": [
    "# Write your code here\n",
    "\n",
    "def generate_pascals_triangle(n):\n",
    "  \"\"\"\n",
    "  Generates and prints the first n rows of Pascal's triangle.\n",
    "\n",
    "  Args:\n",
    "    n: A positive integer specifying the number of rows to print.\n",
    "  \"\"\"\n",
    "  if not isinstance(n, int) or n <= 0:\n",
    "    print(\"Invalid input. Please enter a positive integer.\")\n",
    "    return\n",
    "\n",
    "  triangle = []\n",
    "  for i in range(n):\n",
    "    row = [1] * (i + 1)  # Initialize the row with 1s\n",
    "    if i > 1:\n",
    "      for j in range(1, i):\n",
    "        row[j] = triangle[i - 1][j - 1] + triangle[i - 1][j]\n",
    "    triangle.append(row)\n",
    "\n",
    "  # Print the triangle with proper formatting\n",
    "  max_width = len(\" \".join(map(str, triangle[-1]))) if triangle else 0\n",
    "  for row in triangle:\n",
    "    formatted_row = \" \".join(map(str, row)).center(max_width)\n",
    "    print(formatted_row)\n",
    "\n",
    "# Get input from the user\n",
    "try:\n",
    "  num_rows = int(input(\"Enter the number of rows for Pascal's triangle: \"))\n",
    "  generate_pascals_triangle(num_rows)\n",
    "except ValueError:\n",
    "  print(\"Invalid input. Please enter an integer.\")"
   ]
  },
  {
   "cell_type": "markdown",
   "id": "51492f62-3388-4956-b081-fa1193f6c9ae",
   "metadata": {},
   "source": [
    "#### Question-10\n",
    "\n",
    "Write a function `reverse_the_words(s)` which will take a string `s` as input and reverses the words in the string. \n",
    "\n",
    "Example:\n",
    "\n",
    "```python\n",
    "s = \"Python is awesome and challenging\"\n",
    "r = reverse_the_words(s)\n",
    "print(r)\n",
    "# Expected output: challenging and awesome is Python\n",
    "```"
   ]
  },
  {
   "cell_type": "code",
   "execution_count": 10,
   "id": "121c0320-c9b8-4e44-93ed-0996bcb265ef",
   "metadata": {},
   "outputs": [
    {
     "name": "stdout",
     "output_type": "stream",
     "text": [
      "Original string: 'Python is awesome and challenging'\n",
      "Reversed words: 'challenging and awesome is Python'\n"
     ]
    }
   ],
   "source": [
    "# Write your code here\n",
    "\n",
    "def reverse_the_words(s):\n",
    "  \"\"\"\n",
    "  Reverses the order of words in a given string.\n",
    "\n",
    "  Args:\n",
    "    s: The input string.\n",
    "\n",
    "  Returns:\n",
    "    A new string with the words in reversed order.\n",
    "  \"\"\"\n",
    "  words = s.split()\n",
    "  reversed_words = words[::-1]\n",
    "  return \" \".join(reversed_words)\n",
    "\n",
    "# Example usage:\n",
    "string = \"Python is awesome and challenging\"\n",
    "reversed_string = reverse_the_words(string)\n",
    "print(f\"Original string: '{string}'\")\n",
    "print(f\"Reversed words: '{reversed_string}'\")"
   ]
  },
  {
   "cell_type": "markdown",
   "id": "c8f38103-609a-43f1-869c-a08294ca9295",
   "metadata": {},
   "source": [
    "#### Bonus question\n",
    "\n",
    "Write a function `word_counter(s)` which will take a string `s` as input and returns a dictionary with count of words (case insensitive). Remove all the punctuations and special symbols present in the string.  \n",
    "\n",
    "Example:\n",
    "```python\n",
    "s = \"This city is a beautiful city. This is where I live\"\n",
    "d = word_counter(s)\n",
    "\n",
    "# Expected output (output can be in any order): {\"this\": 2, \"city\": 2, \"is\": 2, \"a\": 1, \"beautiful\": 1, \"where\": 1, \"i\": 1, \"live\": 1}\n",
    "```"
   ]
  },
  {
   "cell_type": "code",
   "execution_count": 11,
   "id": "65b4322f-bfd3-42f9-b92e-d10897742b71",
   "metadata": {},
   "outputs": [
    {
     "name": "stdout",
     "output_type": "stream",
     "text": [
      "Word counts for 'Hello world! How are you?': {'hello': 1, 'world': 1, 'how': 1, 'are': 1, 'you': 1}\n",
      "Word counts for 'This city is a beautiful city. This is where I live': {'this': 2, 'city': 2, 'is': 2, 'a': 1, 'beautiful': 1, 'where': 1, 'i': 1, 'live': 1}\n"
     ]
    }
   ],
   "source": [
    "# Write your code here\n",
    "\n",
    "import string\n",
    "\n",
    "def word_counter(s):\n",
    "  \"\"\"\n",
    "  Counts the occurrences of words in a string (case-insensitive) after removing punctuation and special symbols.\n",
    "\n",
    "  Args:\n",
    "    s: The input string.\n",
    "\n",
    "  Returns:\n",
    "    A dictionary where keys are words (in lowercase) and values are their counts.\n",
    "  \"\"\"\n",
    "  # Remove punctuation and special symbols\n",
    "  translator = str.maketrans('', '', string.punctuation)\n",
    "  cleaned_string = s.translate(translator)\n",
    "\n",
    "  # Convert to lowercase and split into words\n",
    "  words = cleaned_string.lower().split()\n",
    "\n",
    "  # Count word occurrences using a dictionary\n",
    "  word_counts = {}\n",
    "  for word in words:\n",
    "    if word in word_counts:\n",
    "      word_counts[word] += 1\n",
    "    else:\n",
    "      word_counts[word] = 1\n",
    "\n",
    "  return word_counts\n",
    "\n",
    "# Example usage:\n",
    "text1 = \"Hello world! How are you?\"\n",
    "counts1 = word_counter(text1)\n",
    "print(f\"Word counts for '{text1}': {counts1}\")\n",
    "\n",
    "text2 = \"This city is a beautiful city. This is where I live\"\n",
    "counts2 = word_counter(text2)\n",
    "print(f\"Word counts for '{text2}': {counts2}\")"
   ]
  },
  {
   "cell_type": "code",
   "execution_count": null,
   "id": "c71efed2-1dec-42cc-81cd-94e7ba90ad47",
   "metadata": {},
   "outputs": [],
   "source": []
  }
 ],
 "metadata": {
  "kernelspec": {
   "display_name": "Python 3 (ipykernel)",
   "language": "python",
   "name": "python3"
  },
  "language_info": {
   "codemirror_mode": {
    "name": "ipython",
    "version": 3
   },
   "file_extension": ".py",
   "mimetype": "text/x-python",
   "name": "python",
   "nbconvert_exporter": "python",
   "pygments_lexer": "ipython3",
   "version": "3.12.9"
  }
 },
 "nbformat": 4,
 "nbformat_minor": 5
}
