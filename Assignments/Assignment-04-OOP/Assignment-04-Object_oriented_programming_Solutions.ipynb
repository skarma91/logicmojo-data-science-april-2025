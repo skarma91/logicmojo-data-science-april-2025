{
 "cells": [
  {
   "cell_type": "markdown",
   "id": "2535e4db",
   "metadata": {},
   "source": [
    "# Assignment-4\n",
    "\n",
    "This notebook contains the coding questions to test the proficiency in `Object Oriented Programming` in python.\n",
    "\n",
    "### Date: 16th May, 2025\n",
    "\n",
    "### Steps to solve and upload the assignment \n",
    "\n",
    "- Download the notebook in your local machine.\n",
    "- Solve the questions in the notebook and save it.\n",
    "- Rename the file as `Assignment-04-<your_name>_<your_surname>.ipynb`. For example if your name is Dipika Chopra then name the file as `Assignment-04-Dipika_Chopra.ipynb`.\n",
    "- Upload the solved notebook in the google drive location: https://drive.google.com/drive/folders/14z3q91F8xzPb8Hm-KxNGn-nkKacqB17v?usp=drive_link\n",
    "<h3><span style=\"color:red\"> Deadline: 31st May, 2025 </span></h3>"
   ]
  },
  {
   "cell_type": "markdown",
   "id": "a9701d5d",
   "metadata": {},
   "source": [
    "## Problem-1\n",
    "\n",
    "Design a system for a library. Include classes for `Book`, `Patron`, and `Library`.\n",
    "\n",
    "- The `Book` class should have attributes for title, author, ISBN, and a method `is_available()` that returns `True` if the book is not currently checked out and `False` otherwise. It should also have a method `check_out()` that marks the book as checked out and a method `check_in()` that marks it as available.\n",
    "- The `Patron` class should have attributes for name and patron ID and a method `borrow_book(book)` that associates a book with the patron.\n",
    "- The `Library` class should have a collection of `Book` objects and `Patron` objects. It should have methods to `add_book(book)`, `add_patron(patron)`, `lend_book(book, patron)`, and `return_book(book)`. The `lend_book` method should only allow a book to be lent if it's available and the patron exists in the library.\n",
    "\n",
    "\n",
    "Test your implementation."
   ]
  },
  {
   "cell_type": "code",
   "execution_count": null,
   "id": "c15b4d14",
   "metadata": {},
   "outputs": [],
   "source": [
    "### Implementation of Book class\n",
    "\n",
    "class Book:\n",
    "    def __init__(self, title, author, isbn):\n",
    "        self.title = title\n",
    "        self.author = author\n",
    "        self.isbn = isbn\n",
    "        self._is_checked_out = False  # Internal attribute to track availability\n",
    "\n",
    "    def is_available(self):\n",
    "        \"\"\"Returns True if the book is available, False otherwise.\"\"\"\n",
    "        return not self._is_checked_out\n",
    "\n",
    "    def check_out(self):\n",
    "        \"\"\"Marks the book as checked out.\"\"\"\n",
    "        if self.is_available():\n",
    "            self._is_checked_out = True\n",
    "            print(f\"'{self.title}' has been checked out.\")\n",
    "        else:\n",
    "            print(f\"'{self.title}' is already checked out.\")\n",
    "\n",
    "    def check_in(self):\n",
    "        \"\"\"Marks the book as available.\"\"\"\n",
    "        if not self.is_available():\n",
    "            self._is_checked_out = False\n",
    "            print(f\"'{self.title}' has been checked in.\")\n",
    "        else:\n",
    "            print(f\"'{self.title}' is already available.\")\n",
    "\n",
    "    def __str__(self):\n",
    "        return f\"'{self.title}' by {self.author} (ISBN: {self.isbn})\""
   ]
  },
  {
   "cell_type": "code",
   "execution_count": null,
   "id": "977c96b4",
   "metadata": {},
   "outputs": [],
   "source": [
    "### Implementation of Patron class\n",
    "\n",
    "class Patron:\n",
    "    def __init__(self, name, patron_id):\n",
    "        self.name = name\n",
    "        self.patron_id = patron_id\n",
    "        self.borrowed_books = []  # List to store books borrowed by the patron\n",
    "\n",
    "    def borrow_book(self, book):\n",
    "        \"\"\"Associates a book with the patron.\"\"\"\n",
    "        if book.is_available():\n",
    "            self.borrowed_books.append(book)\n",
    "            print(f\"{self.name} has borrowed '{book.title}'.\")\n",
    "            return True\n",
    "        else:\n",
    "            print(f\"Cannot borrow '{book.title}': It's not available.\")\n",
    "            return False\n",
    "\n",
    "    def return_book(self, book):\n",
    "        \"\"\"Removes a book association from the patron.\"\"\"\n",
    "        if book in self.borrowed_books:\n",
    "            self.borrowed_books.remove(book)\n",
    "            print(f\"{self.name} has returned '{book.title}'.\")\n",
    "            return True\n",
    "        else:\n",
    "            print(f\"{self.name} did not borrow '{book.title}'.\")\n",
    "            return False\n",
    "\n",
    "    def __str__(self):\n",
    "        return f\"Patron: {self.name} (ID: {self.patron_id})\""
   ]
  },
  {
   "cell_type": "code",
   "execution_count": null,
   "id": "6c0905f2",
   "metadata": {},
   "outputs": [],
   "source": [
    "### Implementation of Library Class\n",
    "\n",
    "class Library:\n",
    "    def __init__(self, name=\"Public Library\"):\n",
    "        self.name = name\n",
    "        self.books = {}  # Dictionary to store books, keyed by ISBN\n",
    "        self.patrons = {}  # Dictionary to store patrons, keyed by patron ID\n",
    "\n",
    "    def add_book(self, book):\n",
    "        \"\"\"Adds a book to the library's collection.\"\"\"\n",
    "        if book.isbn not in self.books:\n",
    "            self.books[book.isbn] = book\n",
    "            print(f\"Added '{book.title}' to the library.\")\n",
    "        else:\n",
    "            print(f\"Book with ISBN {book.isbn} already exists in the library.\")\n",
    "\n",
    "    def add_patron(self, patron):\n",
    "        \"\"\"Adds a patron to the library's system.\"\"\"\n",
    "        if patron.patron_id not in self.patrons:\n",
    "            self.patrons[patron.patron_id] = patron\n",
    "            print(f\"Added patron '{patron.name}' to the library.\")\n",
    "        else:\n",
    "            print(f\"Patron with ID {patron.patron_id} already exists in the library.\")\n",
    "\n",
    "    def lend_book(self, book_isbn, patron_id):\n",
    "        \"\"\"\n",
    "        Lends a book to a patron.\n",
    "        Only allows lending if the book is available and the patron exists.\n",
    "        \"\"\"\n",
    "        book = self.books.get(book_isbn)\n",
    "        patron = self.patrons.get(patron_id)\n",
    "\n",
    "        if not book:\n",
    "            print(f\"Error: Book with ISBN {book_isbn} not found.\")\n",
    "            return\n",
    "        if not patron:\n",
    "            print(f\"Error: Patron with ID {patron_id} not found.\")\n",
    "            return\n",
    "\n",
    "        if book.is_available():\n",
    "            book.check_out()\n",
    "            patron.borrow_book(book)\n",
    "            print(f\"Successfully lent '{book.title}' to {patron.name}.\")\n",
    "        else:\n",
    "            print(f\"Failed to lend '{book.title}': It is not available.\")\n",
    "\n",
    "    def return_book(self, book_isbn, patron_id):\n",
    "        \"\"\"\n",
    "        Handles the return of a book.\n",
    "        Marks the book as available and updates the patron's borrowed books.\n",
    "        \"\"\"\n",
    "        book = self.books.get(book_isbn)\n",
    "        patron = self.patrons.get(patron_id)\n",
    "\n",
    "        if not book:\n",
    "            print(f\"Error: Book with ISBN {book_isbn} not found.\")\n",
    "            return\n",
    "        if not patron:\n",
    "            print(f\"Error: Patron with ID {patron_id} not found.\")\n",
    "            return\n",
    "\n",
    "        if patron.return_book(book):\n",
    "            book.check_in()\n",
    "            print(f\"Successfully returned '{book.title}' from {patron.name}.\")\n",
    "        else:\n",
    "            print(f\"Failed to return '{book.title}' for {patron.name}.\")\n",
    "\n",
    "    def list_all_books(self):\n",
    "        \"\"\"Lists all books in the library.\"\"\"\n",
    "        print(\"\\n--- All Books in Library ---\")\n",
    "        if not self.books:\n",
    "            print(\"No books in the library.\")\n",
    "            return\n",
    "        for isbn, book in self.books.items():\n",
    "            status = \"Available\" if book.is_available() else \"Checked Out\"\n",
    "            print(f\"{book} - Status: {status}\")\n",
    "\n",
    "    def list_all_patrons(self):\n",
    "        \"\"\"Lists all patrons in the library.\"\"\"\n",
    "        print(\"\\n--- All Patrons in Library ---\")\n",
    "        if not self.patrons:\n",
    "            print(\"No patrons registered.\")\n",
    "            return\n",
    "        for p_id, patron in self.patrons.items():\n",
    "            print(patron)\n",
    "            if patron.borrowed_books:\n",
    "                print(\"  Borrowed Books:\")\n",
    "                for book in patron.borrowed_books:\n",
    "                    print(f\"    - {book.title}\")\n",
    "            else:\n",
    "                print(\"  No books currently borrowed.\")"
   ]
  },
  {
   "cell_type": "code",
   "execution_count": 4,
   "id": "1ea1847c",
   "metadata": {},
   "outputs": [],
   "source": [
    "# Create a library\n",
    "my_library = Library(\"Bengaluru Central Library\")\n",
    "\n",
    "# Create some books\n",
    "book1 = Book(\"The God of Small Things\", \"Arundhati Roy\", \"978-0679727521\")\n",
    "book2 = Book(\"A Suitable Boy\", \"Vikram Seth\", \"978-0060975612\")\n",
    "book3 = Book(\"Ignited Minds\", \"A.P.J. Abdul Kalam\", \"978-8179929211\")\n",
    "book4 = Book(\"The Palace of Illusions\", \"Chitra Banerjee Divakaruni\", \"978-1439121921\")\n",
    "book5 = Book(\"Midnight's Children\", \"Salman Rushdie\", \"978-0812976527\")"
   ]
  },
  {
   "cell_type": "code",
   "execution_count": 5,
   "id": "a8cb67e7",
   "metadata": {},
   "outputs": [
    {
     "name": "stdout",
     "output_type": "stream",
     "text": [
      "Added 'The God of Small Things' to the library.\n",
      "Added 'A Suitable Boy' to the library.\n",
      "Added 'Ignited Minds' to the library.\n",
      "Added 'The Palace of Illusions' to the library.\n",
      "Added 'Midnight's Children' to the library.\n",
      "Book with ISBN 978-0679727521 already exists in the library.\n"
     ]
    }
   ],
   "source": [
    "# Add books to the library\n",
    "my_library.add_book(book1)\n",
    "my_library.add_book(book2)\n",
    "my_library.add_book(book3)\n",
    "my_library.add_book(book4)\n",
    "my_library.add_book(book5)\n",
    "my_library.add_book(book1) # Trying to add duplicate"
   ]
  },
  {
   "cell_type": "code",
   "execution_count": 7,
   "id": "60f9b813",
   "metadata": {},
   "outputs": [
    {
     "name": "stdout",
     "output_type": "stream",
     "text": [
      "Added patron 'Rohan Sharma' to the library.\n",
      "Added patron 'Priya Singh' to the library.\n",
      "Added patron 'Amit Kumar' to the library.\n",
      "Patron with ID P001 already exists in the library.\n"
     ]
    }
   ],
   "source": [
    "# Create some patrons\n",
    "patron1 = Patron(\"Rohan Sharma\", \"P001\")\n",
    "patron2 = Patron(\"Priya Singh\", \"P002\")\n",
    "patron3 = Patron(\"Amit Kumar\", \"P003\")\n",
    "\n",
    "\n",
    "# Add patrons to the library\n",
    "my_library.add_patron(patron1)\n",
    "my_library.add_patron(patron2)\n",
    "my_library.add_patron(patron3)\n",
    "my_library.add_patron(patron1) # Trying to add duplicate"
   ]
  },
  {
   "cell_type": "code",
   "execution_count": 8,
   "id": "5ff16bc0",
   "metadata": {},
   "outputs": [
    {
     "name": "stdout",
     "output_type": "stream",
     "text": [
      "\n",
      "--- All Books in Library ---\n",
      "'The God of Small Things' by Arundhati Roy (ISBN: 978-0679727521) - Status: Available\n",
      "'A Suitable Boy' by Vikram Seth (ISBN: 978-0060975612) - Status: Available\n",
      "'Ignited Minds' by A.P.J. Abdul Kalam (ISBN: 978-8179929211) - Status: Available\n",
      "'The Palace of Illusions' by Chitra Banerjee Divakaruni (ISBN: 978-1439121921) - Status: Available\n",
      "'Midnight's Children' by Salman Rushdie (ISBN: 978-0812976527) - Status: Available\n",
      "\n",
      "--- All Patrons in Library ---\n",
      "Patron: Rohan Sharma (ID: P001)\n",
      "  No books currently borrowed.\n",
      "Patron: Priya Singh (ID: P002)\n",
      "  No books currently borrowed.\n",
      "Patron: Amit Kumar (ID: P003)\n",
      "  No books currently borrowed.\n"
     ]
    }
   ],
   "source": [
    "# List initial state of books and patrons\n",
    "my_library.list_all_books()\n",
    "my_library.list_all_patrons()"
   ]
  },
  {
   "cell_type": "code",
   "execution_count": 9,
   "id": "160b5452",
   "metadata": {},
   "outputs": [
    {
     "name": "stdout",
     "output_type": "stream",
     "text": [
      "\n",
      "--- Lending Books ---\n",
      "'The God of Small Things' has been checked out.\n",
      "Cannot borrow 'The God of Small Things': It's not available.\n",
      "Successfully lent 'The God of Small Things' to Rohan Sharma.\n",
      "'Ignited Minds' has been checked out.\n",
      "Cannot borrow 'Ignited Minds': It's not available.\n",
      "Successfully lent 'Ignited Minds' to Priya Singh.\n",
      "'Midnight's Children' has been checked out.\n",
      "Cannot borrow 'Midnight's Children': It's not available.\n",
      "Successfully lent 'Midnight's Children' to Rohan Sharma.\n",
      "Failed to lend 'The God of Small Things': It is not available.\n",
      "Error: Book with ISBN INVALID_ISBN not found.\n",
      "Error: Patron with ID INVALID_PATRON not found.\n"
     ]
    }
   ],
   "source": [
    "print(\"\\n--- Lending Books ---\")\n",
    "my_library.lend_book(book1.isbn, patron1.patron_id) # Rohan borrows 'The God of Small Things'\n",
    "my_library.lend_book(book3.isbn, patron2.patron_id) # Priya borrows 'Ignited Minds'\n",
    "my_library.lend_book(book5.isbn, patron1.patron_id) # Rohan borrows 'Midnight's Children'\n",
    "my_library.lend_book(book1.isbn, patron3.patron_id) # Amit tries to borrow 'The God of Small Things' (already lent)\n",
    "my_library.lend_book(\"INVALID_ISBN\", patron1.patron_id) # Invalid book\n",
    "my_library.lend_book(book2.isbn, \"INVALID_PATRON\") # Invalid patron"
   ]
  },
  {
   "cell_type": "code",
   "execution_count": 10,
   "id": "5c6f8cff",
   "metadata": {},
   "outputs": [
    {
     "name": "stdout",
     "output_type": "stream",
     "text": [
      "\n",
      "--- All Books in Library ---\n",
      "'The God of Small Things' by Arundhati Roy (ISBN: 978-0679727521) - Status: Checked Out\n",
      "'A Suitable Boy' by Vikram Seth (ISBN: 978-0060975612) - Status: Available\n",
      "'Ignited Minds' by A.P.J. Abdul Kalam (ISBN: 978-8179929211) - Status: Checked Out\n",
      "'The Palace of Illusions' by Chitra Banerjee Divakaruni (ISBN: 978-1439121921) - Status: Available\n",
      "'Midnight's Children' by Salman Rushdie (ISBN: 978-0812976527) - Status: Checked Out\n",
      "\n",
      "--- All Patrons in Library ---\n",
      "Patron: Rohan Sharma (ID: P001)\n",
      "  No books currently borrowed.\n",
      "Patron: Priya Singh (ID: P002)\n",
      "  No books currently borrowed.\n",
      "Patron: Amit Kumar (ID: P003)\n",
      "  No books currently borrowed.\n"
     ]
    }
   ],
   "source": [
    "# List state after lending\n",
    "my_library.list_all_books()\n",
    "my_library.list_all_patrons()"
   ]
  },
  {
   "cell_type": "code",
   "execution_count": 11,
   "id": "32d6ec20",
   "metadata": {},
   "outputs": [
    {
     "name": "stdout",
     "output_type": "stream",
     "text": [
      "\n",
      "--- Returning Books ---\n",
      "Rohan Sharma did not borrow 'The God of Small Things'.\n",
      "Failed to return 'The God of Small Things' for Rohan Sharma.\n",
      "Rohan Sharma did not borrow 'Ignited Minds'.\n",
      "Failed to return 'Ignited Minds' for Rohan Sharma.\n",
      "Priya Singh did not borrow 'The Palace of Illusions'.\n",
      "Failed to return 'The Palace of Illusions' for Priya Singh.\n"
     ]
    }
   ],
   "source": [
    "print(\"\\n--- Returning Books ---\")\n",
    "my_library.return_book(book1.isbn, patron1.patron_id) # Rohan returns 'The God of Small Things'\n",
    "my_library.return_book(book3.isbn, patron1.patron_id) # Rohan tries to return 'Ignited Minds' (not borrowed by him)\n",
    "my_library.return_book(book4.isbn, patron2.patron_id) # Priya tries to return 'The Palace of Illusions' (not borrowed by her)"
   ]
  },
  {
   "cell_type": "code",
   "execution_count": 12,
   "id": "a7080aa5",
   "metadata": {},
   "outputs": [
    {
     "name": "stdout",
     "output_type": "stream",
     "text": [
      "\n",
      "--- All Books in Library ---\n",
      "'The God of Small Things' by Arundhati Roy (ISBN: 978-0679727521) - Status: Checked Out\n",
      "'A Suitable Boy' by Vikram Seth (ISBN: 978-0060975612) - Status: Available\n",
      "'Ignited Minds' by A.P.J. Abdul Kalam (ISBN: 978-8179929211) - Status: Checked Out\n",
      "'The Palace of Illusions' by Chitra Banerjee Divakaruni (ISBN: 978-1439121921) - Status: Available\n",
      "'Midnight's Children' by Salman Rushdie (ISBN: 978-0812976527) - Status: Checked Out\n",
      "\n",
      "--- All Patrons in Library ---\n",
      "Patron: Rohan Sharma (ID: P001)\n",
      "  No books currently borrowed.\n",
      "Patron: Priya Singh (ID: P002)\n",
      "  No books currently borrowed.\n",
      "Patron: Amit Kumar (ID: P003)\n",
      "  No books currently borrowed.\n"
     ]
    }
   ],
   "source": [
    "# List final state after returns\n",
    "my_library.list_all_books()\n",
    "my_library.list_all_patrons()"
   ]
  },
  {
   "cell_type": "code",
   "execution_count": 13,
   "id": "5647d9e7",
   "metadata": {},
   "outputs": [
    {
     "name": "stdout",
     "output_type": "stream",
     "text": [
      "\n",
      "--- Additional Scenarios ---\n",
      "Is 'A Suitable Boy' available? True\n",
      "'A Suitable Boy' has been checked out.\n",
      "Cannot borrow 'A Suitable Boy': It's not available.\n",
      "Successfully lent 'A Suitable Boy' to Amit Kumar.\n",
      "Is 'A Suitable Boy' available? False\n"
     ]
    }
   ],
   "source": [
    "print(\"\\n--- Additional Scenarios ---\")\n",
    "# Check availability of a book\n",
    "print(f\"Is '{book2.title}' available? {book2.is_available()}\")\n",
    "my_library.lend_book(book2.isbn, patron3.patron_id)\n",
    "print(f\"Is '{book2.title}' available? {book2.is_available()}\")"
   ]
  },
  {
   "cell_type": "code",
   "execution_count": 14,
   "id": "e350b5c0",
   "metadata": {},
   "outputs": [
    {
     "name": "stdout",
     "output_type": "stream",
     "text": [
      "Added 'New Available Book' to the library.\n",
      "'New Available Book' is already available.\n"
     ]
    }
   ],
   "source": [
    "# Try to check in an already available book\n",
    "book_available = Book(\"New Available Book\", \"New Author\", \"AVAIL-001\")\n",
    "my_library.add_book(book_available)\n",
    "book_available.check_in()"
   ]
  },
  {
   "cell_type": "markdown",
   "id": "f84ceae2",
   "metadata": {},
   "source": [
    "## Problem-2\n",
    "\n",
    "Create an base class `Shape` with an method `area()` and another method `perimeter()`. Then, create classes `Rectangle` and `Circle` that inherit from `Shape` and implement the `area()` method. The `perimeter()` method in `Shape` should raise a `NotImplementedError`. Implement the `perimeter()` method in `Rectangle` and `Circle`.\n",
    "\n",
    "Test your implementation."
   ]
  },
  {
   "cell_type": "code",
   "execution_count": 15,
   "id": "2a90ed8b",
   "metadata": {},
   "outputs": [],
   "source": [
    "import math\n",
    "\n",
    "### Base Class Shape\n",
    "\n",
    "class Shape:\n",
    "    \"\"\"\n",
    "    Base class for geometric shapes.\n",
    "    Defines common methods for area and perimeter.\n",
    "    \"\"\"\n",
    "    def area(self):\n",
    "        \"\"\"\n",
    "        Calculates and returns the area of the shape.\n",
    "        This method must be implemented by subclasses.\n",
    "        \"\"\"\n",
    "        raise NotImplementedError(\"Subclasses must implement the 'area()' method.\")\n",
    "\n",
    "    def perimeter(self):\n",
    "        \"\"\"\n",
    "        Calculates and returns the perimeter of the shape.\n",
    "        This method must be implemented by subclasses.\n",
    "        \"\"\"\n",
    "        raise NotImplementedError(\"Subclasses must implement the 'perimeter()' method.\")\n",
    "\n",
    "### Rectangle class inheriting Base class Shape\n",
    "\n",
    "class Rectangle(Shape):\n",
    "    \"\"\"\n",
    "    Represents a rectangle, inheriting from Shape.\n",
    "    \"\"\"\n",
    "    def __init__(self, width, height):\n",
    "        if width <= 0 or height <= 0:\n",
    "            raise ValueError(\"Width and height must be positive values.\")\n",
    "        self.width = width\n",
    "        self.height = height\n",
    "\n",
    "    def area(self):\n",
    "        \"\"\"\n",
    "        Calculates the area of the rectangle.\n",
    "        Area = width * height\n",
    "        \"\"\"\n",
    "        return self.width * self.height\n",
    "\n",
    "    def perimeter(self):\n",
    "        \"\"\"\n",
    "        Calculates the perimeter of the rectangle.\n",
    "        Perimeter = 2 * (width + height)\n",
    "        \"\"\"\n",
    "        return 2 * (self.width + self.height)\n",
    "\n",
    "    def __str__(self):\n",
    "        return f\"Rectangle(width={self.width}, height={self.height})\"\n",
    "\n",
    "### Circle class inheriting Base class Shape\n",
    "\n",
    "class Circle(Shape):\n",
    "    \"\"\"\n",
    "    Represents a circle, inheriting from Shape.\n",
    "    \"\"\"\n",
    "    def __init__(self, radius):\n",
    "        if radius <= 0:\n",
    "            raise ValueError(\"Radius must be a positive value.\")\n",
    "        self.radius = radius\n",
    "\n",
    "    def area(self):\n",
    "        \"\"\"\n",
    "        Calculates the area of the circle.\n",
    "        Area = pi * radius^2\n",
    "        \"\"\"\n",
    "        return math.pi * (self.radius ** 2)\n",
    "\n",
    "    def perimeter(self):\n",
    "        \"\"\"\n",
    "        Calculates the perimeter (circumference) of the circle.\n",
    "        Perimeter = 2 * pi * radius\n",
    "        \"\"\"\n",
    "        return 2 * math.pi * self.radius\n",
    "\n",
    "    def __str__(self):\n",
    "        return f\"Circle(radius={self.radius})\""
   ]
  },
  {
   "cell_type": "code",
   "execution_count": 17,
   "id": "c247f934",
   "metadata": {},
   "outputs": [
    {
     "name": "stdout",
     "output_type": "stream",
     "text": [
      "Caught expected error for Shape.area(): Subclasses must implement the 'area()' method.\n",
      "Caught expected error for Shape.perimeter(): Subclasses must implement the 'perimeter()' method.\n"
     ]
    }
   ],
   "source": [
    "### Testing Shape Base Class\n",
    "\n",
    "try:\n",
    "    s = Shape()\n",
    "    s.area()\n",
    "except NotImplementedError as e:\n",
    "    print(f\"Caught expected error for Shape.area(): {e}\")\n",
    "\n",
    "\n",
    "try:\n",
    "    s = Shape()\n",
    "    s.perimeter()\n",
    "except NotImplementedError as e:\n",
    "    print(f\"Caught expected error for Shape.perimeter(): {e}\")"
   ]
  },
  {
   "cell_type": "code",
   "execution_count": null,
   "id": "156451a8",
   "metadata": {},
   "outputs": [
    {
     "name": "stdout",
     "output_type": "stream",
     "text": [
      "Rectangle(width=10, height=5)\n",
      "Area of rectangle: 50\n",
      "Perimeter of rectangle: 30\n",
      "Caught expected error for invalid Rectangle: Width and height must be positive values.\n"
     ]
    }
   ],
   "source": [
    "### Testing Rectangle Class\n",
    "\n",
    "try:\n",
    "    rect = Rectangle(10, 5)\n",
    "    print(rect)\n",
    "    print(f\"Area of rectangle: {rect.area()}\")\n",
    "    print(f\"Perimeter of rectangle: {rect.perimeter()}\")\n",
    "\n",
    "    # Test with invalid dimensions\n",
    "    invalid_rect = Rectangle(-2, 5)\n",
    "except ValueError as e:\n",
    "    print(f\"Caught expected error for invalid Rectangle: {e}\")"
   ]
  },
  {
   "cell_type": "code",
   "execution_count": 19,
   "id": "79ba5b26",
   "metadata": {},
   "outputs": [
    {
     "name": "stdout",
     "output_type": "stream",
     "text": [
      "Circle(radius=7)\n",
      "Area of circle: 153.94\n",
      "Perimeter of circle: 43.98\n",
      "Caught expected error for invalid Circle: Radius must be a positive value.\n"
     ]
    }
   ],
   "source": [
    "### Testing Circle Class\n",
    "\n",
    "try:\n",
    "    circle = Circle(7)\n",
    "    print(circle)\n",
    "    print(f\"Area of circle: {circle.area():.2f}\") # Format for readability\n",
    "    print(f\"Perimeter of circle: {circle.perimeter():.2f}\")\n",
    "\n",
    "    # Test with invalid radius\n",
    "    invalid_circle = Circle(0)\n",
    "except ValueError as e:\n",
    "    print(f\"Caught expected error for invalid Circle: {e}\")"
   ]
  },
  {
   "cell_type": "markdown",
   "id": "1d1687b0",
   "metadata": {},
   "source": [
    "## Problem-3\n",
    "\n",
    "Design a system to model different types of employees in a company. There should be a base `Employee` class with attributes for `name` and `employee_id`. Create two subclasses: `SalariedEmployee` with an attribute for `monthly_salary` and a method `calculate_paycheck()` that returns the monthly salary, and `HourlyEmployee` with attributes for `hourly_rate` and `hours_worked`, and a `calculate_paycheck()` method that returns the total pay for the week. Demonstrate creating instances of both employee types and calling their `calculate_paycheck()` methods.\n",
    "\n",
    "Test your implementation."
   ]
  },
  {
   "cell_type": "code",
   "execution_count": 20,
   "id": "00ad7a49",
   "metadata": {},
   "outputs": [],
   "source": [
    "# Base Employee class\n",
    "\n",
    "class Employee:\n",
    "    \"\"\"\n",
    "    Base class for all employees in the company.\n",
    "    \"\"\"\n",
    "    def __init__(self, name, employee_id):\n",
    "        if not isinstance(name, str) or not name.strip():\n",
    "            raise ValueError(\"Employee name cannot be empty.\")\n",
    "        if not isinstance(employee_id, str) or not employee_id.strip():\n",
    "            raise ValueError(\"Employee ID cannot be empty.\")\n",
    "\n",
    "        self.name = name\n",
    "        self.employee_id = employee_id\n",
    "\n",
    "    def calculate_paycheck(self):\n",
    "        \"\"\"\n",
    "        Abstract method to be implemented by subclasses.\n",
    "        Returns the calculated pay for the employee.\n",
    "        \"\"\"\n",
    "        raise NotImplementedError(\"Subclasses must implement 'calculate_paycheck()' method.\")\n",
    "\n",
    "    def __str__(self):\n",
    "        return f\"Employee Name: {self.name}, ID: {self.employee_id}\"\n",
    "\n",
    "\n",
    "# SalariedEmployee class derived from Base Employee class\n",
    "\n",
    "class SalariedEmployee(Employee):\n",
    "    \"\"\"\n",
    "    Represents an employee who receives a fixed monthly salary.\n",
    "    Inherits from the Employee base class.\n",
    "    \"\"\"\n",
    "    def __init__(self, name, employee_id, monthly_salary):\n",
    "        super().__init__(name, employee_id) # Call the base class constructor\n",
    "        if not isinstance(monthly_salary, (int, float)) or monthly_salary < 0:\n",
    "            raise ValueError(\"Monthly salary must be a non-negative number.\")\n",
    "        self.monthly_salary = monthly_salary\n",
    "\n",
    "    def calculate_paycheck(self):\n",
    "        \"\"\"\n",
    "        Calculates and returns the monthly salary as the paycheck.\n",
    "        \"\"\"\n",
    "        return self.monthly_salary\n",
    "\n",
    "    def __str__(self):\n",
    "        return (f\"Salaried Employee: {self.name} (ID: {self.employee_id}), \"\n",
    "                f\"Monthly Salary: ₹{self.monthly_salary:,.2f}\")\n",
    "\n",
    "\n",
    "# HourlyEmployee class derived from Base Employee class\n",
    "\n",
    "class HourlyEmployee(Employee):\n",
    "    \"\"\"\n",
    "    Represents an employee who is paid based on an hourly rate and hours worked.\n",
    "    Inherits from the Employee base class.\n",
    "    \"\"\"\n",
    "    def __init__(self, name, employee_id, hourly_rate, hours_worked):\n",
    "        super().__init__(name, employee_id) # Call the base class constructor\n",
    "        if not isinstance(hourly_rate, (int, float)) or hourly_rate < 0:\n",
    "            raise ValueError(\"Hourly rate must be a non-negative number.\")\n",
    "        if not isinstance(hours_worked, (int, float)) or hours_worked < 0:\n",
    "            raise ValueError(\"Hours worked must be a non-negative number.\")\n",
    "\n",
    "        self.hourly_rate = hourly_rate\n",
    "        self.hours_worked = hours_worked\n",
    "\n",
    "    def calculate_paycheck(self):\n",
    "        \"\"\"\n",
    "        Calculates and returns the total pay for the week based on hourly rate and hours worked.\n",
    "        \"\"\"\n",
    "        return self.hourly_rate * self.hours_worked\n",
    "\n",
    "    def __str__(self):\n",
    "        return (f\"Hourly Employee: {self.name} (ID: {self.employee_id}), \"\n",
    "                f\"Rate: ₹{self.hourly_rate:,.2f}/hr, Hours Worked: {self.hours_worked} hrs\")\n"
   ]
  },
  {
   "cell_type": "code",
   "execution_count": 21,
   "id": "40fdd39a",
   "metadata": {},
   "outputs": [
    {
     "name": "stdout",
     "output_type": "stream",
     "text": [
      "Salaried Employee: Ravi Kumar (ID: SE001), Monthly Salary: ₹60,000.00\n",
      "Paycheck for Ravi Kumar: ₹60,000.00\n",
      "Salaried Employee: Priya Sharma (ID: SE002), Monthly Salary: ₹75,500.50\n",
      "Paycheck for Priya Sharma: ₹75,500.50\n"
     ]
    }
   ],
   "source": [
    "# Create Salaried Employees\n",
    "try:\n",
    "    salaried_emp1 = SalariedEmployee(\"Ravi Kumar\", \"SE001\", 60000.00)\n",
    "    print(salaried_emp1)\n",
    "    print(f\"Paycheck for {salaried_emp1.name}: ₹{salaried_emp1.calculate_paycheck():,.2f}\")\n",
    "\n",
    "    salaried_emp2 = SalariedEmployee(\"Priya Sharma\", \"SE002\", 75500.50)\n",
    "    print(salaried_emp2)\n",
    "    print(f\"Paycheck for {salaried_emp2.name}: ₹{salaried_emp2.calculate_paycheck():,.2f}\")\n",
    "except ValueError as e:\n",
    "    print(f\"Error creating Salaried Employee: {e}\")"
   ]
  },
  {
   "cell_type": "code",
   "execution_count": 22,
   "id": "6efcbff0",
   "metadata": {},
   "outputs": [
    {
     "name": "stdout",
     "output_type": "stream",
     "text": [
      "Hourly Employee: Amit Singh (ID: HE001), Rate: ₹300.00/hr, Hours Worked: 40 hrs\n",
      "Paycheck for Amit Singh: ₹12,000.00\n",
      "Hourly Employee: Neha Gupta (ID: HE002), Rate: ₹250.50/hr, Hours Worked: 35.5 hrs\n",
      "Paycheck for Neha Gupta: ₹8,892.75\n"
     ]
    }
   ],
   "source": [
    "# Create Hourly Employees\n",
    "try:\n",
    "    hourly_emp1 = HourlyEmployee(\"Amit Singh\", \"HE001\", 300.00, 40)\n",
    "    print(hourly_emp1)\n",
    "    print(f\"Paycheck for {hourly_emp1.name}: ₹{hourly_emp1.calculate_paycheck():,.2f}\")\n",
    "\n",
    "    hourly_emp2 = HourlyEmployee(\"Neha Gupta\", \"HE002\", 250.50, 35.5)\n",
    "    print(hourly_emp2)\n",
    "    print(f\"Paycheck for {hourly_emp2.name}: ₹{hourly_emp2.calculate_paycheck():,.2f}\")\n",
    "except ValueError as e:\n",
    "    print(f\"Error creating Hourly Employee: {e}\")"
   ]
  },
  {
   "cell_type": "code",
   "execution_count": 23,
   "id": "edfa76da",
   "metadata": {},
   "outputs": [
    {
     "name": "stdout",
     "output_type": "stream",
     "text": [
      "\n",
      "Processing Deepak Joshi (ID: SE003):\n",
      "  Type: SalariedEmployee\n",
      "  Calculated Paycheck: ₹80,000.00\n",
      "\n",
      "Processing Sonia Das (ID: HE003):\n",
      "  Type: HourlyEmployee\n",
      "  Calculated Paycheck: ₹11,760.00\n",
      "\n",
      "Processing Anjali Verma (ID: SE004):\n",
      "  Type: SalariedEmployee\n",
      "  Calculated Paycheck: ₹55,000.00\n",
      "\n",
      "Processing Gaurav Menon (ID: HE004):\n",
      "  Type: HourlyEmployee\n",
      "  Calculated Paycheck: ₹12,320.00\n"
     ]
    }
   ],
   "source": [
    "employees = []\n",
    "try:\n",
    "    employees.append(SalariedEmployee(\"Deepak Joshi\", \"SE003\", 80000))\n",
    "    employees.append(HourlyEmployee(\"Sonia Das\", \"HE003\", 280, 42))\n",
    "    employees.append(SalariedEmployee(\"Anjali Verma\", \"SE004\", 55000))\n",
    "    employees.append(HourlyEmployee(\"Gaurav Menon\", \"HE004\", 320, 38.5))\n",
    "except ValueError as e:\n",
    "    print(f\"Error adding employee to list: {e}\")\n",
    "\n",
    "# Process all employees in a list\n",
    "for emp in employees:\n",
    "    print(f\"\\nProcessing {emp.name} (ID: {emp.employee_id}):\")\n",
    "    print(f\"  Type: {type(emp).__name__}\")\n",
    "    print(f\"  Calculated Paycheck: ₹{emp.calculate_paycheck():,.2f}\")"
   ]
  },
  {
   "cell_type": "markdown",
   "id": "694b2ead",
   "metadata": {},
   "source": [
    "## Problem-4\n",
    "\n",
    "Design a class `polynomial` of one variable which will have attributes `degree`, a positive integer and `coefficients`, a list of floating point numbers. \n",
    "`degree` means the highest power of the variable and `coefficients` are the coefficient of individual terms.\n",
    "\n",
    "A polynomial of degree `n` has `n+1` coefficients. \n",
    "\n",
    "- Example-1:\n",
    "$$ 3x^4 + 5x^3 + x^2 + 9x + 10 $$\n",
    "This is a polynomial of degree 4 and coefficients are [3, 5, 1, 9, 10].\n",
    "\n",
    "- Example-2: (some coefficients could be zero)\n",
    "$$ 0.7x^3 + 2.5x $$\n",
    "Here the degree of polynomial is 3 and coefficients are [0.7, 0, 2.5, 0].\n",
    "\n",
    "A polynomial of degree zero is just a constant value. \n",
    "\n",
    "In the `polynomial` class, you need to implement the following methods:\n",
    "- `evaluate(x)` which will evaluate the polynomial for a given value of the variable x.\n",
    "- `plot([x1, x2])` this will plot the polynomial for a given range of x1 to x2 of the variable.\n",
    "- `derivative(x)` This will evaluate the derivative (differentiation) of the polynomial for a given value of the variable x.\n",
    "- `plot_derivative([x1, x2])` this will plot the derivative of the polynomial for a given range of x1 to x2 of the variable.\n",
    "\n",
    "The class should have basic checks, such that the number of coefficients provided by the user should be degree + 1 and the degree should be a positive integer. \n",
    "\n",
    "Test your implementation. "
   ]
  },
  {
   "cell_type": "code",
   "execution_count": 44,
   "id": "3eeb9436",
   "metadata": {},
   "outputs": [],
   "source": [
    "import matplotlib.pyplot as plt\n",
    "import numpy as np\n",
    "\n",
    "def evaluate_polynomial(coefficients, value):\n",
    "    \"\"\"\n",
    "    This functon evaluates a plynomial using Horner's method\n",
    "    For more details: https://www.geeksforgeeks.org/horners-method-polynomial-evaluation/\n",
    "    \"\"\"\n",
    "    result = coefficients[0]\n",
    "    for i in range(1, len(coefficients)):\n",
    "        result = result * value + coefficients[i]\n",
    "\n",
    "    return result\n",
    "\n",
    "def simple_plot(x_values, y_values, plt_title=\"My plot\"):\n",
    "    \"\"\"\n",
    "    This function plots y vs x. y_values are x_values are numpy arrays of 1D\n",
    "    \"\"\"\n",
    "    plt.figure(figsize=(8,6))\n",
    "    plt.plot(x_values, y_values)\n",
    "    plt.title(plt_title, fontsize=16)\n",
    "    plt.grid()\n",
    "    plt.show()\n",
    "\n",
    "\n",
    "class polynomial:\n",
    "    \"\"\"\n",
    "    Polynomial class having attributes degree and coefficient and \n",
    "    implements methods like evaluate, plot, derivative, plot_derivative\n",
    "    \"\"\"\n",
    "\n",
    "    def __init__(self, degree, coefficients):\n",
    "        # Error handling\n",
    "        if not isinstance(degree, int) or degree <= 0:\n",
    "            raise ValueError(\"Degree of the polynomial must be a positive integer\")\n",
    "        if not isinstance(coefficients, list):\n",
    "            raise ValueError(\"Coefficients must be provided in a list of numbers\")\n",
    "        for x in coefficients:\n",
    "            if not isinstance(x, (int, float)):\n",
    "                raise ValueError(\"Coefficients should be numbers\")\n",
    "        if len(coefficients) != degree+1:\n",
    "            raise ValueError(\"Number of coefficients should be degree + 1\")\n",
    "\n",
    "        self.degree = degree\n",
    "        self.coefficients = coefficients\n",
    "\n",
    "        # degree and cefficients of the derivative of the polynomial\n",
    "        self.der_degree = degree-1        \n",
    "        self.der_coeff = [coeff*d for coeff,d in zip(self.coefficients, range(self.degree,0,-1))]\n",
    "\n",
    "    def evaluate(self, x):\n",
    "        \"\"\"\n",
    "        This method evaluates the of the plynomial for a given value x.\n",
    "        \"\"\"\n",
    "        result = evaluate_polynomial(coefficients=self.coefficients, value=x)\n",
    "        return result\n",
    "    \n",
    "    def derivative(self, x):\n",
    "        \"\"\"\n",
    "        This method evaluates the derivative of the polynomial for a given value x.\n",
    "        \"\"\"\n",
    "        result = evaluate_polynomial(coefficients=self.der_coeff, value=x)\n",
    "        return result\n",
    "    \n",
    "    def plot(self, x_min, x_max):\n",
    "        \"\"\"\n",
    "        This method's plots the ploynomial within the range x_min to x_max\n",
    "        \"\"\"\n",
    "        x_values = np.linspace(x_min, x_max, 1000)\n",
    "        y_values = np.array([self.evaluate(x) for x in x_values])\n",
    "        simple_plot(x_values, y_values, plt_title=\"Graph of the Polynomial\")\n",
    "\n",
    "    def plot_derivative(self, x_min, x_max):\n",
    "        \"\"\"\n",
    "        This method's plots the derivative of the ploynomial within the range x_min to x_max\n",
    "        \"\"\"\n",
    "        x_values = np.linspace(x_min, x_max, 1000)\n",
    "        y_values = np.array([self.derivative(x) for x in x_values])\n",
    "        simple_plot(x_values, y_values, plt_title=\"Graph of the derivative of Polynomial\")\n",
    "        \n"
   ]
  },
  {
   "cell_type": "code",
   "execution_count": 45,
   "id": "fdb1771a",
   "metadata": {},
   "outputs": [
    {
     "data": {
      "text/plain": [
       "114"
      ]
     },
     "execution_count": 45,
     "metadata": {},
     "output_type": "execute_result"
    }
   ],
   "source": [
    "# Define the polynimal: 3x^4 - 5x^3 + x^2 - 9x + 4\n",
    "\n",
    "p = polynomial(4, [3, -5, 1, -9, 4])\n",
    "\n",
    "# evaluate the polynomial at x = -2\n",
    "\n",
    "p.evaluate(-2)"
   ]
  },
  {
   "cell_type": "code",
   "execution_count": null,
   "id": "4148f1dc",
   "metadata": {},
   "outputs": [
    {
     "data": {
      "image/png": "[encoded data removed]",
      "text/plain": [
       "<Figure size 800x600 with 1 Axes>"
      ]
     },
     "metadata": {},
     "output_type": "display_data"
    }
   ],
   "source": [
    "# plot thee polynomial within the range of -2 to 2\n",
    "\n",
    "p.plot(-2, 2)"
   ]
  },
  {
   "cell_type": "code",
   "execution_count": null,
   "id": "2c6de6a5",
   "metadata": {},
   "outputs": [
    {
     "data": {
      "text/plain": [
       "-10"
      ]
     },
     "execution_count": 49,
     "metadata": {},
     "output_type": "execute_result"
    }
   ],
   "source": [
    "# evaluate the derivative at x = 1\n",
    "\n",
    "p.derivative(1)"
   ]
  },
  {
   "cell_type": "code",
   "execution_count": null,
   "id": "53782da5",
   "metadata": {},
   "outputs": [
    {
     "data": {
      "image/png": "[encoded data removed]",
      "text/plain": [
       "<Figure size 800x600 with 1 Axes>"
      ]
     },
     "metadata": {},
     "output_type": "display_data"
    }
   ],
   "source": [
    "# Plot the derivative\n",
    "\n",
    "p.plot_derivative(-2, 2)"
   ]
  },
  {
   "cell_type": "markdown",
   "id": "641b4303",
   "metadata": {},
   "source": [
    "## Problem-5\n",
    "\n",
    "Design a system to model a simple online shopping cart. Create a class `Product` with attributes for `name` and `price`. Then, create a `ShoppingCart` class that has a list to store `Product` objects. Implement methods to `add_item(product)`, `remove_item(product_name)`, and `calculate_total()`."
   ]
  },
  {
   "cell_type": "code",
   "execution_count": 50,
   "id": "e2547823",
   "metadata": {},
   "outputs": [],
   "source": [
    "class Product:\n",
    "    \"\"\"\n",
    "    Represents a product with a name and a price.\n",
    "    \"\"\"\n",
    "    def __init__(self, name, price):\n",
    "        if not isinstance(name, str) or not name.strip():\n",
    "            raise ValueError(\"Product name cannot be empty.\")\n",
    "        if not isinstance(price, (int, float)) or price < 0:\n",
    "            raise ValueError(\"Product price must be a non-negative number.\")\n",
    "        \n",
    "        self.name = name.strip()\n",
    "        self.price = float(price) # Ensure price is float for consistent calculations\n",
    "\n",
    "    def __str__(self):\n",
    "        return f\"{self.name} (₹{self.price:,.2f})\"\n",
    "\n",
    "    def __repr__(self):\n",
    "        # This helps when the object is in a list, showing how it could be reconstructed\n",
    "        return f\"Product('{self.name}', {self.price})\"\n",
    "\n",
    "    def __eq__(self, other):\n",
    "        # Define equality based on name and price for easier comparison/removal\n",
    "        if not isinstance(other, Product):\n",
    "            return NotImplemented\n",
    "        return self.name == other.name and self.price == other.price\n",
    "\n",
    "    def __hash__(self):\n",
    "        # Define hash for using Product objects in sets or as dictionary keys if needed\n",
    "        return hash((self.name, self.price))\n",
    "\n",
    "\n",
    "class ShoppingCart:\n",
    "    \"\"\"\n",
    "    Represents a user's shopping cart, holding a collection of products.\n",
    "    \"\"\"\n",
    "    def __init__(self):\n",
    "        self.items = []  # List to store Product objects\n",
    "\n",
    "    def add_item(self, product):\n",
    "        \"\"\"\n",
    "        Adds a Product object to the shopping cart.\n",
    "\n",
    "        Args:\n",
    "            product (Product): The product to add.\n",
    "        \"\"\"\n",
    "        if not isinstance(product, Product):\n",
    "            raise TypeError(\"Only Product objects can be added to the cart.\")\n",
    "        self.items.append(product)\n",
    "        print(f\"Added '{product.name}' to the cart.\")\n",
    "\n",
    "    def remove_item(self, product_name):\n",
    "        \"\"\"\n",
    "        Removes the first occurrence of a product with the given name from the cart.\n",
    "\n",
    "        Args:\n",
    "            product_name (str): The name of the product to remove.\n",
    "        \n",
    "        Returns:\n",
    "            bool: True if the item was found and removed, False otherwise.\n",
    "        \"\"\"\n",
    "        if not isinstance(product_name, str) or not product_name.strip():\n",
    "            raise ValueError(\"Product name for removal cannot be empty.\")\n",
    "        \n",
    "        product_name = product_name.strip()\n",
    "        \n",
    "        found = False\n",
    "        for i, item in enumerate(self.items):\n",
    "            if item.name.lower() == product_name.lower(): # Case-insensitive comparison\n",
    "                del self.items[i]\n",
    "                found = True\n",
    "                print(f\"Removed '{item.name}' from the cart.\")\n",
    "                break # Remove only the first instance found\n",
    "        \n",
    "        if not found:\n",
    "            print(f\"'{product_name}' not found in the cart.\")\n",
    "        return found\n",
    "\n",
    "    def calculate_total(self):\n",
    "        \"\"\"\n",
    "        Calculates the total price of all items currently in the cart.\n",
    "\n",
    "        Returns:\n",
    "            float: The sum of prices of all products in the cart.\n",
    "        \"\"\"\n",
    "        total = sum(item.price for item in self.items)\n",
    "        return total\n",
    "\n",
    "    def view_cart(self):\n",
    "        \"\"\"\n",
    "        Displays all items currently in the shopping cart.\n",
    "        \"\"\"\n",
    "        print(\"\\n--- Your Shopping Cart ---\")\n",
    "        if not self.items:\n",
    "            print(\"Your cart is empty.\")\n",
    "        else:\n",
    "            for i, item in enumerate(self.items):\n",
    "                print(f\"{i+1}. {item}\")\n",
    "            print(f\"--------------------------\")\n",
    "            print(f\"Total: ₹{self.calculate_total():,.2f}\")\n",
    "        print(\"--------------------------\")"
   ]
  },
  {
   "cell_type": "code",
   "execution_count": 55,
   "id": "a1e933ab",
   "metadata": {},
   "outputs": [],
   "source": [
    "# Create some products\n",
    "\n",
    "laptop = Product(\"Dell XPS\", 125000.00)\n",
    "mouse = Product(\"Logitech MX Master\", 8500.50)\n",
    "keyboard = Product(\"Mechanical Keyboard\", 12000.00)\n",
    "monitor = Product(\"Dell UltraSharp Monitor\", 35000.00)\n",
    "headphones = Product(\"Sony WH\", 28000.00)\n",
    "usb_drive = Product(\"SanDisk USB Drive\", 750.00)"
   ]
  },
  {
   "cell_type": "code",
   "execution_count": 56,
   "id": "d8f48f97",
   "metadata": {},
   "outputs": [
    {
     "name": "stdout",
     "output_type": "stream",
     "text": [
      "--- Available Products ---\n",
      "Dell XPS (₹125,000.00)\n",
      "Logitech MX Master (₹8,500.50)\n",
      "Mechanical Keyboard (₹12,000.00)\n",
      "Dell UltraSharp Monitor (₹35,000.00)\n",
      "Sony WH (₹28,000.00)\n",
      "SanDisk USB Drive (₹750.00)\n"
     ]
    }
   ],
   "source": [
    "print(\"--- Available Products ---\")\n",
    "print(laptop)\n",
    "print(mouse)\n",
    "print(keyboard)\n",
    "print(monitor)\n",
    "print(headphones)\n",
    "print(usb_drive)"
   ]
  },
  {
   "cell_type": "code",
   "execution_count": 62,
   "id": "aa865dce",
   "metadata": {},
   "outputs": [
    {
     "name": "stdout",
     "output_type": "stream",
     "text": [
      "\n",
      "--- Your Shopping Cart ---\n",
      "Your cart is empty.\n",
      "--------------------------\n",
      "\n",
      "--- Adding items to cart ---\n",
      "Added 'Dell XPS' to the cart.\n",
      "Added 'Logitech MX Master' to the cart.\n",
      "Added 'Mechanical Keyboard' to the cart.\n",
      "Added 'Sony WH' to the cart.\n",
      "Added 'Logitech MX Master' to the cart.\n"
     ]
    }
   ],
   "source": [
    "# Create a ShoppingCart instance\n",
    "my_cart = ShoppingCart()\n",
    "my_cart.view_cart() # Cart is empty initially\n",
    "\n",
    "# Add items to the cart\n",
    "print(\"\\n--- Adding items to cart ---\")\n",
    "my_cart.add_item(laptop)\n",
    "my_cart.add_item(mouse)\n",
    "my_cart.add_item(keyboard)\n",
    "my_cart.add_item(headphones)\n",
    "my_cart.add_item(mouse) # Add another mouse to test duplicates"
   ]
  },
  {
   "cell_type": "code",
   "execution_count": 63,
   "id": "c4b09c0a",
   "metadata": {},
   "outputs": [
    {
     "name": "stdout",
     "output_type": "stream",
     "text": [
      "\n",
      "--- Your Shopping Cart ---\n",
      "1. Dell XPS (₹125,000.00)\n",
      "2. Logitech MX Master (₹8,500.50)\n",
      "3. Mechanical Keyboard (₹12,000.00)\n",
      "4. Sony WH (₹28,000.00)\n",
      "5. Logitech MX Master (₹8,500.50)\n",
      "--------------------------\n",
      "Total: ₹182,001.00\n",
      "--------------------------\n"
     ]
    }
   ],
   "source": [
    "my_cart.view_cart()"
   ]
  },
  {
   "cell_type": "code",
   "execution_count": 64,
   "id": "49122564",
   "metadata": {},
   "outputs": [
    {
     "name": "stdout",
     "output_type": "stream",
     "text": [
      "\n",
      "--- Removing items from cart ---\n",
      "Removed 'Mechanical Keyboard' from the cart.\n",
      "Removed 'Dell XPS' from the cart.\n",
      "'Non Existent Item' not found in the cart.\n",
      "Removed 'Logitech MX Master' from the cart.\n",
      "\n",
      "--- Your Shopping Cart ---\n",
      "1. Sony WH (₹28,000.00)\n",
      "2. Logitech MX Master (₹8,500.50)\n",
      "--------------------------\n",
      "Total: ₹36,500.50\n",
      "--------------------------\n"
     ]
    }
   ],
   "source": [
    "# Remove items from the cart\n",
    "print(\"\\n--- Removing items from cart ---\")\n",
    "my_cart.remove_item(\"Mechanical Keyboard\") # Remove an existing item\n",
    "my_cart.remove_item(\"dell xps\")        # Test case-insensitivity\n",
    "my_cart.remove_item(\"Non Existent Item\")  # Try to remove an item not in cart\n",
    "my_cart.remove_item(\"logitech mx master\")              # Remove one of the mice\n",
    "\n",
    "my_cart.view_cart()"
   ]
  },
  {
   "cell_type": "code",
   "execution_count": 65,
   "id": "8bd21e2b",
   "metadata": {},
   "outputs": [
    {
     "name": "stdout",
     "output_type": "stream",
     "text": [
      "Added 'Dell UltraSharp Monitor' to the cart.\n",
      "Added 'SanDisk USB Drive' to the cart.\n",
      "\n",
      "--- Your Shopping Cart ---\n",
      "1. Sony WH (₹28,000.00)\n",
      "2. Logitech MX Master (₹8,500.50)\n",
      "3. Dell UltraSharp Monitor (₹35,000.00)\n",
      "4. SanDisk USB Drive (₹750.00)\n",
      "--------------------------\n",
      "Total: ₹72,250.50\n",
      "--------------------------\n"
     ]
    }
   ],
   "source": [
    "# Add more items and re-check total\n",
    "\n",
    "my_cart.add_item(monitor)\n",
    "my_cart.add_item(usb_drive)\n",
    "my_cart.view_cart()\n"
   ]
  },
  {
   "cell_type": "code",
   "execution_count": 66,
   "id": "3e4c4e0a",
   "metadata": {},
   "outputs": [
    {
     "name": "stdout",
     "output_type": "stream",
     "text": [
      "Final total: ₹72,250.50\n"
     ]
    }
   ],
   "source": [
    "final_total = my_cart.calculate_total()\n",
    "print(f\"Final total: ₹{final_total:,.2f}\")"
   ]
  },
  {
   "cell_type": "code",
   "execution_count": null,
   "id": "1efbb7ed",
   "metadata": {},
   "outputs": [],
   "source": []
  }
 ],
 "metadata": {
  "kernelspec": {
   "display_name": ".venv",
   "language": "python",
   "name": "python3"
  },
  "language_info": {
   "codemirror_mode": {
    "name": "ipython",
    "version": 3
   },
   "file_extension": ".py",
   "mimetype": "text/x-python",
   "name": "python",
   "nbconvert_exporter": "python",
   "pygments_lexer": "ipython3",
   "version": "3.12.9"
  }
 },
 "nbformat": 4,
 "nbformat_minor": 5
}
