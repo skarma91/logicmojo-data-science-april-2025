{
 "cells": [
  {
   "cell_type": "markdown",
   "id": "2535e4db",
   "metadata": {},
   "source": [
    "# Assignment-4\n",
    "\n",
    "This notebook contains the coding questions to test the proficiency in `Object Oriented Programming` in python.\n",
    "\n",
    "### Date: 16th May, 2025\n",
    "\n",
    "### Steps to solve and upload the assignment \n",
    "\n",
    "- Download the notebook in your local machine.\n",
    "- Solve the questions in the notebook and save it.\n",
    "- Rename the file as `Assignment-04-<your_name>_<your_surname>.ipynb`. For example if your name is Dipika Chopra then name the file as `Assignment-04-Dipika_Chopra.ipynb`.\n",
    "- Upload the solved notebook in the google drive location: https://drive.google.com/drive/folders/14z3q91F8xzPb8Hm-KxNGn-nkKacqB17v?usp=drive_link\n",
    "<h3><span style=\"color:red\"> Deadline: 31st May, 2025 </span></h3>"
   ]
  },
  {
   "cell_type": "markdown",
   "id": "a9701d5d",
   "metadata": {},
   "source": [
    "## Problem-1\n",
    "\n",
    "Design a system for a library. Include classes for `Book`, `Patron`, and `Library`.\n",
    "\n",
    "- The `Book` class should have attributes for title, author, ISBN, and a method `is_available()` that returns `True` if the book is not currently checked out and `False` otherwise. It should also have a method `check_out()` that marks the book as checked out and a method `check_in()` that marks it as available.\n",
    "- The `Patron` class should have attributes for name and patron ID and a method `borrow_book(book)` that associates a book with the patron.\n",
    "- The `Library` class should have a collection of `Book` objects and `Patron` objects. It should have methods to `add_book(book)`, `add_patron(patron)`, `lend_book(book, patron)`, and `return_book(book)`. The `lend_book` method should only allow a book to be lent if it's available and the patron exists in the library.\n",
    "\n",
    "\n",
    "Test your implementation."
   ]
  },
  {
   "cell_type": "code",
   "execution_count": null,
   "id": "c15b4d14",
   "metadata": {
    "vscode": {
     "languageId": "plaintext"
    }
   },
   "outputs": [],
   "source": []
  },
  {
   "cell_type": "markdown",
   "id": "f84ceae2",
   "metadata": {},
   "source": [
    "## Problem-2\n",
    "\n",
    "Create an base class `Shape` with an method `area()` and another method `perimeter()`. Then, create classes `Rectangle` and `Circle` that inherit from `Shape` and implement the `area()` method. The `perimeter()` method in `Shape` should raise a `NotImplementedError`. Implement the `perimeter()` method in `Rectangle` and `Circle`.\n",
    "\n",
    "Test your implementation."
   ]
  },
  {
   "cell_type": "code",
   "execution_count": null,
   "id": "2a90ed8b",
   "metadata": {
    "vscode": {
     "languageId": "plaintext"
    }
   },
   "outputs": [],
   "source": []
  },
  {
   "cell_type": "markdown",
   "id": "1d1687b0",
   "metadata": {},
   "source": [
    "## Problem-3\n",
    "\n",
    "Design a system to model different types of employees in a company. There should be a base `Employee` class with attributes for `name` and `employee_id`. Create two subclasses: `SalariedEmployee` with an attribute for `monthly_salary` and a method `calculate_paycheck()` that returns the monthly salary, and `HourlyEmployee` with attributes for `hourly_rate` and `hours_worked`, and a `calculate_paycheck()` method that returns the total pay for the week. Demonstrate creating instances of both employee types and calling their `calculate_paycheck()` methods.\n",
    "\n",
    "Test your implementation."
   ]
  },
  {
   "cell_type": "code",
   "execution_count": null,
   "id": "00ad7a49",
   "metadata": {
    "vscode": {
     "languageId": "plaintext"
    }
   },
   "outputs": [],
   "source": []
  },
  {
   "cell_type": "markdown",
   "id": "694b2ead",
   "metadata": {},
   "source": [
    "## Problem-4\n",
    "\n",
    "Design a class `polynomial` of one variable which will have attributes `degree`, a positive integer and `coefficients`, a list of floating point numbers. \n",
    "`degree` means the highest power of the variable and `coefficients` are the coefficient of individual terms.\n",
    "\n",
    "A polynomial of degree `n` has `n+1` coefficients. \n",
    "\n",
    "- Example-1:\n",
    "$$ 3x^4 + 5x^3 + x^2 + 9x + 10 $$\n",
    "This is a polynomial of degree 4 and coefficients are [3, 5, 1, 9, 10].\n",
    "\n",
    "- Example-2: (some coefficients could be zero)\n",
    "$$ 0.7x^3 + 2.5x $$\n",
    "Here the degree of polynomial is 3 and coefficients are [0.7, 0, 2.5, 0].\n",
    "\n",
    "A polynomial of degree zero is just a constant value. \n",
    "\n",
    "In the `polynomial` class, you need to implement the following methods:\n",
    "- `evaluate(x)` which will evaluate the polynomial for a given value of the variable x.\n",
    "- `plot([x1, x2])` this will plot the polynomial for a given range of x1 to x2 of the variable.\n",
    "- `derivative(x)` This will evaluate the derivative (differentiation) of the polynomial for a given value of the variable x.\n",
    "- `plot_derivative([x1, x2])` this will plot the derivative of the polynomial for a given range of x1 to x2 of the variable.\n",
    "\n",
    "The class should have basic checks, such that the number of coefficients provided by the user should be degree + 1 and the degree should be a positive integer. \n",
    "\n",
    "Test your implementation. "
   ]
  },
  {
   "cell_type": "code",
   "execution_count": null,
   "id": "3eeb9436",
   "metadata": {
    "vscode": {
     "languageId": "plaintext"
    }
   },
   "outputs": [],
   "source": []
  },
  {
   "cell_type": "markdown",
   "id": "641b4303",
   "metadata": {},
   "source": [
    "## Problem-5\n",
    "\n",
    "Design a system to model a simple online shopping cart. Create a class `Product` with attributes for `name` and `price`. Then, create a `ShoppingCart` class that has a list to store `Product` objects. Implement methods to `add_item(product)`, `remove_item(product_name)`, and `calculate_total()`."
   ]
  },
  {
   "cell_type": "markdown",
   "id": "abdb3af5",
   "metadata": {},
   "source": []
  }
 ],
 "metadata": {
  "language_info": {
   "name": "python"
  }
 },
 "nbformat": 4,
 "nbformat_minor": 5
}
