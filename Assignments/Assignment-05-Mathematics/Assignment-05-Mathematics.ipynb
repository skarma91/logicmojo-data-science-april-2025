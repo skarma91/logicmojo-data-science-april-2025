{
 "cells": [
  {
   "cell_type": "markdown",
   "id": "39e18a5e",
   "metadata": {},
   "source": [
    "# Assignment-5\n",
    "\n",
    "This notebook contains the questions to test the proficiency in `Mathematics for machine learning`.\n",
    "\n",
    "### Date: 16th June, 2025\n",
    "\n",
    "### Steps to solve and upload the assignment \n",
    "\n",
    "- Download the notebook in your local machine.\n",
    "- Solve the coding questions in the notebook and save it.\n",
    "- Rename the file as `Assignment-05-<your_name>_<your_surname>.ipynb`. For example if your name is Dipika Chopra then name the file as `Assignment-05-Dipika_Chopra.ipynb`.\n",
    "- For numerical problems you can either solve the same using `LaTeX` in markdown cell of your soluton notebook or you can solve it on paper and upload the scan pdf copy of the solution.\n",
    "- If you are solving it on paper then name the pdf file of the scan copy of the solution as `Assignment-05-<your_name>_<your_surname>.pdf`. For example if your name is Akash Kumar then name the file as `Assignment-05-Akash_Kumar.pdf`.\n",
    "- Upload the solved notebook and the scanned pdf copy of the solutions in the google drive location: https://drive.google.com/drive/folders/1rlxuCIMhIk3qIM4BIWGjTwe7o6pojKKS?usp=drive_link\n",
    "<h3><span style=\"color:red\"> Deadline: 4th July, 2025 </span></h3>"
   ]
  },
  {
   "cell_type": "markdown",
   "id": "3060d16c",
   "metadata": {},
   "source": [
    "<h5><span style=\"color:blue\"> <b>Instructions:</b> Please answer all the questions. For problems requiring numerical solutions, you are encouraged to write code in Python to compute the results. Show your steps and explain your reasoning. </span></h5>"
   ]
  },
  {
   "cell_type": "markdown",
   "id": "2b5b5a63",
   "metadata": {},
   "source": [
    "### Problem-1\n",
    "\n",
    "In a network, data packets are sent through a shared channel. Suppose there are 10 devices attempting to send data. In any given time slot, each device has a 20% chance of attempting to send a packet, independently of other devices. A collision occurs if two or more devices attempt to send a packet in the same time slot. What is the probability that in a given time slot, there will be no collisions?"
   ]
  },
  {
   "cell_type": "markdown",
   "id": "7a96749a",
   "metadata": {},
   "source": [
    "### Problem-2\n",
    "\n",
    "A system uses 8-character passwords. Each character can be any lowercase letter (a-z), uppercase letter (A-Z), or digit (0-9).\n",
    "What is the probability that a randomly generated 8-character password contains at least one digit, given that character repetition is allowed?"
   ]
  },
  {
   "cell_type": "markdown",
   "id": "b8f8f841",
   "metadata": {},
   "source": [
    "### Problem-3\n",
    "\n",
    "A software project has two modules, A and B. The probability that module A has a bug is 0.15, and the probability that module B has a bug is 0.10. The probability that both modules have bugs is 0.03.\n",
    "\n",
    "(a) What is the probability that module A has a bug, given that module B has a bug?\n",
    "\n",
    "(b) What is the probability that module B has a bug, given that module A does not have a bug?"
   ]
  },
  {
   "cell_type": "markdown",
   "id": "05e5fb69",
   "metadata": {},
   "source": [
    "### Problem-4\n",
    "\n",
    "A robot uses a sensor to detect an obstacle. The sensor has a 95% chance of correctly detecting an obstacle when one is present (true positive rate). However, it also has a 2% chance of indicating an obstacle when there isn't one (false positive rate).\n",
    "In the robot's environment, obstacles are present 10% of the time.\n",
    "\n",
    "What is the probability that an obstacle is truly present, given that the sensor indicates an obstacle?"
   ]
  },
  {
   "cell_type": "markdown",
   "id": "d1540bbd",
   "metadata": {},
   "source": [
    "### Problem-5\n",
    "\n",
    "A spam filter uses a keyword \"money\" to identify spam emails.\n",
    "- 10% of all emails are spam.\n",
    "- If an email is spam, the word \"money\" appears in it 80% of the time.\n",
    "- If an email is not spam, the word \"money\" appears in it 5% of the time.\n",
    "\n",
    "If an email contains the word \"money\", what is the probability that it is spam?"
   ]
  },
  {
   "cell_type": "markdown",
   "id": "cfbf13b7",
   "metadata": {},
   "source": [
    "### Problem-6\n",
    "\n",
    "A rare disease affects 1 in 10,000 people. A diagnostic test for this disease has a 99% true positive rate (correctly identifies the disease when present) and a 0.5% false positive rate (incorrectly indicates the disease when not present).\n",
    "\n",
    "If a randomly selected person tests positive for the disease, what is the probability that they actually have the disease?"
   ]
  },
  {
   "cell_type": "markdown",
   "id": "c8efd95f",
   "metadata": {},
   "source": [
    "### Problem-7\n",
    "\n",
    "A batch of 500 microchips is produced. The probability that a single microchip is defective is 0.02.\n",
    "Let X be the number of defective microchips in a random sample of 20 microchips from this batch. Assume the sample is taken with replacement, or the batch is large enough that we can model this as independent trials.\n",
    "\n",
    "(a) What is the probability that exactly 3 microchips in the sample are defective?\n",
    "(b) What is the probability that at least 2 microchips in the sample are defective?"
   ]
  },
  {
   "cell_type": "markdown",
   "id": "d881d902",
   "metadata": {},
   "source": [
    "### Problem-8\n",
    "\n",
    "The time (in hours) until a critical server component fails follows an exponential distribution with a mean of 500 hours.\n",
    "\n",
    "(a) What is the probability that the component will last between 400 and 600 hours?\n",
    "\n",
    "(b) The component has already been running for 300 hours without failure. What is the probability that it will last for at least another 250 hours?"
   ]
  },
  {
   "cell_type": "markdown",
   "id": "94a87f03",
   "metadata": {},
   "source": [
    "### Problem-9\n",
    "\n",
    "The noise in a sensor's reading can be modeled by a Gaussian (Normal) distribution with a mean of 0 (bias) and a standard deviation of 0.5 units.\n",
    "\n",
    "(a) What is the probability that a sensor reading's noise is between -0.2 and 0.3 units?\n",
    "\n",
    "(b) If a reading is considered an \"outlier\" if its noise is more than 1.5 standard deviations away from the mean, what is the probability that a random reading is an outlier?"
   ]
  },
  {
   "cell_type": "markdown",
   "id": "78f10b6f",
   "metadata": {},
   "source": [
    "### Problem-10\n",
    "\n",
    "The latency (delay) in a specific network segment is observed to be normally distributed with a mean of 150 ms and a standard deviation of 20 ms.\n",
    "\n",
    "(a) What is the probability that a data packet experiences a latency greater than 180 ms?\n",
    "\n",
    "(b) Due to new QoS (Quality of Service) requirements, 90% of packets must arrive within a certain latency threshold. What is this threshold (in ms)?\n",
    "\n",
    "(c) If a network engineer defines \"critical latency\" as any latency exceeding 2.5 standard deviations above the mean, what is the probability that a packet experiences critical latency?"
   ]
  },
  {
   "cell_type": "markdown",
   "id": "130b34aa",
   "metadata": {},
   "source": [
    "### Problem-11\n",
    "\n",
    "The lifespan of a certain electronic component, due to manufacturing variations, is normally distributed with a mean of 2500 hours and a standard deviation of 300 hours.\n",
    "\n",
    "(a) A customer requires components that last at least 2000 hours. What percentage of manufactured components meet this requirement?\n",
    "\n",
    "(b) The manufacturer wants to provide a warranty such that only 1% of components fail before the warranty period ends. What should be the warranty period (in hours)?\n",
    "\n",
    "(c) If a batch of 10,000 components is produced, how many components are expected to have a lifespan between 2200 and 2800 hours?"
   ]
  },
  {
   "cell_type": "markdown",
   "id": "b3760971",
   "metadata": {},
   "source": [
    "### Problem-12\n",
    "The probability density function (pdf) of the triangular distribution is characterized by three points as shown in the figure below.\n",
    "\n",
    "<img src=\"https://upload.wikimedia.org/wikipedia/commons/4/45/Triangular_distribution_PMF.png\" alt=\"triangular distribution\" width=\"500\"/>\n",
    "\n",
    "(a) min value of the distribution,\n",
    "(b) max value of the distribution, and\n",
    "(c) mode of the distribution\n",
    "\n",
    "Note: $a \\leq c \\leq b$\n",
    "\n",
    "Create a class `TriangularDistribution` with attributes `min`, `max` and `mode`. You need to implement the following methods:\n",
    "\n",
    "- `pdf(x)`: returns the value of the pdf at point $x$.\n",
    "- `plot_pdf()`: plots the pdf in the range $[min , max]$\n",
    "- `cdf(x)`: returns the value of the cdf at point $x$ ; which denotes $P(X \\leq x)$\n",
    "- `plot_cdf()`: plots the cdf in the range $[min , max]$\n",
    "- `get_probability(x1, x2)`: returns the probability $P(x_1 \\leq X \\leq x_2)$, where $x_1 \\lt x_2$.\n",
    "\n",
    "Gracefully handle the possible errors and also the edge conditions when either $ a = c $ or $b = c$ in the distribution.\n",
    "\n",
    "Test your implementation."
   ]
  },
  {
   "cell_type": "code",
   "execution_count": null,
   "id": "8f4ea890",
   "metadata": {},
   "outputs": [],
   "source": [
    "### Write your code here\n"
   ]
  },
  {
   "cell_type": "markdown",
   "id": "7f1d0597",
   "metadata": {},
   "source": [
    "### Problem-13\n",
    "\n",
    "The `rand5()` function which returns a uniform random integer within the range [1, 5], is defined as following:\n",
    "\n",
    "```python\n",
    "def rand5():\n",
    "    import numpy as np\n",
    "    return np.random.randint(1,6)\n",
    "```\n",
    "\n",
    "Write a function `rand7()` that will generate a uniform random integer within the range [1, 7] by only using `rand5()`. \n",
    "\n",
    "Note: You can call `rand5()` as many time as you want inside the function `rand7()`, but you can not use `np.random.randint(1, 8)` or any other built-in methods in python. "
   ]
  },
  {
   "cell_type": "code",
   "execution_count": null,
   "id": "9ceaa115",
   "metadata": {},
   "outputs": [],
   "source": [
    "### Write your code here\n"
   ]
  },
  {
   "cell_type": "markdown",
   "id": "e6b19c2f",
   "metadata": {},
   "source": [
    "### Problem-14\n",
    "\n",
    "A grayscale image can be represented as a matrix where the dimensions are (height, width). \n",
    "Let's consider a simplified scenario with two grayscale images, $A$ and $B$, both represented as 10×10 matrices where each element represents pixel intensity. Pixel intensity is an integer in the range [0-255].\n",
    "\n",
    "You want to create a blended image $C$ by combining $A$ and $B$ such that $C=w_1 A+w_2 B$. This represents a weighted average blend.\n",
    "Note that each element in the resultant matrix $C$ should also fall within the range [0, 255]. \n",
    "\n",
    "write the code of the function `blend_images(image_A, image_B, weight_A, weight_B)` that takes two matrices and two scalar weights and produces another matrix as an output by performing the above operation."
   ]
  },
  {
   "cell_type": "code",
   "execution_count": null,
   "id": "14aa7c52",
   "metadata": {},
   "outputs": [],
   "source": [
    "### Write your code here\n"
   ]
  },
  {
   "cell_type": "markdown",
   "id": "a866e35b",
   "metadata": {},
   "source": [
    "### Problem-15\n",
    "\n",
    "Calculate the eigen values and eigen vectors of the following matrices.\n",
    "\n",
    "$A = \\begin{bmatrix}\n",
    "5 & 2 \\\\\n",
    "2 & 2\n",
    "\\end{bmatrix}$      \n",
    "\n",
    "$B = \\begin{bmatrix}\n",
    "1 & 1 & 0\\\\\n",
    "0 & 2 & 0\\\\\n",
    "-1 & 1 & 3\n",
    "\\end{bmatrix}$"
   ]
  },
  {
   "cell_type": "markdown",
   "id": "db6baf67",
   "metadata": {},
   "source": []
  }
 ],
 "metadata": {
  "kernelspec": {
   "display_name": ".venv",
   "language": "python",
   "name": "python3"
  },
  "language_info": {
   "codemirror_mode": {
    "name": "ipython",
    "version": 3
   },
   "file_extension": ".py",
   "mimetype": "text/x-python",
   "name": "python",
   "nbconvert_exporter": "python",
   "pygments_lexer": "ipython3",
   "version": "3.12.9"
  }
 },
 "nbformat": 4,
 "nbformat_minor": 5
}
