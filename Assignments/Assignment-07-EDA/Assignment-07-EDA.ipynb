{
 "cells": [
  {
   "cell_type": "markdown",
   "id": "889e2214",
   "metadata": {},
   "source": [
    "# Assignment-7\n",
    "\n",
    "This notebook contains the questions to test the proficiency in `Exploratory Data Analysis`.\n",
    "\n",
    "### Date: 28th June, 2025\n",
    "\n",
    "### Steps to solve and upload the assignment \n",
    "\n",
    "- Download the notebook in your local machine.\n",
    "- Solve the assignment and save it.\n",
    "- Rename the file as `Assignment-07-<your_name>_<your_surname>.ipynb`. For example if your name is Dipika Chopra then name the file as `Assignment-07-Dipika_Chopra.ipynb`.\n",
    "- Upload the solved notebook in the google drive location: https://drive.google.com/drive/folders/1lziCZ4VgEyOvI_kAngLMVlls0S-cugZE?usp=drive_link\n",
    "<h3><span style=\"color:red\"> Deadline: 26th July, 2025 </span></h3>"
   ]
  },
  {
   "cell_type": "markdown",
   "id": "e8cbc621",
   "metadata": {},
   "source": [
    "### Problem Statement:\n",
    "\n",
    "The banking churn prediction dataset (uploaded in the same folder) contains different attributes of the customers of the bank and whether they have churned or not.\n",
    "Churning means closing the relationship with the bank. Following are the descriptions of the columns in the dataset.\n",
    "\n",
    "- customer_id: Unique identifier for each customer.\n",
    "- vintage: The duration of the customer's relationship with the company.\n",
    "- age: Age of the customer.\n",
    "- gender: Gender of the customer.\n",
    "- dependents: Number of dependents the customer has.\n",
    "- occupation: The occupation of the customer.\n",
    "- city: City in which the customer is located.\n",
    "- customer_nw_category: Net worth category of the customer.\n",
    "- branch_code: Code identifying the branch associated with the customer.\n",
    "- current_balance: Current balance in the customer's account.\n",
    "- previous_month_end_balance: Account balance at the end of the previous month.\n",
    "- average_monthly_balance_prevQ: Average monthly balance in the previous quarter.\n",
    "- average_monthly_balance_prevQ2: Average monthly balance in the second previous quarter.\n",
    "- current_month_credit: Credit amount in the current month.\n",
    "- previous_month_credit: Credit amount in the previous month.\n",
    "- current_month_debit: Debit amount in the current month.\n",
    "- previous_month_debit: Debit amount in the previous month.\n",
    "- current_month_balance: Account balance in the current month.\n",
    "- previous_month_balance: Account balance in the previous month.\n",
    "- churn: The target variable indicating whether the customer has churned (1 for churned, 0 for not churned).\n",
    "- last_transaction: Timestamp of the customer's last transaction.\n",
    "\n",
    "\n",
    "Your task is to perform exploratory data analysis (EDA) on Banking Churn Prediction dataset. "
   ]
  },
  {
   "cell_type": "code",
   "execution_count": null,
   "id": "698f0776",
   "metadata": {
    "vscode": {
     "languageId": "plaintext"
    }
   },
   "outputs": [],
   "source": []
  }
 ],
 "metadata": {
  "language_info": {
   "name": "python"
  }
 },
 "nbformat": 4,
 "nbformat_minor": 5
}
