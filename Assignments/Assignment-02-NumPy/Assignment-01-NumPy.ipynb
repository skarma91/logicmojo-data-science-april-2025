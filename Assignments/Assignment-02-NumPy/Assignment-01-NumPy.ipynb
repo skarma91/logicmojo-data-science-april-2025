{
 "cells": [
  {
   "cell_type": "markdown",
   "id": "dc07db6a",
   "metadata": {},
   "source": [
    "# Assignment-2\n",
    "\n",
    "This notebook contains the coding questions to test the proficiency in `NumPy` library of python.\n",
    "\n",
    "### Date: 4th May, 2025\n",
    "\n",
    "### Steps to solve and upload the assignment \n",
    "\n",
    "- Download the notebook in your local machine.\n",
    "- Solve the questions in the notebook and save it.\n",
    "- Rename the file as `Assignment-02-<your_name>_<your_surname>.ipynb`. For example if your name is Dipika Chopra then name the file as `Assignment-02-Dipika_Chopra.ipynb`.\n",
    "- Upload the solved notebook in the google drive location: https://drive.google.com/drive/folders/1oeXRThJXEUmx6Z2CGaksZuxN8QsIF7QD?usp=sharing\n",
    "\n",
    "<h3><span style=\"color:red\"> Deadline: 20th May, 2025 </span></h3>"
   ]
  },
  {
   "cell_type": "code",
   "execution_count": 5,
   "id": "d3038cca",
   "metadata": {},
   "outputs": [],
   "source": [
    "import numpy as np"
   ]
  },
  {
   "cell_type": "markdown",
   "id": "f4613f42",
   "metadata": {},
   "source": [
    "## Problem: 1\n",
    "Create a uniform subdivision of the interval -1.3 to 2.5 with 64 subdivisions."
   ]
  },
  {
   "cell_type": "code",
   "execution_count": null,
   "id": "d9608c50",
   "metadata": {},
   "outputs": [],
   "source": [
    "# Write your code here\n"
   ]
  },
  {
   "cell_type": "markdown",
   "id": "592a81a1",
   "metadata": {},
   "source": [
    "## Problem: 2\n",
    "\n",
    "Generate an array of length $3n$ , filled with the cyclic pattern 1, 2, 3. Where $n$ is a natural number."
   ]
  },
  {
   "cell_type": "code",
   "execution_count": null,
   "id": "b0eff8c5",
   "metadata": {},
   "outputs": [],
   "source": [
    "# Write your code here"
   ]
  },
  {
   "cell_type": "markdown",
   "id": "4d2d5ac4",
   "metadata": {},
   "source": [
    "## Problem: 3\n",
    "Create an array of the first $n$ odd integers. $n$ is a natural number input from user."
   ]
  },
  {
   "cell_type": "code",
   "execution_count": null,
   "id": "d9ad08b8",
   "metadata": {},
   "outputs": [],
   "source": [
    "# Write your code here\n",
    "\n"
   ]
  },
  {
   "cell_type": "markdown",
   "id": "b4db8108",
   "metadata": {},
   "source": [
    "## Problem: 4\n",
    "\n",
    "Create a 10 x 10 arrays of zeros and then \"frame\" it with a border of ones."
   ]
  },
  {
   "cell_type": "code",
   "execution_count": null,
   "id": "43ebcbe6",
   "metadata": {},
   "outputs": [],
   "source": [
    "# Write your code here\n",
    "\n"
   ]
  },
  {
   "cell_type": "markdown",
   "id": "b7dfc64f",
   "metadata": {},
   "source": [
    "## Problem: 5\n",
    "\n",
    "Create an 8 x 8 array with a checkerboard pattern of zeros and ones."
   ]
  },
  {
   "cell_type": "code",
   "execution_count": null,
   "id": "a2533a49",
   "metadata": {},
   "outputs": [],
   "source": [
    "# Write your code here\n",
    "\n"
   ]
  },
  {
   "cell_type": "markdown",
   "id": "16836fba",
   "metadata": {},
   "source": [
    "## Problem: 6\n",
    "\n",
    "Create an array $x$ with 100 points in the interval $[-1,1]$ (the points must be uniformly spaced). Then create another array $y$. \n",
    "\n",
    "Where $y = x^2 sin(x^2) + x$. \n",
    "\n",
    "Try to plot $y$ vs $x$ using matplotlib."
   ]
  },
  {
   "cell_type": "code",
   "execution_count": null,
   "id": "60163795",
   "metadata": {},
   "outputs": [],
   "source": [
    "# Write your code here\n",
    "\n"
   ]
  },
  {
   "cell_type": "markdown",
   "id": "38ce56fe",
   "metadata": {},
   "source": [
    "## Problem: 7 \n",
    "Create a function which creates an $n×n$ array with $(i , j)$ -entry equal to $i+ j$"
   ]
  },
  {
   "cell_type": "code",
   "execution_count": null,
   "id": "9f8df5fc",
   "metadata": {},
   "outputs": [],
   "source": [
    "# Write your code here\n",
    "\n"
   ]
  },
  {
   "cell_type": "markdown",
   "id": "c7ef619d",
   "metadata": {},
   "source": [
    "# Problem: 8\n",
    "Evaluate $cos$ and $sin$ on the interval $[0,1]$  with 1000 points and then stack the results into a tall array with rows being the $(cos(x),sin(x))$ entries."
   ]
  },
  {
   "cell_type": "code",
   "execution_count": 4,
   "id": "268d11c0",
   "metadata": {},
   "outputs": [],
   "source": [
    "# Write your code here\n"
   ]
  },
  {
   "cell_type": "markdown",
   "id": "388a60e9",
   "metadata": {},
   "source": [
    "# Problem: 9\n",
    "\n",
    "Create a random $3×5$ array using the `np.random.rand(3 ,5)` function and compute: the sum of all the entries, the sum of the rows, and the sum of the columns."
   ]
  },
  {
   "cell_type": "code",
   "execution_count": null,
   "id": "6dfa35a5",
   "metadata": {},
   "outputs": [],
   "source": [
    "# Write your code here\n",
    "\n"
   ]
  },
  {
   "cell_type": "markdown",
   "id": "b0eabd51",
   "metadata": {},
   "source": [
    "## Problem: 10\n",
    "\n",
    "Create a random $5×5$ array using the function `np.random.rand(5, 5)`. Then sort the rows according to the second column."
   ]
  },
  {
   "cell_type": "code",
   "execution_count": null,
   "id": "e689c2af",
   "metadata": {},
   "outputs": [],
   "source": [
    "# Write your code here\n",
    "\n"
   ]
  }
 ],
 "metadata": {
  "kernelspec": {
   "display_name": ".venv",
   "language": "python",
   "name": "python3"
  },
  "language_info": {
   "codemirror_mode": {
    "name": "ipython",
    "version": 3
   },
   "file_extension": ".py",
   "mimetype": "text/x-python",
   "name": "python",
   "nbconvert_exporter": "python",
   "pygments_lexer": "ipython3",
   "version": "3.12.9"
  }
 },
 "nbformat": 4,
 "nbformat_minor": 5
}
