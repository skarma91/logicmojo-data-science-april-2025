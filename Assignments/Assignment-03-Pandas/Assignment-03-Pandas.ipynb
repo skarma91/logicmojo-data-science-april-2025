{
 "cells": [
  {
   "cell_type": "markdown",
   "id": "09449a86",
   "metadata": {},
   "source": [
    "# Assignment-3\n",
    "\n",
    "This notebook contains the coding questions to test the proficiency in `Pandas` library in python.\n",
    "\n",
    "### Date: 4th May, 2025\n",
    "\n",
    "### Steps to solve and upload the assignment \n",
    "\n",
    "- Download the notebook in your local machine.\n",
    "- Solve the questions in the notebook and save it.\n",
    "- Rename the file as `Assignment-03-<your_name>_<your_surname>.ipynb`. For example if your name is Dipika Chopra then name the file as `Assignment-03-Dipika_Chopra.ipynb`.\n",
    "- Upload the solved notebook in the google drive location: https://drive.google.com/drive/folders/1gCOcK20aw9a2i3kMK0ccymYIXPqOrqkq?usp=sharing \n",
    "\n",
    "<h3><span style=\"color:red\"> Deadline: 20th May, 2025 </span></h3>"
   ]
  },
  {
   "cell_type": "markdown",
   "id": "dc6b90c7",
   "metadata": {},
   "source": [
    "Use the `population_by_county.csv` file in the folder to complete the tasks.\n",
    "\n",
    "**NOTE: TRY TO DO ALL THE TASKS IN ONE LINE OF PANDAS CODE.**"
   ]
  },
  {
   "cell_type": "code",
   "execution_count": null,
   "id": "7e086eb8",
   "metadata": {},
   "outputs": [],
   "source": [
    "import pandas as pd"
   ]
  },
  {
   "cell_type": "markdown",
   "id": "791b5343",
   "metadata": {},
   "source": [
    "#### 1. Import pandas and read in the `population_by_county.csv` file into a dataframe called `pop`."
   ]
  },
  {
   "cell_type": "code",
   "execution_count": null,
   "id": "ac53294a",
   "metadata": {},
   "outputs": [],
   "source": [
    "# Write your code here\n",
    "\n"
   ]
  },
  {
   "cell_type": "markdown",
   "id": "7c7b1f68",
   "metadata": {},
   "source": [
    "#### 2. Show the head of the dataframe, Also show top 8 rows of the dataframe using head"
   ]
  },
  {
   "cell_type": "code",
   "execution_count": null,
   "id": "9f407fc5",
   "metadata": {},
   "outputs": [],
   "source": [
    "# Write your code here\n",
    "\n"
   ]
  },
  {
   "cell_type": "markdown",
   "id": "53bee62b",
   "metadata": {},
   "source": [
    "#### 3. What are the column names?"
   ]
  },
  {
   "cell_type": "code",
   "execution_count": null,
   "id": "67a4309a",
   "metadata": {},
   "outputs": [],
   "source": [
    "# Write your code here\n",
    "\n"
   ]
  },
  {
   "cell_type": "markdown",
   "id": "cd10e795",
   "metadata": {},
   "source": [
    "#### 4. How many States are represented in this data set?  \n",
    "<em>Note: the data includes the `District of Columbia`</em>"
   ]
  },
  {
   "cell_type": "code",
   "execution_count": null,
   "id": "8eee15e3",
   "metadata": {},
   "outputs": [],
   "source": [
    "# Write your code here\n",
    "\n"
   ]
  },
  {
   "cell_type": "markdown",
   "id": "fb592331",
   "metadata": {},
   "source": [
    "#### 5. Get a list or array of all the states in the data set."
   ]
  },
  {
   "cell_type": "code",
   "execution_count": null,
   "id": "45e4706f",
   "metadata": {},
   "outputs": [],
   "source": [
    "# Write your code here\n",
    "\n"
   ]
  },
  {
   "cell_type": "markdown",
   "id": "b2cd09d6",
   "metadata": {},
   "source": [
    "#### 6. What are the five most common County names in the U.S.?"
   ]
  },
  {
   "cell_type": "code",
   "execution_count": null,
   "id": "340f77c7",
   "metadata": {},
   "outputs": [],
   "source": [
    "# Write your code here\n",
    "\n"
   ]
  },
  {
   "cell_type": "markdown",
   "id": "8ea0b0fd",
   "metadata": {},
   "source": [
    "#### 7. What are the top 5 most populated Counties according to the 2010 Census?"
   ]
  },
  {
   "cell_type": "code",
   "execution_count": null,
   "id": "abcbf760",
   "metadata": {},
   "outputs": [],
   "source": [
    "# Write your code here\n",
    "\n"
   ]
  },
  {
   "cell_type": "markdown",
   "id": "eebde689",
   "metadata": {},
   "source": [
    "#### 8. What are the top 5 most populated States according to the 2010 Census?"
   ]
  },
  {
   "cell_type": "code",
   "execution_count": null,
   "id": "a36522be",
   "metadata": {},
   "outputs": [],
   "source": [
    "# Write your code here\n",
    "\n"
   ]
  },
  {
   "cell_type": "markdown",
   "id": "d31fdb1f",
   "metadata": {},
   "source": [
    "#### 9. How many Counties have 2010 populations greater than 1 million?"
   ]
  },
  {
   "cell_type": "code",
   "execution_count": null,
   "id": "1f56d38d",
   "metadata": {},
   "outputs": [],
   "source": [
    "# Write your code here\n",
    "\n"
   ]
  },
  {
   "cell_type": "markdown",
   "id": "a893d6d1",
   "metadata": {},
   "source": [
    "#### 10. How many Counties don't have the word \"County\" in their name?"
   ]
  },
  {
   "cell_type": "code",
   "execution_count": null,
   "id": "54fc8189",
   "metadata": {},
   "outputs": [],
   "source": [
    "# Write your code here\n",
    "\n"
   ]
  },
  {
   "cell_type": "markdown",
   "id": "8d9438f6",
   "metadata": {},
   "source": [
    "#### 11. Add a column that calculates the percent change between the 2010 Census and the 2017 Population Estimate"
   ]
  },
  {
   "cell_type": "code",
   "execution_count": null,
   "id": "2177f110",
   "metadata": {},
   "outputs": [],
   "source": [
    "# Write your code here\n",
    "\n"
   ]
  },
  {
   "cell_type": "markdown",
   "id": "fdf36e49",
   "metadata": {},
   "source": [
    "#### 12. What States have the highest estimated percent change between the 2010 Census and the 2017 Population Estimate?\n",
    "\n",
    "**NOTE:** This will take several lines of code, as it requires a recalculation of Percent Change."
   ]
  },
  {
   "cell_type": "code",
   "execution_count": null,
   "id": "3d102190",
   "metadata": {},
   "outputs": [],
   "source": [
    "# Write your code here\n",
    "\n"
   ]
  }
 ],
 "metadata": {
  "kernelspec": {
   "display_name": ".venv",
   "language": "python",
   "name": "python3"
  },
  "language_info": {
   "name": "python",
   "version": "3.12.9"
  }
 },
 "nbformat": 4,
 "nbformat_minor": 5
}
