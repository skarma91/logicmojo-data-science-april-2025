{
 "cells": [
  {
   "cell_type": "markdown",
   "id": "09449a86",
   "metadata": {},
   "source": [
    "# Assignment-3\n",
    "\n",
    "This notebook contains the coding questions to test the proficiency in `Pandas` library in python.\n",
    "\n",
    "### Date: 4th May, 2025\n",
    "\n",
    "### Steps to solve and upload the assignment \n",
    "\n",
    "- Download the notebook in your local machine.\n",
    "- Solve the questions in the notebook and save it.\n",
    "- Rename the file as `Assignment-03-<your_name>_<your_surname>.ipynb`. For example if your name is Dipika Chopra then name the file as `Assignment-03-Dipika_Chopra.ipynb`.\n",
    "- Upload the solved notebook in the google drive location: https://drive.google.com/drive/folders/1gCOcK20aw9a2i3kMK0ccymYIXPqOrqkq?usp=sharing \n",
    "\n",
    "<h3><span style=\"color:red\"> Deadline: 20th May, 2025 </span></h3>"
   ]
  },
  {
   "cell_type": "markdown",
   "id": "dc6b90c7",
   "metadata": {},
   "source": [
    "Use the `population_by_county.csv` file in the folder to complete the tasks.\n",
    "\n",
    "**NOTE: TRY TO DO ALL THE TASKS IN ONE LINE OF PANDAS CODE.**"
   ]
  },
  {
   "cell_type": "code",
   "execution_count": 1,
   "id": "7e086eb8",
   "metadata": {},
   "outputs": [],
   "source": [
    "import pandas as pd"
   ]
  },
  {
   "cell_type": "markdown",
   "id": "791b5343",
   "metadata": {},
   "source": [
    "#### 1. Import pandas and read in the `population_by_county.csv` file into a dataframe called `pop`."
   ]
  },
  {
   "cell_type": "code",
   "execution_count": 2,
   "id": "ac53294a",
   "metadata": {},
   "outputs": [
    {
     "data": {
      "text/html": [
       "<div>\n",
       "<style scoped>\n",
       "    .dataframe tbody tr th:only-of-type {\n",
       "        vertical-align: middle;\n",
       "    }\n",
       "\n",
       "    .dataframe tbody tr th {\n",
       "        vertical-align: top;\n",
       "    }\n",
       "\n",
       "    .dataframe thead th {\n",
       "        text-align: right;\n",
       "    }\n",
       "</style>\n",
       "<table border=\"1\" class=\"dataframe\">\n",
       "  <thead>\n",
       "    <tr style=\"text-align: right;\">\n",
       "      <th></th>\n",
       "      <th>County</th>\n",
       "      <th>State</th>\n",
       "      <th>2010Census</th>\n",
       "      <th>2017PopEstimate</th>\n",
       "    </tr>\n",
       "  </thead>\n",
       "  <tbody>\n",
       "    <tr>\n",
       "      <th>0</th>\n",
       "      <td>Abbeville County</td>\n",
       "      <td>South Carolina</td>\n",
       "      <td>25417</td>\n",
       "      <td>24722</td>\n",
       "    </tr>\n",
       "    <tr>\n",
       "      <th>1</th>\n",
       "      <td>Acadia Parish</td>\n",
       "      <td>Louisiana</td>\n",
       "      <td>61773</td>\n",
       "      <td>62590</td>\n",
       "    </tr>\n",
       "    <tr>\n",
       "      <th>2</th>\n",
       "      <td>Accomack County</td>\n",
       "      <td>Virginia</td>\n",
       "      <td>33164</td>\n",
       "      <td>32545</td>\n",
       "    </tr>\n",
       "    <tr>\n",
       "      <th>3</th>\n",
       "      <td>Ada County</td>\n",
       "      <td>Idaho</td>\n",
       "      <td>392365</td>\n",
       "      <td>456849</td>\n",
       "    </tr>\n",
       "    <tr>\n",
       "      <th>4</th>\n",
       "      <td>Adair County</td>\n",
       "      <td>Iowa</td>\n",
       "      <td>7682</td>\n",
       "      <td>7054</td>\n",
       "    </tr>\n",
       "    <tr>\n",
       "      <th>...</th>\n",
       "      <td>...</td>\n",
       "      <td>...</td>\n",
       "      <td>...</td>\n",
       "      <td>...</td>\n",
       "    </tr>\n",
       "    <tr>\n",
       "      <th>3137</th>\n",
       "      <td>Yuma County</td>\n",
       "      <td>Arizona</td>\n",
       "      <td>195751</td>\n",
       "      <td>207534</td>\n",
       "    </tr>\n",
       "    <tr>\n",
       "      <th>3138</th>\n",
       "      <td>Yuma County</td>\n",
       "      <td>Colorado</td>\n",
       "      <td>10043</td>\n",
       "      <td>10075</td>\n",
       "    </tr>\n",
       "    <tr>\n",
       "      <th>3139</th>\n",
       "      <td>Zapata County</td>\n",
       "      <td>Texas</td>\n",
       "      <td>14018</td>\n",
       "      <td>14322</td>\n",
       "    </tr>\n",
       "    <tr>\n",
       "      <th>3140</th>\n",
       "      <td>Zavala County</td>\n",
       "      <td>Texas</td>\n",
       "      <td>11677</td>\n",
       "      <td>11948</td>\n",
       "    </tr>\n",
       "    <tr>\n",
       "      <th>3141</th>\n",
       "      <td>Ziebach County</td>\n",
       "      <td>South Dakota</td>\n",
       "      <td>2801</td>\n",
       "      <td>2756</td>\n",
       "    </tr>\n",
       "  </tbody>\n",
       "</table>\n",
       "<p>3142 rows × 4 columns</p>\n",
       "</div>"
      ],
      "text/plain": [
       "                County           State  2010Census  2017PopEstimate\n",
       "0     Abbeville County  South Carolina       25417            24722\n",
       "1        Acadia Parish       Louisiana       61773            62590\n",
       "2      Accomack County        Virginia       33164            32545\n",
       "3           Ada County           Idaho      392365           456849\n",
       "4         Adair County            Iowa        7682             7054\n",
       "...                ...             ...         ...              ...\n",
       "3137       Yuma County         Arizona      195751           207534\n",
       "3138       Yuma County        Colorado       10043            10075\n",
       "3139     Zapata County           Texas       14018            14322\n",
       "3140     Zavala County           Texas       11677            11948\n",
       "3141    Ziebach County    South Dakota        2801             2756\n",
       "\n",
       "[3142 rows x 4 columns]"
      ]
     },
     "execution_count": 2,
     "metadata": {},
     "output_type": "execute_result"
    }
   ],
   "source": [
    "# Write your code here\n",
    "\n",
    "pop = pd.read_csv(\"./population_by_county.csv\")\n",
    "\n",
    "pop"
   ]
  },
  {
   "cell_type": "markdown",
   "id": "7c7b1f68",
   "metadata": {},
   "source": [
    "#### 2. Show the head of the dataframe, Also show top 8 rows of the dataframe using head"
   ]
  },
  {
   "cell_type": "code",
   "execution_count": 4,
   "id": "9f407fc5",
   "metadata": {},
   "outputs": [
    {
     "data": {
      "text/html": [
       "<div>\n",
       "<style scoped>\n",
       "    .dataframe tbody tr th:only-of-type {\n",
       "        vertical-align: middle;\n",
       "    }\n",
       "\n",
       "    .dataframe tbody tr th {\n",
       "        vertical-align: top;\n",
       "    }\n",
       "\n",
       "    .dataframe thead th {\n",
       "        text-align: right;\n",
       "    }\n",
       "</style>\n",
       "<table border=\"1\" class=\"dataframe\">\n",
       "  <thead>\n",
       "    <tr style=\"text-align: right;\">\n",
       "      <th></th>\n",
       "      <th>County</th>\n",
       "      <th>State</th>\n",
       "      <th>2010Census</th>\n",
       "      <th>2017PopEstimate</th>\n",
       "    </tr>\n",
       "  </thead>\n",
       "  <tbody>\n",
       "    <tr>\n",
       "      <th>0</th>\n",
       "      <td>Abbeville County</td>\n",
       "      <td>South Carolina</td>\n",
       "      <td>25417</td>\n",
       "      <td>24722</td>\n",
       "    </tr>\n",
       "    <tr>\n",
       "      <th>1</th>\n",
       "      <td>Acadia Parish</td>\n",
       "      <td>Louisiana</td>\n",
       "      <td>61773</td>\n",
       "      <td>62590</td>\n",
       "    </tr>\n",
       "    <tr>\n",
       "      <th>2</th>\n",
       "      <td>Accomack County</td>\n",
       "      <td>Virginia</td>\n",
       "      <td>33164</td>\n",
       "      <td>32545</td>\n",
       "    </tr>\n",
       "    <tr>\n",
       "      <th>3</th>\n",
       "      <td>Ada County</td>\n",
       "      <td>Idaho</td>\n",
       "      <td>392365</td>\n",
       "      <td>456849</td>\n",
       "    </tr>\n",
       "    <tr>\n",
       "      <th>4</th>\n",
       "      <td>Adair County</td>\n",
       "      <td>Iowa</td>\n",
       "      <td>7682</td>\n",
       "      <td>7054</td>\n",
       "    </tr>\n",
       "    <tr>\n",
       "      <th>5</th>\n",
       "      <td>Adair County</td>\n",
       "      <td>Kentucky</td>\n",
       "      <td>18656</td>\n",
       "      <td>19485</td>\n",
       "    </tr>\n",
       "    <tr>\n",
       "      <th>6</th>\n",
       "      <td>Adair County</td>\n",
       "      <td>Missouri</td>\n",
       "      <td>25607</td>\n",
       "      <td>25377</td>\n",
       "    </tr>\n",
       "    <tr>\n",
       "      <th>7</th>\n",
       "      <td>Adair County</td>\n",
       "      <td>Oklahoma</td>\n",
       "      <td>22683</td>\n",
       "      <td>21909</td>\n",
       "    </tr>\n",
       "  </tbody>\n",
       "</table>\n",
       "</div>"
      ],
      "text/plain": [
       "             County           State  2010Census  2017PopEstimate\n",
       "0  Abbeville County  South Carolina       25417            24722\n",
       "1     Acadia Parish       Louisiana       61773            62590\n",
       "2   Accomack County        Virginia       33164            32545\n",
       "3        Ada County           Idaho      392365           456849\n",
       "4      Adair County            Iowa        7682             7054\n",
       "5      Adair County        Kentucky       18656            19485\n",
       "6      Adair County        Missouri       25607            25377\n",
       "7      Adair County        Oklahoma       22683            21909"
      ]
     },
     "execution_count": 4,
     "metadata": {},
     "output_type": "execute_result"
    }
   ],
   "source": [
    "# Write your code here\n",
    "\n",
    "pop.head(8)"
   ]
  },
  {
   "cell_type": "markdown",
   "id": "53bee62b",
   "metadata": {},
   "source": [
    "#### 3. What are the column names?"
   ]
  },
  {
   "cell_type": "code",
   "execution_count": 5,
   "id": "67a4309a",
   "metadata": {},
   "outputs": [
    {
     "data": {
      "text/plain": [
       "Index(['County', 'State', '2010Census', '2017PopEstimate'], dtype='object')"
      ]
     },
     "execution_count": 5,
     "metadata": {},
     "output_type": "execute_result"
    }
   ],
   "source": [
    "# Write your code here\n",
    "\n",
    "pop.columns"
   ]
  },
  {
   "cell_type": "markdown",
   "id": "cd10e795",
   "metadata": {},
   "source": [
    "#### 4. How many States are represented in this data set?  \n",
    "<em>Note: the data includes the `District of Columbia`</em>"
   ]
  },
  {
   "cell_type": "code",
   "execution_count": 6,
   "id": "8eee15e3",
   "metadata": {},
   "outputs": [
    {
     "data": {
      "text/plain": [
       "51"
      ]
     },
     "execution_count": 6,
     "metadata": {},
     "output_type": "execute_result"
    }
   ],
   "source": [
    "# Write your code here\n",
    "\n",
    "pop['State'].nunique()"
   ]
  },
  {
   "cell_type": "markdown",
   "id": "fb592331",
   "metadata": {},
   "source": [
    "#### 5. Get a list or array of all the states in the data set."
   ]
  },
  {
   "cell_type": "code",
   "execution_count": 7,
   "id": "45e4706f",
   "metadata": {},
   "outputs": [
    {
     "data": {
      "text/plain": [
       "array(['South Carolina', 'Louisiana', 'Virginia', 'Idaho', 'Iowa',\n",
       "       'Kentucky', 'Missouri', 'Oklahoma', 'Colorado', 'Illinois',\n",
       "       'Indiana', 'Mississippi', 'Nebraska', 'North Dakota', 'Ohio',\n",
       "       'Pennsylvania', 'Washington', 'Wisconsin', 'Vermont', 'Minnesota',\n",
       "       'Florida', 'North Carolina', 'California', 'New York', 'Wyoming',\n",
       "       'Michigan', 'Alaska', 'Maryland', 'Kansas', 'Tennessee', 'Texas',\n",
       "       'Maine', 'Arizona', 'Georgia', 'Arkansas', 'New Jersey',\n",
       "       'South Dakota', 'Alabama', 'Oregon', 'West Virginia',\n",
       "       'Massachusetts', 'Utah', 'Montana', 'New Hampshire', 'New Mexico',\n",
       "       'Rhode Island', 'Nevada', 'District of Columbia', 'Connecticut',\n",
       "       'Hawaii', 'Delaware'], dtype=object)"
      ]
     },
     "execution_count": 7,
     "metadata": {},
     "output_type": "execute_result"
    }
   ],
   "source": [
    "# Write your code here\n",
    "\n",
    "pop['State'].unique()"
   ]
  },
  {
   "cell_type": "markdown",
   "id": "b2cd09d6",
   "metadata": {},
   "source": [
    "#### 6. What are the five most common County names in the U.S.?"
   ]
  },
  {
   "cell_type": "code",
   "execution_count": 8,
   "id": "340f77c7",
   "metadata": {},
   "outputs": [
    {
     "data": {
      "text/plain": [
       "County\n",
       "Washington County    30\n",
       "Jefferson County     25\n",
       "Franklin County      24\n",
       "Jackson County       23\n",
       "Lincoln County       23\n",
       "Name: count, dtype: int64"
      ]
     },
     "execution_count": 8,
     "metadata": {},
     "output_type": "execute_result"
    }
   ],
   "source": [
    "# Write your code here\n",
    "\n",
    "pop['County'].value_counts().head()"
   ]
  },
  {
   "cell_type": "markdown",
   "id": "8ea0b0fd",
   "metadata": {},
   "source": [
    "#### 7. What are the top 5 most populated Counties according to the 2010 Census?"
   ]
  },
  {
   "cell_type": "code",
   "execution_count": 17,
   "id": "abcbf760",
   "metadata": {},
   "outputs": [
    {
     "data": {
      "text/plain": [
       "0    Los Angeles County\n",
       "1           Cook County\n",
       "2         Harris County\n",
       "3       Maricopa County\n",
       "4      San Diego County\n",
       "Name: County, dtype: object"
      ]
     },
     "execution_count": 17,
     "metadata": {},
     "output_type": "execute_result"
    }
   ],
   "source": [
    "# Write your code here\n",
    "\n",
    "pop.sort_values('2010Census', ascending=False).head().reset_index()['County']"
   ]
  },
  {
   "cell_type": "markdown",
   "id": "eebde689",
   "metadata": {},
   "source": [
    "#### 8. What are the top 5 most populated States according to the 2010 Census?"
   ]
  },
  {
   "cell_type": "code",
   "execution_count": 19,
   "id": "a36522be",
   "metadata": {},
   "outputs": [
    {
     "data": {
      "text/plain": [
       "['California', 'Texas', 'New York', 'Florida', 'Illinois']"
      ]
     },
     "execution_count": 19,
     "metadata": {},
     "output_type": "execute_result"
    }
   ],
   "source": [
    "# Write your code here\n",
    "\n",
    "pop[['State','2010Census']].groupby('State').sum().sort_values('2010Census', ascending=False).head().index.to_list()"
   ]
  },
  {
   "cell_type": "markdown",
   "id": "d31fdb1f",
   "metadata": {},
   "source": [
    "#### 9. How many Counties have 2010 populations greater than 1 million?"
   ]
  },
  {
   "cell_type": "code",
   "execution_count": 12,
   "id": "1f56d38d",
   "metadata": {},
   "outputs": [
    {
     "data": {
      "text/plain": [
       "39"
      ]
     },
     "execution_count": 12,
     "metadata": {},
     "output_type": "execute_result"
    }
   ],
   "source": [
    "# Write your code here\n",
    "\n",
    "sum(pop['2010Census']>1000000)"
   ]
  },
  {
   "cell_type": "markdown",
   "id": "a893d6d1",
   "metadata": {},
   "source": [
    "#### 10. How many Counties don't have the word \"County\" in their name?"
   ]
  },
  {
   "cell_type": "code",
   "execution_count": 13,
   "id": "54fc8189",
   "metadata": {},
   "outputs": [
    {
     "data": {
      "text/plain": [
       "135"
      ]
     },
     "execution_count": 13,
     "metadata": {},
     "output_type": "execute_result"
    }
   ],
   "source": [
    "# Write your code here\n",
    "\n",
    "sum(pop['County'].apply(lambda name: 'County' not in name))"
   ]
  },
  {
   "cell_type": "markdown",
   "id": "8d9438f6",
   "metadata": {},
   "source": [
    "#### 11. Add a column that calculates the percent change between the 2010 Census and the 2017 Population Estimate"
   ]
  },
  {
   "cell_type": "code",
   "execution_count": 14,
   "id": "2177f110",
   "metadata": {},
   "outputs": [
    {
     "data": {
      "text/html": [
       "<div>\n",
       "<style scoped>\n",
       "    .dataframe tbody tr th:only-of-type {\n",
       "        vertical-align: middle;\n",
       "    }\n",
       "\n",
       "    .dataframe tbody tr th {\n",
       "        vertical-align: top;\n",
       "    }\n",
       "\n",
       "    .dataframe thead th {\n",
       "        text-align: right;\n",
       "    }\n",
       "</style>\n",
       "<table border=\"1\" class=\"dataframe\">\n",
       "  <thead>\n",
       "    <tr style=\"text-align: right;\">\n",
       "      <th></th>\n",
       "      <th>County</th>\n",
       "      <th>State</th>\n",
       "      <th>2010Census</th>\n",
       "      <th>2017PopEstimate</th>\n",
       "      <th>PercentChange</th>\n",
       "    </tr>\n",
       "  </thead>\n",
       "  <tbody>\n",
       "    <tr>\n",
       "      <th>0</th>\n",
       "      <td>Abbeville County</td>\n",
       "      <td>South Carolina</td>\n",
       "      <td>25417</td>\n",
       "      <td>24722</td>\n",
       "      <td>-2.734390</td>\n",
       "    </tr>\n",
       "    <tr>\n",
       "      <th>1</th>\n",
       "      <td>Acadia Parish</td>\n",
       "      <td>Louisiana</td>\n",
       "      <td>61773</td>\n",
       "      <td>62590</td>\n",
       "      <td>1.322584</td>\n",
       "    </tr>\n",
       "    <tr>\n",
       "      <th>2</th>\n",
       "      <td>Accomack County</td>\n",
       "      <td>Virginia</td>\n",
       "      <td>33164</td>\n",
       "      <td>32545</td>\n",
       "      <td>-1.866482</td>\n",
       "    </tr>\n",
       "    <tr>\n",
       "      <th>3</th>\n",
       "      <td>Ada County</td>\n",
       "      <td>Idaho</td>\n",
       "      <td>392365</td>\n",
       "      <td>456849</td>\n",
       "      <td>16.434697</td>\n",
       "    </tr>\n",
       "    <tr>\n",
       "      <th>4</th>\n",
       "      <td>Adair County</td>\n",
       "      <td>Iowa</td>\n",
       "      <td>7682</td>\n",
       "      <td>7054</td>\n",
       "      <td>-8.174954</td>\n",
       "    </tr>\n",
       "  </tbody>\n",
       "</table>\n",
       "</div>"
      ],
      "text/plain": [
       "             County           State  2010Census  2017PopEstimate  \\\n",
       "0  Abbeville County  South Carolina       25417            24722   \n",
       "1     Acadia Parish       Louisiana       61773            62590   \n",
       "2   Accomack County        Virginia       33164            32545   \n",
       "3        Ada County           Idaho      392365           456849   \n",
       "4      Adair County            Iowa        7682             7054   \n",
       "\n",
       "   PercentChange  \n",
       "0      -2.734390  \n",
       "1       1.322584  \n",
       "2      -1.866482  \n",
       "3      16.434697  \n",
       "4      -8.174954  "
      ]
     },
     "execution_count": 14,
     "metadata": {},
     "output_type": "execute_result"
    }
   ],
   "source": [
    "# Write your code here\n",
    "\n",
    "pop['PercentChange'] = 100*(pop['2017PopEstimate']-pop['2010Census'])/pop['2010Census']\n",
    "pop.head()"
   ]
  },
  {
   "cell_type": "markdown",
   "id": "fdf36e49",
   "metadata": {},
   "source": [
    "#### 12. What States have the highest estimated percent change between the 2010 Census and the 2017 Population Estimate?\n",
    "\n",
    "**NOTE:** This will take several lines of code, as it requires a recalculation of Percent Change."
   ]
  },
  {
   "cell_type": "code",
   "execution_count": 20,
   "id": "3d102190",
   "metadata": {},
   "outputs": [
    {
     "data": {
      "text/html": [
       "<div>\n",
       "<style scoped>\n",
       "    .dataframe tbody tr th:only-of-type {\n",
       "        vertical-align: middle;\n",
       "    }\n",
       "\n",
       "    .dataframe tbody tr th {\n",
       "        vertical-align: top;\n",
       "    }\n",
       "\n",
       "    .dataframe thead th {\n",
       "        text-align: right;\n",
       "    }\n",
       "</style>\n",
       "<table border=\"1\" class=\"dataframe\">\n",
       "  <thead>\n",
       "    <tr style=\"text-align: right;\">\n",
       "      <th></th>\n",
       "      <th>2010Census</th>\n",
       "      <th>2017PopEstimate</th>\n",
       "      <th>PercentChange</th>\n",
       "    </tr>\n",
       "    <tr>\n",
       "      <th>State</th>\n",
       "      <th></th>\n",
       "      <th></th>\n",
       "      <th></th>\n",
       "    </tr>\n",
       "  </thead>\n",
       "  <tbody>\n",
       "    <tr>\n",
       "      <th>District of Columbia</th>\n",
       "      <td>601723</td>\n",
       "      <td>693972</td>\n",
       "      <td>15.330808</td>\n",
       "    </tr>\n",
       "    <tr>\n",
       "      <th>Texas</th>\n",
       "      <td>25145561</td>\n",
       "      <td>28304596</td>\n",
       "      <td>12.562993</td>\n",
       "    </tr>\n",
       "    <tr>\n",
       "      <th>North Dakota</th>\n",
       "      <td>672591</td>\n",
       "      <td>755393</td>\n",
       "      <td>12.310899</td>\n",
       "    </tr>\n",
       "    <tr>\n",
       "      <th>Utah</th>\n",
       "      <td>2763885</td>\n",
       "      <td>3101833</td>\n",
       "      <td>12.227282</td>\n",
       "    </tr>\n",
       "    <tr>\n",
       "      <th>Florida</th>\n",
       "      <td>18801310</td>\n",
       "      <td>20984400</td>\n",
       "      <td>11.611372</td>\n",
       "    </tr>\n",
       "  </tbody>\n",
       "</table>\n",
       "</div>"
      ],
      "text/plain": [
       "                      2010Census  2017PopEstimate  PercentChange\n",
       "State                                                           \n",
       "District of Columbia      601723           693972      15.330808\n",
       "Texas                   25145561         28304596      12.562993\n",
       "North Dakota              672591           755393      12.310899\n",
       "Utah                     2763885          3101833      12.227282\n",
       "Florida                 18801310         20984400      11.611372"
      ]
     },
     "execution_count": 20,
     "metadata": {},
     "output_type": "execute_result"
    }
   ],
   "source": [
    "# Write your code here\n",
    "\n",
    "pop2 = pd.DataFrame(pop.drop(['County'], axis=1).groupby('State').sum())\n",
    "pop2['PercentChange'] = 100*(pop2['2017PopEstimate']-pop2['2010Census'])/pop2['2010Census']\n",
    "pop2.sort_values('PercentChange', ascending=False).head()"
   ]
  },
  {
   "cell_type": "code",
   "execution_count": null,
   "id": "c7153044",
   "metadata": {},
   "outputs": [],
   "source": []
  }
 ],
 "metadata": {
  "kernelspec": {
   "display_name": ".venv",
   "language": "python",
   "name": "python3"
  },
  "language_info": {
   "codemirror_mode": {
    "name": "ipython",
    "version": 3
   },
   "file_extension": ".py",
   "mimetype": "text/x-python",
   "name": "python",
   "nbconvert_exporter": "python",
   "pygments_lexer": "ipython3",
   "version": "3.12.9"
  }
 },
 "nbformat": 4,
 "nbformat_minor": 5
}
