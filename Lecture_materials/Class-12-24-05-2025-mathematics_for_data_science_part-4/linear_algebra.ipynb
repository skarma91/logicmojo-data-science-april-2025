{
 "cells": [
  {
   "cell_type": "markdown",
   "id": "9a17cb6e",
   "metadata": {},
   "source": [
    "## Linear Algebra with numpy"
   ]
  },
  {
   "cell_type": "code",
   "execution_count": 2,
   "id": "44b25d04",
   "metadata": {},
   "outputs": [],
   "source": [
    "import numpy as np"
   ]
  },
  {
   "cell_type": "code",
   "execution_count": 3,
   "id": "8b496771",
   "metadata": {},
   "outputs": [],
   "source": [
    "A = np.matrix([[5, 6, 2],\n",
    "               [4, 7, 9],\n",
    "               [0, 3, 12]])"
   ]
  },
  {
   "cell_type": "code",
   "execution_count": 7,
   "id": "be1b7d49",
   "metadata": {},
   "outputs": [
    {
     "data": {
      "text/plain": [
       "matrix([[ 5,  6,  2],\n",
       "        [ 4,  7,  9],\n",
       "        [ 0,  3, 12]])"
      ]
     },
     "execution_count": 7,
     "metadata": {},
     "output_type": "execute_result"
    }
   ],
   "source": [
    "A"
   ]
  },
  {
   "cell_type": "code",
   "execution_count": 5,
   "id": "7e477e3c",
   "metadata": {},
   "outputs": [
    {
     "data": {
      "text/plain": [
       "numpy.matrix"
      ]
     },
     "execution_count": 5,
     "metadata": {},
     "output_type": "execute_result"
    }
   ],
   "source": [
    "type(A)"
   ]
  },
  {
   "cell_type": "code",
   "execution_count": 6,
   "id": "a96522e8",
   "metadata": {},
   "outputs": [
    {
     "data": {
      "text/plain": [
       "array([[14, -2, 12],\n",
       "       [ 4,  4,  5],\n",
       "       [ 5,  2,  1]])"
      ]
     },
     "execution_count": 6,
     "metadata": {},
     "output_type": "execute_result"
    }
   ],
   "source": [
    "B = np.array([[14, -2, 12], [4, 4, 5], [5, 2, 1]])\n",
    "\n",
    "B"
   ]
  },
  {
   "cell_type": "code",
   "execution_count": 8,
   "id": "36ae0bb2",
   "metadata": {},
   "outputs": [
    {
     "data": {
      "text/plain": [
       "numpy.ndarray"
      ]
     },
     "execution_count": 8,
     "metadata": {},
     "output_type": "execute_result"
    }
   ],
   "source": [
    "type(B)"
   ]
  },
  {
   "cell_type": "markdown",
   "id": "4e20c257",
   "metadata": {},
   "source": [
    "### Identity matrix"
   ]
  },
  {
   "cell_type": "code",
   "execution_count": 21,
   "id": "f72e12e5",
   "metadata": {},
   "outputs": [
    {
     "data": {
      "text/plain": [
       "array([[1., 0., 0., 0.],\n",
       "       [0., 1., 0., 0.],\n",
       "       [0., 0., 1., 0.],\n",
       "       [0., 0., 0., 1.]])"
      ]
     },
     "execution_count": 21,
     "metadata": {},
     "output_type": "execute_result"
    }
   ],
   "source": [
    "np.identity(4)"
   ]
  },
  {
   "cell_type": "code",
   "execution_count": 22,
   "id": "108ae865",
   "metadata": {},
   "outputs": [
    {
     "data": {
      "text/plain": [
       "array([[1., 0., 0., 0., 0., 0.],\n",
       "       [0., 1., 0., 0., 0., 0.],\n",
       "       [0., 0., 1., 0., 0., 0.],\n",
       "       [0., 0., 0., 1., 0., 0.],\n",
       "       [0., 0., 0., 0., 1., 0.],\n",
       "       [0., 0., 0., 0., 0., 1.]])"
      ]
     },
     "execution_count": 22,
     "metadata": {},
     "output_type": "execute_result"
    }
   ],
   "source": [
    "np.identity(6)"
   ]
  },
  {
   "cell_type": "code",
   "execution_count": null,
   "id": "2a369dc3",
   "metadata": {},
   "outputs": [
    {
     "data": {
      "text/plain": [
       "array([[1., 0., 0., 0., 0.],\n",
       "       [0., 1., 0., 0., 0.],\n",
       "       [0., 0., 1., 0., 0.],\n",
       "       [0., 0., 0., 1., 0.],\n",
       "       [0., 0., 0., 0., 1.]])"
      ]
     },
     "execution_count": 23,
     "metadata": {},
     "output_type": "execute_result"
    }
   ],
   "source": [
    "np.eye(5)  # np.eye() is an alias to np.identity"
   ]
  },
  {
   "cell_type": "markdown",
   "id": "36d3b077",
   "metadata": {},
   "source": [
    "### Transpose"
   ]
  },
  {
   "cell_type": "code",
   "execution_count": 9,
   "id": "0ae01813",
   "metadata": {},
   "outputs": [
    {
     "data": {
      "text/plain": [
       "array([[14,  4,  5],\n",
       "       [-2,  4,  2],\n",
       "       [12,  5,  1]])"
      ]
     },
     "execution_count": 9,
     "metadata": {},
     "output_type": "execute_result"
    }
   ],
   "source": [
    "B.T"
   ]
  },
  {
   "cell_type": "code",
   "execution_count": 10,
   "id": "1dd22789",
   "metadata": {},
   "outputs": [
    {
     "data": {
      "text/plain": [
       "matrix([[ 5,  4,  0],\n",
       "        [ 6,  7,  3],\n",
       "        [ 2,  9, 12]])"
      ]
     },
     "execution_count": 10,
     "metadata": {},
     "output_type": "execute_result"
    }
   ],
   "source": [
    "A.T"
   ]
  },
  {
   "cell_type": "markdown",
   "id": "bc967977",
   "metadata": {},
   "source": [
    "### Addition"
   ]
  },
  {
   "cell_type": "code",
   "execution_count": 11,
   "id": "3fa3179d",
   "metadata": {},
   "outputs": [
    {
     "data": {
      "text/plain": [
       "matrix([[19,  4, 14],\n",
       "        [ 8, 11, 14],\n",
       "        [ 5,  5, 13]])"
      ]
     },
     "execution_count": 11,
     "metadata": {},
     "output_type": "execute_result"
    }
   ],
   "source": [
    "A + B"
   ]
  },
  {
   "cell_type": "code",
   "execution_count": 12,
   "id": "1af5b194",
   "metadata": {},
   "outputs": [
    {
     "data": {
      "text/plain": [
       "matrix([[ -9,   8, -10],\n",
       "        [  0,   3,   4],\n",
       "        [ -5,   1,  11]])"
      ]
     },
     "execution_count": 12,
     "metadata": {},
     "output_type": "execute_result"
    }
   ],
   "source": [
    "A - B"
   ]
  },
  {
   "cell_type": "markdown",
   "id": "7f678875",
   "metadata": {},
   "source": [
    "### Scalar multiplication"
   ]
  },
  {
   "cell_type": "code",
   "execution_count": 14,
   "id": "e0d97465",
   "metadata": {},
   "outputs": [
    {
     "data": {
      "text/plain": [
       "matrix([[ 5,  6,  2],\n",
       "        [ 4,  7,  9],\n",
       "        [ 0,  3, 12]])"
      ]
     },
     "execution_count": 14,
     "metadata": {},
     "output_type": "execute_result"
    }
   ],
   "source": [
    "A"
   ]
  },
  {
   "cell_type": "code",
   "execution_count": 13,
   "id": "b99a1399",
   "metadata": {},
   "outputs": [
    {
     "data": {
      "text/plain": [
       "matrix([[17.5, 21. ,  7. ],\n",
       "        [14. , 24.5, 31.5],\n",
       "        [ 0. , 10.5, 42. ]])"
      ]
     },
     "execution_count": 13,
     "metadata": {},
     "output_type": "execute_result"
    }
   ],
   "source": [
    "k = 3.5\n",
    "\n",
    "k * A"
   ]
  },
  {
   "cell_type": "code",
   "execution_count": 16,
   "id": "a3d6b324",
   "metadata": {},
   "outputs": [
    {
     "data": {
      "text/plain": [
       "array([[14, -2, 12],\n",
       "       [ 4,  4,  5],\n",
       "       [ 5,  2,  1]])"
      ]
     },
     "execution_count": 16,
     "metadata": {},
     "output_type": "execute_result"
    }
   ],
   "source": [
    "B"
   ]
  },
  {
   "cell_type": "code",
   "execution_count": null,
   "id": "97d9d16d",
   "metadata": {},
   "outputs": [
    {
     "data": {
      "text/plain": [
       "array([[ 4.        , -0.57142857,  3.42857143],\n",
       "       [ 1.14285714,  1.14285714,  1.42857143],\n",
       "       [ 1.42857143,  0.57142857,  0.28571429]])"
      ]
     },
     "execution_count": 15,
     "metadata": {},
     "output_type": "execute_result"
    }
   ],
   "source": [
    "B/k  # if k != 0"
   ]
  },
  {
   "cell_type": "markdown",
   "id": "4e9fd463",
   "metadata": {},
   "source": [
    "### Element wise multiplication (Hadamard product)"
   ]
  },
  {
   "cell_type": "code",
   "execution_count": null,
   "id": "70c1bfb3",
   "metadata": {},
   "outputs": [
    {
     "data": {
      "text/plain": [
       "matrix([[ 70, -12,  24],\n",
       "        [ 16,  28,  45],\n",
       "        [  0,   6,  12]])"
      ]
     },
     "execution_count": 17,
     "metadata": {},
     "output_type": "execute_result"
    }
   ],
   "source": [
    "np.multiply(A, B)   # element-wise multiplication"
   ]
  },
  {
   "cell_type": "code",
   "execution_count": 18,
   "id": "fdaa7ea2",
   "metadata": {},
   "outputs": [
    {
     "data": {
      "text/plain": [
       "matrix([[ 5,  6,  2],\n",
       "        [ 4,  7,  9],\n",
       "        [ 0,  3, 12]])"
      ]
     },
     "execution_count": 18,
     "metadata": {},
     "output_type": "execute_result"
    }
   ],
   "source": [
    "A"
   ]
  },
  {
   "cell_type": "code",
   "execution_count": 19,
   "id": "9ad88461",
   "metadata": {},
   "outputs": [
    {
     "data": {
      "text/plain": [
       "array([[14, -2, 12],\n",
       "       [ 4,  4,  5],\n",
       "       [ 5,  2,  1]])"
      ]
     },
     "execution_count": 19,
     "metadata": {},
     "output_type": "execute_result"
    }
   ],
   "source": [
    "B"
   ]
  },
  {
   "cell_type": "code",
   "execution_count": null,
   "id": "147c81ce",
   "metadata": {},
   "outputs": [
    {
     "data": {
      "text/plain": [
       "matrix([[104,  18,  92],\n",
       "        [129,  38,  92],\n",
       "        [ 72,  36,  27]])"
      ]
     },
     "execution_count": 20,
     "metadata": {},
     "output_type": "execute_result"
    }
   ],
   "source": [
    "A * B   # this is not element-wise multiplication"
   ]
  },
  {
   "cell_type": "markdown",
   "id": "31251473",
   "metadata": {},
   "source": [
    "### Vector - Matrix multiplication\n",
    "\n",
    "#### Post - multiplication "
   ]
  },
  {
   "cell_type": "code",
   "execution_count": 24,
   "id": "29a9ed7d",
   "metadata": {},
   "outputs": [
    {
     "data": {
      "text/plain": [
       "(3,)"
      ]
     },
     "execution_count": 24,
     "metadata": {},
     "output_type": "execute_result"
    }
   ],
   "source": [
    "v = np.array([1, 2, 3])\n",
    "\n",
    "v.shape"
   ]
  },
  {
   "cell_type": "code",
   "execution_count": 27,
   "id": "2d470799",
   "metadata": {},
   "outputs": [],
   "source": [
    "M = np.matrix([[5, -1], [6, 2], [7, 3]])"
   ]
  },
  {
   "cell_type": "code",
   "execution_count": 29,
   "id": "99d3a722",
   "metadata": {},
   "outputs": [],
   "source": [
    "C = v * M"
   ]
  },
  {
   "cell_type": "code",
   "execution_count": 30,
   "id": "d463e677",
   "metadata": {},
   "outputs": [
    {
     "data": {
      "text/plain": [
       "(1, 2)"
      ]
     },
     "execution_count": 30,
     "metadata": {},
     "output_type": "execute_result"
    }
   ],
   "source": [
    "C.shape"
   ]
  },
  {
   "cell_type": "code",
   "execution_count": 33,
   "id": "dee1bfcb",
   "metadata": {},
   "outputs": [
    {
     "data": {
      "text/plain": [
       "numpy.matrix"
      ]
     },
     "execution_count": 33,
     "metadata": {},
     "output_type": "execute_result"
    }
   ],
   "source": [
    "type(C)"
   ]
  },
  {
   "cell_type": "code",
   "execution_count": 31,
   "id": "66447b1b",
   "metadata": {},
   "outputs": [
    {
     "data": {
      "text/plain": [
       "matrix([[38, 12]])"
      ]
     },
     "execution_count": 31,
     "metadata": {},
     "output_type": "execute_result"
    }
   ],
   "source": [
    "np.dot(v, M)"
   ]
  },
  {
   "cell_type": "code",
   "execution_count": 32,
   "id": "c133a893",
   "metadata": {},
   "outputs": [
    {
     "data": {
      "text/plain": [
       "matrix([[38, 12]])"
      ]
     },
     "execution_count": 32,
     "metadata": {},
     "output_type": "execute_result"
    }
   ],
   "source": [
    "v @ M"
   ]
  },
  {
   "cell_type": "markdown",
   "id": "8370ad01",
   "metadata": {},
   "source": [
    "### Pre-multiplication"
   ]
  },
  {
   "cell_type": "code",
   "execution_count": 34,
   "id": "003b0137",
   "metadata": {},
   "outputs": [
    {
     "data": {
      "text/plain": [
       "(2, 4)"
      ]
     },
     "execution_count": 34,
     "metadata": {},
     "output_type": "execute_result"
    }
   ],
   "source": [
    "M = np.matrix([[2, 3, 0, -1],[6, 7, -2, 1]])\n",
    "\n",
    "M.shape"
   ]
  },
  {
   "cell_type": "code",
   "execution_count": 35,
   "id": "de3b40f9",
   "metadata": {},
   "outputs": [],
   "source": [
    "v = np.array([0.5, 1, -1, 0])"
   ]
  },
  {
   "cell_type": "code",
   "execution_count": 38,
   "id": "febc3291",
   "metadata": {},
   "outputs": [
    {
     "data": {
      "text/plain": [
       "matrix([[ 4., 12.]])"
      ]
     },
     "execution_count": 38,
     "metadata": {},
     "output_type": "execute_result"
    }
   ],
   "source": [
    "np.dot(M, v)"
   ]
  },
  {
   "cell_type": "code",
   "execution_count": 39,
   "id": "9b929a17",
   "metadata": {},
   "outputs": [
    {
     "data": {
      "text/plain": [
       "matrix([[ 4., 12.]])"
      ]
     },
     "execution_count": 39,
     "metadata": {},
     "output_type": "execute_result"
    }
   ],
   "source": [
    "M @ v"
   ]
  },
  {
   "cell_type": "code",
   "execution_count": 43,
   "id": "4d9f225b",
   "metadata": {},
   "outputs": [
    {
     "data": {
      "text/plain": [
       "np.float64(-0.5)"
      ]
     },
     "execution_count": 43,
     "metadata": {},
     "output_type": "execute_result"
    }
   ],
   "source": [
    "w = np.array([1, 2, 3, 4])\n",
    "\n",
    "np.dot(v, w)"
   ]
  },
  {
   "cell_type": "markdown",
   "id": "a94c3b95",
   "metadata": {},
   "source": [
    "### Determinant value of a square matrix"
   ]
  },
  {
   "cell_type": "code",
   "execution_count": 45,
   "id": "2fd968d8",
   "metadata": {},
   "outputs": [
    {
     "name": "stdout",
     "output_type": "stream",
     "text": [
      "[[ 2  4  5]\n",
      " [ 3  2  1]\n",
      " [ 1  5 -2]]\n"
     ]
    }
   ],
   "source": [
    "mat = np.matrix([[2, 4, 5], [3, 2, 1], [1, 5, -2]])\n",
    "\n",
    "print(mat)"
   ]
  },
  {
   "cell_type": "code",
   "execution_count": 46,
   "id": "9d0a0aef",
   "metadata": {},
   "outputs": [
    {
     "data": {
      "text/plain": [
       "np.float64(74.99999999999997)"
      ]
     },
     "execution_count": 46,
     "metadata": {},
     "output_type": "execute_result"
    }
   ],
   "source": [
    "np.linalg.det(mat)"
   ]
  },
  {
   "cell_type": "markdown",
   "id": "11dce53c",
   "metadata": {},
   "source": [
    "### Eigen values and Eigen vectors"
   ]
  },
  {
   "cell_type": "code",
   "execution_count": 47,
   "id": "1b5285f0",
   "metadata": {},
   "outputs": [],
   "source": [
    "A = np.matrix([[4, -1],[2, 1]])"
   ]
  },
  {
   "cell_type": "code",
   "execution_count": 48,
   "id": "23c0dde8",
   "metadata": {},
   "outputs": [
    {
     "data": {
      "text/plain": [
       "np.float64(6.0)"
      ]
     },
     "execution_count": 48,
     "metadata": {},
     "output_type": "execute_result"
    }
   ],
   "source": [
    "np.linalg.det(A)"
   ]
  },
  {
   "cell_type": "code",
   "execution_count": 49,
   "id": "723296b7",
   "metadata": {},
   "outputs": [
    {
     "data": {
      "text/plain": [
       "EigResult(eigenvalues=array([3., 2.]), eigenvectors=matrix([[0.70710678, 0.4472136 ],\n",
       "        [0.70710678, 0.89442719]]))"
      ]
     },
     "execution_count": 49,
     "metadata": {},
     "output_type": "execute_result"
    }
   ],
   "source": [
    "np.linalg.eig(A)"
   ]
  },
  {
   "cell_type": "code",
   "execution_count": 50,
   "id": "252c9d2e",
   "metadata": {},
   "outputs": [],
   "source": [
    "v, B = np.linalg.eig(A)"
   ]
  },
  {
   "cell_type": "code",
   "execution_count": 51,
   "id": "976dcc8d",
   "metadata": {},
   "outputs": [
    {
     "data": {
      "text/plain": [
       "array([3., 2.])"
      ]
     },
     "execution_count": 51,
     "metadata": {},
     "output_type": "execute_result"
    }
   ],
   "source": [
    "v"
   ]
  },
  {
   "cell_type": "code",
   "execution_count": 52,
   "id": "73606f7e",
   "metadata": {},
   "outputs": [
    {
     "data": {
      "text/plain": [
       "matrix([[0.70710678, 0.4472136 ],\n",
       "        [0.70710678, 0.89442719]])"
      ]
     },
     "execution_count": 52,
     "metadata": {},
     "output_type": "execute_result"
    }
   ],
   "source": [
    "B"
   ]
  },
  {
   "cell_type": "code",
   "execution_count": 55,
   "id": "74b5abfe",
   "metadata": {},
   "outputs": [],
   "source": [
    "v, B = np.linalg.eig(mat)"
   ]
  },
  {
   "cell_type": "code",
   "execution_count": 59,
   "id": "0e73955c",
   "metadata": {},
   "outputs": [
    {
     "name": "stdout",
     "output_type": "stream",
     "text": [
      "[ 7.12577876+0.j         -2.56288938+1.98916149j -2.56288938-1.98916149j]\n"
     ]
    }
   ],
   "source": [
    "print(v)"
   ]
  },
  {
   "cell_type": "code",
   "execution_count": 58,
   "id": "e93a30e9",
   "metadata": {},
   "outputs": [
    {
     "name": "stdout",
     "output_type": "stream",
     "text": [
      "[[ 0.76844087+0.j         -0.70202669+0.j         -0.70202669-0.j        ]\n",
      " [ 0.52197261+0.j          0.27371705+0.2189159j   0.27371705-0.2189159j ]\n",
      " [ 0.37019349+0.j          0.42168038-0.45442161j  0.42168038+0.45442161j]]\n"
     ]
    }
   ],
   "source": [
    "print(B)"
   ]
  },
  {
   "cell_type": "markdown",
   "id": "535ca180",
   "metadata": {},
   "source": [
    "### Matix - Matrix multiplication"
   ]
  },
  {
   "cell_type": "code",
   "execution_count": 60,
   "id": "1904e1e7",
   "metadata": {},
   "outputs": [],
   "source": [
    "A = np.matrix([[2, 3, 4, 5], [6, 7, 8, 9], [1, -1, 2, 3]])\n",
    "\n",
    "B = np.matrix([[1, 3], [-1, 0], [0, -2], [2, 1]])"
   ]
  },
  {
   "cell_type": "code",
   "execution_count": 61,
   "id": "fdba58dd",
   "metadata": {},
   "outputs": [
    {
     "data": {
      "text/plain": [
       "matrix([[ 9,  3],\n",
       "        [17, 11],\n",
       "        [ 8,  2]])"
      ]
     },
     "execution_count": 61,
     "metadata": {},
     "output_type": "execute_result"
    }
   ],
   "source": [
    "np.dot(A, B)"
   ]
  },
  {
   "cell_type": "code",
   "execution_count": 62,
   "id": "c975d604",
   "metadata": {},
   "outputs": [
    {
     "ename": "ValueError",
     "evalue": "shapes (4,2) and (3,4) not aligned: 2 (dim 1) != 3 (dim 0)",
     "output_type": "error",
     "traceback": [
      "\u001b[31m---------------------------------------------------------------------------\u001b[39m",
      "\u001b[31mValueError\u001b[39m                                Traceback (most recent call last)",
      "\u001b[36mCell\u001b[39m\u001b[36m \u001b[39m\u001b[32mIn[62]\u001b[39m\u001b[32m, line 1\u001b[39m\n\u001b[32m----> \u001b[39m\u001b[32m1\u001b[39m \u001b[43mnp\u001b[49m\u001b[43m.\u001b[49m\u001b[43mdot\u001b[49m\u001b[43m(\u001b[49m\u001b[43mB\u001b[49m\u001b[43m,\u001b[49m\u001b[43m \u001b[49m\u001b[43mA\u001b[49m\u001b[43m)\u001b[49m\n",
      "\u001b[31mValueError\u001b[39m: shapes (4,2) and (3,4) not aligned: 2 (dim 1) != 3 (dim 0)"
     ]
    }
   ],
   "source": [
    "np.dot(B, A)"
   ]
  },
  {
   "cell_type": "markdown",
   "id": "12042937",
   "metadata": {},
   "source": [
    "### [Cayley-Hamilton's theorem](https://en.wikipedia.org/wiki/Cayley%E2%80%93Hamilton_theorem#:~:text=In%20linear%20algebra%2C%20the%20Cayley,satisfies%20its%20own%20characteristic%20equation.)"
   ]
  },
  {
   "cell_type": "code",
   "execution_count": 63,
   "id": "c29341a1",
   "metadata": {},
   "outputs": [],
   "source": [
    "A = np.matrix([[4, -1],[2, 1]])"
   ]
  },
  {
   "cell_type": "code",
   "execution_count": 64,
   "id": "a442d3bb",
   "metadata": {},
   "outputs": [
    {
     "data": {
      "text/plain": [
       "matrix([[0., 0.],\n",
       "        [0., 0.]])"
      ]
     },
     "execution_count": 64,
     "metadata": {},
     "output_type": "execute_result"
    }
   ],
   "source": [
    "np.dot(A,A) - np.multiply(5, A) + np.multiply(6, np.eye(2))"
   ]
  },
  {
   "cell_type": "markdown",
   "id": "a694271e",
   "metadata": {},
   "source": [
    "### Inverse of a matrix"
   ]
  },
  {
   "cell_type": "code",
   "execution_count": 65,
   "id": "87ccc4f8",
   "metadata": {},
   "outputs": [
    {
     "data": {
      "text/plain": [
       "matrix([[ 4, -1],\n",
       "        [ 2,  1]])"
      ]
     },
     "execution_count": 65,
     "metadata": {},
     "output_type": "execute_result"
    }
   ],
   "source": [
    "A"
   ]
  },
  {
   "cell_type": "code",
   "execution_count": 66,
   "id": "aa8bd873",
   "metadata": {},
   "outputs": [
    {
     "data": {
      "text/plain": [
       "np.float64(6.0)"
      ]
     },
     "execution_count": 66,
     "metadata": {},
     "output_type": "execute_result"
    }
   ],
   "source": [
    "np.linalg.det(A)"
   ]
  },
  {
   "cell_type": "code",
   "execution_count": 67,
   "id": "10b71078",
   "metadata": {},
   "outputs": [],
   "source": [
    "B = np.linalg.inv(A)"
   ]
  },
  {
   "cell_type": "code",
   "execution_count": 68,
   "id": "48d7cec5",
   "metadata": {},
   "outputs": [
    {
     "data": {
      "text/plain": [
       "matrix([[ 0.16666667,  0.16666667],\n",
       "        [-0.33333333,  0.66666667]])"
      ]
     },
     "execution_count": 68,
     "metadata": {},
     "output_type": "execute_result"
    }
   ],
   "source": [
    "B"
   ]
  },
  {
   "cell_type": "code",
   "execution_count": 69,
   "id": "55ba0efa",
   "metadata": {},
   "outputs": [
    {
     "data": {
      "text/plain": [
       "matrix([[1.00000000e+00, 0.00000000e+00],\n",
       "        [5.55111512e-17, 1.00000000e+00]])"
      ]
     },
     "execution_count": 69,
     "metadata": {},
     "output_type": "execute_result"
    }
   ],
   "source": [
    "np.dot(A, B)"
   ]
  },
  {
   "cell_type": "code",
   "execution_count": 71,
   "id": "dcef043e",
   "metadata": {},
   "outputs": [
    {
     "data": {
      "text/plain": [
       "array([[ 1., -0.],\n",
       "       [ 0.,  1.]])"
      ]
     },
     "execution_count": 71,
     "metadata": {},
     "output_type": "execute_result"
    }
   ],
   "source": [
    "np.round(np.dot(B, A), 2)"
   ]
  },
  {
   "cell_type": "code",
   "execution_count": 72,
   "id": "eb4f8aa3",
   "metadata": {},
   "outputs": [
    {
     "data": {
      "text/plain": [
       "np.float64(0.16666666666666669)"
      ]
     },
     "execution_count": 72,
     "metadata": {},
     "output_type": "execute_result"
    }
   ],
   "source": [
    "np.linalg.det(B)"
   ]
  },
  {
   "cell_type": "code",
   "execution_count": null,
   "id": "ce2c6ff9",
   "metadata": {},
   "outputs": [],
   "source": []
  }
 ],
 "metadata": {
  "kernelspec": {
   "display_name": ".venv",
   "language": "python",
   "name": "python3"
  },
  "language_info": {
   "codemirror_mode": {
    "name": "ipython",
    "version": 3
   },
   "file_extension": ".py",
   "mimetype": "text/x-python",
   "name": "python",
   "nbconvert_exporter": "python",
   "pygments_lexer": "ipython3",
   "version": "3.12.9"
  }
 },
 "nbformat": 4,
 "nbformat_minor": 5
}
