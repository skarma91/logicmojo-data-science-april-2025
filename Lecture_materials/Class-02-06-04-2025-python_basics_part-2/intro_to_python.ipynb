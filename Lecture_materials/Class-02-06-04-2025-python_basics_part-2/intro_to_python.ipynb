{
 "cells": [
  {
   "cell_type": "markdown",
   "id": "a6af8ead-6956-4111-a296-3d409958b35d",
   "metadata": {},
   "source": [
    "# My first python code: Hello world"
   ]
  },
  {
   "cell_type": "code",
   "execution_count": 1,
   "id": "e0011711-aedf-4c62-8007-b5cf45cd3cd7",
   "metadata": {},
   "outputs": [
    {
     "name": "stdout",
     "output_type": "stream",
     "text": [
      "hello world\n"
     ]
    }
   ],
   "source": [
    "# comment line, this line will not be executed by python interpreter\n",
    "\n",
    "\n",
    "print(\"hello world\")"
   ]
  },
  {
   "cell_type": "code",
   "execution_count": 2,
   "id": "78364365-f170-4415-9f1a-2ff9ce8f3e91",
   "metadata": {},
   "outputs": [
    {
     "name": "stdout",
     "output_type": "stream",
     "text": [
      "hello\n",
      "hello again\n"
     ]
    }
   ],
   "source": [
    "print(\"hello\")\n",
    "\n",
    "print(\"hello again\")"
   ]
  },
  {
   "cell_type": "markdown",
   "id": "770dcf2a",
   "metadata": {},
   "source": [
    "## print() function in python "
   ]
  },
  {
   "cell_type": "markdown",
   "id": "864408bc",
   "metadata": {},
   "source": [
    "'\\n' -> this is new line character\n",
    "'\\t' -> tab"
   ]
  },
  {
   "cell_type": "code",
   "execution_count": 7,
   "id": "5dca3795",
   "metadata": {},
   "outputs": [
    {
     "name": "stdout",
     "output_type": "stream",
     "text": [
      "my name is Sourav----my name is Sachin\n"
     ]
    }
   ],
   "source": [
    "print(\"my name is Sourav\",end='----')\n",
    "print(\"my name is Sachin\")"
   ]
  },
  {
   "cell_type": "markdown",
   "id": "972f8cad",
   "metadata": {},
   "source": [
    "## Variables\n",
    "\n",
    "A variable is a memory location in computer, where you can store some value"
   ]
  },
  {
   "cell_type": "code",
   "execution_count": 8,
   "id": "f5fe77b2",
   "metadata": {},
   "outputs": [],
   "source": [
    "a = 5"
   ]
  },
  {
   "cell_type": "code",
   "execution_count": 9,
   "id": "bffcba9b",
   "metadata": {},
   "outputs": [
    {
     "name": "stdout",
     "output_type": "stream",
     "text": [
      "5\n"
     ]
    }
   ],
   "source": [
    "print(a)"
   ]
  },
  {
   "cell_type": "code",
   "execution_count": 10,
   "id": "869c4a6b",
   "metadata": {},
   "outputs": [
    {
     "data": {
      "text/plain": [
       "int"
      ]
     },
     "execution_count": 10,
     "metadata": {},
     "output_type": "execute_result"
    }
   ],
   "source": [
    "type(a)   # variable type"
   ]
  },
  {
   "cell_type": "code",
   "execution_count": 11,
   "id": "588a6312",
   "metadata": {},
   "outputs": [
    {
     "data": {
      "text/plain": [
       "float"
      ]
     },
     "execution_count": 11,
     "metadata": {},
     "output_type": "execute_result"
    }
   ],
   "source": [
    "b = 92.45\n",
    "\n",
    "type(b)"
   ]
  },
  {
   "cell_type": "code",
   "execution_count": 12,
   "id": "48d7ede2",
   "metadata": {},
   "outputs": [
    {
     "data": {
      "text/plain": [
       "str"
      ]
     },
     "execution_count": 12,
     "metadata": {},
     "output_type": "execute_result"
    }
   ],
   "source": [
    "c = \"I am learning python\"\n",
    "\n",
    "type(c)"
   ]
  },
  {
   "cell_type": "code",
   "execution_count": 14,
   "id": "c9a2a19b",
   "metadata": {},
   "outputs": [
    {
     "data": {
      "text/plain": [
       "bool"
      ]
     },
     "execution_count": 14,
     "metadata": {},
     "output_type": "execute_result"
    }
   ],
   "source": [
    "d = False\n",
    "\n",
    "type(d)"
   ]
  },
  {
   "cell_type": "markdown",
   "id": "8a5a2240",
   "metadata": {},
   "source": [
    "### Data types\n",
    "\n",
    "There are primarily 4 types of data in python\n",
    "- Integer\n",
    "- Float\n",
    "- String\n",
    "- Boolean\n",
    "\n",
    "A variable name:\n",
    "- can't contain space\n",
    "- can't contain any special character other than underscore '_'\n",
    "- it can start or end with underscore\n",
    "- it can contain alphanueric characters\n",
    "- but it can't start with a number\n",
    "- can't be a reserved keywords"
   ]
  },
  {
   "cell_type": "code",
   "execution_count": 15,
   "id": "c250eb03",
   "metadata": {},
   "outputs": [
    {
     "name": "stdout",
     "output_type": "stream",
     "text": [
      "6\n"
     ]
    }
   ],
   "source": [
    "_x = 6\n",
    "\n",
    "print(_x)"
   ]
  },
  {
   "cell_type": "code",
   "execution_count": 16,
   "id": "67a740e1",
   "metadata": {},
   "outputs": [
    {
     "name": "stdout",
     "output_type": "stream",
     "text": [
      "My name is  Sourav\n"
     ]
    }
   ],
   "source": [
    "my_name = \"Sourav\"\n",
    "\n",
    "print(\"My name is \", my_name)"
   ]
  },
  {
   "cell_type": "markdown",
   "id": "0c355288",
   "metadata": {},
   "source": [
    "### More about print() function"
   ]
  },
  {
   "cell_type": "code",
   "execution_count": 18,
   "id": "791b1e72",
   "metadata": {},
   "outputs": [],
   "source": [
    "profession = \"data scientist\""
   ]
  },
  {
   "cell_type": "code",
   "execution_count": 19,
   "id": "462d004c",
   "metadata": {},
   "outputs": [
    {
     "name": "stdout",
     "output_type": "stream",
     "text": [
      "My name is Sourav  and I am a  data scientist\n"
     ]
    }
   ],
   "source": [
    "print(\"My name is\", my_name, \" and I am a \", profession)"
   ]
  },
  {
   "cell_type": "code",
   "execution_count": 20,
   "id": "4721694f",
   "metadata": {},
   "outputs": [
    {
     "name": "stdout",
     "output_type": "stream",
     "text": [
      "my name is Sourav, my profession is data scientist and my age is 32\n"
     ]
    }
   ],
   "source": [
    "# Formatted print statement\n",
    "\n",
    "age = 32\n",
    "\n",
    "print(\"my name is {}, my profession is {} and my age is {}\".format(my_name, profession, age))"
   ]
  },
  {
   "cell_type": "code",
   "execution_count": 21,
   "id": "415cfa93",
   "metadata": {},
   "outputs": [
    {
     "name": "stdout",
     "output_type": "stream",
     "text": [
      "my name is data scientist, my profession is Sourav and my age is 32\n"
     ]
    }
   ],
   "source": [
    "print(\"my name is {}, my profession is {} and my age is {}\".format(profession, my_name, age))"
   ]
  },
  {
   "cell_type": "code",
   "execution_count": 25,
   "id": "f57ab3b8",
   "metadata": {},
   "outputs": [
    {
     "name": "stdout",
     "output_type": "stream",
     "text": [
      "my name is 'Sourav', my profession is data scientist and my age is 32\n"
     ]
    }
   ],
   "source": [
    "print(f\"my name is '{my_name}', my profession is {profession} and my age is {age}\")"
   ]
  },
  {
   "cell_type": "code",
   "execution_count": 27,
   "id": "fef88728",
   "metadata": {},
   "outputs": [
    {
     "data": {
      "text/plain": [
       "str"
      ]
     },
     "execution_count": 27,
     "metadata": {},
     "output_type": "execute_result"
    }
   ],
   "source": [
    "place = 'b'\n",
    "\n",
    "type(place)"
   ]
  },
  {
   "cell_type": "markdown",
   "id": "156037c7",
   "metadata": {},
   "source": [
    "## Arithmatic operations"
   ]
  },
  {
   "cell_type": "code",
   "execution_count": 28,
   "id": "f84efe43",
   "metadata": {},
   "outputs": [],
   "source": [
    "a = 3\n",
    "b = 5.6\n",
    "c = 40"
   ]
  },
  {
   "cell_type": "markdown",
   "id": "73a6cc6c",
   "metadata": {},
   "source": [
    "### Addition and Subtraction"
   ]
  },
  {
   "cell_type": "code",
   "execution_count": 29,
   "id": "d3e2191d",
   "metadata": {},
   "outputs": [
    {
     "name": "stdout",
     "output_type": "stream",
     "text": [
      "8.6\n"
     ]
    }
   ],
   "source": [
    "d = a+b\n",
    "print(d)"
   ]
  },
  {
   "cell_type": "code",
   "execution_count": 30,
   "id": "e91f1076",
   "metadata": {},
   "outputs": [
    {
     "name": "stdout",
     "output_type": "stream",
     "text": [
      "34.4\n"
     ]
    }
   ],
   "source": [
    "e = c-b\n",
    "print(e)"
   ]
  },
  {
   "cell_type": "code",
   "execution_count": 31,
   "id": "3b18ca67",
   "metadata": {},
   "outputs": [
    {
     "data": {
      "text/plain": [
       "4.0"
      ]
     },
     "execution_count": 31,
     "metadata": {},
     "output_type": "execute_result"
    }
   ],
   "source": [
    "1.5 + 2.5"
   ]
  },
  {
   "cell_type": "code",
   "execution_count": 32,
   "id": "5ac53491",
   "metadata": {},
   "outputs": [
    {
     "data": {
      "text/plain": [
       "float"
      ]
     },
     "execution_count": 32,
     "metadata": {},
     "output_type": "execute_result"
    }
   ],
   "source": [
    "f = 3.0\n",
    "\n",
    "type(f)"
   ]
  },
  {
   "cell_type": "markdown",
   "id": "e1c328c4",
   "metadata": {},
   "source": [
    "### Multiplication and division"
   ]
  },
  {
   "cell_type": "code",
   "execution_count": 33,
   "id": "38cbeb8d",
   "metadata": {},
   "outputs": [
    {
     "data": {
      "text/plain": [
       "16.799999999999997"
      ]
     },
     "execution_count": 33,
     "metadata": {},
     "output_type": "execute_result"
    }
   ],
   "source": [
    "a * b"
   ]
  },
  {
   "cell_type": "code",
   "execution_count": 34,
   "id": "86c4cc70",
   "metadata": {},
   "outputs": [
    {
     "data": {
      "text/plain": [
       "16.799999999999997"
      ]
     },
     "execution_count": 34,
     "metadata": {},
     "output_type": "execute_result"
    }
   ],
   "source": [
    "3.0 * 5.6"
   ]
  },
  {
   "cell_type": "code",
   "execution_count": 35,
   "id": "8efe4a56",
   "metadata": {},
   "outputs": [
    {
     "data": {
      "text/plain": [
       "16.8"
      ]
     },
     "execution_count": 35,
     "metadata": {},
     "output_type": "execute_result"
    }
   ],
   "source": [
    "round(3.0 * 5.6, 6)"
   ]
  },
  {
   "cell_type": "code",
   "execution_count": 39,
   "id": "e88a8330",
   "metadata": {},
   "outputs": [
    {
     "data": {
      "text/plain": [
       "4.0740740740740735"
      ]
     },
     "execution_count": 39,
     "metadata": {},
     "output_type": "execute_result"
    }
   ],
   "source": [
    "# Normal division\n",
    "\n",
    "a = 11\n",
    "b = 2.7\n",
    "\n",
    "a/b"
   ]
  },
  {
   "cell_type": "code",
   "execution_count": 42,
   "id": "bc42ad17",
   "metadata": {},
   "outputs": [
    {
     "data": {
      "text/plain": [
       "6"
      ]
     },
     "execution_count": 42,
     "metadata": {},
     "output_type": "execute_result"
    }
   ],
   "source": [
    "# Integer division -> result will be integer (quotient)\n",
    "\n",
    "a = 13\n",
    "b = 2\n",
    "\n",
    "a//b"
   ]
  },
  {
   "cell_type": "code",
   "execution_count": 45,
   "id": "bf22cb03",
   "metadata": {},
   "outputs": [
    {
     "data": {
      "text/plain": [
       "5.0"
      ]
     },
     "execution_count": 45,
     "metadata": {},
     "output_type": "execute_result"
    }
   ],
   "source": [
    "c = 67\n",
    "d = 13.0\n",
    "\n",
    "c // d"
   ]
  },
  {
   "cell_type": "code",
   "execution_count": 46,
   "id": "bde0b170",
   "metadata": {},
   "outputs": [
    {
     "data": {
      "text/plain": [
       "5.153846153846154"
      ]
     },
     "execution_count": 46,
     "metadata": {},
     "output_type": "execute_result"
    }
   ],
   "source": [
    "67/13"
   ]
  },
  {
   "cell_type": "code",
   "execution_count": 47,
   "id": "6aef4506",
   "metadata": {},
   "outputs": [
    {
     "data": {
      "text/plain": [
       "26.0"
      ]
     },
     "execution_count": 47,
     "metadata": {},
     "output_type": "execute_result"
    }
   ],
   "source": [
    "95.34 // 3.57"
   ]
  },
  {
   "cell_type": "code",
   "execution_count": 50,
   "id": "1a619b43",
   "metadata": {},
   "outputs": [
    {
     "data": {
      "text/plain": [
       "27"
      ]
     },
     "execution_count": 50,
     "metadata": {},
     "output_type": "execute_result"
    }
   ],
   "source": [
    "round(95.34/3.57)"
   ]
  },
  {
   "cell_type": "markdown",
   "id": "02de1827",
   "metadata": {},
   "source": [
    "### Modulo division (remainder)"
   ]
  },
  {
   "cell_type": "code",
   "execution_count": 51,
   "id": "d2524ef7",
   "metadata": {},
   "outputs": [
    {
     "data": {
      "text/plain": [
       "3"
      ]
     },
     "execution_count": 51,
     "metadata": {},
     "output_type": "execute_result"
    }
   ],
   "source": [
    "x = 45\n",
    "y = 7\n",
    "\n",
    "x % y"
   ]
  },
  {
   "cell_type": "code",
   "execution_count": 53,
   "id": "2f7a8e8e",
   "metadata": {},
   "outputs": [
    {
     "data": {
      "text/plain": [
       "4.32"
      ]
     },
     "execution_count": 53,
     "metadata": {},
     "output_type": "execute_result"
    }
   ],
   "source": [
    "x = 34.32\n",
    "y = 5\n",
    "\n",
    "x % y"
   ]
  },
  {
   "cell_type": "code",
   "execution_count": 56,
   "id": "8248f6ea",
   "metadata": {},
   "outputs": [
    {
     "name": "stdout",
     "output_type": "stream",
     "text": [
      "8.0\n"
     ]
    }
   ],
   "source": [
    "a = 5\n",
    "b = 2.5\n",
    "\n",
    "print(a//b + a/b + round(a//b + a/b))"
   ]
  },
  {
   "cell_type": "markdown",
   "id": "f5cca4d7",
   "metadata": {},
   "source": [
    "### Exponentiation"
   ]
  },
  {
   "cell_type": "code",
   "execution_count": 57,
   "id": "27d852df",
   "metadata": {},
   "outputs": [
    {
     "data": {
      "text/plain": [
       "9"
      ]
     },
     "execution_count": 57,
     "metadata": {},
     "output_type": "execute_result"
    }
   ],
   "source": [
    "3**2"
   ]
  },
  {
   "cell_type": "code",
   "execution_count": 58,
   "id": "44b118eb",
   "metadata": {},
   "outputs": [
    {
     "data": {
      "text/plain": [
       "1024"
      ]
     },
     "execution_count": 58,
     "metadata": {},
     "output_type": "execute_result"
    }
   ],
   "source": [
    "4**5    # 4^5"
   ]
  },
  {
   "cell_type": "code",
   "execution_count": 59,
   "id": "81b36e98",
   "metadata": {},
   "outputs": [
    {
     "data": {
      "text/plain": [
       "4.0"
      ]
     },
     "execution_count": 59,
     "metadata": {},
     "output_type": "execute_result"
    }
   ],
   "source": [
    "16**0.5  # sqrt"
   ]
  },
  {
   "cell_type": "code",
   "execution_count": 60,
   "id": "aefd519d",
   "metadata": {},
   "outputs": [
    {
     "data": {
      "text/plain": [
       "27.0"
      ]
     },
     "execution_count": 60,
     "metadata": {},
     "output_type": "execute_result"
    }
   ],
   "source": [
    "81**(3/4)"
   ]
  },
  {
   "cell_type": "markdown",
   "id": "6aeff12c",
   "metadata": {},
   "source": [
    "### Input function"
   ]
  },
  {
   "cell_type": "code",
   "execution_count": 62,
   "id": "b6eaaa2c",
   "metadata": {},
   "outputs": [],
   "source": [
    "my_name = input(\"Enter your name: \")"
   ]
  },
  {
   "cell_type": "code",
   "execution_count": 63,
   "id": "188c01ad",
   "metadata": {},
   "outputs": [
    {
     "name": "stdout",
     "output_type": "stream",
     "text": [
      "Sourav\n"
     ]
    }
   ],
   "source": [
    "print(my_name)"
   ]
  },
  {
   "cell_type": "code",
   "execution_count": 67,
   "id": "8c2d7957",
   "metadata": {},
   "outputs": [],
   "source": [
    "yoe = input(\"Enter your years of experience: \")"
   ]
  },
  {
   "cell_type": "code",
   "execution_count": 66,
   "id": "efe9eef5",
   "metadata": {},
   "outputs": [
    {
     "data": {
      "text/plain": [
       "str"
      ]
     },
     "execution_count": 66,
     "metadata": {},
     "output_type": "execute_result"
    }
   ],
   "source": [
    "type(yoe)"
   ]
  },
  {
   "cell_type": "markdown",
   "id": "3b5dd86a",
   "metadata": {},
   "source": [
    "### Type conversion"
   ]
  },
  {
   "cell_type": "code",
   "execution_count": 70,
   "id": "5eccc8c8",
   "metadata": {},
   "outputs": [],
   "source": [
    "x = 45.946\n",
    "\n",
    "y = 85\n",
    "\n",
    "z = \"I am a DS\""
   ]
  },
  {
   "cell_type": "code",
   "execution_count": 71,
   "id": "a9d8b195",
   "metadata": {},
   "outputs": [
    {
     "data": {
      "text/plain": [
       "45"
      ]
     },
     "execution_count": 71,
     "metadata": {},
     "output_type": "execute_result"
    }
   ],
   "source": [
    "int(x)   # float will be converted to int, truncating the decimal places"
   ]
  },
  {
   "cell_type": "code",
   "execution_count": 72,
   "id": "44b48086",
   "metadata": {},
   "outputs": [
    {
     "data": {
      "text/plain": [
       "85.0"
      ]
     },
     "execution_count": 72,
     "metadata": {},
     "output_type": "execute_result"
    }
   ],
   "source": [
    "float(y)"
   ]
  },
  {
   "cell_type": "code",
   "execution_count": 73,
   "id": "9b72b96a",
   "metadata": {},
   "outputs": [
    {
     "ename": "ValueError",
     "evalue": "could not convert string to float: 'I am a DS'",
     "output_type": "error",
     "traceback": [
      "\u001b[31m---------------------------------------------------------------------------\u001b[39m",
      "\u001b[31mValueError\u001b[39m                                Traceback (most recent call last)",
      "\u001b[36mCell\u001b[39m\u001b[36m \u001b[39m\u001b[32mIn[73]\u001b[39m\u001b[32m, line 1\u001b[39m\n\u001b[32m----> \u001b[39m\u001b[32m1\u001b[39m \u001b[38;5;28;43mfloat\u001b[39;49m\u001b[43m(\u001b[49m\u001b[43mz\u001b[49m\u001b[43m)\u001b[49m\n",
      "\u001b[31mValueError\u001b[39m: could not convert string to float: 'I am a DS'"
     ]
    }
   ],
   "source": [
    "float(z)"
   ]
  },
  {
   "cell_type": "code",
   "execution_count": 76,
   "id": "9406036c",
   "metadata": {},
   "outputs": [
    {
     "data": {
      "text/plain": [
       "32.875"
      ]
     },
     "execution_count": 76,
     "metadata": {},
     "output_type": "execute_result"
    }
   ],
   "source": [
    "v = \"32.875\"\n",
    "\n",
    "float(v)"
   ]
  },
  {
   "cell_type": "code",
   "execution_count": 77,
   "id": "01842079",
   "metadata": {},
   "outputs": [
    {
     "ename": "ValueError",
     "evalue": "invalid literal for int() with base 10: '32.875'",
     "output_type": "error",
     "traceback": [
      "\u001b[31m---------------------------------------------------------------------------\u001b[39m",
      "\u001b[31mValueError\u001b[39m                                Traceback (most recent call last)",
      "\u001b[36mCell\u001b[39m\u001b[36m \u001b[39m\u001b[32mIn[77]\u001b[39m\u001b[32m, line 1\u001b[39m\n\u001b[32m----> \u001b[39m\u001b[32m1\u001b[39m \u001b[38;5;28;43mint\u001b[39;49m\u001b[43m(\u001b[49m\u001b[43mv\u001b[49m\u001b[43m)\u001b[49m\n",
      "\u001b[31mValueError\u001b[39m: invalid literal for int() with base 10: '32.875'"
     ]
    }
   ],
   "source": [
    "int(v)"
   ]
  },
  {
   "cell_type": "code",
   "execution_count": 80,
   "id": "55a477b2",
   "metadata": {},
   "outputs": [
    {
     "ename": "ValueError",
     "evalue": "invalid literal for int() with base 10: '32.0'",
     "output_type": "error",
     "traceback": [
      "\u001b[31m---------------------------------------------------------------------------\u001b[39m",
      "\u001b[31mValueError\u001b[39m                                Traceback (most recent call last)",
      "\u001b[36mCell\u001b[39m\u001b[36m \u001b[39m\u001b[32mIn[80]\u001b[39m\u001b[32m, line 1\u001b[39m\n\u001b[32m----> \u001b[39m\u001b[32m1\u001b[39m \u001b[38;5;28;43mint\u001b[39;49m\u001b[43m(\u001b[49m\u001b[33;43m\"\u001b[39;49m\u001b[33;43m32.0\u001b[39;49m\u001b[33;43m\"\u001b[39;49m\u001b[43m)\u001b[49m\n",
      "\u001b[31mValueError\u001b[39m: invalid literal for int() with base 10: '32.0'"
     ]
    }
   ],
   "source": [
    "int(\"32.0\")"
   ]
  },
  {
   "cell_type": "code",
   "execution_count": 79,
   "id": "d64a805a",
   "metadata": {},
   "outputs": [
    {
     "data": {
      "text/plain": [
       "32.0"
      ]
     },
     "execution_count": 79,
     "metadata": {},
     "output_type": "execute_result"
    }
   ],
   "source": [
    "float(\"32\")"
   ]
  },
  {
   "cell_type": "code",
   "execution_count": 81,
   "id": "f1c2ee9d",
   "metadata": {},
   "outputs": [
    {
     "data": {
      "text/plain": [
       "'85'"
      ]
     },
     "execution_count": 81,
     "metadata": {},
     "output_type": "execute_result"
    }
   ],
   "source": [
    "str(y)"
   ]
  },
  {
   "cell_type": "code",
   "execution_count": 82,
   "id": "5bcfbef6",
   "metadata": {},
   "outputs": [
    {
     "data": {
      "text/plain": [
       "'45.946'"
      ]
     },
     "execution_count": 82,
     "metadata": {},
     "output_type": "execute_result"
    }
   ],
   "source": [
    "str(x)"
   ]
  },
  {
   "cell_type": "code",
   "execution_count": 87,
   "id": "2b898d79",
   "metadata": {},
   "outputs": [
    {
     "name": "stdout",
     "output_type": "stream",
     "text": [
      "56.7 <class 'float'>\n"
     ]
    }
   ],
   "source": [
    "age = float(input(\"Enter your age: \"))\n",
    "\n",
    "print(age, type(age))"
   ]
  },
  {
   "cell_type": "code",
   "execution_count": 88,
   "id": "de2aa05a",
   "metadata": {},
   "outputs": [
    {
     "name": "stdout",
     "output_type": "stream",
     "text": [
      "67 <class 'int'>\n"
     ]
    }
   ],
   "source": [
    "age = int(float(input(\"Enter your age: \")))\n",
    "\n",
    "print(age, type(age))"
   ]
  },
  {
   "cell_type": "markdown",
   "id": "8cdfd9a9",
   "metadata": {},
   "source": [
    "## Printing the area of a triangle given the sides\n",
    "\n",
    "The sides of the triangle are a, b, c\n",
    "\n",
    "$$ semi perimeter : s = 0.5*(a+b+c)$$\n",
    "\n",
    "$$ area = \\sqrt{s(s-a)(s-b)(s-c)}$$"
   ]
  },
  {
   "cell_type": "code",
   "execution_count": 90,
   "id": "e2c8f741",
   "metadata": {},
   "outputs": [
    {
     "name": "stdout",
     "output_type": "stream",
     "text": [
      "the sides are:  10.0 8.0 6.0\n"
     ]
    }
   ],
   "source": [
    "a = float(input(\"enter side-1: \"))\n",
    "b = float(input(\"enter side-2: \"))\n",
    "c = float(input(\"enter side-3: \"))\n",
    "\n",
    "print(\"the sides are: \", a, b, c)"
   ]
  },
  {
   "cell_type": "code",
   "execution_count": 91,
   "id": "1355127c",
   "metadata": {},
   "outputs": [
    {
     "name": "stdout",
     "output_type": "stream",
     "text": [
      "The area is  24.0\n"
     ]
    }
   ],
   "source": [
    "s = 0.5*(a+b+c)\n",
    "\n",
    "area = (s*(s-a)*(s-b)*(s-c))**0.5\n",
    "\n",
    "print(\"The area is \", area)"
   ]
  },
  {
   "cell_type": "markdown",
   "id": "26f36fb0",
   "metadata": {},
   "source": [
    "### String concatenation (addition)"
   ]
  },
  {
   "cell_type": "code",
   "execution_count": 92,
   "id": "aef82169",
   "metadata": {},
   "outputs": [
    {
     "data": {
      "text/plain": [
       "'I am an Indian I love my country'"
      ]
     },
     "execution_count": 92,
     "metadata": {},
     "output_type": "execute_result"
    }
   ],
   "source": [
    "x = \"I am an Indian \"\n",
    "y = \"I love my country\"\n",
    "\n",
    "x+y"
   ]
  },
  {
   "cell_type": "code",
   "execution_count": 93,
   "id": "b0d05700",
   "metadata": {},
   "outputs": [
    {
     "data": {
      "text/plain": [
       "'I am an Indian .I love my country'"
      ]
     },
     "execution_count": 93,
     "metadata": {},
     "output_type": "execute_result"
    }
   ],
   "source": [
    "x + \".\" + y"
   ]
  },
  {
   "cell_type": "markdown",
   "id": "50ee8bd2",
   "metadata": {},
   "source": [
    "### String multiplication\n",
    "\n",
    "muliply string with an integer to have repeated string"
   ]
  },
  {
   "cell_type": "code",
   "execution_count": 94,
   "id": "dbdddc27",
   "metadata": {},
   "outputs": [
    {
     "data": {
      "text/plain": [
       "'I am an Indian I am an Indian I am an Indian I am an Indian I am an Indian '"
      ]
     },
     "execution_count": 94,
     "metadata": {},
     "output_type": "execute_result"
    }
   ],
   "source": [
    "5*x"
   ]
  },
  {
   "cell_type": "code",
   "execution_count": 96,
   "id": "7903c0cf",
   "metadata": {},
   "outputs": [
    {
     "name": "stdout",
     "output_type": "stream",
     "text": [
      "xyz abc\n"
     ]
    }
   ],
   "source": [
    "print(\"xyz\" , \"abc\")"
   ]
  },
  {
   "cell_type": "markdown",
   "id": "925dfd16",
   "metadata": {},
   "source": [
    "### Boolean operation "
   ]
  },
  {
   "cell_type": "code",
   "execution_count": 97,
   "id": "2631d0d5",
   "metadata": {},
   "outputs": [],
   "source": [
    "a = True\n",
    "b = False"
   ]
  },
  {
   "cell_type": "code",
   "execution_count": 99,
   "id": "cd9c33a4",
   "metadata": {},
   "outputs": [
    {
     "data": {
      "text/plain": [
       "False"
      ]
     },
     "execution_count": 99,
     "metadata": {},
     "output_type": "execute_result"
    }
   ],
   "source": [
    "# and operation\n",
    "\n",
    "# True , True -> True\n",
    "# True, False -> False\n",
    "# False , True -> False\n",
    "# False, False -> False\n",
    "\n",
    "a and b"
   ]
  },
  {
   "cell_type": "code",
   "execution_count": 100,
   "id": "0b693aa0",
   "metadata": {},
   "outputs": [
    {
     "data": {
      "text/plain": [
       "True"
      ]
     },
     "execution_count": 100,
     "metadata": {},
     "output_type": "execute_result"
    }
   ],
   "source": [
    "# or operation\n",
    "\n",
    "# True or True -> True\n",
    "# True or False -> True\n",
    "# False or True -> True\n",
    "# False or False -> False\n",
    "\n",
    "a or b"
   ]
  },
  {
   "cell_type": "code",
   "execution_count": 103,
   "id": "d509ac24",
   "metadata": {},
   "outputs": [
    {
     "data": {
      "text/plain": [
       "True"
      ]
     },
     "execution_count": 103,
     "metadata": {},
     "output_type": "execute_result"
    }
   ],
   "source": [
    "# not operation\n",
    "\n",
    "# not(True) -> False\n",
    "# not(False) -> True\n",
    "\n",
    "not b"
   ]
  },
  {
   "cell_type": "code",
   "execution_count": 105,
   "id": "25c46602",
   "metadata": {},
   "outputs": [
    {
     "data": {
      "text/plain": [
       "True"
      ]
     },
     "execution_count": 105,
     "metadata": {},
     "output_type": "execute_result"
    }
   ],
   "source": [
    "(not a) or (not b)"
   ]
  },
  {
   "cell_type": "markdown",
   "id": "767b65fb",
   "metadata": {},
   "source": [
    "### Conditional operation\n",
    "\n",
    "Always return boolean value.\n",
    "\n",
    "If the condition is true it will return `True`, if the condition is false it will rreturn `False`"
   ]
  },
  {
   "cell_type": "markdown",
   "id": "1e195691",
   "metadata": {},
   "source": [
    "### Equality (==)"
   ]
  },
  {
   "cell_type": "code",
   "execution_count": 110,
   "id": "3e926819",
   "metadata": {},
   "outputs": [
    {
     "data": {
      "text/plain": [
       "False"
      ]
     },
     "execution_count": 110,
     "metadata": {},
     "output_type": "execute_result"
    }
   ],
   "source": [
    "x = 67\n",
    "\n",
    "x == 68"
   ]
  },
  {
   "cell_type": "code",
   "execution_count": 125,
   "id": "980ba609",
   "metadata": {},
   "outputs": [
    {
     "data": {
      "text/plain": [
       "False"
      ]
     },
     "execution_count": 125,
     "metadata": {},
     "output_type": "execute_result"
    }
   ],
   "source": [
    "x = '67'\n",
    "\n",
    "x == 67"
   ]
  },
  {
   "cell_type": "code",
   "execution_count": 119,
   "id": "dbb1d2a0",
   "metadata": {},
   "outputs": [
    {
     "data": {
      "text/plain": [
       "True"
      ]
     },
     "execution_count": 119,
     "metadata": {},
     "output_type": "execute_result"
    }
   ],
   "source": [
    "round(5.6*3.0,6) == 16.8"
   ]
  },
  {
   "cell_type": "code",
   "execution_count": 127,
   "id": "72074dec",
   "metadata": {},
   "outputs": [
    {
     "data": {
      "text/plain": [
       "True"
      ]
     },
     "execution_count": 127,
     "metadata": {},
     "output_type": "execute_result"
    }
   ],
   "source": [
    "x = 3*5\n",
    "y = 15.0\n",
    "\n",
    "x == y"
   ]
  },
  {
   "cell_type": "markdown",
   "id": "3142b323",
   "metadata": {},
   "source": [
    "In equality (!=)"
   ]
  },
  {
   "cell_type": "code",
   "execution_count": 121,
   "id": "a4190241",
   "metadata": {},
   "outputs": [
    {
     "data": {
      "text/plain": [
       "True"
      ]
     },
     "execution_count": 121,
     "metadata": {},
     "output_type": "execute_result"
    }
   ],
   "source": [
    "x != 10"
   ]
  },
  {
   "cell_type": "code",
   "execution_count": 128,
   "id": "93a93096",
   "metadata": {},
   "outputs": [
    {
     "data": {
      "text/plain": [
       "False"
      ]
     },
     "execution_count": 128,
     "metadata": {},
     "output_type": "execute_result"
    }
   ],
   "source": [
    "x != 15"
   ]
  },
  {
   "cell_type": "markdown",
   "id": "e86d7267",
   "metadata": {},
   "source": [
    "\n",
    "### > (greater than)\n",
    "### >= (greater than equal to)\n",
    "### < (less than)\n",
    "### <= (less than equal to)"
   ]
  },
  {
   "cell_type": "code",
   "execution_count": 132,
   "id": "c940b9e2",
   "metadata": {},
   "outputs": [
    {
     "data": {
      "text/plain": [
       "True"
      ]
     },
     "execution_count": 132,
     "metadata": {},
     "output_type": "execute_result"
    }
   ],
   "source": [
    "b = 5\n",
    "\n",
    "b >= 5"
   ]
  },
  {
   "cell_type": "code",
   "execution_count": 133,
   "id": "5d37e76f",
   "metadata": {},
   "outputs": [
    {
     "data": {
      "text/plain": [
       "False"
      ]
     },
     "execution_count": 133,
     "metadata": {},
     "output_type": "execute_result"
    }
   ],
   "source": [
    "b > 5"
   ]
  },
  {
   "cell_type": "code",
   "execution_count": 134,
   "id": "93247f01",
   "metadata": {},
   "outputs": [
    {
     "data": {
      "text/plain": [
       "True"
      ]
     },
     "execution_count": 134,
     "metadata": {},
     "output_type": "execute_result"
    }
   ],
   "source": [
    "c = 7\n",
    "\n",
    "c <= 7"
   ]
  },
  {
   "cell_type": "code",
   "execution_count": 135,
   "id": "e953b5bb",
   "metadata": {},
   "outputs": [
    {
     "data": {
      "text/plain": [
       "False"
      ]
     },
     "execution_count": 135,
     "metadata": {},
     "output_type": "execute_result"
    }
   ],
   "source": [
    "c < 7"
   ]
  },
  {
   "cell_type": "code",
   "execution_count": 136,
   "id": "2385bec0",
   "metadata": {},
   "outputs": [
    {
     "data": {
      "text/plain": [
       "(int, float)"
      ]
     },
     "execution_count": 136,
     "metadata": {},
     "output_type": "execute_result"
    }
   ],
   "source": [
    "v = 56\n",
    "\n",
    "w = 89.23\n",
    "\n",
    "type(v), type(w)"
   ]
  },
  {
   "cell_type": "code",
   "execution_count": 137,
   "id": "4b887985",
   "metadata": {},
   "outputs": [
    {
     "data": {
      "text/plain": [
       "True"
      ]
     },
     "execution_count": 137,
     "metadata": {},
     "output_type": "execute_result"
    }
   ],
   "source": [
    "type(v) == int"
   ]
  },
  {
   "cell_type": "code",
   "execution_count": 138,
   "id": "e32e7c0c",
   "metadata": {},
   "outputs": [
    {
     "data": {
      "text/plain": [
       "False"
      ]
     },
     "execution_count": 138,
     "metadata": {},
     "output_type": "execute_result"
    }
   ],
   "source": [
    "type(w) != float"
   ]
  },
  {
   "cell_type": "markdown",
   "id": "e2f4cae8",
   "metadata": {},
   "source": [
    "## Flow control\n",
    "\n",
    "if - else statement\n",
    "\n",
    "```python\n",
    "if (condition):\n",
    "    run this code block when the condition is met\n",
    "else:\n",
    "    run this code block\n",
    "\n",
    "```\n",
    "\n",
    "python uses indentation to define code block. "
   ]
  },
  {
   "cell_type": "code",
   "execution_count": 139,
   "id": "aa6ab873",
   "metadata": {},
   "outputs": [],
   "source": [
    "my_name = \"Akash\""
   ]
  },
  {
   "cell_type": "code",
   "execution_count": 140,
   "id": "94b5ad2a",
   "metadata": {},
   "outputs": [
    {
     "name": "stdout",
     "output_type": "stream",
     "text": [
      "I am not an instructor\n"
     ]
    }
   ],
   "source": [
    "if my_name == \"Sourav\":\n",
    "    print(\"I am the instructor\")\n",
    "else:\n",
    "    print(\"I am not an instructor\")"
   ]
  },
  {
   "cell_type": "code",
   "execution_count": 147,
   "id": "c0544829",
   "metadata": {},
   "outputs": [
    {
     "name": "stdout",
     "output_type": "stream",
     "text": [
      "The number is divisible by 7\n",
      "This is a magic number\n"
     ]
    }
   ],
   "source": [
    "y = 35\n",
    "\n",
    "if (y%7 == 0 and y%5 == 0):\n",
    "    print(\"The number is divisible by 7\")\n",
    "    print(\"This is a magic number\")\n",
    "else:\n",
    "    print(\"This is not a magic number\")"
   ]
  },
  {
   "cell_type": "markdown",
   "id": "a245c609",
   "metadata": {},
   "source": [
    "### Muliple if-else (if - elif - else)\n",
    "\n",
    "```python\n",
    "\n",
    "if (condition-1):\n",
    "    run this code block\n",
    "elif (condition-2):\n",
    "    run this code block\n",
    "elif(condition-3):\n",
    "    run this code block\n",
    "else:\n",
    "    run this code block\n",
    "\n",
    "```\n",
    "\n",
    "### Nested if-else\n",
    "\n",
    "```python\n",
    "if (condition-1):\n",
    "    if (condition-2):\n",
    "        run this code block\n",
    "    else:\n",
    "        run this code block\n",
    "else:\n",
    "    run this code block\n",
    "```"
   ]
  },
  {
   "cell_type": "code",
   "execution_count": null,
   "id": "a883c471",
   "metadata": {},
   "outputs": [],
   "source": [
    "x = 5\n",
    "\n",
    "if x > 20:\n",
    "    print(\"gt 20\")\n",
    "elif x > 10:\n",
    "    print(\"gt 10\")"
   ]
  },
  {
   "cell_type": "markdown",
   "id": "d49d1f0a",
   "metadata": {},
   "source": [
    "Write a program (WAP) to take input of a person's age and classify the person based on age as following:\n",
    "\n",
    "- If 0 <= age < 18 , -> Not Adult\n",
    "\n",
    "- If 18 <= age < 30, -> Young Adult\n",
    "\n",
    "- If 30 <= age < 45, -> Middle aged\n",
    "\n",
    "- If 45 <= age < 60, -> Upper middle aged\n",
    "\n",
    "- If age >= 60, -> Senior Citizen"
   ]
  },
  {
   "cell_type": "code",
   "execution_count": 149,
   "id": "259186c1",
   "metadata": {},
   "outputs": [
    {
     "name": "stdout",
     "output_type": "stream",
     "text": [
      "Middle aged\n"
     ]
    }
   ],
   "source": [
    "age = float(input(\"Enter the age: \"))\n",
    "\n",
    "if age >= 60:\n",
    "    print(\"Senior citizen\")\n",
    "elif age >= 45:\n",
    "    print(\"Upper middle aged\")\n",
    "elif age >= 30:\n",
    "    print(\"Middle aged\")\n",
    "elif age >= 18:\n",
    "    print(\"Young adult\")\n",
    "else:\n",
    "    print(\"Not adult\")"
   ]
  },
  {
   "cell_type": "markdown",
   "id": "7f59f10c",
   "metadata": {},
   "source": [
    "### While loop\n",
    "\n",
    "```python\n",
    "while (condition):\n",
    "    keep on running the code block as long as the codition is met\n",
    "```"
   ]
  },
  {
   "cell_type": "code",
   "execution_count": 155,
   "id": "022889a9",
   "metadata": {},
   "outputs": [
    {
     "name": "stdout",
     "output_type": "stream",
     "text": [
      "0\n",
      "1\n",
      "2\n",
      "3\n",
      "4\n",
      "5\n",
      "6\n",
      "7\n",
      "8\n",
      "9\n"
     ]
    }
   ],
   "source": [
    "counter = 0\n",
    "\n",
    "while(counter<10):\n",
    "    print(counter)\n",
    "    counter = counter + 1  # counter += 1"
   ]
  },
  {
   "cell_type": "markdown",
   "id": "d4412e71",
   "metadata": {},
   "source": [
    "### Write a program to take a positive integer from the user and print the number of digits"
   ]
  },
  {
   "cell_type": "code",
   "execution_count": 160,
   "id": "920f1a19",
   "metadata": {},
   "outputs": [
    {
     "name": "stdout",
     "output_type": "stream",
     "text": [
      "Please enter positive number\n"
     ]
    }
   ],
   "source": [
    "n = int(input(\"Enter the number: \"))\n",
    "\n",
    "if n < 0:\n",
    "    print(\"Please enter positive number\")\n",
    "else:\n",
    "    num_of_digits = 0\n",
    "\n",
    "    while n > 0:\n",
    "        n = n // 10\n",
    "        num_of_digits += 1\n",
    "\n",
    "    print(f\"There are {num_of_digits} digits\")"
   ]
  },
  {
   "cell_type": "markdown",
   "id": "d1d3cb81",
   "metadata": {},
   "source": [
    "### Given a positive integer produce a number which is reverse of it"
   ]
  },
  {
   "cell_type": "code",
   "execution_count": 161,
   "id": "1c89646f",
   "metadata": {},
   "outputs": [
    {
     "name": "stdout",
     "output_type": "stream",
     "text": [
      "The reversed number is 2643\n"
     ]
    }
   ],
   "source": [
    "n = int(input(\"Enter the number: \"))\n",
    "\n",
    "if n < 0:\n",
    "    print(\"Please enter positive number\")\n",
    "else:\n",
    "    m = 0\n",
    "\n",
    "    while n > 0:\n",
    "        m = 10 * m + n % 10\n",
    "        n = n // 10\n",
    "\n",
    "    print(f\"The reversed number is {m}\")"
   ]
  },
  {
   "cell_type": "markdown",
   "id": "68cf731f",
   "metadata": {},
   "source": [
    "### String opertaion"
   ]
  },
  {
   "cell_type": "code",
   "execution_count": null,
   "id": "d0a035f5",
   "metadata": {},
   "outputs": [
    {
     "data": {
      "text/plain": [
       "37"
      ]
     },
     "execution_count": 162,
     "metadata": {},
     "output_type": "execute_result"
    }
   ],
   "source": [
    "s = \"here is my work. please find the link\"\n",
    "\n",
    "len(s)   # length"
   ]
  },
  {
   "cell_type": "code",
   "execution_count": null,
   "id": "04b8d03f",
   "metadata": {},
   "outputs": [
    {
     "data": {
      "text/plain": [
       "'there is a tree'"
      ]
     },
     "execution_count": 163,
     "metadata": {},
     "output_type": "execute_result"
    }
   ],
   "source": [
    "s = \"  there is a tree    \"  # thereisatree\n",
    "\n",
    "s.strip()"
   ]
  },
  {
   "cell_type": "code",
   "execution_count": 164,
   "id": "0e3c5f5a",
   "metadata": {},
   "outputs": [
    {
     "data": {
      "text/plain": [
       "'  there is a tree'"
      ]
     },
     "execution_count": 164,
     "metadata": {},
     "output_type": "execute_result"
    }
   ],
   "source": [
    "s.rstrip()"
   ]
  },
  {
   "cell_type": "code",
   "execution_count": 165,
   "id": "fdbb479f",
   "metadata": {},
   "outputs": [
    {
     "data": {
      "text/plain": [
       "'there is a tree    '"
      ]
     },
     "execution_count": 165,
     "metadata": {},
     "output_type": "execute_result"
    }
   ],
   "source": [
    "s.lstrip()"
   ]
  },
  {
   "cell_type": "code",
   "execution_count": 175,
   "id": "43162887",
   "metadata": {},
   "outputs": [
    {
     "data": {
      "text/plain": [
       "['banana', ' apple', ' orange', ' mango']"
      ]
     },
     "execution_count": 175,
     "metadata": {},
     "output_type": "execute_result"
    }
   ],
   "source": [
    "fruits  = \"banana, apple, orange, mango\"\n",
    "\n",
    "fruits.split(',')"
   ]
  },
  {
   "cell_type": "code",
   "execution_count": 171,
   "id": "add7cabb",
   "metadata": {},
   "outputs": [
    {
     "data": {
      "text/plain": [
       "'banana-- apple-- orange-- mango'"
      ]
     },
     "execution_count": 171,
     "metadata": {},
     "output_type": "execute_result"
    }
   ],
   "source": [
    "fruits.replace(\",\", \"--\")"
   ]
  },
  {
   "cell_type": "code",
   "execution_count": 176,
   "id": "37e21015",
   "metadata": {},
   "outputs": [
    {
     "name": "stdout",
     "output_type": "stream",
     "text": [
      "banana, apple, orange, mango papaya, apple, orange, mango\n"
     ]
    }
   ],
   "source": [
    "new_fruits = fruits.replace(\"banana\", \"papaya\")\n",
    "\n",
    "print(fruits, new_fruits)"
   ]
  },
  {
   "cell_type": "code",
   "execution_count": 173,
   "id": "4352ef74",
   "metadata": {},
   "outputs": [
    {
     "data": {
      "text/plain": [
       "'banana, apple, orange, mango'"
      ]
     },
     "execution_count": 173,
     "metadata": {},
     "output_type": "execute_result"
    }
   ],
   "source": [
    "fruits"
   ]
  },
  {
   "cell_type": "code",
   "execution_count": 169,
   "id": "cc4f0c16",
   "metadata": {},
   "outputs": [
    {
     "data": {
      "text/plain": [
       "12"
      ]
     },
     "execution_count": 169,
     "metadata": {},
     "output_type": "execute_result"
    }
   ],
   "source": [
    "len(s.replace(\" \", \"\"))"
   ]
  },
  {
   "cell_type": "code",
   "execution_count": null,
   "id": "b242618b",
   "metadata": {},
   "outputs": [],
   "source": []
  }
 ],
 "metadata": {
  "kernelspec": {
   "display_name": "Python 3",
   "language": "python",
   "name": "python3"
  },
  "language_info": {
   "codemirror_mode": {
    "name": "ipython",
    "version": 3
   },
   "file_extension": ".py",
   "mimetype": "text/x-python",
   "name": "python",
   "nbconvert_exporter": "python",
   "pygments_lexer": "ipython3",
   "version": "3.12.9"
  }
 },
 "nbformat": 4,
 "nbformat_minor": 5
}
