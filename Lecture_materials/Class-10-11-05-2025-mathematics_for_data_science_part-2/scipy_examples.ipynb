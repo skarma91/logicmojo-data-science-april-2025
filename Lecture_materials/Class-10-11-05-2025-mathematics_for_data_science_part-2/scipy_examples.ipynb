{
 "cells": [
  {
   "cell_type": "markdown",
   "id": "197d3f24",
   "metadata": {},
   "source": [
    "# Scipy\n",
    "\n",
    "![](https://www.fullstackpython.com/img/logos/scipy.png)\n",
    "\n",
    "Scipy, pronounced as Sigh Pi, is a scientific python open source library to perform Mathematical, Scientific and Engineering computations. \n",
    "\n",
    "The SciPy library depends on NumPy library"
   ]
  },
  {
   "cell_type": "markdown",
   "id": "524d06de",
   "metadata": {},
   "source": [
    "## SciPy subpackages\n",
    "\n",
    "![](https://miro.medium.com/max/10996/1*D5SkkJwO8oegwUE14SJH5w.png)"
   ]
  },
  {
   "cell_type": "markdown",
   "id": "19cade47",
   "metadata": {},
   "source": [
    "## SciPy Optimize package\n",
    "\n",
    "- `minimize_scalar()` and `minimize()` to optimize a function of one variable and many variable respectively. \n",
    "- `curve_fit()` to fit a function to a set of data\n",
    "- `root_scalar()` and `root()` to find the zeros of a function of one variable and many variables respectively."
   ]
  },
  {
   "cell_type": "markdown",
   "id": "afeceb0d",
   "metadata": {},
   "source": [
    "### Minimize the function with one variable"
   ]
  },
  {
   "cell_type": "code",
   "execution_count": 4,
   "id": "197fc53e",
   "metadata": {},
   "outputs": [],
   "source": [
    "from scipy.optimize import minimize_scalar\n",
    "\n",
    "def function(x):\n",
    "    return (3*x**4 - 2*x + 1)"
   ]
  },
  {
   "cell_type": "code",
   "execution_count": 5,
   "id": "d818ad99",
   "metadata": {},
   "outputs": [
    {
     "data": {
      "text/plain": [
       "45"
      ]
     },
     "execution_count": 5,
     "metadata": {},
     "output_type": "execute_result"
    }
   ],
   "source": [
    "function(2)"
   ]
  },
  {
   "cell_type": "code",
   "execution_count": 6,
   "id": "adac6170",
   "metadata": {},
   "outputs": [],
   "source": [
    "res = minimize_scalar(function)"
   ]
  },
  {
   "cell_type": "code",
   "execution_count": 7,
   "id": "d744a4c9",
   "metadata": {},
   "outputs": [
    {
     "data": {
      "text/plain": [
       " message: \n",
       "          Optimization terminated successfully;\n",
       "          The returned value satisfies the termination criteria\n",
       "          (using xtol = 1.48e-08 )\n",
       " success: True\n",
       "     fun: 0.17451818777634331\n",
       "       x: 0.5503212087491959\n",
       "     nit: 12\n",
       "    nfev: 15"
      ]
     },
     "execution_count": 7,
     "metadata": {},
     "output_type": "execute_result"
    }
   ],
   "source": [
    "res"
   ]
  },
  {
   "cell_type": "code",
   "execution_count": 8,
   "id": "8a7f2265",
   "metadata": {},
   "outputs": [
    {
     "data": {
      "text/plain": [
       "np.float64(0.5503212087491959)"
      ]
     },
     "execution_count": 8,
     "metadata": {},
     "output_type": "execute_result"
    }
   ],
   "source": [
    "res.x"
   ]
  },
  {
   "cell_type": "code",
   "execution_count": 9,
   "id": "4f8560fa",
   "metadata": {},
   "outputs": [
    {
     "data": {
      "text/plain": [
       "np.float64(0.17451818777634331)"
      ]
     },
     "execution_count": 9,
     "metadata": {},
     "output_type": "execute_result"
    }
   ],
   "source": [
    "res.fun"
   ]
  },
  {
   "cell_type": "code",
   "execution_count": 10,
   "id": "d31f9d1f",
   "metadata": {},
   "outputs": [],
   "source": [
    "def func(x):\n",
    "\n",
    "    return 4*x**2 - 3*x + 2"
   ]
  },
  {
   "cell_type": "code",
   "execution_count": 11,
   "id": "8ce09464",
   "metadata": {},
   "outputs": [
    {
     "data": {
      "text/plain": [
       "np.float64(1.4375)"
      ]
     },
     "execution_count": 11,
     "metadata": {},
     "output_type": "execute_result"
    }
   ],
   "source": [
    "minimize_scalar(func).fun"
   ]
  },
  {
   "cell_type": "code",
   "execution_count": 12,
   "id": "5e9834be",
   "metadata": {},
   "outputs": [],
   "source": [
    "def f(x):\n",
    "\n",
    "    return (-3*(x-3)**2 + 5)"
   ]
  },
  {
   "cell_type": "code",
   "execution_count": 13,
   "id": "dceb7e39",
   "metadata": {},
   "outputs": [
    {
     "name": "stderr",
     "output_type": "stream",
     "text": [
      "c:\\Users\\Sourav Karmakar\\Desktop\\Work\\LogicMojo\\logicmojo-data-science-april-2025\\.venv\\Lib\\site-packages\\scipy\\optimize\\_optimize.py:3011: RuntimeWarning: overflow encountered in scalar multiply\n",
      "  w = xb - ((xb - xc) * tmp2 - (xb - xa) * tmp1) / denom\n",
      "c:\\Users\\Sourav Karmakar\\Desktop\\Work\\LogicMojo\\logicmojo-data-science-april-2025\\.venv\\Lib\\site-packages\\scipy\\optimize\\_optimize.py:3004: RuntimeWarning: overflow encountered in scalar multiply\n",
      "  tmp1 = (xb - xa) * (fb - fc)\n",
      "c:\\Users\\Sourav Karmakar\\Desktop\\Work\\LogicMojo\\logicmojo-data-science-april-2025\\.venv\\Lib\\site-packages\\scipy\\optimize\\_optimize.py:3005: RuntimeWarning: overflow encountered in scalar multiply\n",
      "  tmp2 = (xb - xc) * (fb - fa)\n",
      "c:\\Users\\Sourav Karmakar\\Desktop\\Work\\LogicMojo\\logicmojo-data-science-april-2025\\.venv\\Lib\\site-packages\\scipy\\optimize\\_optimize.py:3006: RuntimeWarning: invalid value encountered in scalar subtract\n",
      "  val = tmp2 - tmp1\n",
      "C:\\Users\\Sourav Karmakar\\AppData\\Local\\Temp\\ipykernel_24724\\2576813508.py:3: RuntimeWarning: overflow encountered in scalar multiply\n",
      "  return (-3*(x-3)**2 + 5)\n",
      "C:\\Users\\Sourav Karmakar\\AppData\\Local\\Temp\\ipykernel_24724\\2576813508.py:3: RuntimeWarning: overflow encountered in scalar power\n",
      "  return (-3*(x-3)**2 + 5)\n",
      "c:\\Users\\Sourav Karmakar\\Desktop\\Work\\LogicMojo\\logicmojo-data-science-april-2025\\.venv\\Lib\\site-packages\\scipy\\optimize\\_optimize.py:2501: RuntimeWarning: invalid value encountered in scalar subtract\n",
      "  tmp1 = (x - w) * (fx - fv)\n",
      "c:\\Users\\Sourav Karmakar\\Desktop\\Work\\LogicMojo\\logicmojo-data-science-april-2025\\.venv\\Lib\\site-packages\\scipy\\optimize\\_optimize.py:2502: RuntimeWarning: invalid value encountered in scalar subtract\n",
      "  tmp2 = (x - v) * (fx - fw)\n"
     ]
    },
    {
     "data": {
      "text/plain": [
       " message: \n",
       "          Optimization terminated successfully;\n",
       "          The returned value satisfies the termination criteria\n",
       "          (using xtol = 1.48e-08 )\n",
       " success: True\n",
       "     fun: -inf\n",
       "       x: -1.7095457019956215e+154\n",
       "     nit: 35\n",
       "    nfev: 773"
      ]
     },
     "execution_count": 13,
     "metadata": {},
     "output_type": "execute_result"
    }
   ],
   "source": [
    "minimize_scalar(f)"
   ]
  },
  {
   "cell_type": "code",
   "execution_count": 14,
   "id": "e2d1ee52",
   "metadata": {},
   "outputs": [],
   "source": [
    "def g(x):\n",
    "    return (-1)*f(x)"
   ]
  },
  {
   "cell_type": "code",
   "execution_count": 15,
   "id": "17142e50",
   "metadata": {},
   "outputs": [
    {
     "data": {
      "text/plain": [
       "2"
      ]
     },
     "execution_count": 15,
     "metadata": {},
     "output_type": "execute_result"
    }
   ],
   "source": [
    "f(2)"
   ]
  },
  {
   "cell_type": "code",
   "execution_count": 16,
   "id": "69c3d876",
   "metadata": {},
   "outputs": [
    {
     "data": {
      "text/plain": [
       "-2"
      ]
     },
     "execution_count": 16,
     "metadata": {},
     "output_type": "execute_result"
    }
   ],
   "source": [
    "g(2)"
   ]
  },
  {
   "cell_type": "code",
   "execution_count": 17,
   "id": "366dd866",
   "metadata": {},
   "outputs": [],
   "source": [
    "res = minimize_scalar(g)"
   ]
  },
  {
   "cell_type": "code",
   "execution_count": 18,
   "id": "7460e9a9",
   "metadata": {},
   "outputs": [
    {
     "data": {
      "text/plain": [
       "np.float64(5.0)"
      ]
     },
     "execution_count": 18,
     "metadata": {},
     "output_type": "execute_result"
    }
   ],
   "source": [
    "f(res.x)"
   ]
  },
  {
   "cell_type": "code",
   "execution_count": 21,
   "id": "151261d8",
   "metadata": {},
   "outputs": [],
   "source": [
    "# Same using decorator\n",
    "\n",
    "def negative(func):\n",
    "\n",
    "    def wrapper(*args):\n",
    "        result = func(*args)\n",
    "        return -result\n",
    "    \n",
    "    return wrapper"
   ]
  },
  {
   "cell_type": "code",
   "execution_count": 24,
   "id": "71964c7e",
   "metadata": {},
   "outputs": [
    {
     "data": {
      "text/plain": [
       "-5"
      ]
     },
     "execution_count": 24,
     "metadata": {},
     "output_type": "execute_result"
    }
   ],
   "source": [
    "negative(f)(3)"
   ]
  },
  {
   "cell_type": "code",
   "execution_count": 25,
   "id": "d26ae482",
   "metadata": {},
   "outputs": [],
   "source": [
    "@negative\n",
    "\n",
    "def g(x):\n",
    "    return f(x)"
   ]
  },
  {
   "cell_type": "code",
   "execution_count": 27,
   "id": "205ed804",
   "metadata": {},
   "outputs": [
    {
     "data": {
      "text/plain": [
       "7"
      ]
     },
     "execution_count": 27,
     "metadata": {},
     "output_type": "execute_result"
    }
   ],
   "source": [
    "g(5)"
   ]
  },
  {
   "cell_type": "code",
   "execution_count": 28,
   "id": "c95a867c",
   "metadata": {},
   "outputs": [
    {
     "data": {
      "text/plain": [
       " message: \n",
       "          Optimization terminated successfully;\n",
       "          The returned value satisfies the termination criteria\n",
       "          (using xtol = 1.48e-08 )\n",
       " success: True\n",
       "     fun: -5.0\n",
       "       x: 3.0000000000000004\n",
       "     nit: 4\n",
       "    nfev: 9"
      ]
     },
     "execution_count": 28,
     "metadata": {},
     "output_type": "execute_result"
    }
   ],
   "source": [
    "minimize_scalar(g)"
   ]
  },
  {
   "cell_type": "code",
   "execution_count": 29,
   "id": "e3347c23",
   "metadata": {},
   "outputs": [],
   "source": [
    "# Write your own maximize_scalar() function"
   ]
  },
  {
   "cell_type": "code",
   "execution_count": 34,
   "id": "9bed6160",
   "metadata": {},
   "outputs": [],
   "source": [
    "def maximize_scalar(func):\n",
    "    obj_func = negative(func)\n",
    "    res = minimize_scalar(obj_func)\n",
    "    result = {\"x\": res.x, \"fun\": func(res.x)}\n",
    "    return result"
   ]
  },
  {
   "cell_type": "code",
   "execution_count": 35,
   "id": "c2039cbe",
   "metadata": {},
   "outputs": [
    {
     "data": {
      "text/plain": [
       "{'x': np.float64(3.0000000000000004), 'fun': np.float64(5.0)}"
      ]
     },
     "execution_count": 35,
     "metadata": {},
     "output_type": "execute_result"
    }
   ],
   "source": [
    "maximize_scalar(f)"
   ]
  },
  {
   "cell_type": "markdown",
   "id": "02314d98",
   "metadata": {},
   "source": [
    "### scipy.differentiate"
   ]
  },
  {
   "cell_type": "code",
   "execution_count": 36,
   "id": "89a11412",
   "metadata": {},
   "outputs": [],
   "source": [
    "from scipy.differentiate import derivative\n",
    "import numpy as np"
   ]
  },
  {
   "cell_type": "code",
   "execution_count": 37,
   "id": "2c377be8",
   "metadata": {},
   "outputs": [],
   "source": [
    "def sigmoid(x, alpha=1, beta=0):\n",
    "    return (1/(1 + np.exp((-1)*(alpha*x+beta))))"
   ]
  },
  {
   "cell_type": "code",
   "execution_count": 38,
   "id": "57704d52",
   "metadata": {},
   "outputs": [],
   "source": [
    "from matplotlib import pyplot as plt"
   ]
  },
  {
   "cell_type": "code",
   "execution_count": 39,
   "id": "aa4e3039",
   "metadata": {},
   "outputs": [],
   "source": [
    "x = np.linspace(-10,10,10000)\n",
    "y = sigmoid(x)"
   ]
  },
  {
   "cell_type": "code",
   "execution_count": 40,
   "id": "5c1fb8e5",
   "metadata": {},
   "outputs": [
    {
     "data": {
      "text/plain": [
       "array([-10.       ,  -9.9979998,  -9.9959996, ...,   9.9959996,\n",
       "         9.9979998,  10.       ], shape=(10000,))"
      ]
     },
     "execution_count": 40,
     "metadata": {},
     "output_type": "execute_result"
    }
   ],
   "source": [
    "x"
   ]
  },
  {
   "cell_type": "code",
   "execution_count": 41,
   "id": "461986c3",
   "metadata": {},
   "outputs": [
    {
     "data": {
      "text/plain": [
       "array([4.53978687e-05, 4.54887603e-05, 4.55798338e-05, ...,\n",
       "       9.99954420e-01, 9.99954511e-01, 9.99954602e-01], shape=(10000,))"
      ]
     },
     "execution_count": 41,
     "metadata": {},
     "output_type": "execute_result"
    }
   ],
   "source": [
    "y"
   ]
  },
  {
   "cell_type": "code",
   "execution_count": 42,
   "id": "09ee0f00",
   "metadata": {},
   "outputs": [
    {
     "data": {
      "image/png": "[encoded data removed]",
      "text/plain": [
       "<Figure size 1000x600 with 1 Axes>"
      ]
     },
     "metadata": {},
     "output_type": "display_data"
    }
   ],
   "source": [
    "plt.figure(figsize=(10,6))\n",
    "plt.plot(x,y)\n",
    "plt.xlabel(\"x\")\n",
    "plt.ylabel(\"$sigma$(x)\")\n",
    "plt.grid()\n",
    "plt.show()"
   ]
  },
  {
   "cell_type": "code",
   "execution_count": 43,
   "id": "56d6c0f9",
   "metadata": {},
   "outputs": [],
   "source": [
    "diff_sigmoid = derivative(sigmoid, x)"
   ]
  },
  {
   "cell_type": "code",
   "execution_count": 44,
   "id": "a57c4eeb",
   "metadata": {},
   "outputs": [
    {
     "data": {
      "text/plain": [
       "     success: [ True  True ...  True  True]\n",
       "      status: [0 0 ... 0 0]\n",
       "          df: [ 4.540e-05  4.549e-05 ...  4.549e-05  4.540e-05]\n",
       "       error: [ 1.165e-16  1.166e-16 ...  2.673e-15  2.304e-16]\n",
       "         nit: [2 2 ... 2 2]\n",
       "        nfev: [11 11 ... 11 11]\n",
       "           x: [-1.000e+01 -9.998e+00 ...  9.998e+00  1.000e+01]"
      ]
     },
     "execution_count": 44,
     "metadata": {},
     "output_type": "execute_result"
    }
   ],
   "source": [
    "diff_sigmoid"
   ]
  },
  {
   "cell_type": "code",
   "execution_count": 45,
   "id": "d81a2487",
   "metadata": {},
   "outputs": [],
   "source": [
    "dsigmoid = diff_sigmoid.df"
   ]
  },
  {
   "cell_type": "code",
   "execution_count": 46,
   "id": "966fc71a",
   "metadata": {},
   "outputs": [
    {
     "data": {
      "image/png": "[encoded data removed]",
      "text/plain": [
       "<Figure size 1000x600 with 1 Axes>"
      ]
     },
     "metadata": {},
     "output_type": "display_data"
    }
   ],
   "source": [
    "plt.figure(figsize=(10,6))\n",
    "plt.plot(x,y,label=\"sigmoid function\")\n",
    "plt.plot(x,dsigmoid,label=\"differentiation of sigmoid function\")\n",
    "plt.xlabel(\"x\")\n",
    "plt.ylabel(\"\")\n",
    "plt.grid()\n",
    "plt.legend()\n",
    "plt.show()"
   ]
  },
  {
   "cell_type": "code",
   "execution_count": 47,
   "id": "52ce74c7",
   "metadata": {},
   "outputs": [],
   "source": [
    "def mul_func(args):\n",
    "    x,y,z = args\n",
    "    return 3*(x-2)**2 + 4*(y-3)**2 + 5*(z-1)**2"
   ]
  },
  {
   "cell_type": "code",
   "execution_count": 48,
   "id": "42bd21cd",
   "metadata": {},
   "outputs": [],
   "source": [
    "from scipy.optimize import minimize"
   ]
  },
  {
   "cell_type": "code",
   "execution_count": 49,
   "id": "1ec9252b",
   "metadata": {},
   "outputs": [],
   "source": [
    "initial_guess = [1, 1, 1]\n",
    "res = minimize(mul_func, initial_guess)"
   ]
  },
  {
   "cell_type": "code",
   "execution_count": 50,
   "id": "34255b53",
   "metadata": {},
   "outputs": [
    {
     "data": {
      "text/plain": [
       "  message: Optimization terminated successfully.\n",
       "  success: True\n",
       "   status: 0\n",
       "      fun: 6.612549871173688e-16\n",
       "        x: [ 2.000e+00  3.000e+00  1.000e+00]\n",
       "      nit: 10\n",
       "      jac: [ 1.475e-09 -7.735e-10 -1.750e-11]\n",
       " hess_inv: [[ 1.680e-01 -5.313e-04 -9.618e-06]\n",
       "            [-5.313e-04  1.252e-01  3.782e-06]\n",
       "            [-9.618e-06  3.782e-06  1.000e-01]]\n",
       "     nfev: 48\n",
       "     njev: 12"
      ]
     },
     "execution_count": 50,
     "metadata": {},
     "output_type": "execute_result"
    }
   ],
   "source": [
    "res"
   ]
  },
  {
   "cell_type": "code",
   "execution_count": null,
   "id": "55159b81",
   "metadata": {},
   "outputs": [],
   "source": []
  }
 ],
 "metadata": {
  "kernelspec": {
   "display_name": ".venv",
   "language": "python",
   "name": "python3"
  },
  "language_info": {
   "codemirror_mode": {
    "name": "ipython",
    "version": 3
   },
   "file_extension": ".py",
   "mimetype": "text/x-python",
   "name": "python",
   "nbconvert_exporter": "python",
   "pygments_lexer": "ipython3",
   "version": "3.12.9"
  }
 },
 "nbformat": 4,
 "nbformat_minor": 5
}
