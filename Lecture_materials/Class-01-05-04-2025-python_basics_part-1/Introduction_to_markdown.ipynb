{
 "cells": [
  {
   "cell_type": "markdown",
   "id": "ff966105-2a24-4b59-966b-5077708a5a95",
   "metadata": {},
   "source": [
    "# Heading-1\n",
    "\n",
    "## Heading-2\n",
    "\n",
    "### Heading-3\n",
    "\n",
    "#### Heading-4"
   ]
  },
  {
   "cell_type": "markdown",
   "id": "951ccb03-551c-4342-9a2c-4ee6981139e3",
   "metadata": {},
   "source": [
    "This notebook is for demonstrating the cool features of markdown"
   ]
  },
  {
   "cell_type": "markdown",
   "id": "7fa9248b-f55b-43a1-8e78-34f3054ee868",
   "metadata": {},
   "source": [
    "<h1>Head-1</h1>\n",
    "\n",
    "<h2>Heading-2</h2>"
   ]
  },
  {
   "cell_type": "markdown",
   "id": "76bb7ff1-494e-4340-923b-1ae764798105",
   "metadata": {},
   "source": [
    "This *text is italicized*\n",
    "\n",
    "This _text is also italicized_\n",
    "\n",
    "This **statement is in bold**\n",
    "\n",
    "This __statement is also bold__\n",
    "\n",
    "This is ***bold and italicized***\n",
    "\n",
    "This statement is ___also bold and italicized___"
   ]
  },
  {
   "cell_type": "markdown",
   "id": "d9e1ad0c-f77a-4326-a85a-fa34a6b2f54d",
   "metadata": {},
   "source": [
    "Our first python hello world program\n",
    "\n",
    "```python\n",
    "print(\"hello world\")\n",
    "\n",
    "```\n",
    "\n",
    "```shell\n",
    "\n",
    "$ mkdir logicmojo_ds\n",
    "\n",
    "```"
   ]
  },
  {
   "cell_type": "markdown",
   "id": "d009c54f-c979-4505-8bbc-aff7535c10de",
   "metadata": {},
   "source": [
    "> \"To err is human, to forgive is devine\""
   ]
  },
  {
   "cell_type": "markdown",
   "id": "69251138-5405-4bbf-a1f6-3ab27357e7f8",
   "metadata": {},
   "source": [
    "Lists of python packages \n",
    "\n",
    "- numpy\n",
    "- scipy\n",
    "- scikit learn\n",
    "- pytorch\n",
    "- matplotlib"
   ]
  },
  {
   "cell_type": "markdown",
   "id": "cafec7d0-1c28-4e17-b2d9-9ca2d4cf0bdb",
   "metadata": {},
   "source": [
    "These are the things we have covered in the class\n",
    "\n",
    "1. python install\n",
    "2. install vscode\n",
    "3. running .py script\n",
    "4. installing and running jupyter notebook\n",
    "5. introduction to google colab\n",
    "6. intro to markdown"
   ]
  },
  {
   "cell_type": "markdown",
   "id": "c93a51f7-9aba-4234-a1b0-d39bbe67fb78",
   "metadata": {},
   "source": [
    "To know more about markdown go to the website: [markdown guide](https://www.markdownguide.org/basic-syntax/)"
   ]
  },
  {
   "cell_type": "markdown",
   "id": "55780d77-274e-4dc7-88a0-c9425c04d215",
   "metadata": {},
   "source": [
    "Inserting image\n",
    "\n",
    "![python image](.\\Python-Logo.jpg)"
   ]
  },
  {
   "cell_type": "markdown",
   "id": "fa3b1b64-2be0-45b2-b3c1-46d2dcfd79f4",
   "metadata": {},
   "source": [
    "![img](https://1000logos.net/wp-content/uploads/2020/08/Python-Logo.jpg)"
   ]
  },
  {
   "cell_type": "markdown",
   "id": "32e32baf-ecf0-4a41-8cc2-44ff7048195e",
   "metadata": {},
   "source": [
    "![hp](https://encrypted-tbn0.gstatic.com/images?q=tbn:ANd9GcRBxIPqjB9wGeOeipRe2gT7FiXZighUaFLsZg&s)"
   ]
  },
  {
   "cell_type": "markdown",
   "id": "f6476df6-7db8-402a-95bd-1ec495932edc",
   "metadata": {},
   "source": [
    "$$ a^2 + b^2 = c^2 $$\n",
    "\n",
    "$$ x = \\frac{-b \\pm \\sqrt{(b^2 - 4ac)}} {2a} $$"
   ]
  },
  {
   "cell_type": "markdown",
   "id": "b36ab567-e20b-44d9-8434-343c5aa7303c",
   "metadata": {},
   "source": [
    "Here you can learn more about latex: [overleaf](https://www.overleaf.com/learn/latex/Learn_LaTeX_in_30_minutes)"
   ]
  },
  {
   "cell_type": "code",
   "execution_count": null,
   "id": "67f18a12-d700-489f-94d5-7f1f2ac1f65b",
   "metadata": {},
   "outputs": [],
   "source": []
  }
 ],
 "metadata": {
  "kernelspec": {
   "display_name": "Python 3 (ipykernel)",
   "language": "python",
   "name": "python3"
  },
  "language_info": {
   "codemirror_mode": {
    "name": "ipython",
    "version": 3
   },
   "file_extension": ".py",
   "mimetype": "text/x-python",
   "name": "python",
   "nbconvert_exporter": "python",
   "pygments_lexer": "ipython3",
   "version": "3.12.9"
  }
 },
 "nbformat": 4,
 "nbformat_minor": 5
}
