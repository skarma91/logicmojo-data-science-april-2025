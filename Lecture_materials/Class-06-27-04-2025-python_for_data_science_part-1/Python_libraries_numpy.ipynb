{
 "cells": [
  {
   "cell_type": "markdown",
   "id": "edee1ef0-2033-42f4-a3b5-d0bafac2e32f",
   "metadata": {},
   "source": [
    "### Importing libraries\n",
    "\n",
    "Library in python is a collection of classes and corresponding methods."
   ]
  },
  {
   "cell_type": "code",
   "execution_count": 3,
   "id": "48fbb6bc-dc91-4227-a37f-86e6667bd52f",
   "metadata": {},
   "outputs": [],
   "source": [
    "from operations import Person, Employee"
   ]
  },
  {
   "cell_type": "code",
   "execution_count": 4,
   "id": "64f3e648-e675-477f-b595-73fa1e7c7467",
   "metadata": {},
   "outputs": [],
   "source": [
    "p1 = Person(\"Amit\", 29, \"Indian\", ['music', 'guitar'])"
   ]
  },
  {
   "cell_type": "code",
   "execution_count": 5,
   "id": "157e61c2-16bf-44cc-a564-49a73ca619dd",
   "metadata": {},
   "outputs": [
    {
     "name": "stdout",
     "output_type": "stream",
     "text": [
      "Skills are: ['music', 'guitar']\n"
     ]
    }
   ],
   "source": [
    "p1.show_skills()"
   ]
  },
  {
   "cell_type": "code",
   "execution_count": 6,
   "id": "2f43bd07-cfd8-4ae9-9197-d874029d533d",
   "metadata": {},
   "outputs": [
    {
     "data": {
      "text/plain": [
       "<operations.Person at 0x213234da750>"
      ]
     },
     "execution_count": 6,
     "metadata": {},
     "output_type": "execute_result"
    }
   ],
   "source": [
    "p1"
   ]
  },
  {
   "cell_type": "code",
   "execution_count": 1,
   "id": "8fbf56ad-7489-4cfb-ad26-dc59b0917708",
   "metadata": {},
   "outputs": [],
   "source": [
    "from operations import do_some_operation"
   ]
  },
  {
   "cell_type": "code",
   "execution_count": 2,
   "id": "7b800d10-5e9d-445a-bddc-e1be6f0a59a6",
   "metadata": {},
   "outputs": [
    {
     "data": {
      "text/plain": [
       "22"
      ]
     },
     "execution_count": 2,
     "metadata": {},
     "output_type": "execute_result"
    }
   ],
   "source": [
    "do_some_operation(4)"
   ]
  },
  {
   "cell_type": "code",
   "execution_count": 4,
   "id": "830c3241-0f75-4e3c-aa61-b122738fbb52",
   "metadata": {},
   "outputs": [
    {
     "data": {
      "text/plain": [
       "32"
      ]
     },
     "execution_count": 4,
     "metadata": {},
     "output_type": "execute_result"
    }
   ],
   "source": [
    "do_some_operation(5)"
   ]
  },
  {
   "cell_type": "code",
   "execution_count": 6,
   "id": "7665ecea-a356-4728-9115-435fb14ec0ee",
   "metadata": {},
   "outputs": [],
   "source": [
    "from operations import *    # imports everything from the package (library)"
   ]
  },
  {
   "cell_type": "code",
   "execution_count": null,
   "id": "7cd6a4b0-1b46-47c5-8401-335d4efd8330",
   "metadata": {},
   "outputs": [],
   "source": [
    "Person"
   ]
  },
  {
   "cell_type": "code",
   "execution_count": 1,
   "id": "c609d7cf-a3ed-4c67-a646-94200e5ef5e0",
   "metadata": {},
   "outputs": [],
   "source": [
    "import operations # Referring to the library. To refer any class or functions within the library you need to call it by <package_name>.<class_name>\n",
    "\n",
    "p = operations.Person(\"Ria\", 28, \"Indian\", [\"singing\", \"dancing\"])"
   ]
  },
  {
   "cell_type": "code",
   "execution_count": 2,
   "id": "7f952559-2b7e-4c3a-9d02-1b136e1618d7",
   "metadata": {},
   "outputs": [
    {
     "data": {
      "text/plain": [
       "<operations.Person at 0x213234d83b0>"
      ]
     },
     "execution_count": 2,
     "metadata": {},
     "output_type": "execute_result"
    }
   ],
   "source": [
    "p"
   ]
  },
  {
   "cell_type": "code",
   "execution_count": 7,
   "id": "23a0e2d9-d0fa-45e3-8cb2-a0ae600a73f0",
   "metadata": {},
   "outputs": [],
   "source": [
    "# Aliasing the package\n",
    "\n",
    "import operations as ops  # ops is the alias to the package operations"
   ]
  },
  {
   "cell_type": "code",
   "execution_count": 8,
   "id": "a8c915ea-6910-4125-bd25-d1591986b357",
   "metadata": {},
   "outputs": [
    {
     "data": {
      "text/plain": [
       "112"
      ]
     },
     "execution_count": 8,
     "metadata": {},
     "output_type": "execute_result"
    }
   ],
   "source": [
    "ops.do_some_operation(10)"
   ]
  },
  {
   "cell_type": "code",
   "execution_count": 9,
   "id": "c417200e-a097-4164-aaf0-6b2bc37eae35",
   "metadata": {},
   "outputs": [],
   "source": [
    "import math"
   ]
  },
  {
   "cell_type": "code",
   "execution_count": 10,
   "id": "4b825b4f-87ff-4252-810b-6af7ae783b63",
   "metadata": {},
   "outputs": [
    {
     "data": {
      "text/plain": [
       "3.141592653589793"
      ]
     },
     "execution_count": 10,
     "metadata": {},
     "output_type": "execute_result"
    }
   ],
   "source": [
    "math.pi"
   ]
  },
  {
   "cell_type": "code",
   "execution_count": 11,
   "id": "b6d41ca9-9419-49ed-bd7e-26d29af539c4",
   "metadata": {},
   "outputs": [
    {
     "data": {
      "text/plain": [
       "14.0"
      ]
     },
     "execution_count": 11,
     "metadata": {},
     "output_type": "execute_result"
    }
   ],
   "source": [
    "math.sqrt(196)"
   ]
  },
  {
   "cell_type": "code",
   "execution_count": 12,
   "id": "e6c610b7-b05f-424a-880f-88634203485c",
   "metadata": {},
   "outputs": [
    {
     "data": {
      "text/plain": [
       "20"
      ]
     },
     "execution_count": 12,
     "metadata": {},
     "output_type": "execute_result"
    }
   ],
   "source": [
    "math.isqrt(400)"
   ]
  },
  {
   "cell_type": "code",
   "execution_count": 13,
   "id": "b1d55994-f36c-47c5-b642-434b5701e0e4",
   "metadata": {},
   "outputs": [
    {
     "data": {
      "text/plain": [
       "81.0"
      ]
     },
     "execution_count": 13,
     "metadata": {},
     "output_type": "execute_result"
    }
   ],
   "source": [
    "math.pow(3,4)"
   ]
  },
  {
   "cell_type": "code",
   "execution_count": 14,
   "id": "4567d1c9-e674-41c3-80ca-f59a9483c558",
   "metadata": {},
   "outputs": [
    {
     "data": {
      "text/plain": [
       "4.605170185988092"
      ]
     },
     "execution_count": 14,
     "metadata": {},
     "output_type": "execute_result"
    }
   ],
   "source": [
    "math.log(100)  # natural logarithm"
   ]
  },
  {
   "cell_type": "code",
   "execution_count": 15,
   "id": "a3c4ca32-34e5-468a-90a3-d3b6de288b26",
   "metadata": {},
   "outputs": [
    {
     "data": {
      "text/plain": [
       "1096.6331584284585"
      ]
     },
     "execution_count": 15,
     "metadata": {},
     "output_type": "execute_result"
    }
   ],
   "source": [
    "math.exp(7)  # e^7"
   ]
  },
  {
   "cell_type": "markdown",
   "id": "afd85b15-eb86-413b-91cc-bbc21e4a6339",
   "metadata": {},
   "source": [
    "[Documentation of math module (package / library)](https://docs.python.org/3/library/math.html)"
   ]
  },
  {
   "cell_type": "code",
   "execution_count": 16,
   "id": "cfd24465-a167-45a6-b50e-0546a130c495",
   "metadata": {},
   "outputs": [],
   "source": [
    "import string"
   ]
  },
  {
   "cell_type": "code",
   "execution_count": 17,
   "id": "5e83965d-accd-4dcf-b975-862565a67133",
   "metadata": {},
   "outputs": [
    {
     "data": {
      "text/plain": [
       "'abcdefghijklmnopqrstuvwxyzABCDEFGHIJKLMNOPQRSTUVWXYZ'"
      ]
     },
     "execution_count": 17,
     "metadata": {},
     "output_type": "execute_result"
    }
   ],
   "source": [
    "string.ascii_letters"
   ]
  },
  {
   "cell_type": "code",
   "execution_count": 18,
   "id": "5ad78abb-1c76-412a-b0e2-6b0b113867f1",
   "metadata": {},
   "outputs": [
    {
     "data": {
      "text/plain": [
       "'abcdefghijklmnopqrstuvwxyz'"
      ]
     },
     "execution_count": 18,
     "metadata": {},
     "output_type": "execute_result"
    }
   ],
   "source": [
    "string.ascii_lowercase"
   ]
  },
  {
   "cell_type": "code",
   "execution_count": 19,
   "id": "c4434ed5-ea59-4dd7-8e00-c1b2bba92ab8",
   "metadata": {},
   "outputs": [
    {
     "data": {
      "text/plain": [
       "'ABCDEFGHIJKLMNOPQRSTUVWXYZ'"
      ]
     },
     "execution_count": 19,
     "metadata": {},
     "output_type": "execute_result"
    }
   ],
   "source": [
    "string.ascii_uppercase"
   ]
  },
  {
   "cell_type": "code",
   "execution_count": 20,
   "id": "00077c79-8a53-469b-af01-9e8b33f4558a",
   "metadata": {},
   "outputs": [
    {
     "data": {
      "text/plain": [
       "'0123456789'"
      ]
     },
     "execution_count": 20,
     "metadata": {},
     "output_type": "execute_result"
    }
   ],
   "source": [
    "string.digits"
   ]
  },
  {
   "cell_type": "code",
   "execution_count": 21,
   "id": "af85a08f-8ac3-4110-aac8-6ed1e9a5a519",
   "metadata": {},
   "outputs": [
    {
     "data": {
      "text/plain": [
       "'!\"#$%&\\'()*+,-./:;<=>?@[\\\\]^_`{|}~'"
      ]
     },
     "execution_count": 21,
     "metadata": {},
     "output_type": "execute_result"
    }
   ],
   "source": [
    "string.punctuation"
   ]
  },
  {
   "cell_type": "code",
   "execution_count": 25,
   "id": "ca4e1c9b-5b77-426d-8e35-4113008cc4b4",
   "metadata": {},
   "outputs": [],
   "source": [
    "s = \"this is a great c@ountry. we live #here since I$ was young. I live with my wife, and two dogs.\""
   ]
  },
  {
   "cell_type": "code",
   "execution_count": 26,
   "id": "ee882911-e364-46c1-890b-b128ec77eaa3",
   "metadata": {},
   "outputs": [],
   "source": [
    "punc_count = 0\n",
    "\n",
    "for i in range(len(s)):\n",
    "    if s[i] in string.punctuation:\n",
    "        punc_count += 1"
   ]
  },
  {
   "cell_type": "code",
   "execution_count": 27,
   "id": "b450ceb5-1461-42c5-8494-a58a36aa36d9",
   "metadata": {},
   "outputs": [
    {
     "data": {
      "text/plain": [
       "7"
      ]
     },
     "execution_count": 27,
     "metadata": {},
     "output_type": "execute_result"
    }
   ],
   "source": [
    "punc_count"
   ]
  },
  {
   "cell_type": "markdown",
   "id": "9401ac92-a21e-4d92-a5f2-f66eaddaf35f",
   "metadata": {},
   "source": [
    "[Documentation of String module.](https://docs.python.org/3/library/string.html)"
   ]
  },
  {
   "cell_type": "markdown",
   "id": "b8177a4b-4802-4538-bf79-5478603b385f",
   "metadata": {},
   "source": [
    "## NumPy\n",
    "\n",
    "- NumPy is a python library that provides a simple yet powerful data structure: **n-dimesnional array**\n",
    "- This is the foundaton on which almost all of the power of Python's data science toolkit is built.\n",
    "- The official documentation of numpy: [numpy.org](https://numpy.org/)"
   ]
  },
  {
   "cell_type": "code",
   "execution_count": 1,
   "id": "a1916512-f7dc-4718-808c-08f9d72eeb95",
   "metadata": {},
   "outputs": [],
   "source": [
    "# import numpy\n",
    "\n",
    "import numpy as np"
   ]
  },
  {
   "cell_type": "markdown",
   "id": "a7ad7d20-6cbb-4fcc-af2b-c954870710f7",
   "metadata": {},
   "source": [
    "### Creating numpy array from list"
   ]
  },
  {
   "cell_type": "code",
   "execution_count": 2,
   "id": "c7b1cea7-08aa-43c7-9e91-d6cd2c5d7010",
   "metadata": {},
   "outputs": [],
   "source": [
    "list_1 = [2, 4, 3, 6, 8, 7]\n",
    "\n",
    "x = np.array(list_1)"
   ]
  },
  {
   "cell_type": "code",
   "execution_count": 4,
   "id": "9bdb29e0-9a5d-4591-b930-c8bf47168a86",
   "metadata": {},
   "outputs": [
    {
     "name": "stdout",
     "output_type": "stream",
     "text": [
      "<class 'list'>\n"
     ]
    }
   ],
   "source": [
    "print(type(list_1))"
   ]
  },
  {
   "cell_type": "code",
   "execution_count": 5,
   "id": "c888ba8b-8809-4efc-a0dc-acf5f79ed369",
   "metadata": {},
   "outputs": [
    {
     "name": "stdout",
     "output_type": "stream",
     "text": [
      "<class 'numpy.ndarray'>\n"
     ]
    }
   ],
   "source": [
    "print(type(x))"
   ]
  },
  {
   "cell_type": "code",
   "execution_count": 6,
   "id": "205e0049-b4fc-4e56-a576-07f2e68054fa",
   "metadata": {},
   "outputs": [
    {
     "data": {
      "text/plain": [
       "array([2, 4, 3, 6, 8, 7])"
      ]
     },
     "execution_count": 6,
     "metadata": {},
     "output_type": "execute_result"
    }
   ],
   "source": [
    "x"
   ]
  },
  {
   "cell_type": "code",
   "execution_count": 26,
   "id": "12747f13-ccb3-492c-b3f5-1ac4c0e60246",
   "metadata": {},
   "outputs": [],
   "source": [
    "list_2 = [[1, 2, 3], [4, 5, 6]]  # 2D list (list of lists)"
   ]
  },
  {
   "cell_type": "code",
   "execution_count": 27,
   "id": "4e2e8575-2add-4dad-94b0-d1744a1fbc1b",
   "metadata": {},
   "outputs": [],
   "source": [
    "y = np.array(list_2) # 2D array"
   ]
  },
  {
   "cell_type": "code",
   "execution_count": 9,
   "id": "b19f1b57-26a3-4012-80bb-c26794f73288",
   "metadata": {},
   "outputs": [
    {
     "data": {
      "text/plain": [
       "array([[1, 2, 3],\n",
       "       [4, 5, 6]])"
      ]
     },
     "execution_count": 9,
     "metadata": {},
     "output_type": "execute_result"
    }
   ],
   "source": [
    "y"
   ]
  },
  {
   "cell_type": "code",
   "execution_count": 13,
   "id": "c16eda40-ea7a-477f-85a5-bdd96d422650",
   "metadata": {},
   "outputs": [
    {
     "name": "stdout",
     "output_type": "stream",
     "text": [
      "<class 'numpy.ndarray'>\n"
     ]
    }
   ],
   "source": [
    "print(type(y))"
   ]
  },
  {
   "cell_type": "code",
   "execution_count": 15,
   "id": "7404ddbb-5d20-4e6e-a414-18e6fd577dc2",
   "metadata": {},
   "outputs": [
    {
     "data": {
      "text/plain": [
       "[[[1, 2, 3], [4, 5, 6]], [[-1, 2, -3], [4, -5, 6]], [[2, 4, 5], [3, 4, 5]]]"
      ]
     },
     "execution_count": 15,
     "metadata": {},
     "output_type": "execute_result"
    }
   ],
   "source": [
    "list_3d = [[[1, 2, 3], [4, 5, 6]], [[-1, 2, -3], [4, -5, 6]], [[2, 4, 5], [3, 4, 5]]] # 3D list (list of lists of lists)\n",
    "\n",
    "list_3d"
   ]
  },
  {
   "cell_type": "code",
   "execution_count": 17,
   "id": "29e8c690-f2a3-49b5-b2e4-943dfaeb7b74",
   "metadata": {},
   "outputs": [
    {
     "name": "stdout",
     "output_type": "stream",
     "text": [
      "<class 'numpy.ndarray'>\n"
     ]
    }
   ],
   "source": [
    "z = np.array(list_3d)  # 3D array\n",
    "\n",
    "print(type(z)) "
   ]
  },
  {
   "cell_type": "code",
   "execution_count": 18,
   "id": "b7b70a85-dc48-428e-88a8-d87e3b83d200",
   "metadata": {},
   "outputs": [
    {
     "data": {
      "text/plain": [
       "array([[[ 1,  2,  3],\n",
       "        [ 4,  5,  6]],\n",
       "\n",
       "       [[-1,  2, -3],\n",
       "        [ 4, -5,  6]],\n",
       "\n",
       "       [[ 2,  4,  5],\n",
       "        [ 3,  4,  5]]])"
      ]
     },
     "execution_count": 18,
     "metadata": {},
     "output_type": "execute_result"
    }
   ],
   "source": [
    "z"
   ]
  },
  {
   "cell_type": "code",
   "execution_count": 20,
   "id": "36d19543-3719-4978-b58a-0246d5cb5bd7",
   "metadata": {},
   "outputs": [
    {
     "data": {
      "text/plain": [
       "(6,)"
      ]
     },
     "execution_count": 20,
     "metadata": {},
     "output_type": "execute_result"
    }
   ],
   "source": [
    "x.shape  # return a tuple containing the shape of the array"
   ]
  },
  {
   "cell_type": "code",
   "execution_count": 21,
   "id": "6a011968-05ae-4c73-8016-eb75c79ae6bc",
   "metadata": {},
   "outputs": [
    {
     "data": {
      "text/plain": [
       "(2, 3)"
      ]
     },
     "execution_count": 21,
     "metadata": {},
     "output_type": "execute_result"
    }
   ],
   "source": [
    "y.shape"
   ]
  },
  {
   "cell_type": "code",
   "execution_count": 22,
   "id": "68ab680d-fded-4619-b1aa-b1c5d8ce662d",
   "metadata": {},
   "outputs": [
    {
     "data": {
      "text/plain": [
       "(3, 2, 3)"
      ]
     },
     "execution_count": 22,
     "metadata": {},
     "output_type": "execute_result"
    }
   ],
   "source": [
    "z.shape"
   ]
  },
  {
   "cell_type": "markdown",
   "id": "ec06c2e9-ebcd-496f-b5be-1660369db927",
   "metadata": {},
   "source": [
    "### Create NumPy array from linearly spaced data\n",
    "\n",
    "We will use `numpy.linspace` function for it"
   ]
  },
  {
   "cell_type": "code",
   "execution_count": 28,
   "id": "44cfedae-232f-4a31-af83-a250f80b99a1",
   "metadata": {},
   "outputs": [
    {
     "data": {
      "text/plain": [
       "array([  0.,   5.,  10.,  15.,  20.,  25.,  30.,  35.,  40.,  45.,  50.,\n",
       "        55.,  60.,  65.,  70.,  75.,  80.,  85.,  90.,  95., 100.])"
      ]
     },
     "execution_count": 28,
     "metadata": {},
     "output_type": "execute_result"
    }
   ],
   "source": [
    "a = np.linspace(start=0, stop=100, num=21)   # both start and stop are included\n",
    "\n",
    "a"
   ]
  },
  {
   "cell_type": "code",
   "execution_count": 29,
   "id": "3df966bc-bf28-48de-b7b1-6f89a46757d4",
   "metadata": {},
   "outputs": [
    {
     "data": {
      "text/plain": [
       "array([ 20.        ,  36.55172414,  53.10344828,  69.65517241,\n",
       "        86.20689655, 102.75862069, 119.31034483, 135.86206897,\n",
       "       152.4137931 , 168.96551724, 185.51724138, 202.06896552,\n",
       "       218.62068966, 235.17241379, 251.72413793, 268.27586207,\n",
       "       284.82758621, 301.37931034, 317.93103448, 334.48275862,\n",
       "       351.03448276, 367.5862069 , 384.13793103, 400.68965517,\n",
       "       417.24137931, 433.79310345, 450.34482759, 466.89655172,\n",
       "       483.44827586, 500.        ])"
      ]
     },
     "execution_count": 29,
     "metadata": {},
     "output_type": "execute_result"
    }
   ],
   "source": [
    "b = np.linspace(start=20, stop=500, num=30)   # both start and stop are included\n",
    "\n",
    "b"
   ]
  },
  {
   "cell_type": "code",
   "execution_count": 61,
   "id": "0a65df70-b8ad-4f11-a115-55e76667da8c",
   "metadata": {},
   "outputs": [
    {
     "data": {
      "text/plain": [
       "array([ 200.        ,  193.87755102,  187.75510204,  181.63265306,\n",
       "        175.51020408,  169.3877551 ,  163.26530612,  157.14285714,\n",
       "        151.02040816,  144.89795918,  138.7755102 ,  132.65306122,\n",
       "        126.53061224,  120.40816327,  114.28571429,  108.16326531,\n",
       "        102.04081633,   95.91836735,   89.79591837,   83.67346939,\n",
       "         77.55102041,   71.42857143,   65.30612245,   59.18367347,\n",
       "         53.06122449,   46.93877551,   40.81632653,   34.69387755,\n",
       "         28.57142857,   22.44897959,   16.32653061,   10.20408163,\n",
       "          4.08163265,   -2.04081633,   -8.16326531,  -14.28571429,\n",
       "        -20.40816327,  -26.53061224,  -32.65306122,  -38.7755102 ,\n",
       "        -44.89795918,  -51.02040816,  -57.14285714,  -63.26530612,\n",
       "        -69.3877551 ,  -75.51020408,  -81.63265306,  -87.75510204,\n",
       "        -93.87755102, -100.        ])"
      ]
     },
     "execution_count": 61,
     "metadata": {},
     "output_type": "execute_result"
    }
   ],
   "source": [
    "b = np.linspace(start=200, stop=-100, num=50)\n",
    "\n",
    "b"
   ]
  },
  {
   "cell_type": "markdown",
   "id": "fcd85c78-7aba-4eeb-bc22-de4845174c8c",
   "metadata": {},
   "source": [
    "### NumPy data type\n",
    "\n",
    "`numpy.ndarray` is the fundamental data type of numpy.\n",
    "\n",
    "ndarray is different from python's native list in the following way.\n",
    "\n",
    "- ndarray only accepts homogenous data type\n",
    "- The data within the ndarray must be on the dtypes provided by numpy\n",
    "\n",
    "few popular dtypes are:\n",
    "\n",
    "- float64\n",
    "- int64\n",
    "- int32\n",
    "- bool\n",
    "- datetime\n",
    "and many more"
   ]
  },
  {
   "cell_type": "code",
   "execution_count": 30,
   "id": "7b4a2abb-0265-4246-9630-eaeb55d506e9",
   "metadata": {},
   "outputs": [
    {
     "data": {
      "text/plain": [
       "array([2, 4, 3, 6, 8, 7])"
      ]
     },
     "execution_count": 30,
     "metadata": {},
     "output_type": "execute_result"
    }
   ],
   "source": [
    "x"
   ]
  },
  {
   "cell_type": "code",
   "execution_count": 31,
   "id": "95e1069d-9780-4362-bcea-9d575285f6b1",
   "metadata": {},
   "outputs": [
    {
     "data": {
      "text/plain": [
       "numpy.int64"
      ]
     },
     "execution_count": 31,
     "metadata": {},
     "output_type": "execute_result"
    }
   ],
   "source": [
    "type(x[0])"
   ]
  },
  {
   "cell_type": "code",
   "execution_count": 33,
   "id": "4670f0d4-92b0-4a00-a46d-c7acec2dc244",
   "metadata": {},
   "outputs": [],
   "source": [
    "z = np.array([1,2,3], dtype='int32')"
   ]
  },
  {
   "cell_type": "code",
   "execution_count": 34,
   "id": "10d0c015-5029-432c-8042-5949a8a352a4",
   "metadata": {},
   "outputs": [
    {
     "data": {
      "text/plain": [
       "numpy.int32"
      ]
     },
     "execution_count": 34,
     "metadata": {},
     "output_type": "execute_result"
    }
   ],
   "source": [
    "type(z[0])"
   ]
  },
  {
   "cell_type": "code",
   "execution_count": 37,
   "id": "e31de218-5440-4e33-9e25-15600b737bb3",
   "metadata": {},
   "outputs": [
    {
     "data": {
      "text/plain": [
       "array([3., 4., 7.], dtype=float32)"
      ]
     },
     "execution_count": 37,
     "metadata": {},
     "output_type": "execute_result"
    }
   ],
   "source": [
    "y = np.array([3,4,7], dtype='float32')\n",
    "\n",
    "y"
   ]
  },
  {
   "cell_type": "code",
   "execution_count": 38,
   "id": "b3813d8b-50cb-4d43-9e1e-f51bb3d21f34",
   "metadata": {},
   "outputs": [
    {
     "data": {
      "text/plain": [
       "numpy.float32"
      ]
     },
     "execution_count": 38,
     "metadata": {},
     "output_type": "execute_result"
    }
   ],
   "source": [
    "type(y[0])"
   ]
  },
  {
   "cell_type": "code",
   "execution_count": 39,
   "id": "a04f7603-1f88-4c40-80ea-385606cf217a",
   "metadata": {},
   "outputs": [],
   "source": [
    "c = np.array([0, 1, 1, 0, 0], dtype='bool')"
   ]
  },
  {
   "cell_type": "code",
   "execution_count": 40,
   "id": "f20e5e07-112e-40fe-aecc-5e5e091c7980",
   "metadata": {},
   "outputs": [
    {
     "data": {
      "text/plain": [
       "array([False,  True,  True, False, False])"
      ]
     },
     "execution_count": 40,
     "metadata": {},
     "output_type": "execute_result"
    }
   ],
   "source": [
    "c"
   ]
  },
  {
   "cell_type": "code",
   "execution_count": 41,
   "id": "14c0c796-371b-4e30-a8aa-dde5d1c9cf0f",
   "metadata": {},
   "outputs": [
    {
     "data": {
      "text/plain": [
       "numpy.bool"
      ]
     },
     "execution_count": 41,
     "metadata": {},
     "output_type": "execute_result"
    }
   ],
   "source": [
    "type(c[0])"
   ]
  },
  {
   "cell_type": "code",
   "execution_count": 46,
   "id": "806b6708-64ca-451b-be0e-447080ac7177",
   "metadata": {},
   "outputs": [],
   "source": [
    "d = np.array([5, -1, 1, 0, 0], dtype='bool')"
   ]
  },
  {
   "cell_type": "code",
   "execution_count": 47,
   "id": "2c777555-3c6b-439d-9ac9-d447d4d2fc80",
   "metadata": {},
   "outputs": [
    {
     "data": {
      "text/plain": [
       "array([ True,  True,  True, False, False])"
      ]
     },
     "execution_count": 47,
     "metadata": {},
     "output_type": "execute_result"
    }
   ],
   "source": [
    "d"
   ]
  },
  {
   "cell_type": "markdown",
   "id": "60193edd-fc0a-4aa1-90ed-10e44b87f926",
   "metadata": {},
   "source": [
    "### Creating arrays with all the zero values"
   ]
  },
  {
   "cell_type": "code",
   "execution_count": 54,
   "id": "e1b74127-d9c2-493b-9ffe-b0964013e476",
   "metadata": {},
   "outputs": [
    {
     "data": {
      "text/plain": [
       "array([0, 0, 0, 0])"
      ]
     },
     "execution_count": 54,
     "metadata": {},
     "output_type": "execute_result"
    }
   ],
   "source": [
    "np.zeros((4,), dtype='int') # array initialized with zero"
   ]
  },
  {
   "cell_type": "code",
   "execution_count": 49,
   "id": "1838e898-428f-4740-8eaa-c09e267a3827",
   "metadata": {},
   "outputs": [
    {
     "data": {
      "text/plain": [
       "array([[0., 0.],\n",
       "       [0., 0.],\n",
       "       [0., 0.]])"
      ]
     },
     "execution_count": 49,
     "metadata": {},
     "output_type": "execute_result"
    }
   ],
   "source": [
    "np.zeros((3,2))"
   ]
  },
  {
   "cell_type": "code",
   "execution_count": 51,
   "id": "f9e95706-134d-440a-b480-c6a87f3ab024",
   "metadata": {},
   "outputs": [
    {
     "data": {
      "text/plain": [
       "array([6.23042070e-307, 4.67296746e-307, 1.69121096e-306, 1.14243327e-311,\n",
       "       0.00000000e+000])"
      ]
     },
     "execution_count": 51,
     "metadata": {},
     "output_type": "execute_result"
    }
   ],
   "source": [
    "np.empty((5,)) # uninitialized"
   ]
  },
  {
   "cell_type": "code",
   "execution_count": 55,
   "id": "24922343-00a7-4983-9e3c-9c3f8dd27ddf",
   "metadata": {},
   "outputs": [
    {
     "data": {
      "text/plain": [
       "array([[1, 2, 3],\n",
       "       [4, 5, 6],\n",
       "       [7, 8, 9]])"
      ]
     },
     "execution_count": 55,
     "metadata": {},
     "output_type": "execute_result"
    }
   ],
   "source": [
    "v = np.array([[1,2,3], [4,5,6], [7,8,9]])\n",
    "\n",
    "v"
   ]
  },
  {
   "cell_type": "code",
   "execution_count": 56,
   "id": "49c80ce1-c3ce-48ed-b173-006105f01116",
   "metadata": {},
   "outputs": [
    {
     "data": {
      "text/plain": [
       "(3, 3)"
      ]
     },
     "execution_count": 56,
     "metadata": {},
     "output_type": "execute_result"
    }
   ],
   "source": [
    "v.shape"
   ]
  },
  {
   "cell_type": "code",
   "execution_count": 57,
   "id": "52537434-6f18-4b49-9aef-3d834b16e151",
   "metadata": {},
   "outputs": [
    {
     "data": {
      "text/plain": [
       "array([[0, 0, 0],\n",
       "       [0, 0, 0],\n",
       "       [0, 0, 0]])"
      ]
     },
     "execution_count": 57,
     "metadata": {},
     "output_type": "execute_result"
    }
   ],
   "source": [
    "u = np.zeros_like(v)\n",
    "\n",
    "u"
   ]
  },
  {
   "cell_type": "markdown",
   "id": "047b5c9b-034e-48cd-adc5-0dd4ff58b6e0",
   "metadata": {},
   "source": [
    "### Creating arrays with all ones"
   ]
  },
  {
   "cell_type": "code",
   "execution_count": 52,
   "id": "4f9b31c0-be32-4b52-a9ed-407cf972cc1a",
   "metadata": {},
   "outputs": [
    {
     "data": {
      "text/plain": [
       "array([1., 1., 1., 1., 1., 1., 1.])"
      ]
     },
     "execution_count": 52,
     "metadata": {},
     "output_type": "execute_result"
    }
   ],
   "source": [
    "np.ones((7,))"
   ]
  },
  {
   "cell_type": "code",
   "execution_count": 58,
   "id": "d116590f-bf04-416c-ba76-0dc0640eadc6",
   "metadata": {},
   "outputs": [
    {
     "data": {
      "text/plain": [
       "array([[1, 1, 1],\n",
       "       [1, 1, 1],\n",
       "       [1, 1, 1]])"
      ]
     },
     "execution_count": 58,
     "metadata": {},
     "output_type": "execute_result"
    }
   ],
   "source": [
    "np.ones_like(v)"
   ]
  },
  {
   "cell_type": "markdown",
   "id": "9f797da5-bc35-42da-82ec-58b7575f1c5d",
   "metadata": {},
   "source": [
    "### Identity matrix"
   ]
  },
  {
   "cell_type": "code",
   "execution_count": 59,
   "id": "7ccd52a7-b1ad-46b4-98d9-b95d617a99af",
   "metadata": {},
   "outputs": [
    {
     "data": {
      "text/plain": [
       "array([[1., 0., 0., 0.],\n",
       "       [0., 1., 0., 0.],\n",
       "       [0., 0., 1., 0.],\n",
       "       [0., 0., 0., 1.]])"
      ]
     },
     "execution_count": 59,
     "metadata": {},
     "output_type": "execute_result"
    }
   ],
   "source": [
    "np.identity(4)"
   ]
  },
  {
   "cell_type": "code",
   "execution_count": 60,
   "id": "5392da51-aef0-421b-b8ce-bc8428560178",
   "metadata": {},
   "outputs": [
    {
     "data": {
      "text/plain": [
       "array([[1., 0., 0., 0., 0.],\n",
       "       [0., 1., 0., 0., 0.],\n",
       "       [0., 0., 1., 0., 0.],\n",
       "       [0., 0., 0., 1., 0.],\n",
       "       [0., 0., 0., 0., 1.]])"
      ]
     },
     "execution_count": 60,
     "metadata": {},
     "output_type": "execute_result"
    }
   ],
   "source": [
    "np.eye(5)  # alias to the function np.identity"
   ]
  },
  {
   "cell_type": "markdown",
   "id": "34e11568-66c3-455b-b04a-14b7c97e2b44",
   "metadata": {},
   "source": [
    "### numpy.arrange"
   ]
  },
  {
   "cell_type": "code",
   "execution_count": 63,
   "id": "89a3426d-aa5b-4a33-82a5-3fb918a730dc",
   "metadata": {},
   "outputs": [
    {
     "data": {
      "text/plain": [
       "array([0, 3, 6, 9])"
      ]
     },
     "execution_count": 63,
     "metadata": {},
     "output_type": "execute_result"
    }
   ],
   "source": [
    "np.arange(start=0, stop=10, step=3)  # stop is excluded, start is included. "
   ]
  },
  {
   "cell_type": "markdown",
   "id": "4620595c-dff3-43af-9003-3879ee8b8faa",
   "metadata": {},
   "source": [
    "## Shape and axis"
   ]
  },
  {
   "cell_type": "code",
   "execution_count": 64,
   "id": "04edeb00-6ea6-47e0-82e3-869b74c2a81f",
   "metadata": {},
   "outputs": [],
   "source": [
    "x2d = np.array([[2, 3, 4], [9, 8, 7]])"
   ]
  },
  {
   "cell_type": "code",
   "execution_count": 65,
   "id": "2bff747d-3d5e-4826-8a29-559986669817",
   "metadata": {},
   "outputs": [
    {
     "data": {
      "text/plain": [
       "array([[2, 3, 4],\n",
       "       [9, 8, 7]])"
      ]
     },
     "execution_count": 65,
     "metadata": {},
     "output_type": "execute_result"
    }
   ],
   "source": [
    "x2d"
   ]
  },
  {
   "cell_type": "code",
   "execution_count": 66,
   "id": "4cfd9ae0-10d8-402c-bdc4-1c08ec3afdfc",
   "metadata": {},
   "outputs": [
    {
     "data": {
      "text/plain": [
       "(2, 3)"
      ]
     },
     "execution_count": 66,
     "metadata": {},
     "output_type": "execute_result"
    }
   ],
   "source": [
    "x2d.shape"
   ]
  },
  {
   "cell_type": "code",
   "execution_count": 69,
   "id": "89ac6771-c666-41c3-ab93-6cd47be1c9a0",
   "metadata": {},
   "outputs": [
    {
     "data": {
      "text/plain": [
       "array([[2, 3],\n",
       "       [4, 9],\n",
       "       [8, 7]])"
      ]
     },
     "execution_count": 69,
     "metadata": {},
     "output_type": "execute_result"
    }
   ],
   "source": [
    "x2d.reshape((3,2))"
   ]
  },
  {
   "cell_type": "code",
   "execution_count": 70,
   "id": "251927b0-1acd-4229-846b-224621cd9355",
   "metadata": {},
   "outputs": [
    {
     "data": {
      "text/plain": [
       "array([  0.,   5.,  10.,  15.,  20.,  25.,  30.,  35.,  40.,  45.,  50.,\n",
       "        55.,  60.,  65.,  70.,  75.,  80.,  85.,  90.,  95., 100.])"
      ]
     },
     "execution_count": 70,
     "metadata": {},
     "output_type": "execute_result"
    }
   ],
   "source": [
    "v = np.linspace(0, 100, 21)\n",
    "\n",
    "v"
   ]
  },
  {
   "cell_type": "code",
   "execution_count": 71,
   "id": "028583ee-a760-49cd-a0bd-3b9d90733b31",
   "metadata": {},
   "outputs": [
    {
     "data": {
      "text/plain": [
       "(21,)"
      ]
     },
     "execution_count": 71,
     "metadata": {},
     "output_type": "execute_result"
    }
   ],
   "source": [
    "v.shape"
   ]
  },
  {
   "cell_type": "code",
   "execution_count": 72,
   "id": "f193985d-5756-4f2b-946f-e6d930dc3ea8",
   "metadata": {},
   "outputs": [
    {
     "data": {
      "text/plain": [
       "array([[  0.,   5.,  10.,  15.,  20.,  25.,  30.],\n",
       "       [ 35.,  40.,  45.,  50.,  55.,  60.,  65.],\n",
       "       [ 70.,  75.,  80.,  85.,  90.,  95., 100.]])"
      ]
     },
     "execution_count": 72,
     "metadata": {},
     "output_type": "execute_result"
    }
   ],
   "source": [
    "v.reshape((3,7))"
   ]
  },
  {
   "cell_type": "code",
   "execution_count": 73,
   "id": "57dbcdd3-199e-43a7-b8bf-93ba0a333173",
   "metadata": {},
   "outputs": [
    {
     "data": {
      "text/plain": [
       "array([[2, 3, 4],\n",
       "       [9, 8, 7]])"
      ]
     },
     "execution_count": 73,
     "metadata": {},
     "output_type": "execute_result"
    }
   ],
   "source": [
    "x2d"
   ]
  },
  {
   "cell_type": "code",
   "execution_count": 74,
   "id": "382a29cd-8458-4251-a45b-ac67cd61bde9",
   "metadata": {},
   "outputs": [
    {
     "data": {
      "text/plain": [
       "array([2, 3, 4, 9, 8, 7])"
      ]
     },
     "execution_count": 74,
     "metadata": {},
     "output_type": "execute_result"
    }
   ],
   "source": [
    "x2d.flatten()"
   ]
  },
  {
   "cell_type": "code",
   "execution_count": 78,
   "id": "707fb187-58fc-48dc-a29b-d6f93c14ff21",
   "metadata": {},
   "outputs": [],
   "source": [
    "x2d = np.array([[3.5, 6.4, 2.7], [5.9, 6.1, 7.3]])"
   ]
  },
  {
   "cell_type": "code",
   "execution_count": 79,
   "id": "6ab7c9fc-6f07-4c7a-9799-e8ba5b7d1612",
   "metadata": {},
   "outputs": [
    {
     "data": {
      "text/plain": [
       "np.float64(31.900000000000002)"
      ]
     },
     "execution_count": 79,
     "metadata": {},
     "output_type": "execute_result"
    }
   ],
   "source": [
    "np.sum(x2d) # sum of all the elements"
   ]
  },
  {
   "cell_type": "code",
   "execution_count": 80,
   "id": "c571078d-af48-4f21-b80e-ad971377c1ea",
   "metadata": {},
   "outputs": [
    {
     "data": {
      "text/plain": [
       "array([[3.5, 6.4, 2.7],\n",
       "       [5.9, 6.1, 7.3]])"
      ]
     },
     "execution_count": 80,
     "metadata": {},
     "output_type": "execute_result"
    }
   ],
   "source": [
    "x2d"
   ]
  },
  {
   "cell_type": "code",
   "execution_count": 93,
   "id": "ea8c1a28-14da-4518-94cc-c3d25672facd",
   "metadata": {},
   "outputs": [
    {
     "data": {
      "text/plain": [
       "(2, 3)"
      ]
     },
     "execution_count": 93,
     "metadata": {},
     "output_type": "execute_result"
    }
   ],
   "source": [
    "x2d.shape"
   ]
  },
  {
   "cell_type": "code",
   "execution_count": 81,
   "id": "4f32cda4-4d93-4efd-8c69-07b09a2e413a",
   "metadata": {},
   "outputs": [
    {
     "data": {
      "text/plain": [
       "array([ 9.4, 12.5, 10. ])"
      ]
     },
     "execution_count": 81,
     "metadata": {},
     "output_type": "execute_result"
    }
   ],
   "source": [
    "np.sum(x2d, axis=0) # column wise sum"
   ]
  },
  {
   "cell_type": "code",
   "execution_count": 82,
   "id": "b823af3d-7628-4efa-904c-5eb28f683d5d",
   "metadata": {},
   "outputs": [
    {
     "data": {
      "text/plain": [
       "array([12.6, 19.3])"
      ]
     },
     "execution_count": 82,
     "metadata": {},
     "output_type": "execute_result"
    }
   ],
   "source": [
    "np.sum(x2d, axis=1) # row wise sum"
   ]
  },
  {
   "cell_type": "code",
   "execution_count": 89,
   "id": "87902f68-760a-46f3-822e-31e89fd52614",
   "metadata": {},
   "outputs": [],
   "source": [
    "x = np.array([[[1, 2, 3, 4], [5, 6, 7, 8]], [[5, 7, 9, 11], [2, 4, 6, 8]], [[-1, -2, 4, 9], [2, -7, 5, 0]]])"
   ]
  },
  {
   "cell_type": "code",
   "execution_count": 90,
   "id": "2147ac74-6dd1-4659-b52b-dbd030e0ea0e",
   "metadata": {},
   "outputs": [
    {
     "data": {
      "text/plain": [
       "array([[[ 1,  2,  3,  4],\n",
       "        [ 5,  6,  7,  8]],\n",
       "\n",
       "       [[ 5,  7,  9, 11],\n",
       "        [ 2,  4,  6,  8]],\n",
       "\n",
       "       [[-1, -2,  4,  9],\n",
       "        [ 2, -7,  5,  0]]])"
      ]
     },
     "execution_count": 90,
     "metadata": {},
     "output_type": "execute_result"
    }
   ],
   "source": [
    "x"
   ]
  },
  {
   "cell_type": "code",
   "execution_count": 91,
   "id": "281f07ee-f2c7-42a2-ab34-ca85a3dc8f22",
   "metadata": {},
   "outputs": [
    {
     "data": {
      "text/plain": [
       "(3, 2, 4)"
      ]
     },
     "execution_count": 91,
     "metadata": {},
     "output_type": "execute_result"
    }
   ],
   "source": [
    "x.shape"
   ]
  },
  {
   "cell_type": "code",
   "execution_count": 92,
   "id": "4bb83c18-3ce7-49cc-82f6-a7db94acbbac",
   "metadata": {},
   "outputs": [
    {
     "data": {
      "text/plain": [
       "array([[ 5,  7, 16, 24],\n",
       "       [ 9,  3, 18, 16]])"
      ]
     },
     "execution_count": 92,
     "metadata": {},
     "output_type": "execute_result"
    }
   ],
   "source": [
    "np.sum(x, axis=0)  # result dimension is (2,4)"
   ]
  },
  {
   "cell_type": "code",
   "execution_count": 94,
   "id": "e4b693f9-a203-4039-90ca-237f94bfa657",
   "metadata": {},
   "outputs": [
    {
     "data": {
      "text/plain": [
       "array([[ 6,  8, 10, 12],\n",
       "       [ 7, 11, 15, 19],\n",
       "       [ 1, -9,  9,  9]])"
      ]
     },
     "execution_count": 94,
     "metadata": {},
     "output_type": "execute_result"
    }
   ],
   "source": [
    "np.sum(x, axis=1) # result dimension is (3,4)"
   ]
  },
  {
   "cell_type": "code",
   "execution_count": 95,
   "id": "5275812d-06b5-4278-ada1-026316c813d7",
   "metadata": {},
   "outputs": [
    {
     "data": {
      "text/plain": [
       "array([[10, 26],\n",
       "       [32, 20],\n",
       "       [10,  0]])"
      ]
     },
     "execution_count": 95,
     "metadata": {},
     "output_type": "execute_result"
    }
   ],
   "source": [
    "np.sum(x, axis=2) # result dimension is (3,2)"
   ]
  },
  {
   "cell_type": "markdown",
   "id": "5480bb70-3b36-48a7-9129-f05e43aa50ab",
   "metadata": {},
   "source": [
    "### Indexing and Slicing"
   ]
  },
  {
   "cell_type": "code",
   "execution_count": 100,
   "id": "c021f0ab-d251-4832-bd38-04d0adb527c6",
   "metadata": {},
   "outputs": [
    {
     "data": {
      "text/plain": [
       "np.int64(1)"
      ]
     },
     "execution_count": 100,
     "metadata": {},
     "output_type": "execute_result"
    }
   ],
   "source": [
    "y = np.array([1,2,3,4,5])\n",
    "\n",
    "y[0]"
   ]
  },
  {
   "cell_type": "code",
   "execution_count": 101,
   "id": "e78b95db-e642-40cb-9061-a58e34d83c18",
   "metadata": {},
   "outputs": [
    {
     "data": {
      "text/plain": [
       "np.int64(5)"
      ]
     },
     "execution_count": 101,
     "metadata": {},
     "output_type": "execute_result"
    }
   ],
   "source": [
    "y[4]"
   ]
  },
  {
   "cell_type": "code",
   "execution_count": 102,
   "id": "ae17807e-8c37-4e93-a52c-bec7b2795de7",
   "metadata": {},
   "outputs": [
    {
     "data": {
      "text/plain": [
       "np.int64(5)"
      ]
     },
     "execution_count": 102,
     "metadata": {},
     "output_type": "execute_result"
    }
   ],
   "source": [
    "y[-1]"
   ]
  },
  {
   "cell_type": "code",
   "execution_count": 103,
   "id": "a58cf07d-32de-41ab-a23c-6c8b0d7790d4",
   "metadata": {},
   "outputs": [
    {
     "data": {
      "text/plain": [
       "array([3, 4])"
      ]
     },
     "execution_count": 103,
     "metadata": {},
     "output_type": "execute_result"
    }
   ],
   "source": [
    "y[2:4]"
   ]
  },
  {
   "cell_type": "code",
   "execution_count": 104,
   "id": "a013713c-bf21-4ace-83c0-401e1fa5a76e",
   "metadata": {},
   "outputs": [
    {
     "data": {
      "text/plain": [
       "array([1, 2, 3])"
      ]
     },
     "execution_count": 104,
     "metadata": {},
     "output_type": "execute_result"
    }
   ],
   "source": [
    "y[:3]"
   ]
  },
  {
   "cell_type": "code",
   "execution_count": 105,
   "id": "2730a532-db15-4b9d-9147-6d9875f2afca",
   "metadata": {},
   "outputs": [
    {
     "data": {
      "text/plain": [
       "array([3, 4, 5])"
      ]
     },
     "execution_count": 105,
     "metadata": {},
     "output_type": "execute_result"
    }
   ],
   "source": [
    "y[2:]"
   ]
  },
  {
   "cell_type": "code",
   "execution_count": null,
   "id": "8a38ee13-05ca-4502-9eaa-845f1058ad7b",
   "metadata": {},
   "outputs": [],
   "source": []
  },
  {
   "cell_type": "code",
   "execution_count": 98,
   "id": "2d37a3dc-54bd-4eda-a412-ef05cfd2f4d1",
   "metadata": {},
   "outputs": [],
   "source": [
    "z = np.linspace(1,24,24).reshape(4,6)  # 2D array of shape (4,6)"
   ]
  },
  {
   "cell_type": "code",
   "execution_count": 99,
   "id": "bc2edf6c-3396-4a4b-a2eb-b62c79bf686a",
   "metadata": {},
   "outputs": [
    {
     "data": {
      "text/plain": [
       "array([[ 1.,  2.,  3.,  4.,  5.,  6.],\n",
       "       [ 7.,  8.,  9., 10., 11., 12.],\n",
       "       [13., 14., 15., 16., 17., 18.],\n",
       "       [19., 20., 21., 22., 23., 24.]])"
      ]
     },
     "execution_count": 99,
     "metadata": {},
     "output_type": "execute_result"
    }
   ],
   "source": [
    "z"
   ]
  },
  {
   "cell_type": "code",
   "execution_count": 106,
   "id": "8bcac31a-5323-4767-b50e-c69881df26c2",
   "metadata": {},
   "outputs": [
    {
     "data": {
      "text/plain": [
       "array([1., 2., 3., 4., 5., 6.])"
      ]
     },
     "execution_count": 106,
     "metadata": {},
     "output_type": "execute_result"
    }
   ],
   "source": [
    "z[0]"
   ]
  },
  {
   "cell_type": "code",
   "execution_count": 110,
   "id": "389298a4-ee7d-4cd4-855a-52e2055c7203",
   "metadata": {},
   "outputs": [
    {
     "data": {
      "text/plain": [
       "np.float64(5.0)"
      ]
     },
     "execution_count": 110,
     "metadata": {},
     "output_type": "execute_result"
    }
   ],
   "source": [
    "z[0,4]"
   ]
  },
  {
   "cell_type": "code",
   "execution_count": 111,
   "id": "b3f5b9a0-65cb-4cc3-a9de-cb35a8e52e9a",
   "metadata": {},
   "outputs": [
    {
     "data": {
      "text/plain": [
       "np.float64(10.0)"
      ]
     },
     "execution_count": 111,
     "metadata": {},
     "output_type": "execute_result"
    }
   ],
   "source": [
    "z[1,3]"
   ]
  },
  {
   "cell_type": "code",
   "execution_count": 112,
   "id": "c1421ac0-68bb-4a88-acc7-c29e4504f5cb",
   "metadata": {},
   "outputs": [
    {
     "data": {
      "text/plain": [
       "array([ 7.,  8.,  9., 10., 11., 12.])"
      ]
     },
     "execution_count": 112,
     "metadata": {},
     "output_type": "execute_result"
    }
   ],
   "source": [
    "z[1,:]  "
   ]
  },
  {
   "cell_type": "code",
   "execution_count": 113,
   "id": "65856ca4-977b-499e-a4ee-d469dbdc2d06",
   "metadata": {},
   "outputs": [
    {
     "data": {
      "text/plain": [
       "array([ 4., 10., 16., 22.])"
      ]
     },
     "execution_count": 113,
     "metadata": {},
     "output_type": "execute_result"
    }
   ],
   "source": [
    "z[:,3]"
   ]
  },
  {
   "cell_type": "code",
   "execution_count": 114,
   "id": "8bf3f869-092d-4253-88aa-72b9f90379e5",
   "metadata": {},
   "outputs": [
    {
     "data": {
      "text/plain": [
       "array([[ 9., 10., 11.],\n",
       "       [15., 16., 17.]])"
      ]
     },
     "execution_count": 114,
     "metadata": {},
     "output_type": "execute_result"
    }
   ],
   "source": [
    "z[1:3, 2:5]"
   ]
  },
  {
   "cell_type": "code",
   "execution_count": 115,
   "id": "8855a9ff-7b4f-42f5-ade1-f61d2f3a70d9",
   "metadata": {},
   "outputs": [
    {
     "data": {
      "text/plain": [
       "array([[ 1.,  2.,  3.,  4.,  5.,  6.],\n",
       "       [ 7.,  8.,  9., 10., 11., 12.],\n",
       "       [13., 14., 15., 16., 17., 18.],\n",
       "       [19., 20., 21., 22., 23., 24.]])"
      ]
     },
     "execution_count": 115,
     "metadata": {},
     "output_type": "execute_result"
    }
   ],
   "source": [
    "z"
   ]
  },
  {
   "cell_type": "code",
   "execution_count": 116,
   "id": "c4b0a015-86d7-4c94-901d-911b06d7f380",
   "metadata": {},
   "outputs": [
    {
     "data": {
      "text/plain": [
       "array([[ 8., 10., 12.],\n",
       "       [14., 16., 18.],\n",
       "       [20., 22., 24.]])"
      ]
     },
     "execution_count": 116,
     "metadata": {},
     "output_type": "execute_result"
    }
   ],
   "source": [
    "z[1:4, 1:6:2]"
   ]
  },
  {
   "cell_type": "markdown",
   "id": "595041eb-ec99-4051-aa60-68b6a5335f79",
   "metadata": {},
   "source": [
    "### Boolean indexing"
   ]
  },
  {
   "cell_type": "code",
   "execution_count": 117,
   "id": "2c433a26-55ad-4ada-ac84-6d5f31ea3bb2",
   "metadata": {},
   "outputs": [],
   "source": [
    "v = np.array([-1,4,2,7,10,9,3,5])"
   ]
  },
  {
   "cell_type": "code",
   "execution_count": 118,
   "id": "5e55c8c5-4245-4087-ba66-d61b918afcd4",
   "metadata": {},
   "outputs": [
    {
     "data": {
      "text/plain": [
       "(8,)"
      ]
     },
     "execution_count": 118,
     "metadata": {},
     "output_type": "execute_result"
    }
   ],
   "source": [
    "v.shape"
   ]
  },
  {
   "cell_type": "code",
   "execution_count": 125,
   "id": "e5a2bcde-2b76-4a94-8743-b0cf0a98060c",
   "metadata": {},
   "outputs": [],
   "source": [
    "bool_index = np.array([1, 1, 0, 0, 0, 1, 0, 0], dtype='bool')"
   ]
  },
  {
   "cell_type": "code",
   "execution_count": 126,
   "id": "a879969a-1e74-4932-bdf1-d2f6b9cfb916",
   "metadata": {},
   "outputs": [
    {
     "data": {
      "text/plain": [
       "array([ True,  True, False, False, False,  True, False, False])"
      ]
     },
     "execution_count": 126,
     "metadata": {},
     "output_type": "execute_result"
    }
   ],
   "source": [
    "bool_index"
   ]
  },
  {
   "cell_type": "code",
   "execution_count": 128,
   "id": "53db1abc-bae2-4bd1-bbef-825ed2b4363b",
   "metadata": {},
   "outputs": [
    {
     "data": {
      "text/plain": [
       "array([-1,  4,  9])"
      ]
     },
     "execution_count": 128,
     "metadata": {},
     "output_type": "execute_result"
    }
   ],
   "source": [
    "v[bool_index]"
   ]
  },
  {
   "cell_type": "code",
   "execution_count": 127,
   "id": "1717315e-239b-4455-9e87-8d717f83f3df",
   "metadata": {},
   "outputs": [
    {
     "data": {
      "text/plain": [
       "array([ 2,  7, 10,  3,  5])"
      ]
     },
     "execution_count": 127,
     "metadata": {},
     "output_type": "execute_result"
    }
   ],
   "source": [
    "v[~bool_index]"
   ]
  },
  {
   "cell_type": "code",
   "execution_count": 129,
   "id": "44236a33-2b27-42dc-babd-2b4bf2ea9c15",
   "metadata": {},
   "outputs": [
    {
     "data": {
      "text/plain": [
       "array([False,  True, False,  True,  True,  True,  True,  True])"
      ]
     },
     "execution_count": 129,
     "metadata": {},
     "output_type": "execute_result"
    }
   ],
   "source": [
    "v > 2"
   ]
  },
  {
   "cell_type": "code",
   "execution_count": 130,
   "id": "522c0f0c-9bf7-4d6c-84d8-69c81e835d6b",
   "metadata": {},
   "outputs": [
    {
     "data": {
      "text/plain": [
       "array([ 4,  7, 10,  9,  3,  5])"
      ]
     },
     "execution_count": 130,
     "metadata": {},
     "output_type": "execute_result"
    }
   ],
   "source": [
    "v[v > 2]"
   ]
  },
  {
   "cell_type": "code",
   "execution_count": 131,
   "id": "af2a42b9-d1d8-4fe8-a557-9f0ce185a2da",
   "metadata": {},
   "outputs": [
    {
     "data": {
      "text/plain": [
       "array([False,  True, False,  True, False, False,  True,  True])"
      ]
     },
     "execution_count": 131,
     "metadata": {},
     "output_type": "execute_result"
    }
   ],
   "source": [
    "(v > 2) & (v < 9)   # & -> and operation"
   ]
  },
  {
   "cell_type": "code",
   "execution_count": 132,
   "id": "f9979986-af24-42af-9a8d-289f1db18508",
   "metadata": {},
   "outputs": [
    {
     "data": {
      "text/plain": [
       "array([4, 7, 3, 5])"
      ]
     },
     "execution_count": 132,
     "metadata": {},
     "output_type": "execute_result"
    }
   ],
   "source": [
    "v[(v > 2) & (v < 9)]"
   ]
  },
  {
   "cell_type": "code",
   "execution_count": 134,
   "id": "776fa955-b0da-489f-aa3c-0148fa5083a4",
   "metadata": {},
   "outputs": [
    {
     "data": {
      "text/plain": [
       "array([ True,  True,  True, False,  True, False,  True, False])"
      ]
     },
     "execution_count": 134,
     "metadata": {},
     "output_type": "execute_result"
    }
   ],
   "source": [
    "(v < 5) | (v == 10) # | -> or operation"
   ]
  },
  {
   "cell_type": "code",
   "execution_count": 135,
   "id": "2ba0ac73-e90b-4152-8973-3d08fbb32726",
   "metadata": {},
   "outputs": [
    {
     "data": {
      "text/plain": [
       "array([-1,  4,  2, 10,  3])"
      ]
     },
     "execution_count": 135,
     "metadata": {},
     "output_type": "execute_result"
    }
   ],
   "source": [
    "v[(v < 5) | (v == 10)]"
   ]
  },
  {
   "cell_type": "markdown",
   "id": "6349c6b4-daaa-4b14-a770-aa0b0657c880",
   "metadata": {},
   "source": [
    "### Array methods"
   ]
  },
  {
   "cell_type": "code",
   "execution_count": 136,
   "id": "7063a1d7-d627-426f-a780-e43f5cc58e4c",
   "metadata": {},
   "outputs": [],
   "source": [
    "x = np.array([3, -1, 4, 8, 0, 2])"
   ]
  },
  {
   "cell_type": "code",
   "execution_count": 137,
   "id": "19ed95cf-69e1-4319-a7f0-23cd08124833",
   "metadata": {},
   "outputs": [],
   "source": [
    "x.sort()  # in-place sorting "
   ]
  },
  {
   "cell_type": "code",
   "execution_count": 138,
   "id": "38034cde-4b9c-4458-b897-06a70be014d3",
   "metadata": {},
   "outputs": [
    {
     "data": {
      "text/plain": [
       "array([-1,  0,  2,  3,  4,  8])"
      ]
     },
     "execution_count": 138,
     "metadata": {},
     "output_type": "execute_result"
    }
   ],
   "source": [
    "x"
   ]
  },
  {
   "cell_type": "code",
   "execution_count": 143,
   "id": "5f214505-054d-445c-8ae8-82355e055c78",
   "metadata": {},
   "outputs": [
    {
     "data": {
      "text/plain": [
       "array([ 8,  4,  3,  2,  0, -1])"
      ]
     },
     "execution_count": 143,
     "metadata": {},
     "output_type": "execute_result"
    }
   ],
   "source": [
    "x.sort()\n",
    "x = x[::-1]\n",
    "\n",
    "x"
   ]
  },
  {
   "cell_type": "code",
   "execution_count": 145,
   "id": "2377dac7-2aa9-434c-b4b7-d5f8ffbbff11",
   "metadata": {},
   "outputs": [
    {
     "data": {
      "text/plain": [
       "array([1, 4, 5, 0, 2, 3])"
      ]
     },
     "execution_count": 145,
     "metadata": {},
     "output_type": "execute_result"
    }
   ],
   "source": [
    "y = np.array([3, -1, 4, 8, 0, 2])\n",
    "\n",
    "y.argsort()"
   ]
  },
  {
   "cell_type": "code",
   "execution_count": 146,
   "id": "dc71959e-03f5-4d3a-aa44-d7b4457f0d5c",
   "metadata": {},
   "outputs": [
    {
     "data": {
      "text/plain": [
       "np.int64(3)"
      ]
     },
     "execution_count": 146,
     "metadata": {},
     "output_type": "execute_result"
    }
   ],
   "source": [
    "y.argsort()[-1]"
   ]
  },
  {
   "cell_type": "code",
   "execution_count": 149,
   "id": "e1471101-1dc0-41ea-a234-f5f7fc8f442d",
   "metadata": {},
   "outputs": [
    {
     "data": {
      "text/plain": [
       "np.int64(-1)"
      ]
     },
     "execution_count": 149,
     "metadata": {},
     "output_type": "execute_result"
    }
   ],
   "source": [
    "y.min()"
   ]
  },
  {
   "cell_type": "code",
   "execution_count": 150,
   "id": "5727d38c-2efc-4abf-9b75-9df6f3beda30",
   "metadata": {},
   "outputs": [
    {
     "data": {
      "text/plain": [
       "np.int64(1)"
      ]
     },
     "execution_count": 150,
     "metadata": {},
     "output_type": "execute_result"
    }
   ],
   "source": [
    "y.argmin()"
   ]
  },
  {
   "cell_type": "code",
   "execution_count": 151,
   "id": "3fb44110-d051-4524-a58c-1b58b07a4136",
   "metadata": {},
   "outputs": [
    {
     "data": {
      "text/plain": [
       "np.int64(8)"
      ]
     },
     "execution_count": 151,
     "metadata": {},
     "output_type": "execute_result"
    }
   ],
   "source": [
    "y.max()"
   ]
  },
  {
   "cell_type": "code",
   "execution_count": 152,
   "id": "9c8c1506-bf2e-40fa-aefc-edd93d49d849",
   "metadata": {},
   "outputs": [
    {
     "data": {
      "text/plain": [
       "np.int64(3)"
      ]
     },
     "execution_count": 152,
     "metadata": {},
     "output_type": "execute_result"
    }
   ],
   "source": [
    "y.argmax()"
   ]
  },
  {
   "cell_type": "code",
   "execution_count": 153,
   "id": "7e3b6ba9-ddac-4ef1-a8d1-c683be8a1f2f",
   "metadata": {},
   "outputs": [],
   "source": [
    "x = np.array([1, 2, -1, 4, 0, 5, 7, 8])"
   ]
  },
  {
   "cell_type": "code",
   "execution_count": 154,
   "id": "371fe1ec-ec6b-46c7-8082-165ffc218d04",
   "metadata": {},
   "outputs": [
    {
     "data": {
      "text/plain": [
       "array([ 1,  3,  2,  6,  6, 11, 18, 26])"
      ]
     },
     "execution_count": 154,
     "metadata": {},
     "output_type": "execute_result"
    }
   ],
   "source": [
    "np.cumsum(x)  # cumulative summation"
   ]
  },
  {
   "cell_type": "code",
   "execution_count": 155,
   "id": "f6eb9ac4-3c7f-48fd-b355-e1c30ac436b6",
   "metadata": {},
   "outputs": [],
   "source": [
    "z = np.cumprod(x)"
   ]
  },
  {
   "cell_type": "code",
   "execution_count": 156,
   "id": "a0da21fe-f831-4913-ab60-7dff05a9fe27",
   "metadata": {},
   "outputs": [
    {
     "data": {
      "text/plain": [
       "array([ 1,  2, -2, -8,  0,  0,  0,  0])"
      ]
     },
     "execution_count": 156,
     "metadata": {},
     "output_type": "execute_result"
    }
   ],
   "source": [
    "z"
   ]
  },
  {
   "cell_type": "markdown",
   "id": "1d6f1867-e476-4031-89df-b60b22d6713b",
   "metadata": {},
   "source": [
    "### mutability and copy of numpy array"
   ]
  },
  {
   "cell_type": "code",
   "execution_count": 160,
   "id": "6c0c3090-7a00-4df0-862f-9f6aab995fea",
   "metadata": {},
   "outputs": [],
   "source": [
    "a = [1, 3, 4]\n",
    "\n",
    "b = a  # pointing to the same memory location"
   ]
  },
  {
   "cell_type": "code",
   "execution_count": 158,
   "id": "041c61cb-9307-485a-9bac-a8df85739f89",
   "metadata": {},
   "outputs": [
    {
     "data": {
      "text/plain": [
       "[1, 3, 4, 5]"
      ]
     },
     "execution_count": 158,
     "metadata": {},
     "output_type": "execute_result"
    }
   ],
   "source": [
    "b.append(5)\n",
    "\n",
    "b"
   ]
  },
  {
   "cell_type": "code",
   "execution_count": 159,
   "id": "1cd298b2-b0ef-425b-b23b-b5ba606c7365",
   "metadata": {},
   "outputs": [
    {
     "data": {
      "text/plain": [
       "[1, 3, 4, 5]"
      ]
     },
     "execution_count": 159,
     "metadata": {},
     "output_type": "execute_result"
    }
   ],
   "source": [
    "a"
   ]
  },
  {
   "cell_type": "code",
   "execution_count": 161,
   "id": "d8d09a76-fe4c-4f3a-917f-f34f9ecf006e",
   "metadata": {},
   "outputs": [],
   "source": [
    "a[0] = 56"
   ]
  },
  {
   "cell_type": "code",
   "execution_count": 162,
   "id": "94a66a4f-c8a3-4349-87fc-fda4bee85a87",
   "metadata": {},
   "outputs": [
    {
     "data": {
      "text/plain": [
       "[56, 3, 4]"
      ]
     },
     "execution_count": 162,
     "metadata": {},
     "output_type": "execute_result"
    }
   ],
   "source": [
    "b"
   ]
  },
  {
   "cell_type": "code",
   "execution_count": 163,
   "id": "b8d49280-9574-4810-b1f3-c5940b424b58",
   "metadata": {},
   "outputs": [
    {
     "data": {
      "text/plain": [
       "[56, 3, 4]"
      ]
     },
     "execution_count": 163,
     "metadata": {},
     "output_type": "execute_result"
    }
   ],
   "source": [
    "a"
   ]
  },
  {
   "cell_type": "code",
   "execution_count": 165,
   "id": "0d014576-e759-41d8-8739-6a86a611c3ba",
   "metadata": {},
   "outputs": [],
   "source": [
    "b = a.copy()  # copies the same elements to a different memory location"
   ]
  },
  {
   "cell_type": "code",
   "execution_count": 167,
   "id": "d010bdeb-90db-41b4-b2f3-865c625eeac4",
   "metadata": {},
   "outputs": [],
   "source": [
    "b.append(16)"
   ]
  },
  {
   "cell_type": "code",
   "execution_count": 168,
   "id": "6d48177f-f901-4c8f-95ca-ec261fc3f099",
   "metadata": {},
   "outputs": [
    {
     "data": {
      "text/plain": [
       "[56, 3, 4, 16]"
      ]
     },
     "execution_count": 168,
     "metadata": {},
     "output_type": "execute_result"
    }
   ],
   "source": [
    "b"
   ]
  },
  {
   "cell_type": "code",
   "execution_count": 169,
   "id": "0a05e72a-c330-4c09-86c1-c99ed9b430cb",
   "metadata": {},
   "outputs": [
    {
     "data": {
      "text/plain": [
       "[56, 3, 4]"
      ]
     },
     "execution_count": 169,
     "metadata": {},
     "output_type": "execute_result"
    }
   ],
   "source": [
    "a"
   ]
  },
  {
   "cell_type": "code",
   "execution_count": 178,
   "id": "7b400a66-aef8-450c-90b8-d8997afb0507",
   "metadata": {},
   "outputs": [],
   "source": [
    "x = np.array((4, 5, 6, 10))"
   ]
  },
  {
   "cell_type": "code",
   "execution_count": 179,
   "id": "a76c058e-ad41-4e9b-abe9-a7a7b9aaa843",
   "metadata": {},
   "outputs": [],
   "source": [
    "y = x.copy()"
   ]
  },
  {
   "cell_type": "code",
   "execution_count": 180,
   "id": "0f75953b-830b-4df5-9bcd-06687e0a6b93",
   "metadata": {},
   "outputs": [],
   "source": [
    "x[2] = 23"
   ]
  },
  {
   "cell_type": "code",
   "execution_count": 181,
   "id": "20a3a861-19b9-44df-84da-4a0ed6d20ffc",
   "metadata": {},
   "outputs": [
    {
     "data": {
      "text/plain": [
       "array([ 4,  5, 23, 10])"
      ]
     },
     "execution_count": 181,
     "metadata": {},
     "output_type": "execute_result"
    }
   ],
   "source": [
    "x"
   ]
  },
  {
   "cell_type": "code",
   "execution_count": 182,
   "id": "d726c281-f9c4-4b9a-a9fb-0fc95ab7caf2",
   "metadata": {},
   "outputs": [
    {
     "data": {
      "text/plain": [
       "array([ 4,  5,  6, 10])"
      ]
     },
     "execution_count": 182,
     "metadata": {},
     "output_type": "execute_result"
    }
   ],
   "source": [
    "y"
   ]
  },
  {
   "cell_type": "code",
   "execution_count": null,
   "id": "da48e915-1e0a-4221-9ac2-426c3095ee5e",
   "metadata": {},
   "outputs": [],
   "source": []
  }
 ],
 "metadata": {
  "kernelspec": {
   "display_name": "Python 3 (ipykernel)",
   "language": "python",
   "name": "python3"
  },
  "language_info": {
   "codemirror_mode": {
    "name": "ipython",
    "version": 3
   },
   "file_extension": ".py",
   "mimetype": "text/x-python",
   "name": "python",
   "nbconvert_exporter": "python",
   "pygments_lexer": "ipython3",
   "version": "3.12.9"
  }
 },
 "nbformat": 4,
 "nbformat_minor": 5
}
