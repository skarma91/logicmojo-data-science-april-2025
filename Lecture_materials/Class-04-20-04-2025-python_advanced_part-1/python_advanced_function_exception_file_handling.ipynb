{
 "cells": [
  {
   "cell_type": "markdown",
   "id": "37aff8dc-e9f7-4850-8345-f39336f572d5",
   "metadata": {},
   "source": [
    "### Functions\n",
    "\n",
    "Python has some in-built functions. \n",
    "`sorted()` is one of the widely used python function. \n",
    "`sum()` is another python function.\n",
    "\n",
    "One can also define a function and use that in a code. Those are called user defined function.\n",
    "\n",
    "```python\n",
    "\n",
    "def function_name(arg1, arg2, ...):\n",
    "    do some work within the function\n",
    "    return something  # optional (you may not return anything)\n",
    "\n",
    "```\n",
    "\n",
    "To call the function\n",
    "\n",
    "```python\n",
    "function_name(a1, a2)\n",
    "```"
   ]
  },
  {
   "cell_type": "markdown",
   "id": "78444f2e-995c-4e22-8c7a-ff9b494f3b1a",
   "metadata": {},
   "source": [
    "### sorted() function in python\n",
    "\n",
    "The `sorted()` function returns a sorted list ofthe specified iterable object.\n",
    "\n",
    "`sorted(iterable, key, reverse)`\n",
    "\n",
    "- `iterable` is a required argument. This is the iterable object to sort (list, dict, tuple etc.)\n",
    "- `key` is an optional argument. Default is None. The key is basically a function to execute to decide the order.\n",
    "- `reverse` is an optional boolean argument. If False then will sort by ascending order, if True will sort by descending order. Default is False."
   ]
  },
  {
   "cell_type": "code",
   "execution_count": 9,
   "id": "a3e0bddd-91bb-4e45-a8f0-f90f22cf323b",
   "metadata": {},
   "outputs": [],
   "source": [
    "a = ['apple', 'guava', 'orange', 'banana', 'pineapple', 'grapes']"
   ]
  },
  {
   "cell_type": "code",
   "execution_count": 3,
   "id": "ca507875-d5ac-404a-9474-168bbd2409d7",
   "metadata": {},
   "outputs": [
    {
     "data": {
      "text/plain": [
       "['apple', 'banana', 'grapes', 'guava', 'orange', 'pineapple']"
      ]
     },
     "execution_count": 3,
     "metadata": {},
     "output_type": "execute_result"
    }
   ],
   "source": [
    "sorted(a)  # alphabatically ordered list"
   ]
  },
  {
   "cell_type": "code",
   "execution_count": 5,
   "id": "3ca5c534-00c6-4a27-8297-d8e73e7c9079",
   "metadata": {},
   "outputs": [],
   "source": [
    "b = sorted(a)"
   ]
  },
  {
   "cell_type": "code",
   "execution_count": 6,
   "id": "95016176-b862-431b-a2b3-a37cdafd0934",
   "metadata": {},
   "outputs": [
    {
     "data": {
      "text/plain": [
       "['apple', 'banana', 'grapes', 'guava', 'orange', 'pineapple']"
      ]
     },
     "execution_count": 6,
     "metadata": {},
     "output_type": "execute_result"
    }
   ],
   "source": [
    "b"
   ]
  },
  {
   "cell_type": "code",
   "execution_count": 7,
   "id": "95849f3e-e8e8-4332-ac43-9730279f9e95",
   "metadata": {},
   "outputs": [
    {
     "name": "stdout",
     "output_type": "stream",
     "text": [
      "['apple', 'banana', 'grapes', 'guava', 'orange', 'pineapple']\n"
     ]
    }
   ],
   "source": [
    "a.sort()\n",
    "\n",
    "print(a)"
   ]
  },
  {
   "cell_type": "code",
   "execution_count": 10,
   "id": "fc435bb7-07f7-4141-9ac1-084b8bdb530d",
   "metadata": {},
   "outputs": [
    {
     "data": {
      "text/plain": [
       "['apple', 'guava', 'orange', 'banana', 'pineapple', 'grapes']"
      ]
     },
     "execution_count": 10,
     "metadata": {},
     "output_type": "execute_result"
    }
   ],
   "source": [
    "a"
   ]
  },
  {
   "cell_type": "code",
   "execution_count": 12,
   "id": "a2a87411-985f-4b2d-9c8e-9bbf348bd286",
   "metadata": {},
   "outputs": [
    {
     "data": {
      "text/plain": [
       "['pineapple', 'orange', 'guava', 'grapes', 'banana', 'apple']"
      ]
     },
     "execution_count": 12,
     "metadata": {},
     "output_type": "execute_result"
    }
   ],
   "source": [
    "sorted(a, reverse=True)  # reverse alphabatical ordering"
   ]
  },
  {
   "cell_type": "code",
   "execution_count": 13,
   "id": "32efa44c-0862-427c-b985-ac48799f0f68",
   "metadata": {},
   "outputs": [
    {
     "data": {
      "text/plain": [
       "['apple', 'guava', 'orange', 'banana', 'grapes', 'pineapple']"
      ]
     },
     "execution_count": 13,
     "metadata": {},
     "output_type": "execute_result"
    }
   ],
   "source": [
    "sorted(a, key=len) # sort the list based on the length of the elements "
   ]
  },
  {
   "cell_type": "code",
   "execution_count": 14,
   "id": "6398c0fb-2cc3-4d32-9c1a-4222854cb12c",
   "metadata": {},
   "outputs": [
    {
     "data": {
      "text/plain": [
       "['apple', 'guava', 'banana', 'grapes', 'orange', 'pineapple']"
      ]
     },
     "execution_count": 14,
     "metadata": {},
     "output_type": "execute_result"
    }
   ],
   "source": [
    "sorted(sorted(a), key=len)"
   ]
  },
  {
   "cell_type": "code",
   "execution_count": 15,
   "id": "8727230a-fd8e-42ba-9db4-773696519641",
   "metadata": {},
   "outputs": [],
   "source": [
    "my_list = [[1,2,3] , [4,5,6], [3,2,-1], [-4,5,6]]"
   ]
  },
  {
   "cell_type": "code",
   "execution_count": 17,
   "id": "c3163293-a996-4f72-b75f-b33893e582bd",
   "metadata": {},
   "outputs": [
    {
     "data": {
      "text/plain": [
       "[[3, 2, -1], [1, 2, 3], [-4, 5, 6], [4, 5, 6]]"
      ]
     },
     "execution_count": 17,
     "metadata": {},
     "output_type": "execute_result"
    }
   ],
   "source": [
    "sorted(my_list,key=sum)"
   ]
  },
  {
   "cell_type": "code",
   "execution_count": 18,
   "id": "6a17217e-03a2-450c-999d-686eebbf4344",
   "metadata": {},
   "outputs": [
    {
     "data": {
      "text/plain": [
       "[[-4, 5, 6], [1, 2, 3], [3, 2, -1], [4, 5, 6]]"
      ]
     },
     "execution_count": 18,
     "metadata": {},
     "output_type": "execute_result"
    }
   ],
   "source": [
    "sorted(my_list)"
   ]
  },
  {
   "cell_type": "markdown",
   "id": "f2927691-a695-4c76-8edf-9a8dbf228e87",
   "metadata": {},
   "source": [
    "### User defined functions"
   ]
  },
  {
   "cell_type": "code",
   "execution_count": 19,
   "id": "a5ae3476-75e0-40eb-b381-8ca0f390194c",
   "metadata": {},
   "outputs": [],
   "source": [
    "def add_numbers(a, b):\n",
    "    c = a+b\n",
    "    return c"
   ]
  },
  {
   "cell_type": "code",
   "execution_count": 36,
   "id": "eeff9d17-e658-4823-9cec-694379d241a1",
   "metadata": {},
   "outputs": [],
   "source": [
    "def add_numbers(a, b):\n",
    "    return a+b"
   ]
  },
  {
   "cell_type": "code",
   "execution_count": 20,
   "id": "c93ea83c-7d69-415a-a3dd-a2039d1f5d39",
   "metadata": {},
   "outputs": [
    {
     "data": {
      "text/plain": [
       "9"
      ]
     },
     "execution_count": 20,
     "metadata": {},
     "output_type": "execute_result"
    }
   ],
   "source": [
    "add_numbers(3,6)"
   ]
  },
  {
   "cell_type": "code",
   "execution_count": 21,
   "id": "458f94a7-fd1a-4366-9c4c-866eadff3885",
   "metadata": {},
   "outputs": [],
   "source": [
    "my_list = [[1,2,3] , [4,-5,6], [3,4,-1], [-4,5,6]]\n",
    "\n",
    "# sort this list based on the 2nd element of the constituent lists. \n",
    "\n",
    "def ret_second_element(l):\n",
    "    return l[1]"
   ]
  },
  {
   "cell_type": "code",
   "execution_count": 22,
   "id": "dcc154d6-c36c-46a0-8556-a3d8298edaf0",
   "metadata": {},
   "outputs": [
    {
     "data": {
      "text/plain": [
       "[[4, -5, 6], [1, 2, 3], [3, 4, -1], [-4, 5, 6]]"
      ]
     },
     "execution_count": 22,
     "metadata": {},
     "output_type": "execute_result"
    }
   ],
   "source": [
    "sorted(my_list, key=ret_second_element)"
   ]
  },
  {
   "cell_type": "code",
   "execution_count": 26,
   "id": "27e63473-42b4-45dc-9472-f5992f278435",
   "metadata": {},
   "outputs": [],
   "source": [
    "fruit_items = {'apple': 120, 'banana': 40, 'pineapple': 80, 'mango': 150}"
   ]
  },
  {
   "cell_type": "code",
   "execution_count": 28,
   "id": "e481940f-cff1-4836-b0c7-1673bfaf14dc",
   "metadata": {},
   "outputs": [
    {
     "data": {
      "text/plain": [
       "['apple', 'banana', 'mango', 'pineapple']"
      ]
     },
     "execution_count": 28,
     "metadata": {},
     "output_type": "execute_result"
    }
   ],
   "source": [
    "sorted(fruit_items)  # return a list with sorted keys of the dictionary"
   ]
  },
  {
   "cell_type": "code",
   "execution_count": 30,
   "id": "ba8ef763-40a2-42a1-a23f-df18471c7a72",
   "metadata": {},
   "outputs": [
    {
     "data": {
      "text/plain": [
       "[('apple', 120), ('banana', 40), ('mango', 150), ('pineapple', 80)]"
      ]
     },
     "execution_count": 30,
     "metadata": {},
     "output_type": "execute_result"
    }
   ],
   "source": [
    "sorted(fruit_items.items())  # sorted the key-value pairs on keys"
   ]
  },
  {
   "cell_type": "code",
   "execution_count": 31,
   "id": "6e45a3e6-b52d-4ec2-93bd-0c3cc0d25030",
   "metadata": {},
   "outputs": [],
   "source": [
    "def return_item(x):\n",
    "    return x[1]"
   ]
  },
  {
   "cell_type": "code",
   "execution_count": 34,
   "id": "687ce874-9248-4265-901b-fcc8d54cfe2b",
   "metadata": {},
   "outputs": [],
   "source": [
    "sorted_dict = dict(sorted(fruit_items.items(), key=return_item))"
   ]
  },
  {
   "cell_type": "code",
   "execution_count": 35,
   "id": "2508e7ce-16a9-435f-8ccb-49cae02dc829",
   "metadata": {},
   "outputs": [
    {
     "data": {
      "text/plain": [
       "{'banana': 40, 'pineapple': 80, 'apple': 120, 'mango': 150}"
      ]
     },
     "execution_count": 35,
     "metadata": {},
     "output_type": "execute_result"
    }
   ],
   "source": [
    "sorted_dict"
   ]
  },
  {
   "cell_type": "markdown",
   "id": "7cb23425-1557-4b5e-87ba-6b2ab970ed49",
   "metadata": {},
   "source": [
    "### Lambda function\n",
    "\n",
    "Simple one line anonymous function used for quickly defining and using a fucntion. anonymous means it does not require any name.\n",
    "\n",
    "```python\n",
    "lambda variable : operation on the varaible\n",
    "\n",
    "lambda v1, v2, v3, .... : do some operation\n",
    "```"
   ]
  },
  {
   "cell_type": "code",
   "execution_count": 38,
   "id": "9b6dfb4a-a691-4fc4-ad5c-ea5140597827",
   "metadata": {},
   "outputs": [],
   "source": [
    "f = lambda x: x**2   # squaring function"
   ]
  },
  {
   "cell_type": "code",
   "execution_count": 39,
   "id": "c9b3c600-ed63-4894-a43b-fc3f0c0ae313",
   "metadata": {},
   "outputs": [
    {
     "data": {
      "text/plain": [
       "<function __main__.<lambda>(x)>"
      ]
     },
     "execution_count": 39,
     "metadata": {},
     "output_type": "execute_result"
    }
   ],
   "source": [
    "f"
   ]
  },
  {
   "cell_type": "code",
   "execution_count": 40,
   "id": "c8a8c789-5701-40bb-8c4e-0bbaf4a69228",
   "metadata": {},
   "outputs": [
    {
     "data": {
      "text/plain": [
       "25"
      ]
     },
     "execution_count": 40,
     "metadata": {},
     "output_type": "execute_result"
    }
   ],
   "source": [
    "f(5)"
   ]
  },
  {
   "cell_type": "code",
   "execution_count": 41,
   "id": "23a43df7-e40c-4748-980e-1eec599b9376",
   "metadata": {},
   "outputs": [],
   "source": [
    "add_number = lambda x,y: x+y"
   ]
  },
  {
   "cell_type": "code",
   "execution_count": 42,
   "id": "bcc61bfc-958f-4ae1-b280-1c0a1cb43dc1",
   "metadata": {},
   "outputs": [
    {
     "data": {
      "text/plain": [
       "<function __main__.<lambda>(x, y)>"
      ]
     },
     "execution_count": 42,
     "metadata": {},
     "output_type": "execute_result"
    }
   ],
   "source": [
    "add_number"
   ]
  },
  {
   "cell_type": "code",
   "execution_count": 43,
   "id": "1b29b9bd-c863-4118-8c62-64e90211ca69",
   "metadata": {},
   "outputs": [
    {
     "data": {
      "text/plain": [
       "24"
      ]
     },
     "execution_count": 43,
     "metadata": {},
     "output_type": "execute_result"
    }
   ],
   "source": [
    "add_number(15,9)"
   ]
  },
  {
   "cell_type": "code",
   "execution_count": 45,
   "id": "01d3aaa2-ae7c-4079-bbe9-d4d2d2630a89",
   "metadata": {},
   "outputs": [
    {
     "data": {
      "text/plain": [
       "[[3, 4, -1], [1, 2, 3], [4, -5, 6], [-4, 5, 6]]"
      ]
     },
     "execution_count": 45,
     "metadata": {},
     "output_type": "execute_result"
    }
   ],
   "source": [
    "my_list = [[1,2,3] , [4,-5,6], [3,4,-1], [-4,5,6]]\n",
    "\n",
    "sorted(my_list, key=lambda l: l[-1])"
   ]
  },
  {
   "cell_type": "code",
   "execution_count": 50,
   "id": "cc624617-cf54-4867-8f28-b734615c12fb",
   "metadata": {},
   "outputs": [],
   "source": [
    "values = (-1, 4, 2, 1, 8, 9, 12, -2, -5)"
   ]
  },
  {
   "cell_type": "code",
   "execution_count": 53,
   "id": "25508c69-f7f1-4df4-9340-995ff74316ec",
   "metadata": {},
   "outputs": [
    {
     "data": {
      "text/plain": [
       "[-1, 1, 2, -2, 4, -5, 8, 9, 12]"
      ]
     },
     "execution_count": 53,
     "metadata": {},
     "output_type": "execute_result"
    }
   ],
   "source": [
    "sorted(values, key=lambda x: x**2)"
   ]
  },
  {
   "cell_type": "markdown",
   "id": "60ab9568-ef18-4027-8174-4e6359d89d4a",
   "metadata": {},
   "source": [
    "### Expression and conditionals used in list comprehension"
   ]
  },
  {
   "cell_type": "code",
   "execution_count": 54,
   "id": "50eb3214-fa59-437c-9448-0ab5edbd938c",
   "metadata": {},
   "outputs": [],
   "source": [
    "values = [3, -2, 5, 12, 9, 25, 32, -4]"
   ]
  },
  {
   "cell_type": "code",
   "execution_count": 55,
   "id": "ece703d0-aa18-4f00-8733-fc7141830704",
   "metadata": {},
   "outputs": [],
   "source": [
    "# create a new list from the values where the (element + 4)**2-10 > 0"
   ]
  },
  {
   "cell_type": "code",
   "execution_count": 59,
   "id": "0df7dc8a-9003-4a7a-b0bf-f3d453b0ebf4",
   "metadata": {},
   "outputs": [],
   "source": [
    "new_list = [x for x in values if (x+4)**2-10 > 0]"
   ]
  },
  {
   "cell_type": "code",
   "execution_count": 58,
   "id": "6f7d9bfa-cdcf-4b82-9229-f23a8e15141e",
   "metadata": {},
   "outputs": [
    {
     "data": {
      "text/plain": [
       "[3, 5, 12, 9, 25, 32]"
      ]
     },
     "execution_count": 58,
     "metadata": {},
     "output_type": "execute_result"
    }
   ],
   "source": [
    "new_list"
   ]
  },
  {
   "cell_type": "code",
   "execution_count": 60,
   "id": "12d0ff51-55e8-491e-8e1d-4cc4303d4250",
   "metadata": {},
   "outputs": [],
   "source": [
    "def fun(x):\n",
    "    return (x+4)**2-10"
   ]
  },
  {
   "cell_type": "code",
   "execution_count": 61,
   "id": "9453285c-c028-4726-9d8e-c1ca0ae60a25",
   "metadata": {},
   "outputs": [
    {
     "data": {
      "text/plain": [
       "[3, 5, 12, 9, 25, 32]"
      ]
     },
     "execution_count": 61,
     "metadata": {},
     "output_type": "execute_result"
    }
   ],
   "source": [
    "[x for x in values if fun(x) > 0]"
   ]
  },
  {
   "cell_type": "code",
   "execution_count": 66,
   "id": "38c95697-c802-4b66-8ffd-f78b93f0f1ef",
   "metadata": {},
   "outputs": [],
   "source": [
    "other_list = [(x+4)**2-10 for x in values]"
   ]
  },
  {
   "cell_type": "code",
   "execution_count": 67,
   "id": "adb11931-951b-442f-a349-df5e0e33a0e4",
   "metadata": {},
   "outputs": [
    {
     "data": {
      "text/plain": [
       "[39, -6, 71, 246, 159, 831, 1286, -10]"
      ]
     },
     "execution_count": 67,
     "metadata": {},
     "output_type": "execute_result"
    }
   ],
   "source": [
    "other_list"
   ]
  },
  {
   "cell_type": "code",
   "execution_count": 68,
   "id": "e6c86da8-e351-46a4-b77c-e60d0a8285f1",
   "metadata": {},
   "outputs": [],
   "source": [
    "my_values = [1, 4, 6, 3, 2, 9, 11, 10]\n",
    "\n",
    "# create a new list with only odd numbers from my_values list."
   ]
  },
  {
   "cell_type": "code",
   "execution_count": 69,
   "id": "dcc47125-4351-4f8a-9e58-b7f1a674264a",
   "metadata": {},
   "outputs": [],
   "source": [
    "new_list = []\n",
    "\n",
    "for x in my_values:\n",
    "    if x % 2 == 1:\n",
    "        new_list.append(x)"
   ]
  },
  {
   "cell_type": "code",
   "execution_count": 70,
   "id": "1eb8ab11-38de-48d7-97e3-579ef8145786",
   "metadata": {},
   "outputs": [
    {
     "data": {
      "text/plain": [
       "[1, 3, 9, 11]"
      ]
     },
     "execution_count": 70,
     "metadata": {},
     "output_type": "execute_result"
    }
   ],
   "source": [
    "new_list"
   ]
  },
  {
   "cell_type": "code",
   "execution_count": 71,
   "id": "c5091413-450d-4697-8ce5-1333897811b1",
   "metadata": {},
   "outputs": [],
   "source": [
    "new_list2 = [x for x in my_values if x % 2 == 1]"
   ]
  },
  {
   "cell_type": "code",
   "execution_count": 72,
   "id": "9aeb23b5-6077-4665-8447-ec954c0ac62f",
   "metadata": {},
   "outputs": [
    {
     "data": {
      "text/plain": [
       "[1, 3, 9, 11]"
      ]
     },
     "execution_count": 72,
     "metadata": {},
     "output_type": "execute_result"
    }
   ],
   "source": [
    "new_list2"
   ]
  },
  {
   "cell_type": "code",
   "execution_count": 73,
   "id": "a93b0653-96ce-4900-b8bb-d8dfb986e737",
   "metadata": {},
   "outputs": [
    {
     "data": {
      "text/plain": [
       "'one line string'"
      ]
     },
     "execution_count": 73,
     "metadata": {},
     "output_type": "execute_result"
    }
   ],
   "source": [
    "\"one line string\""
   ]
  },
  {
   "cell_type": "code",
   "execution_count": 74,
   "id": "c3778bdd-e0ec-4d32-acb7-823114aec0e9",
   "metadata": {},
   "outputs": [
    {
     "data": {
      "text/plain": [
       "'\\nthis is a \\nmultiline\\nstring\\n'"
      ]
     },
     "execution_count": 74,
     "metadata": {},
     "output_type": "execute_result"
    }
   ],
   "source": [
    "\"\"\"\n",
    "this is a \n",
    "multiline\n",
    "string\n",
    "\"\"\""
   ]
  },
  {
   "cell_type": "markdown",
   "id": "481a9508-73e8-46e4-afe1-4bc58779e07b",
   "metadata": {},
   "source": [
    "### Function docstring"
   ]
  },
  {
   "cell_type": "code",
   "execution_count": 75,
   "id": "e959f892-617c-4902-ac2e-ba48cb4b0827",
   "metadata": {},
   "outputs": [],
   "source": [
    "def add_numbers(num1, num2):\n",
    "    \"\"\"\n",
    "    Description: This function will add two input numbers and return the result\n",
    "\n",
    "    Inputs:\n",
    "        - num1: number 1 (float or int)\n",
    "        - num2: number 2 (float or int)\n",
    "\n",
    "    return:\n",
    "        - It returns a number (float or int)\n",
    "    \"\"\"\n",
    "    return num1 + num2"
   ]
  },
  {
   "cell_type": "code",
   "execution_count": 77,
   "id": "12ad9240-012e-4159-b032-25750f74a7e7",
   "metadata": {},
   "outputs": [
    {
     "data": {
      "text/plain": [
       "5.3"
      ]
     },
     "execution_count": 77,
     "metadata": {},
     "output_type": "execute_result"
    }
   ],
   "source": [
    "add_numbers(2,3.3)"
   ]
  },
  {
   "cell_type": "code",
   "execution_count": 78,
   "id": "1b640a10-4d61-4ff4-9636-ddaee2b809e1",
   "metadata": {},
   "outputs": [
    {
     "ename": "TypeError",
     "evalue": "unsupported operand type(s) for +: 'int' and 'str'",
     "output_type": "error",
     "traceback": [
      "\u001b[31m---------------------------------------------------------------------------\u001b[39m",
      "\u001b[31mTypeError\u001b[39m                                 Traceback (most recent call last)",
      "\u001b[36mCell\u001b[39m\u001b[36m \u001b[39m\u001b[32mIn[78]\u001b[39m\u001b[32m, line 1\u001b[39m\n\u001b[32m----> \u001b[39m\u001b[32m1\u001b[39m \u001b[43madd_numbers\u001b[49m\u001b[43m(\u001b[49m\u001b[32;43m3\u001b[39;49m\u001b[43m,\u001b[49m\u001b[43m \u001b[49m\u001b[33;43m'\u001b[39;49m\u001b[33;43mc\u001b[39;49m\u001b[33;43m'\u001b[39;49m\u001b[43m)\u001b[49m\n",
      "\u001b[36mCell\u001b[39m\u001b[36m \u001b[39m\u001b[32mIn[75]\u001b[39m\u001b[32m, line 12\u001b[39m, in \u001b[36madd_numbers\u001b[39m\u001b[34m(num1, num2)\u001b[39m\n\u001b[32m      1\u001b[39m \u001b[38;5;28;01mdef\u001b[39;00m\u001b[38;5;250m \u001b[39m\u001b[34madd_numbers\u001b[39m(num1, num2):\n\u001b[32m      2\u001b[39m \u001b[38;5;250m    \u001b[39m\u001b[33;03m\"\"\"\u001b[39;00m\n\u001b[32m      3\u001b[39m \u001b[33;03m    Description: This function will add two input numbers and return the result\u001b[39;00m\n\u001b[32m      4\u001b[39m \n\u001b[32m   (...)\u001b[39m\u001b[32m     10\u001b[39m \u001b[33;03m        - It returns a number (float or int)\u001b[39;00m\n\u001b[32m     11\u001b[39m \u001b[33;03m    \"\"\"\u001b[39;00m\n\u001b[32m---> \u001b[39m\u001b[32m12\u001b[39m     \u001b[38;5;28;01mreturn\u001b[39;00m \u001b[43mnum1\u001b[49m\u001b[43m \u001b[49m\u001b[43m+\u001b[49m\u001b[43m \u001b[49m\u001b[43mnum2\u001b[49m\n",
      "\u001b[31mTypeError\u001b[39m: unsupported operand type(s) for +: 'int' and 'str'"
     ]
    }
   ],
   "source": [
    "add_numbers(3, 'c')"
   ]
  },
  {
   "cell_type": "code",
   "execution_count": 79,
   "id": "4f3e1a00-920b-4291-82a9-dfffbd1808d1",
   "metadata": {},
   "outputs": [
    {
     "ename": "TypeError",
     "evalue": "add_numbers() takes 2 positional arguments but 3 were given",
     "output_type": "error",
     "traceback": [
      "\u001b[31m---------------------------------------------------------------------------\u001b[39m",
      "\u001b[31mTypeError\u001b[39m                                 Traceback (most recent call last)",
      "\u001b[36mCell\u001b[39m\u001b[36m \u001b[39m\u001b[32mIn[79]\u001b[39m\u001b[32m, line 1\u001b[39m\n\u001b[32m----> \u001b[39m\u001b[32m1\u001b[39m \u001b[43madd_numbers\u001b[49m\u001b[43m(\u001b[49m\u001b[32;43m2\u001b[39;49m\u001b[43m,\u001b[49m\u001b[32;43m3.3\u001b[39;49m\u001b[43m,\u001b[49m\u001b[43m \u001b[49m\u001b[32;43m4\u001b[39;49m\u001b[43m)\u001b[49m\n",
      "\u001b[31mTypeError\u001b[39m: add_numbers() takes 2 positional arguments but 3 were given"
     ]
    }
   ],
   "source": [
    "add_numbers(2,3.3, 4)"
   ]
  },
  {
   "cell_type": "markdown",
   "id": "486fb2a8-5bbe-47be-8970-6c850d5fb951",
   "metadata": {},
   "source": [
    "### assert statement"
   ]
  },
  {
   "cell_type": "code",
   "execution_count": 82,
   "id": "952d4dd3-4bf1-46c5-9ac5-bcb6956fc7dc",
   "metadata": {},
   "outputs": [
    {
     "ename": "AssertionError",
     "evalue": "the number should be 5",
     "output_type": "error",
     "traceback": [
      "\u001b[31m---------------------------------------------------------------------------\u001b[39m",
      "\u001b[31mAssertionError\u001b[39m                            Traceback (most recent call last)",
      "\u001b[36mCell\u001b[39m\u001b[36m \u001b[39m\u001b[32mIn[82]\u001b[39m\u001b[32m, line 3\u001b[39m\n\u001b[32m      1\u001b[39m x = \u001b[32m5\u001b[39m\n\u001b[32m----> \u001b[39m\u001b[32m3\u001b[39m \u001b[38;5;28;01massert\u001b[39;00m x == \u001b[32m6\u001b[39m, \u001b[33m\"\u001b[39m\u001b[33mthe number should be 5\u001b[39m\u001b[33m\"\u001b[39m\n",
      "\u001b[31mAssertionError\u001b[39m: the number should be 5"
     ]
    }
   ],
   "source": [
    "x = 5\n",
    "\n",
    "assert x == 6, \"the number should be 5\""
   ]
  },
  {
   "cell_type": "code",
   "execution_count": 83,
   "id": "515989be-fa3c-4954-9259-9b96987223cf",
   "metadata": {},
   "outputs": [],
   "source": [
    "def add_numbers(num1, num2):\n",
    "    \"\"\"\n",
    "    Description: This function will add two input numbers and return the result\n",
    "\n",
    "    Inputs:\n",
    "        - num1: number 1 (float or int)\n",
    "        - num2: number 2 (float or int)\n",
    "\n",
    "    return:\n",
    "        - It returns a number (float or int)\n",
    "    \"\"\"\n",
    "    assert type(num1) == int or type(num1) == float, \"The num1 should be int or float type\"\n",
    "    assert type(num2) == int or type(num2) == float, \"The num2 should be int or float type\"\n",
    "    return num1 + num2"
   ]
  },
  {
   "cell_type": "code",
   "execution_count": 84,
   "id": "3b136886-8197-4ca9-93d1-4f057b843c34",
   "metadata": {},
   "outputs": [
    {
     "data": {
      "text/plain": [
       "9.5"
      ]
     },
     "execution_count": 84,
     "metadata": {},
     "output_type": "execute_result"
    }
   ],
   "source": [
    "add_numbers(4, 5.5)"
   ]
  },
  {
   "cell_type": "code",
   "execution_count": 85,
   "id": "4dfc8e58-f1f5-44cb-9a31-b10afe7aba9e",
   "metadata": {},
   "outputs": [
    {
     "ename": "AssertionError",
     "evalue": "The num2 should be int or float type",
     "output_type": "error",
     "traceback": [
      "\u001b[31m---------------------------------------------------------------------------\u001b[39m",
      "\u001b[31mAssertionError\u001b[39m                            Traceback (most recent call last)",
      "\u001b[36mCell\u001b[39m\u001b[36m \u001b[39m\u001b[32mIn[85]\u001b[39m\u001b[32m, line 1\u001b[39m\n\u001b[32m----> \u001b[39m\u001b[32m1\u001b[39m \u001b[43madd_numbers\u001b[49m\u001b[43m(\u001b[49m\u001b[32;43m4\u001b[39;49m\u001b[43m,\u001b[49m\u001b[43m \u001b[49m\u001b[33;43m'\u001b[39;49m\u001b[33;43mc\u001b[39;49m\u001b[33;43m'\u001b[39;49m\u001b[43m)\u001b[49m\n",
      "\u001b[36mCell\u001b[39m\u001b[36m \u001b[39m\u001b[32mIn[83]\u001b[39m\u001b[32m, line 13\u001b[39m, in \u001b[36madd_numbers\u001b[39m\u001b[34m(num1, num2)\u001b[39m\n\u001b[32m      2\u001b[39m \u001b[38;5;250m\u001b[39m\u001b[33;03m\"\"\"\u001b[39;00m\n\u001b[32m      3\u001b[39m \u001b[33;03mDescription: This function will add two input numbers and return the result\u001b[39;00m\n\u001b[32m      4\u001b[39m \n\u001b[32m   (...)\u001b[39m\u001b[32m     10\u001b[39m \u001b[33;03m    - It returns a number (float or int)\u001b[39;00m\n\u001b[32m     11\u001b[39m \u001b[33;03m\"\"\"\u001b[39;00m\n\u001b[32m     12\u001b[39m \u001b[38;5;28;01massert\u001b[39;00m \u001b[38;5;28mtype\u001b[39m(num1) == \u001b[38;5;28mint\u001b[39m \u001b[38;5;129;01mor\u001b[39;00m \u001b[38;5;28mtype\u001b[39m(num1) == \u001b[38;5;28mfloat\u001b[39m, \u001b[33m\"\u001b[39m\u001b[33mThe num1 should be int or float type\u001b[39m\u001b[33m\"\u001b[39m\n\u001b[32m---> \u001b[39m\u001b[32m13\u001b[39m \u001b[38;5;28;01massert\u001b[39;00m \u001b[38;5;28mtype\u001b[39m(num2) == \u001b[38;5;28mint\u001b[39m \u001b[38;5;129;01mor\u001b[39;00m \u001b[38;5;28mtype\u001b[39m(num2) == \u001b[38;5;28mfloat\u001b[39m, \u001b[33m\"\u001b[39m\u001b[33mThe num2 should be int or float type\u001b[39m\u001b[33m\"\u001b[39m\n\u001b[32m     14\u001b[39m \u001b[38;5;28;01mreturn\u001b[39;00m num1 + num2\n",
      "\u001b[31mAssertionError\u001b[39m: The num2 should be int or float type"
     ]
    }
   ],
   "source": [
    "add_numbers(4, 'c')"
   ]
  },
  {
   "cell_type": "markdown",
   "id": "378b05e9-8aae-4c11-8d29-b1568beebba4",
   "metadata": {},
   "source": [
    "$$ factorial(n) = n \\times (n-1) \\times (n-2) \\times .... \\times 3 \\times 2 \\times 1 $$"
   ]
  },
  {
   "cell_type": "code",
   "execution_count": 102,
   "id": "54ffb356-6c39-4d25-9dfb-842e5f20ba2a",
   "metadata": {},
   "outputs": [],
   "source": [
    "def factorial(n):\n",
    "    \"\"\"\n",
    "    Description: This function will compute the factorial of a postive integer\n",
    "\n",
    "    Input:\n",
    "        - n: (int) The positive integer number whose factorial we want to compute\n",
    "\n",
    "    Return:\n",
    "        - (int) It returns a number which is factorial of the input number n\n",
    "    \"\"\"\n",
    "    # if type(n) != int:\n",
    "    #     print(\"Please provide integer type value\")\n",
    "    #     return None\n",
    "        \n",
    "    # if n <= 0:\n",
    "    #     print(\"Please provide positve integer as input\")\n",
    "    #     return None\n",
    "\n",
    "    assert type(n) == int, \"The value must be integer type\"\n",
    "\n",
    "    assert n > 0, \"The value must be a positive integer\"\n",
    "\n",
    "    result = 1\n",
    "    for i in range(2, n+1):\n",
    "        result = result * i\n",
    "\n",
    "    return result"
   ]
  },
  {
   "cell_type": "code",
   "execution_count": 103,
   "id": "5decafb8-c85c-481e-b547-523419af1083",
   "metadata": {},
   "outputs": [
    {
     "data": {
      "text/plain": [
       "720"
      ]
     },
     "execution_count": 103,
     "metadata": {},
     "output_type": "execute_result"
    }
   ],
   "source": [
    "factorial(6)"
   ]
  },
  {
   "cell_type": "code",
   "execution_count": 104,
   "id": "fb823191-c844-4651-b256-5dd29537d102",
   "metadata": {},
   "outputs": [
    {
     "ename": "AssertionError",
     "evalue": "The value must be integer type",
     "output_type": "error",
     "traceback": [
      "\u001b[31m---------------------------------------------------------------------------\u001b[39m",
      "\u001b[31mAssertionError\u001b[39m                            Traceback (most recent call last)",
      "\u001b[36mCell\u001b[39m\u001b[36m \u001b[39m\u001b[32mIn[104]\u001b[39m\u001b[32m, line 1\u001b[39m\n\u001b[32m----> \u001b[39m\u001b[32m1\u001b[39m \u001b[43mfactorial\u001b[49m\u001b[43m(\u001b[49m\u001b[33;43m'\u001b[39;49m\u001b[33;43mabc\u001b[39;49m\u001b[33;43m'\u001b[39;49m\u001b[43m)\u001b[49m\n",
      "\u001b[36mCell\u001b[39m\u001b[36m \u001b[39m\u001b[32mIn[102]\u001b[39m\u001b[32m, line 19\u001b[39m, in \u001b[36mfactorial\u001b[39m\u001b[34m(n)\u001b[39m\n\u001b[32m      2\u001b[39m \u001b[38;5;250m\u001b[39m\u001b[33;03m\"\"\"\u001b[39;00m\n\u001b[32m      3\u001b[39m \u001b[33;03mDescription: This function will compute the factorial of a postive integer\u001b[39;00m\n\u001b[32m      4\u001b[39m \n\u001b[32m   (...)\u001b[39m\u001b[32m      9\u001b[39m \u001b[33;03m    - (int) It returns a number which is factorial of the input number n\u001b[39;00m\n\u001b[32m     10\u001b[39m \u001b[33;03m\"\"\"\u001b[39;00m\n\u001b[32m     11\u001b[39m \u001b[38;5;66;03m# if type(n) != int:\u001b[39;00m\n\u001b[32m     12\u001b[39m \u001b[38;5;66;03m#     print(\"Please provide integer type value\")\u001b[39;00m\n\u001b[32m     13\u001b[39m \u001b[38;5;66;03m#     return None\u001b[39;00m\n\u001b[32m   (...)\u001b[39m\u001b[32m     16\u001b[39m \u001b[38;5;66;03m#     print(\"Please provide positve integer as input\")\u001b[39;00m\n\u001b[32m     17\u001b[39m \u001b[38;5;66;03m#     return None\u001b[39;00m\n\u001b[32m---> \u001b[39m\u001b[32m19\u001b[39m \u001b[38;5;28;01massert\u001b[39;00m \u001b[38;5;28mtype\u001b[39m(n) == \u001b[38;5;28mint\u001b[39m, \u001b[33m\"\u001b[39m\u001b[33mThe value must be integer type\u001b[39m\u001b[33m\"\u001b[39m\n\u001b[32m     21\u001b[39m \u001b[38;5;28;01massert\u001b[39;00m n > \u001b[32m0\u001b[39m, \u001b[33m\"\u001b[39m\u001b[33mThe value must be a positive integer\u001b[39m\u001b[33m\"\u001b[39m\n\u001b[32m     23\u001b[39m result = \u001b[32m1\u001b[39m\n",
      "\u001b[31mAssertionError\u001b[39m: The value must be integer type"
     ]
    }
   ],
   "source": [
    "factorial('abc')"
   ]
  },
  {
   "cell_type": "code",
   "execution_count": 105,
   "id": "b47df935-c294-4b93-916e-d45965a5e8db",
   "metadata": {},
   "outputs": [
    {
     "ename": "AssertionError",
     "evalue": "The value must be a positive integer",
     "output_type": "error",
     "traceback": [
      "\u001b[31m---------------------------------------------------------------------------\u001b[39m",
      "\u001b[31mAssertionError\u001b[39m                            Traceback (most recent call last)",
      "\u001b[36mCell\u001b[39m\u001b[36m \u001b[39m\u001b[32mIn[105]\u001b[39m\u001b[32m, line 1\u001b[39m\n\u001b[32m----> \u001b[39m\u001b[32m1\u001b[39m \u001b[43mfactorial\u001b[49m\u001b[43m(\u001b[49m\u001b[43m-\u001b[49m\u001b[32;43m5\u001b[39;49m\u001b[43m)\u001b[49m\n",
      "\u001b[36mCell\u001b[39m\u001b[36m \u001b[39m\u001b[32mIn[102]\u001b[39m\u001b[32m, line 21\u001b[39m, in \u001b[36mfactorial\u001b[39m\u001b[34m(n)\u001b[39m\n\u001b[32m     11\u001b[39m \u001b[38;5;66;03m# if type(n) != int:\u001b[39;00m\n\u001b[32m     12\u001b[39m \u001b[38;5;66;03m#     print(\"Please provide integer type value\")\u001b[39;00m\n\u001b[32m     13\u001b[39m \u001b[38;5;66;03m#     return None\u001b[39;00m\n\u001b[32m   (...)\u001b[39m\u001b[32m     16\u001b[39m \u001b[38;5;66;03m#     print(\"Please provide positve integer as input\")\u001b[39;00m\n\u001b[32m     17\u001b[39m \u001b[38;5;66;03m#     return None\u001b[39;00m\n\u001b[32m     19\u001b[39m \u001b[38;5;28;01massert\u001b[39;00m \u001b[38;5;28mtype\u001b[39m(n) == \u001b[38;5;28mint\u001b[39m, \u001b[33m\"\u001b[39m\u001b[33mThe value must be integer type\u001b[39m\u001b[33m\"\u001b[39m\n\u001b[32m---> \u001b[39m\u001b[32m21\u001b[39m \u001b[38;5;28;01massert\u001b[39;00m n > \u001b[32m0\u001b[39m, \u001b[33m\"\u001b[39m\u001b[33mThe value must be a positive integer\u001b[39m\u001b[33m\"\u001b[39m\n\u001b[32m     23\u001b[39m result = \u001b[32m1\u001b[39m\n\u001b[32m     24\u001b[39m \u001b[38;5;28;01mfor\u001b[39;00m i \u001b[38;5;129;01min\u001b[39;00m \u001b[38;5;28mrange\u001b[39m(\u001b[32m2\u001b[39m, n+\u001b[32m1\u001b[39m):\n",
      "\u001b[31mAssertionError\u001b[39m: The value must be a positive integer"
     ]
    }
   ],
   "source": [
    "factorial(-5)"
   ]
  },
  {
   "cell_type": "markdown",
   "id": "acb56c32-8445-4ea6-a13c-963d03d285a5",
   "metadata": {},
   "source": [
    "**Binomial coefficient**\n",
    "\n",
    "$$ {N\\choose k} = \\frac{N!}{(k!) (N-k)!}$$ "
   ]
  },
  {
   "cell_type": "code",
   "execution_count": 106,
   "id": "a5d75f86-b683-44b7-8dc4-02b0a603f365",
   "metadata": {},
   "outputs": [],
   "source": [
    "def binom_coeff(n,k):\n",
    "    \"\"\"\n",
    "    Description:\n",
    "\n",
    "    Inputs:\n",
    "\n",
    "    Output:\n",
    "    \n",
    "    \"\"\"\n",
    "\n",
    "    # sanity check\n",
    "\n",
    "    result = factorial(n)/(factorial(k) * factorial(n-k))\n",
    "\n",
    "    return result"
   ]
  },
  {
   "cell_type": "code",
   "execution_count": 107,
   "id": "f6b41186-ec16-451c-a4b5-30ebc110ea53",
   "metadata": {},
   "outputs": [
    {
     "data": {
      "text/plain": [
       "10.0"
      ]
     },
     "execution_count": 107,
     "metadata": {},
     "output_type": "execute_result"
    }
   ],
   "source": [
    "binom_coeff(5,2)"
   ]
  },
  {
   "cell_type": "code",
   "execution_count": 108,
   "id": "43072bdb-b08e-43a4-b4bc-22fec09f7dbc",
   "metadata": {},
   "outputs": [],
   "source": [
    "def rec_fact(n):\n",
    "\n",
    "    if n == 1:\n",
    "        return 1\n",
    "    else:\n",
    "        return n*rec_fact(n-1)"
   ]
  },
  {
   "cell_type": "code",
   "execution_count": 109,
   "id": "5626d2f9-eee0-45ba-97d9-aad474cb8d7a",
   "metadata": {},
   "outputs": [
    {
     "data": {
      "text/plain": [
       "720"
      ]
     },
     "execution_count": 109,
     "metadata": {},
     "output_type": "execute_result"
    }
   ],
   "source": [
    "rec_fact(6)"
   ]
  },
  {
   "cell_type": "code",
   "execution_count": 110,
   "id": "766d1760-37a9-4797-86c9-b5e596cb84ef",
   "metadata": {},
   "outputs": [],
   "source": [
    "def find_value(l, v):\n",
    "    \"\"\"\n",
    "    Description: check whether the value 'v' exists in the list 'l'. \n",
    "\n",
    "    Inputs:\n",
    "        - l: (list)\n",
    "        - v: (any data type)\n",
    "    Output:\n",
    "        - Returns nothing, prints \"found\" if the the values 'v' exist in list 'l', else prints \"not found\"\n",
    "    \"\"\"\n",
    "\n",
    "    if len(l) == 0:\n",
    "        print(\"not found\")\n",
    "\n",
    "    elif v == l[0]:\n",
    "        print(\"found\")\n",
    "\n",
    "    else:\n",
    "        find_value(l[1:],v)"
   ]
  },
  {
   "cell_type": "code",
   "execution_count": 113,
   "id": "511b84ca-eb34-4c13-9885-b09699bb0585",
   "metadata": {},
   "outputs": [
    {
     "name": "stdout",
     "output_type": "stream",
     "text": [
      "not found\n"
     ]
    }
   ],
   "source": [
    "find_value([1,2,3,4,5], -1)"
   ]
  },
  {
   "cell_type": "markdown",
   "id": "741d065c-8408-4743-b257-9343365b4d91",
   "metadata": {},
   "source": [
    "### Python try , except (Exception Handling)"
   ]
  },
  {
   "cell_type": "markdown",
   "id": "94ff1797-5683-4905-9c60-c90f66f864cf",
   "metadata": {},
   "source": [
    "```python\n",
    "try:\n",
    "    try block lets you test a block of code for errors\n",
    "except <errortype>:\n",
    "    this block lets you to handle the error\n",
    "else:\n",
    "    this block will be executed when there is no error\n",
    "finally:\n",
    "    this block lets you execute code, regardless of the try and except blocks\n",
    "```"
   ]
  },
  {
   "cell_type": "code",
   "execution_count": 114,
   "id": "a4692fd2-4e67-48ca-86bf-c18047502fa2",
   "metadata": {},
   "outputs": [
    {
     "ename": "NameError",
     "evalue": "name 'abc' is not defined",
     "output_type": "error",
     "traceback": [
      "\u001b[31m---------------------------------------------------------------------------\u001b[39m",
      "\u001b[31mNameError\u001b[39m                                 Traceback (most recent call last)",
      "\u001b[36mCell\u001b[39m\u001b[36m \u001b[39m\u001b[32mIn[114]\u001b[39m\u001b[32m, line 1\u001b[39m\n\u001b[32m----> \u001b[39m\u001b[32m1\u001b[39m \u001b[38;5;28mprint\u001b[39m(\u001b[43mabc\u001b[49m)\n",
      "\u001b[31mNameError\u001b[39m: name 'abc' is not defined"
     ]
    }
   ],
   "source": [
    "print(abc)"
   ]
  },
  {
   "cell_type": "code",
   "execution_count": 116,
   "id": "efa7b13c-4740-4aa1-accf-89a2e8aa723d",
   "metadata": {},
   "outputs": [
    {
     "name": "stdout",
     "output_type": "stream",
     "text": [
      "The variable is not defined\n"
     ]
    }
   ],
   "source": [
    "try:\n",
    "    print(abc)\n",
    "except NameError:\n",
    "    print(\"The variable is not defined\")"
   ]
  },
  {
   "cell_type": "code",
   "execution_count": 117,
   "id": "229bc4b0-9c03-43ec-a68a-7f3be6fbd281",
   "metadata": {},
   "outputs": [
    {
     "name": "stdout",
     "output_type": "stream",
     "text": [
      "The variable is not defined\n"
     ]
    }
   ],
   "source": [
    "try:\n",
    "    print(abc)\n",
    "except NameError:\n",
    "    print(\"The variable is not defined\")\n",
    "except:\n",
    "    print(\"Some other error occurred\")"
   ]
  },
  {
   "cell_type": "code",
   "execution_count": 118,
   "id": "83edc7de-3f9a-4317-9e40-bdf1be872f19",
   "metadata": {},
   "outputs": [],
   "source": [
    "def fact(n):\n",
    "    if n==1:\n",
    "        return 1\n",
    "    else:\n",
    "        return n*fact(n-1)"
   ]
  },
  {
   "cell_type": "code",
   "execution_count": 122,
   "id": "b61d000f-4d25-401f-934a-1814702ee065",
   "metadata": {},
   "outputs": [
    {
     "name": "stdout",
     "output_type": "stream",
     "text": [
      "Some error has occurred\n"
     ]
    }
   ],
   "source": [
    "try:\n",
    "    v = fact(7.5)\n",
    "except:\n",
    "    print(\"Some error has occurred\")"
   ]
  },
  {
   "cell_type": "code",
   "execution_count": 123,
   "id": "2863a239-7112-4f2c-94ca-98a45e2fbac2",
   "metadata": {},
   "outputs": [
    {
     "ename": "RecursionError",
     "evalue": "maximum recursion depth exceeded",
     "output_type": "error",
     "traceback": [
      "\u001b[31m---------------------------------------------------------------------------\u001b[39m",
      "\u001b[31mRecursionError\u001b[39m                            Traceback (most recent call last)",
      "\u001b[36mCell\u001b[39m\u001b[36m \u001b[39m\u001b[32mIn[123]\u001b[39m\u001b[32m, line 1\u001b[39m\n\u001b[32m----> \u001b[39m\u001b[32m1\u001b[39m \u001b[43mfact\u001b[49m\u001b[43m(\u001b[49m\u001b[32;43m7.5\u001b[39;49m\u001b[43m)\u001b[49m\n",
      "\u001b[36mCell\u001b[39m\u001b[36m \u001b[39m\u001b[32mIn[118]\u001b[39m\u001b[32m, line 5\u001b[39m, in \u001b[36mfact\u001b[39m\u001b[34m(n)\u001b[39m\n\u001b[32m      3\u001b[39m     \u001b[38;5;28;01mreturn\u001b[39;00m \u001b[32m1\u001b[39m\n\u001b[32m      4\u001b[39m \u001b[38;5;28;01melse\u001b[39;00m:\n\u001b[32m----> \u001b[39m\u001b[32m5\u001b[39m     \u001b[38;5;28;01mreturn\u001b[39;00m n*\u001b[43mfact\u001b[49m\u001b[43m(\u001b[49m\u001b[43mn\u001b[49m\u001b[43m-\u001b[49m\u001b[32;43m1\u001b[39;49m\u001b[43m)\u001b[49m\n",
      "\u001b[36mCell\u001b[39m\u001b[36m \u001b[39m\u001b[32mIn[118]\u001b[39m\u001b[32m, line 5\u001b[39m, in \u001b[36mfact\u001b[39m\u001b[34m(n)\u001b[39m\n\u001b[32m      3\u001b[39m     \u001b[38;5;28;01mreturn\u001b[39;00m \u001b[32m1\u001b[39m\n\u001b[32m      4\u001b[39m \u001b[38;5;28;01melse\u001b[39;00m:\n\u001b[32m----> \u001b[39m\u001b[32m5\u001b[39m     \u001b[38;5;28;01mreturn\u001b[39;00m n*\u001b[43mfact\u001b[49m\u001b[43m(\u001b[49m\u001b[43mn\u001b[49m\u001b[43m-\u001b[49m\u001b[32;43m1\u001b[39;49m\u001b[43m)\u001b[49m\n",
      "    \u001b[31m[... skipping similar frames: fact at line 5 (2974 times)]\u001b[39m\n",
      "\u001b[36mCell\u001b[39m\u001b[36m \u001b[39m\u001b[32mIn[118]\u001b[39m\u001b[32m, line 5\u001b[39m, in \u001b[36mfact\u001b[39m\u001b[34m(n)\u001b[39m\n\u001b[32m      3\u001b[39m     \u001b[38;5;28;01mreturn\u001b[39;00m \u001b[32m1\u001b[39m\n\u001b[32m      4\u001b[39m \u001b[38;5;28;01melse\u001b[39;00m:\n\u001b[32m----> \u001b[39m\u001b[32m5\u001b[39m     \u001b[38;5;28;01mreturn\u001b[39;00m n*\u001b[43mfact\u001b[49m\u001b[43m(\u001b[49m\u001b[43mn\u001b[49m\u001b[43m-\u001b[49m\u001b[32;43m1\u001b[39;49m\u001b[43m)\u001b[49m\n",
      "\u001b[31mRecursionError\u001b[39m: maximum recursion depth exceeded"
     ]
    }
   ],
   "source": [
    "fact(7.5)"
   ]
  },
  {
   "cell_type": "code",
   "execution_count": 124,
   "id": "e26b6546-eaca-432b-a7d2-bf21d32d9c7c",
   "metadata": {},
   "outputs": [
    {
     "name": "stdout",
     "output_type": "stream",
     "text": [
      "maximum recursion depth exceeded\n"
     ]
    }
   ],
   "source": [
    "try:\n",
    "    v = fact(7.5)\n",
    "except Exception as e:\n",
    "    print(e)"
   ]
  },
  {
   "cell_type": "code",
   "execution_count": 126,
   "id": "fc60d650-b042-42c4-a632-dba982a48220",
   "metadata": {},
   "outputs": [
    {
     "name": "stdout",
     "output_type": "stream",
     "text": [
      "5040\n",
      "The code has ended\n"
     ]
    }
   ],
   "source": [
    "try:\n",
    "    v = fact(7)\n",
    "except Exception as e:\n",
    "    print(e)\n",
    "else:\n",
    "    print(v)\n",
    "finally:\n",
    "    print(\"The code has ended\")"
   ]
  },
  {
   "cell_type": "markdown",
   "id": "ccff925f-64fa-4572-a88e-9cca63360723",
   "metadata": {},
   "source": [
    "### map() in python"
   ]
  },
  {
   "cell_type": "markdown",
   "id": "ed97e656-fc19-40c5-96e7-b354aaa03a5b",
   "metadata": {},
   "source": [
    "```python\n",
    "def my_func(value):\n",
    "    <some codes>\n",
    "    return output\n",
    "\n",
    "my_list = [v1, v2, v3, ...., vn]\n",
    "\n",
    "x = map(my_func, my_list)   # x is a python map object\n",
    "\n",
    "x = list(map(my_func, my_list))  # produces a list with the function applied on each value of my list\n",
    "```"
   ]
  },
  {
   "cell_type": "code",
   "execution_count": 127,
   "id": "081d8abe-61ae-476f-a9e0-12dc9cf9ad6c",
   "metadata": {},
   "outputs": [
    {
     "data": {
      "text/plain": [
       "120"
      ]
     },
     "execution_count": 127,
     "metadata": {},
     "output_type": "execute_result"
    }
   ],
   "source": [
    "factorial(5)"
   ]
  },
  {
   "cell_type": "code",
   "execution_count": 128,
   "id": "986525a4-8233-4765-88a1-0cf6dec53517",
   "metadata": {},
   "outputs": [],
   "source": [
    "l = [4, 2, 8, 10]"
   ]
  },
  {
   "cell_type": "code",
   "execution_count": 130,
   "id": "56acac7b-d6d1-4e0d-8132-ec9dd7928a7f",
   "metadata": {},
   "outputs": [
    {
     "data": {
      "text/plain": [
       "[24, 2, 40320, 3628800]"
      ]
     },
     "execution_count": 130,
     "metadata": {},
     "output_type": "execute_result"
    }
   ],
   "source": [
    "list(map(factorial, l))"
   ]
  },
  {
   "cell_type": "code",
   "execution_count": 131,
   "id": "d229fb2c-fa53-48ff-87c0-d9a2f50ba006",
   "metadata": {},
   "outputs": [
    {
     "data": {
      "text/plain": [
       "[24, 2, 40320, 3628800]"
      ]
     },
     "execution_count": 131,
     "metadata": {},
     "output_type": "execute_result"
    }
   ],
   "source": [
    "[factorial(x) for x in l]"
   ]
  },
  {
   "cell_type": "code",
   "execution_count": 132,
   "id": "9a880605-935c-4e0f-9c38-0d76419dc0ac",
   "metadata": {},
   "outputs": [
    {
     "data": {
      "text/plain": [
       "<map at 0x2af469dcd30>"
      ]
     },
     "execution_count": 132,
     "metadata": {},
     "output_type": "execute_result"
    }
   ],
   "source": [
    "map(factorial, l)"
   ]
  },
  {
   "cell_type": "markdown",
   "id": "f718638f-c9d9-4c84-890c-ea592f823b67",
   "metadata": {},
   "source": [
    "### String methods"
   ]
  },
  {
   "cell_type": "code",
   "execution_count": 133,
   "id": "cc48da16-5ab7-4069-8e29-af8d197c6938",
   "metadata": {},
   "outputs": [],
   "source": [
    "name = \"Sourav Karmakar\""
   ]
  },
  {
   "cell_type": "code",
   "execution_count": 134,
   "id": "4db1f47f-8dce-4fcc-ad27-37f4e3dd6576",
   "metadata": {},
   "outputs": [
    {
     "data": {
      "text/plain": [
       "'r'"
      ]
     },
     "execution_count": 134,
     "metadata": {},
     "output_type": "execute_result"
    }
   ],
   "source": [
    "name[3]"
   ]
  },
  {
   "cell_type": "code",
   "execution_count": 135,
   "id": "019f086c-30f0-4521-bc41-2feffd926423",
   "metadata": {},
   "outputs": [
    {
     "data": {
      "text/plain": [
       "'rav Kar'"
      ]
     },
     "execution_count": 135,
     "metadata": {},
     "output_type": "execute_result"
    }
   ],
   "source": [
    "name[3:10]"
   ]
  },
  {
   "cell_type": "code",
   "execution_count": 137,
   "id": "ad2c5b50-a43f-4a56-9cf3-f2578a70313d",
   "metadata": {},
   "outputs": [
    {
     "data": {
      "text/plain": [
       "'rakamraK varuoS'"
      ]
     },
     "execution_count": 137,
     "metadata": {},
     "output_type": "execute_result"
    }
   ],
   "source": [
    "name[::-1]  # reverse the string"
   ]
  },
  {
   "cell_type": "code",
   "execution_count": 138,
   "id": "fef1f071-8165-4075-ab4a-7fb092e05c6c",
   "metadata": {},
   "outputs": [
    {
     "data": {
      "text/plain": [
       "'Sourav karmakar'"
      ]
     },
     "execution_count": 138,
     "metadata": {},
     "output_type": "execute_result"
    }
   ],
   "source": [
    "name.capitalize()"
   ]
  },
  {
   "cell_type": "code",
   "execution_count": 139,
   "id": "3f6c51b1-0063-4811-8f3a-9987e9cf73f3",
   "metadata": {},
   "outputs": [
    {
     "data": {
      "text/plain": [
       "'Sourav Karmakar'"
      ]
     },
     "execution_count": 139,
     "metadata": {},
     "output_type": "execute_result"
    }
   ],
   "source": [
    "name.title()"
   ]
  },
  {
   "cell_type": "code",
   "execution_count": 152,
   "id": "5f5641ab-450a-4226-ab70-32ef25874e0a",
   "metadata": {},
   "outputs": [
    {
     "data": {
      "text/plain": [
       "'SOURAV KARMAKAR'"
      ]
     },
     "execution_count": 152,
     "metadata": {},
     "output_type": "execute_result"
    }
   ],
   "source": [
    "name.upper()"
   ]
  },
  {
   "cell_type": "code",
   "execution_count": 153,
   "id": "c23460b6-c6b1-467a-9f38-8e75b0f29df0",
   "metadata": {},
   "outputs": [
    {
     "data": {
      "text/plain": [
       "'sourav karmakar'"
      ]
     },
     "execution_count": 153,
     "metadata": {},
     "output_type": "execute_result"
    }
   ],
   "source": [
    "name.lower()"
   ]
  },
  {
   "cell_type": "code",
   "execution_count": 140,
   "id": "1d1ab514-3148-4137-85ad-8ed16a6d6094",
   "metadata": {},
   "outputs": [
    {
     "data": {
      "text/plain": [
       "'I am an indian and i live in india'"
      ]
     },
     "execution_count": 140,
     "metadata": {},
     "output_type": "execute_result"
    }
   ],
   "source": [
    "\"i am an indian and i live in india\".capitalize()"
   ]
  },
  {
   "cell_type": "code",
   "execution_count": 141,
   "id": "c25a1ffc-f094-41cc-800a-9e25aa31e7ba",
   "metadata": {},
   "outputs": [
    {
     "data": {
      "text/plain": [
       "'I Am An Indian And I Live In India'"
      ]
     },
     "execution_count": 141,
     "metadata": {},
     "output_type": "execute_result"
    }
   ],
   "source": [
    "\"i am an indian and i live in india\".title()"
   ]
  },
  {
   "cell_type": "code",
   "execution_count": 145,
   "id": "65eaf304-4497-45be-ab33-0bf91c67ae87",
   "metadata": {},
   "outputs": [
    {
     "data": {
      "text/plain": [
       "7"
      ]
     },
     "execution_count": 145,
     "metadata": {},
     "output_type": "execute_result"
    }
   ],
   "source": [
    "name.find('Kar')"
   ]
  },
  {
   "cell_type": "code",
   "execution_count": 146,
   "id": "061658b8-52b1-4199-b102-5cb6fd3b7ac5",
   "metadata": {},
   "outputs": [
    {
     "data": {
      "text/plain": [
       "3"
      ]
     },
     "execution_count": 146,
     "metadata": {},
     "output_type": "execute_result"
    }
   ],
   "source": [
    "name.count('r')"
   ]
  },
  {
   "cell_type": "code",
   "execution_count": 147,
   "id": "a28dab13-279b-44a2-b1be-887076fbd2cb",
   "metadata": {},
   "outputs": [],
   "source": [
    "fruits = ['apple', 'guava', 'orange']"
   ]
  },
  {
   "cell_type": "code",
   "execution_count": 150,
   "id": "3967ea09-3d20-4b81-a590-891410184319",
   "metadata": {},
   "outputs": [
    {
     "data": {
      "text/plain": [
       "'apple guava orange'"
      ]
     },
     "execution_count": 150,
     "metadata": {},
     "output_type": "execute_result"
    }
   ],
   "source": [
    "' '.join(fruits)"
   ]
  },
  {
   "cell_type": "code",
   "execution_count": 151,
   "id": "04227cb9-5167-41f8-9ba0-3e1150696b22",
   "metadata": {},
   "outputs": [
    {
     "data": {
      "text/plain": [
       "['apple', 'guava', 'orange']"
      ]
     },
     "execution_count": 151,
     "metadata": {},
     "output_type": "execute_result"
    }
   ],
   "source": [
    "'apple guava orange'.split()"
   ]
  },
  {
   "cell_type": "code",
   "execution_count": 154,
   "id": "1efe336e-e0c0-46f2-bb5c-45618d2ac622",
   "metadata": {},
   "outputs": [
    {
     "data": {
      "text/plain": [
       "'dasdnadnf dasd dadsfd'"
      ]
     },
     "execution_count": 154,
     "metadata": {},
     "output_type": "execute_result"
    }
   ],
   "source": [
    "\"   dasdnadnf dasd dadsfd   \".strip()"
   ]
  },
  {
   "cell_type": "code",
   "execution_count": 155,
   "id": "7fb7b87d-a9d2-491f-a54b-aacad07d52c5",
   "metadata": {},
   "outputs": [
    {
     "data": {
      "text/plain": [
       "'   dasdnadnf dasd dadsfd'"
      ]
     },
     "execution_count": 155,
     "metadata": {},
     "output_type": "execute_result"
    }
   ],
   "source": [
    "\"   dasdnadnf dasd dadsfd   \".rstrip()"
   ]
  },
  {
   "cell_type": "code",
   "execution_count": 156,
   "id": "89e397a4-3d69-450c-9fcf-7ab3e7d14207",
   "metadata": {},
   "outputs": [
    {
     "data": {
      "text/plain": [
       "'dasdnadnf dasd dadsfd   '"
      ]
     },
     "execution_count": 156,
     "metadata": {},
     "output_type": "execute_result"
    }
   ],
   "source": [
    "\"   dasdnadnf dasd dadsfd   \".lstrip()"
   ]
  },
  {
   "cell_type": "code",
   "execution_count": 159,
   "id": "b1d63209-ad2a-440e-9d18-48d11554d70b",
   "metadata": {},
   "outputs": [
    {
     "data": {
      "text/plain": [
       "1"
      ]
     },
     "execution_count": 159,
     "metadata": {},
     "output_type": "execute_result"
    }
   ],
   "source": [
    "name.index('o')"
   ]
  },
  {
   "cell_type": "code",
   "execution_count": 162,
   "id": "e7f9f607-5994-4a73-8bc4-974da5a5dd4a",
   "metadata": {},
   "outputs": [
    {
     "data": {
      "text/plain": [
       "['apple', 'guava', 'orange']"
      ]
     },
     "execution_count": 162,
     "metadata": {},
     "output_type": "execute_result"
    }
   ],
   "source": [
    "'apple;guava;orange'.split(';')"
   ]
  },
  {
   "cell_type": "markdown",
   "id": "1ad1a9d1-eac8-44d8-a112-b5718494f4d3",
   "metadata": {},
   "source": [
    "## File handling in python"
   ]
  },
  {
   "cell_type": "markdown",
   "id": "20f2c77a-fb62-4d40-821e-528f945ebe69",
   "metadata": {},
   "source": [
    "We can do following operations on a file:\n",
    "\n",
    "1. We can read the content of an existing file\n",
    "2. We can open an exsting file and write something on it (overwrite, append)"
   ]
  },
  {
   "cell_type": "markdown",
   "id": "94412ab1-4667-462a-ad6d-93919517a83c",
   "metadata": {},
   "source": [
    "### open() function\n",
    "\n",
    "```python\n",
    "open(file_path, mode)\n",
    "```\n",
    "\n",
    "`mode` can have following values:\n",
    "\n",
    "- r : reading mode (read any existing file)\n",
    "- w : write mode (write on existing file, if there is any data in the existing file it will be overwritten)\n",
    "- r+ : read-write mode (read the existing file or overwrite the content of an existing file)\n",
    "- w+ : write-read mode\n",
    "- a: append mode (it will append at the end of the file instead of overwriting it)\n",
    "- a+: append-read mode (read the existing file or append to the content of an existing file)"
   ]
  },
  {
   "cell_type": "markdown",
   "id": "3ef6d5dd-0f1b-4d1e-9491-c9e1d325bec7",
   "metadata": {},
   "source": [
    "### Reading the content of a file"
   ]
  },
  {
   "cell_type": "code",
   "execution_count": 163,
   "id": "d1f8c48d-b465-43b3-9d5e-fb8766b34874",
   "metadata": {},
   "outputs": [
    {
     "name": "stdout",
     "output_type": "stream",
     "text": [
      "<_io.TextIOWrapper name='./sample.txt' mode='r' encoding='cp1252'>\n"
     ]
    }
   ],
   "source": [
    "file = open(\"./sample.txt\",\"r\")\n",
    "\n",
    "print(file)"
   ]
  },
  {
   "cell_type": "code",
   "execution_count": 164,
   "id": "d302c9b3-5d4e-4758-90df-aba72f9d8d51",
   "metadata": {},
   "outputs": [
    {
     "name": "stdout",
     "output_type": "stream",
     "text": [
      "I am Sourav Karmakar.\n",
      "\n",
      "I am a Data Scientist.\n",
      "\n",
      "I am learning python.\n"
     ]
    }
   ],
   "source": [
    "for x in file:\n",
    "    print(x)"
   ]
  },
  {
   "cell_type": "code",
   "execution_count": 169,
   "id": "5306e8a6-92b8-4c10-8d66-70d315d4b8be",
   "metadata": {},
   "outputs": [],
   "source": [
    "file.close()"
   ]
  },
  {
   "cell_type": "markdown",
   "id": "910bde9f-6659-4184-a6ba-9ce30436dca2",
   "metadata": {},
   "source": [
    "### Write to a file"
   ]
  },
  {
   "cell_type": "code",
   "execution_count": 170,
   "id": "6c269b0a-30c2-4888-96cf-94322de09497",
   "metadata": {},
   "outputs": [],
   "source": [
    "file = open(\"./sample.txt\",\"w\")\n",
    "\n",
    "file.write(\"hello, students, how are you doing?\")\n",
    "\n",
    "file.close()"
   ]
  },
  {
   "cell_type": "markdown",
   "id": "aeb3baf9-b407-45f8-a4ae-34e702ccc6e7",
   "metadata": {},
   "source": [
    "### Append to a file"
   ]
  },
  {
   "cell_type": "code",
   "execution_count": 171,
   "id": "0735ad9f-bc57-4a6f-b458-ffd71876e8ea",
   "metadata": {},
   "outputs": [],
   "source": [
    "file = open(\"./sample.txt\",\"a\")\n",
    "\n",
    "file.write(\"Please learn data science\")\n",
    "\n",
    "file.close()"
   ]
  },
  {
   "cell_type": "code",
   "execution_count": 172,
   "id": "3e30f9c3-c871-4ebf-8aff-1ddcc8eb567b",
   "metadata": {},
   "outputs": [],
   "source": [
    "file = open(\"./sample.txt\",\"a\")\n",
    "\n",
    "file.write(\"\\nPlease also learn AI.\")\n",
    "\n",
    "file.close()"
   ]
  },
  {
   "cell_type": "markdown",
   "id": "1ef7238f-8198-44f1-93af-c32f8b1778f3",
   "metadata": {},
   "source": [
    "Write a code to read the numbers from numbers.txt file and print the sum and average of the numbers"
   ]
  },
  {
   "cell_type": "code",
   "execution_count": 175,
   "id": "ebe17be9-359f-438d-b594-da924edb1aca",
   "metadata": {},
   "outputs": [
    {
     "name": "stdout",
     "output_type": "stream",
     "text": [
      "Sum of the numbers: 53.0 and average: 5.3\n"
     ]
    }
   ],
   "source": [
    "try:\n",
    "    number_file = open(\"./numbers.txt\", 'r')\n",
    "except Exception as e:\n",
    "    print(e)\n",
    "else:\n",
    "    sum_of_numbers = 0\n",
    "    count_of_numbers = 0\n",
    "    for x in number_file:\n",
    "        sum_of_numbers += float(x)\n",
    "        count_of_numbers += 1\n",
    "    print(f\"Sum of the numbers: {sum_of_numbers} and average: {sum_of_numbers/count_of_numbers}\")\n",
    "finally:\n",
    "    number_file.close()"
   ]
  },
  {
   "cell_type": "code",
   "execution_count": null,
   "id": "1ce75bbb-ff55-45f5-964e-4ea869920ba1",
   "metadata": {},
   "outputs": [],
   "source": []
  }
 ],
 "metadata": {
  "kernelspec": {
   "display_name": "Python 3 (ipykernel)",
   "language": "python",
   "name": "python3"
  },
  "language_info": {
   "codemirror_mode": {
    "name": "ipython",
    "version": 3
   },
   "file_extension": ".py",
   "mimetype": "text/x-python",
   "name": "python",
   "nbconvert_exporter": "python",
   "pygments_lexer": "ipython3",
   "version": "3.12.9"
  }
 },
 "nbformat": 4,
 "nbformat_minor": 5
}
