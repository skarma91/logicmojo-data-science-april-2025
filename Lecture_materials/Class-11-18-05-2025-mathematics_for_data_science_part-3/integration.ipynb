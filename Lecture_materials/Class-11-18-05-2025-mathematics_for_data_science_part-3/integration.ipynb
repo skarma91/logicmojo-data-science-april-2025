{
 "cells": [
  {
   "cell_type": "markdown",
   "id": "13760733",
   "metadata": {},
   "source": [
    "## Integration\n",
    "\n",
    "### An example of numerical integration"
   ]
  },
  {
   "cell_type": "code",
   "execution_count": 1,
   "id": "8e82c212",
   "metadata": {},
   "outputs": [],
   "source": [
    "import numpy as np"
   ]
  },
  {
   "cell_type": "code",
   "execution_count": 2,
   "id": "cc8e559b",
   "metadata": {},
   "outputs": [],
   "source": [
    "def f(x):\n",
    "    return x**2"
   ]
  },
  {
   "cell_type": "code",
   "execution_count": null,
   "id": "d4acbf86",
   "metadata": {},
   "outputs": [],
   "source": [
    "def calculate_integral(fun, a, b):\n",
    "    \n",
    "    n = 10000000\n",
    "    dx = (b-a)/n\n",
    "    s = 0\n",
    "    for i in range(n):\n",
    "        # s += fun(a+i*dx) * dx  # rectangular rule\n",
    "        s += 0.5 * (fun(a+i*dx)+fun(a+(i+1)*dx)) * dx  # trapezoidal rule\n",
    "    return s"
   ]
  },
  {
   "cell_type": "code",
   "execution_count": 14,
   "id": "eb8ec52e",
   "metadata": {},
   "outputs": [
    {
     "data": {
      "text/plain": [
       "39.00000000000497"
      ]
     },
     "execution_count": 14,
     "metadata": {},
     "output_type": "execute_result"
    }
   ],
   "source": [
    "calculate_integral(f, 2, 5)"
   ]
  },
  {
   "cell_type": "code",
   "execution_count": 15,
   "id": "8135930a",
   "metadata": {},
   "outputs": [
    {
     "data": {
      "text/plain": [
       "-4.9666937229631e-12"
      ]
     },
     "execution_count": 15,
     "metadata": {},
     "output_type": "execute_result"
    }
   ],
   "source": [
    "39 - calculate_integral(f, 2, 5)"
   ]
  },
  {
   "cell_type": "code",
   "execution_count": 9,
   "id": "d3359706",
   "metadata": {},
   "outputs": [],
   "source": [
    "import scipy.integrate as integrate"
   ]
  },
  {
   "cell_type": "code",
   "execution_count": null,
   "id": "a823819b",
   "metadata": {},
   "outputs": [
    {
     "data": {
      "text/plain": [
       "(39.00000000000001, 4.3298697960381115e-13)"
      ]
     },
     "execution_count": 10,
     "metadata": {},
     "output_type": "execute_result"
    }
   ],
   "source": [
    "integrate.quad(f, 2, 5)  # quad is for single variable general purpose integration"
   ]
  },
  {
   "cell_type": "code",
   "execution_count": null,
   "id": "62974878",
   "metadata": {},
   "outputs": [],
   "source": []
  }
 ],
 "metadata": {
  "kernelspec": {
   "display_name": ".venv",
   "language": "python",
   "name": "python3"
  },
  "language_info": {
   "codemirror_mode": {
    "name": "ipython",
    "version": 3
   },
   "file_extension": ".py",
   "mimetype": "text/x-python",
   "name": "python",
   "nbconvert_exporter": "python",
   "pygments_lexer": "ipython3",
   "version": "3.12.9"
  }
 },
 "nbformat": 4,
 "nbformat_minor": 5
}
