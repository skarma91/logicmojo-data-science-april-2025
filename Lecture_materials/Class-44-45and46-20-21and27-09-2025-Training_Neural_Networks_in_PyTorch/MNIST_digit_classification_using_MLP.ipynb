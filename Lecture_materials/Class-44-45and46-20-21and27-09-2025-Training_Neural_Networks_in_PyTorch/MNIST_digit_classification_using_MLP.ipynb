{
 "cells": [
  {
   "cell_type": "code",
   "execution_count": 1,
   "id": "6dd75fdf",
   "metadata": {},
   "outputs": [],
   "source": [
    "import torch\n",
    "import torch.nn as nn\n",
    "import torch.nn.functional as F\n",
    "from torch.utils.data import Dataset, DataLoader\n",
    "\n",
    "import numpy as np\n",
    "import pandas as pd\n",
    "import matplotlib.pyplot as plt\n",
    "import time\n",
    "\n",
    "# For getting and transforming the MNIST dataset\n",
    "from torchvision import datasets\n",
    "from torchvision import transforms"
   ]
  },
  {
   "cell_type": "markdown",
   "id": "e4a04b79",
   "metadata": {},
   "source": [
    "### Settings"
   ]
  },
  {
   "cell_type": "code",
   "execution_count": 4,
   "id": "41d7ac28",
   "metadata": {},
   "outputs": [
    {
     "name": "stdout",
     "output_type": "stream",
     "text": [
      "cuda\n"
     ]
    }
   ],
   "source": [
    "RANDOM_SEED = 1\n",
    "BATCH_SIZE = 128\n",
    "NUM_EPOCHS = 5\n",
    "DEVICE = \"cuda\" if torch.cuda.is_available() else \"mps\" if torch.backends.mps.is_available() else \"cpu\"\n",
    "\n",
    "print(DEVICE)"
   ]
  },
  {
   "cell_type": "markdown",
   "id": "b4f26090",
   "metadata": {},
   "source": [
    "### Getting the dataset"
   ]
  },
  {
   "cell_type": "code",
   "execution_count": 5,
   "id": "f140f6ab",
   "metadata": {},
   "outputs": [
    {
     "name": "stdout",
     "output_type": "stream",
     "text": [
      "The length of train dataset: 60000\n",
      "The length of test dataset: 10000\n",
      "Image batch dimensions: torch.Size([128, 1, 28, 28])\n",
      "Image label dimensions: torch.Size([128])\n"
     ]
    }
   ],
   "source": [
    "train_dataset = datasets.MNIST(root='data', \n",
    "                               train=True, \n",
    "                               transform=transforms.ToTensor(),\n",
    "                               download=True)\n",
    "\n",
    "print(f\"The length of train dataset: {len(train_dataset)}\")\n",
    "\n",
    "test_dataset = datasets.MNIST(root='data', \n",
    "                              train=False, \n",
    "                              transform=transforms.ToTensor())\n",
    "\n",
    "print(f\"The length of test dataset: {len(test_dataset)}\")\n",
    "\n",
    "train_loader = DataLoader(dataset=train_dataset, \n",
    "                          batch_size=BATCH_SIZE, \n",
    "                          shuffle=True,\n",
    "                          pin_memory=True,\n",
    "                          num_workers=4)\n",
    "\n",
    "test_loader = DataLoader(dataset=test_dataset, \n",
    "                         batch_size=BATCH_SIZE, \n",
    "                         shuffle=False,\n",
    "                         pin_memory=True,\n",
    "                         num_workers=4)\n",
    "\n",
    "# Checking the dataset\n",
    "for images, labels in train_loader:  \n",
    "    print('Image batch dimensions:', images.shape)\n",
    "    print('Image label dimensions:', labels.shape)\n",
    "    break"
   ]
  },
  {
   "cell_type": "markdown",
   "id": "3992ce45",
   "metadata": {},
   "source": [
    "**What happens in transforms.ToTensor()?**\n",
    "\n",
    "- Input: a `PIL Image` or a `NumPy ndarray` with pixel values in the range [0, 255] (integers).\n",
    "\n",
    "- Output: a `torch.FloatTensor` with values in [0.0, 1.0].\n",
    "\n",
    "Internally, it:\n",
    "\n",
    "- Converts the image (H, W, C) → tensor (C, H, W).\n",
    "\n",
    "- Casts the values to `float32`.\n",
    "\n",
    "- Divides every pixel by 255.0 so the range goes from [0, 255] → [0.0, 1.0]."
   ]
  },
  {
   "cell_type": "markdown",
   "id": "b8c1500b",
   "metadata": {},
   "source": [
    "### Model Definition"
   ]
  },
  {
   "cell_type": "code",
   "execution_count": null,
   "id": "f846e5c7",
   "metadata": {},
   "outputs": [],
   "source": [
    "class MLP(torch.nn.Module):\n",
    "\n",
    "    def __init__(self, num_features, num_hidden, num_classes):\n",
    "        super().__init__()\n",
    "        \n",
    "        self.num_classes = num_classes\n",
    "        \n",
    "        ### 1st hidden layer\n",
    "        self.linear_1 = torch.nn.Linear(num_features, num_hidden)\n",
    "        nn.init.kaiming_uniform_(self.linear_1.weight, mode='fan_in', nonlinearity='relu') # initializing the weights \n",
    "        nn.init.zeros_(self.linear_1.bias)                                                 # initializing the bias \n",
    "\n",
    "        ### Output layer\n",
    "        self.linear_out = torch.nn.Linear(num_hidden, num_classes)\n",
    "        nn.init.normal_(self.linear_out.weight, mean=0.0, std=0.1)   # initializing the weights\n",
    "        nn.init.zeros_(self.linear_out.bias)                         # initializing the bias \n",
    "        \n",
    "    def forward(self, x):\n",
    "        out = self.linear_1(x)\n",
    "        out = torch.sigmoid(out)\n",
    "        logits = self.linear_out(out)\n",
    "        #probas = torch.softmax(logits, dim=1)\n",
    "        return logits #, probas"
   ]
  },
  {
   "cell_type": "markdown",
   "id": "2e38f32b",
   "metadata": {},
   "source": [
    "### Model initialization"
   ]
  },
  {
   "cell_type": "code",
   "execution_count": 8,
   "id": "170e90a6",
   "metadata": {},
   "outputs": [],
   "source": [
    "torch.manual_seed(RANDOM_SEED)\n",
    "\n",
    "model = MLP(num_features=28*28,\n",
    "            num_hidden=100,\n",
    "            num_classes=10)\n",
    "\n",
    "model = model.to(DEVICE)\n",
    "\n",
    "optimizer = torch.optim.Adam(model.parameters(), lr=0.01, betas=(0.9, 0.999), eps=1e-8)"
   ]
  },
  {
   "cell_type": "code",
   "execution_count": 9,
   "id": "fcdd7ca9",
   "metadata": {},
   "outputs": [
    {
     "name": "stdout",
     "output_type": "stream",
     "text": [
      "MLP(\n",
      "  (linear_1): Linear(in_features=784, out_features=100, bias=True)\n",
      "  (linear_out): Linear(in_features=100, out_features=10, bias=True)\n",
      ")\n"
     ]
    }
   ],
   "source": [
    "print(model)"
   ]
  },
  {
   "cell_type": "code",
   "execution_count": 10,
   "id": "4beefe53",
   "metadata": {},
   "outputs": [
    {
     "name": "stdout",
     "output_type": "stream",
     "text": [
      "79510\n"
     ]
    }
   ],
   "source": [
    "total_params = sum(p.numel() for p in model.parameters())\n",
    "\n",
    "print(total_params)"
   ]
  },
  {
   "cell_type": "markdown",
   "id": "614cc9da",
   "metadata": {},
   "source": [
    "### Helper Functions"
   ]
  },
  {
   "cell_type": "code",
   "execution_count": null,
   "id": "462d4624",
   "metadata": {},
   "outputs": [],
   "source": [
    "# Helper function to compute loss\n",
    "\n",
    "def compute_loss(net, data_loader):\n",
    "    net.eval() # evaluation mode\n",
    "    total_loss, total_samples = 0.0, 0\n",
    "    with torch.no_grad(): # no gradient tracking\n",
    "        for features, targets in data_loader:\n",
    "            features = features.view(-1, 28*28).to(DEVICE)\n",
    "            targets = targets.to(DEVICE)\n",
    "            logits = net(features)\n",
    "            loss = F.cross_entropy(logits, targets, reduction=\"sum\")  # sum, not mean\n",
    "            total_loss += loss.item()\n",
    "            total_samples += targets.size(0)\n",
    "    return total_loss / total_samples\n",
    "\n",
    "# Helper function to compute accuracy\n",
    "\n",
    "def compute_accuracy(net, data_loader):\n",
    "    net.eval()  # evaluation mode\n",
    "    correct_pred, num_examples = 0, 0\n",
    "    with torch.no_grad():  # no gradient tracking\n",
    "        for features, targets in data_loader:\n",
    "            features = features.view(-1, 28*28).to(DEVICE)\n",
    "            targets = targets.to(DEVICE)\n",
    "\n",
    "            logits = net(features)\n",
    "            predicted_labels = torch.argmax(logits, dim=1)\n",
    "\n",
    "            num_examples += targets.size(0)\n",
    "            correct_pred += (predicted_labels == targets).sum().item()\n",
    "\n",
    "    return correct_pred / num_examples * 100"
   ]
  },
  {
   "cell_type": "markdown",
   "id": "d5de8cf6",
   "metadata": {},
   "source": [
    "### Training"
   ]
  },
  {
   "cell_type": "code",
   "execution_count": 12,
   "id": "ee94612b",
   "metadata": {},
   "outputs": [
    {
     "name": "stdout",
     "output_type": "stream",
     "text": [
      "Epoch: 001/005 | Batch 000/469 | Cost: 2.5364\n",
      "Epoch: 001/005 | Batch 050/469 | Cost: 0.4238\n",
      "Epoch: 001/005 | Batch 100/469 | Cost: 0.2983\n",
      "Epoch: 001/005 | Batch 150/469 | Cost: 0.3189\n",
      "Epoch: 001/005 | Batch 200/469 | Cost: 0.2135\n",
      "Epoch: 001/005 | Batch 250/469 | Cost: 0.1965\n",
      "Epoch: 001/005 | Batch 300/469 | Cost: 0.1877\n",
      "Epoch: 001/005 | Batch 350/469 | Cost: 0.1707\n",
      "Epoch: 001/005 | Batch 400/469 | Cost: 0.1878\n",
      "Epoch: 001/005 | Batch 450/469 | Cost: 0.1846\n",
      "Epoch: 001/005 Train Cost: 0.1395\n",
      "Time elapsed: 0.27 min\n",
      "Epoch: 002/005 | Batch 000/469 | Cost: 0.1806\n",
      "Epoch: 002/005 | Batch 050/469 | Cost: 0.1087\n",
      "Epoch: 002/005 | Batch 100/469 | Cost: 0.1034\n",
      "Epoch: 002/005 | Batch 150/469 | Cost: 0.1685\n",
      "Epoch: 002/005 | Batch 200/469 | Cost: 0.1232\n",
      "Epoch: 002/005 | Batch 250/469 | Cost: 0.1904\n",
      "Epoch: 002/005 | Batch 300/469 | Cost: 0.1214\n",
      "Epoch: 002/005 | Batch 350/469 | Cost: 0.0896\n",
      "Epoch: 002/005 | Batch 400/469 | Cost: 0.0711\n",
      "Epoch: 002/005 | Batch 450/469 | Cost: 0.0970\n",
      "Epoch: 002/005 Train Cost: 0.0913\n",
      "Time elapsed: 0.53 min\n",
      "Epoch: 003/005 | Batch 000/469 | Cost: 0.0734\n",
      "Epoch: 003/005 | Batch 050/469 | Cost: 0.1028\n",
      "Epoch: 003/005 | Batch 100/469 | Cost: 0.1137\n",
      "Epoch: 003/005 | Batch 150/469 | Cost: 0.0444\n",
      "Epoch: 003/005 | Batch 200/469 | Cost: 0.1114\n",
      "Epoch: 003/005 | Batch 250/469 | Cost: 0.1098\n",
      "Epoch: 003/005 | Batch 300/469 | Cost: 0.1016\n",
      "Epoch: 003/005 | Batch 350/469 | Cost: 0.0795\n",
      "Epoch: 003/005 | Batch 400/469 | Cost: 0.0402\n",
      "Epoch: 003/005 | Batch 450/469 | Cost: 0.0323\n",
      "Epoch: 003/005 Train Cost: 0.0600\n",
      "Time elapsed: 0.79 min\n",
      "Epoch: 004/005 | Batch 000/469 | Cost: 0.0518\n",
      "Epoch: 004/005 | Batch 050/469 | Cost: 0.0553\n",
      "Epoch: 004/005 | Batch 100/469 | Cost: 0.0590\n",
      "Epoch: 004/005 | Batch 150/469 | Cost: 0.0701\n",
      "Epoch: 004/005 | Batch 200/469 | Cost: 0.0553\n",
      "Epoch: 004/005 | Batch 250/469 | Cost: 0.0791\n",
      "Epoch: 004/005 | Batch 300/469 | Cost: 0.0509\n",
      "Epoch: 004/005 | Batch 350/469 | Cost: 0.0489\n",
      "Epoch: 004/005 | Batch 400/469 | Cost: 0.1520\n",
      "Epoch: 004/005 | Batch 450/469 | Cost: 0.0177\n",
      "Epoch: 004/005 Train Cost: 0.0519\n",
      "Time elapsed: 1.05 min\n",
      "Epoch: 005/005 | Batch 000/469 | Cost: 0.0200\n",
      "Epoch: 005/005 | Batch 050/469 | Cost: 0.0417\n",
      "Epoch: 005/005 | Batch 100/469 | Cost: 0.0372\n",
      "Epoch: 005/005 | Batch 150/469 | Cost: 0.0706\n",
      "Epoch: 005/005 | Batch 200/469 | Cost: 0.0871\n",
      "Epoch: 005/005 | Batch 250/469 | Cost: 0.0390\n",
      "Epoch: 005/005 | Batch 300/469 | Cost: 0.0391\n",
      "Epoch: 005/005 | Batch 350/469 | Cost: 0.0766\n",
      "Epoch: 005/005 | Batch 400/469 | Cost: 0.0211\n",
      "Epoch: 005/005 | Batch 450/469 | Cost: 0.0549\n",
      "Epoch: 005/005 Train Cost: 0.0466\n",
      "Time elapsed: 1.32 min\n",
      "Total Training Time: 1.32 min\n"
     ]
    }
   ],
   "source": [
    "start_time = time.time()\n",
    "minibatch_cost = []\n",
    "epoch_cost = []\n",
    "for epoch in range(NUM_EPOCHS):\n",
    "    model.train()\n",
    "    for batch_idx, (features, targets) in enumerate(train_loader):\n",
    "        \n",
    "        features = features.view(-1, 28*28).to(DEVICE, non_blocking=True)\n",
    "        targets = targets.to(DEVICE, non_blocking = True)\n",
    "            \n",
    "        ### FORWARD AND BACK PROP\n",
    "        logits = model(features)\n",
    "        \n",
    "        cost = F.cross_entropy(logits, targets)\n",
    "        optimizer.zero_grad()\n",
    "        \n",
    "        cost.backward()\n",
    "       \n",
    "        ### UPDATE MODEL PARAMETERS\n",
    "        optimizer.step()\n",
    "        \n",
    "        ### LOGGING\n",
    "        minibatch_cost.append(cost.item())\n",
    "        if not batch_idx % 50:\n",
    "            print ('Epoch: %03d/%03d | Batch %03d/%03d | Cost: %.4f' \n",
    "                   %(epoch+1, NUM_EPOCHS, batch_idx, \n",
    "                     len(train_loader), cost.item()))\n",
    "        \n",
    "    cost = compute_loss(model, train_loader)\n",
    "    epoch_cost.append(cost)\n",
    "    print('Epoch: %03d/%03d Train Cost: %.4f' % (\n",
    "            epoch+1, NUM_EPOCHS, cost))\n",
    "    print('Time elapsed: %.2f min' % ((time.time() - start_time)/60))\n",
    "    \n",
    "print('Total Training Time: %.2f min' % ((time.time() - start_time)/60))"
   ]
  },
  {
   "cell_type": "markdown",
   "id": "0670243e",
   "metadata": {},
   "source": [
    "### Plotting training loss"
   ]
  },
  {
   "cell_type": "code",
   "execution_count": 13,
   "id": "a4a8fd07",
   "metadata": {},
   "outputs": [
    {
     "data": {
      "image/png": "[encoded data removed]",
      "text/plain": [
       "<Figure size 640x480 with 1 Axes>"
      ]
     },
     "metadata": {},
     "output_type": "display_data"
    },
    {
     "data": {
      "image/png": "[encoded data removed]",
      "text/plain": [
       "<Figure size 640x480 with 1 Axes>"
      ]
     },
     "metadata": {},
     "output_type": "display_data"
    }
   ],
   "source": [
    "plt.plot(range(len(minibatch_cost)), minibatch_cost)\n",
    "plt.ylabel('Cross Entropy')\n",
    "plt.xlabel('Minibatch')\n",
    "plt.show()\n",
    "\n",
    "plt.plot(range(len(epoch_cost)), epoch_cost)\n",
    "plt.ylabel('Cross Entropy')\n",
    "plt.xlabel('Epoch')\n",
    "plt.show()"
   ]
  },
  {
   "cell_type": "code",
   "execution_count": 14,
   "id": "251c4689",
   "metadata": {},
   "outputs": [
    {
     "name": "stdout",
     "output_type": "stream",
     "text": [
      "Training Accuracy: 98.58%\n",
      "Test Accuracy: 97.11%\n"
     ]
    }
   ],
   "source": [
    "print(f\"Training Accuracy: {compute_accuracy(model, train_loader):.2f}%\")\n",
    "print(f\"Test Accuracy: {compute_accuracy(model, test_loader):.2f}%\")"
   ]
  },
  {
   "cell_type": "code",
   "execution_count": 15,
   "id": "3b143d27",
   "metadata": {},
   "outputs": [],
   "source": [
    "def show_examples(model, data_loader):\n",
    "\n",
    "    for batch_idx, (features, targets) in enumerate(data_loader):\n",
    "\n",
    "        with torch.no_grad():\n",
    "            targets = targets.to(DEVICE)\n",
    "            logits = model(features.view(-1,28*28).to(DEVICE))\n",
    "            predictions = torch.argmax(logits, dim=1)\n",
    "        break\n",
    "\n",
    "    fig, axes = plt.subplots(nrows=3, ncols=5,\n",
    "                             sharex=True, sharey=True)\n",
    "\n",
    "    nhwc_img = np.transpose(features.cpu().numpy(), axes=(0, 2, 3, 1))\n",
    "    nhw_img = np.squeeze(nhwc_img, axis=3)\n",
    "\n",
    "    for idx, ax in enumerate(axes.ravel()):\n",
    "        ax.imshow(nhw_img[idx], cmap='binary')\n",
    "        ax.title.set_text(f'P: {predictions[idx]} | T: {targets[idx]}')\n",
    "        ax.axison = False\n",
    "\n",
    "    plt.tight_layout()\n",
    "    plt.show()"
   ]
  },
  {
   "cell_type": "code",
   "execution_count": 16,
   "id": "fd9bf558",
   "metadata": {},
   "outputs": [
    {
     "data": {
      "image/png": "[encoded data removed]",
      "text/plain": [
       "<Figure size 640x480 with 15 Axes>"
      ]
     },
     "metadata": {},
     "output_type": "display_data"
    }
   ],
   "source": [
    "show_examples(model=model, data_loader=test_loader)"
   ]
  },
  {
   "cell_type": "code",
   "execution_count": 17,
   "id": "f59cb536",
   "metadata": {},
   "outputs": [],
   "source": [
    "if DEVICE == \"cuda\":\n",
    "    torch.cuda.empty_cache()    # Release GPU Memory "
   ]
  },
  {
   "cell_type": "code",
   "execution_count": null,
   "id": "895e0b28",
   "metadata": {},
   "outputs": [],
   "source": []
  }
 ],
 "metadata": {
  "kernelspec": {
   "display_name": ".venv",
   "language": "python",
   "name": "python3"
  },
  "language_info": {
   "codemirror_mode": {
    "name": "ipython",
    "version": 3
   },
   "file_extension": ".py",
   "mimetype": "text/x-python",
   "name": "python",
   "nbconvert_exporter": "python",
   "pygments_lexer": "ipython3",
   "version": "3.12.10"
  }
 },
 "nbformat": 4,
 "nbformat_minor": 5
}
