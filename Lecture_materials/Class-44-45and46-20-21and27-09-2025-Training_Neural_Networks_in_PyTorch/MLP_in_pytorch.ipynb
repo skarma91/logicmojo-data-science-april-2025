{
 "cells": [
  {
   "cell_type": "markdown",
   "id": "c93c5d49",
   "metadata": {},
   "source": [
    "## MultiLayered Perceptron (MLP) in PyTroch\n",
    "\n",
    "In this notebook we will develop an MLP model to classify a tabular dataset. \n",
    "\n",
    "**About the dataset**\n",
    "\n",
    "- Diabetes Clinical dataset\n",
    "- 100,000 records\n",
    "- Dataset Location: https://www.kaggle.com/datasets/priyamchoksi/100000-diabetes-clinical-dataset"
   ]
  },
  {
   "cell_type": "code",
   "execution_count": 1,
   "id": "52051f0f",
   "metadata": {},
   "outputs": [],
   "source": [
    "import torch\n",
    "import torch.nn as nn\n",
    "import torch.nn.functional as F\n",
    "from torch.utils.data import Dataset, DataLoader\n",
    "\n",
    "import numpy as np\n",
    "import pandas as pd\n",
    "import matplotlib.pyplot as plt\n",
    "import time"
   ]
  },
  {
   "cell_type": "code",
   "execution_count": 2,
   "id": "00832157",
   "metadata": {},
   "outputs": [],
   "source": [
    "data = pd.read_csv(\"./diabetes_dataset.csv\")"
   ]
  },
  {
   "cell_type": "code",
   "execution_count": 3,
   "id": "ed287f7f",
   "metadata": {},
   "outputs": [
    {
     "data": {
      "text/html": [
       "<div>\n",
       "<style scoped>\n",
       "    .dataframe tbody tr th:only-of-type {\n",
       "        vertical-align: middle;\n",
       "    }\n",
       "\n",
       "    .dataframe tbody tr th {\n",
       "        vertical-align: top;\n",
       "    }\n",
       "\n",
       "    .dataframe thead th {\n",
       "        text-align: right;\n",
       "    }\n",
       "</style>\n",
       "<table border=\"1\" class=\"dataframe\">\n",
       "  <thead>\n",
       "    <tr style=\"text-align: right;\">\n",
       "      <th></th>\n",
       "      <th>year</th>\n",
       "      <th>gender</th>\n",
       "      <th>age</th>\n",
       "      <th>location</th>\n",
       "      <th>race:AfricanAmerican</th>\n",
       "      <th>race:Asian</th>\n",
       "      <th>race:Caucasian</th>\n",
       "      <th>race:Hispanic</th>\n",
       "      <th>race:Other</th>\n",
       "      <th>hypertension</th>\n",
       "      <th>heart_disease</th>\n",
       "      <th>smoking_history</th>\n",
       "      <th>bmi</th>\n",
       "      <th>hbA1c_level</th>\n",
       "      <th>blood_glucose_level</th>\n",
       "      <th>diabetes</th>\n",
       "    </tr>\n",
       "  </thead>\n",
       "  <tbody>\n",
       "    <tr>\n",
       "      <th>0</th>\n",
       "      <td>2020</td>\n",
       "      <td>Female</td>\n",
       "      <td>32.0</td>\n",
       "      <td>Alabama</td>\n",
       "      <td>0</td>\n",
       "      <td>0</td>\n",
       "      <td>0</td>\n",
       "      <td>0</td>\n",
       "      <td>1</td>\n",
       "      <td>0</td>\n",
       "      <td>0</td>\n",
       "      <td>never</td>\n",
       "      <td>27.32</td>\n",
       "      <td>5.0</td>\n",
       "      <td>100</td>\n",
       "      <td>0</td>\n",
       "    </tr>\n",
       "    <tr>\n",
       "      <th>1</th>\n",
       "      <td>2015</td>\n",
       "      <td>Female</td>\n",
       "      <td>29.0</td>\n",
       "      <td>Alabama</td>\n",
       "      <td>0</td>\n",
       "      <td>1</td>\n",
       "      <td>0</td>\n",
       "      <td>0</td>\n",
       "      <td>0</td>\n",
       "      <td>0</td>\n",
       "      <td>0</td>\n",
       "      <td>never</td>\n",
       "      <td>19.95</td>\n",
       "      <td>5.0</td>\n",
       "      <td>90</td>\n",
       "      <td>0</td>\n",
       "    </tr>\n",
       "    <tr>\n",
       "      <th>2</th>\n",
       "      <td>2015</td>\n",
       "      <td>Male</td>\n",
       "      <td>18.0</td>\n",
       "      <td>Alabama</td>\n",
       "      <td>0</td>\n",
       "      <td>0</td>\n",
       "      <td>0</td>\n",
       "      <td>0</td>\n",
       "      <td>1</td>\n",
       "      <td>0</td>\n",
       "      <td>0</td>\n",
       "      <td>never</td>\n",
       "      <td>23.76</td>\n",
       "      <td>4.8</td>\n",
       "      <td>160</td>\n",
       "      <td>0</td>\n",
       "    </tr>\n",
       "    <tr>\n",
       "      <th>3</th>\n",
       "      <td>2015</td>\n",
       "      <td>Male</td>\n",
       "      <td>41.0</td>\n",
       "      <td>Alabama</td>\n",
       "      <td>0</td>\n",
       "      <td>0</td>\n",
       "      <td>1</td>\n",
       "      <td>0</td>\n",
       "      <td>0</td>\n",
       "      <td>0</td>\n",
       "      <td>0</td>\n",
       "      <td>never</td>\n",
       "      <td>27.32</td>\n",
       "      <td>4.0</td>\n",
       "      <td>159</td>\n",
       "      <td>0</td>\n",
       "    </tr>\n",
       "    <tr>\n",
       "      <th>4</th>\n",
       "      <td>2016</td>\n",
       "      <td>Female</td>\n",
       "      <td>52.0</td>\n",
       "      <td>Alabama</td>\n",
       "      <td>1</td>\n",
       "      <td>0</td>\n",
       "      <td>0</td>\n",
       "      <td>0</td>\n",
       "      <td>0</td>\n",
       "      <td>0</td>\n",
       "      <td>0</td>\n",
       "      <td>never</td>\n",
       "      <td>23.75</td>\n",
       "      <td>6.5</td>\n",
       "      <td>90</td>\n",
       "      <td>0</td>\n",
       "    </tr>\n",
       "  </tbody>\n",
       "</table>\n",
       "</div>"
      ],
      "text/plain": [
       "   year  gender   age location  race:AfricanAmerican  race:Asian  \\\n",
       "0  2020  Female  32.0  Alabama                     0           0   \n",
       "1  2015  Female  29.0  Alabama                     0           1   \n",
       "2  2015    Male  18.0  Alabama                     0           0   \n",
       "3  2015    Male  41.0  Alabama                     0           0   \n",
       "4  2016  Female  52.0  Alabama                     1           0   \n",
       "\n",
       "   race:Caucasian  race:Hispanic  race:Other  hypertension  heart_disease  \\\n",
       "0               0              0           1             0              0   \n",
       "1               0              0           0             0              0   \n",
       "2               0              0           1             0              0   \n",
       "3               1              0           0             0              0   \n",
       "4               0              0           0             0              0   \n",
       "\n",
       "  smoking_history    bmi  hbA1c_level  blood_glucose_level  diabetes  \n",
       "0           never  27.32          5.0                  100         0  \n",
       "1           never  19.95          5.0                   90         0  \n",
       "2           never  23.76          4.8                  160         0  \n",
       "3           never  27.32          4.0                  159         0  \n",
       "4           never  23.75          6.5                   90         0  "
      ]
     },
     "execution_count": 3,
     "metadata": {},
     "output_type": "execute_result"
    }
   ],
   "source": [
    "data.head()"
   ]
  },
  {
   "cell_type": "code",
   "execution_count": 4,
   "id": "cfd82eaa",
   "metadata": {},
   "outputs": [
    {
     "name": "stdout",
     "output_type": "stream",
     "text": [
      "<class 'pandas.core.frame.DataFrame'>\n",
      "RangeIndex: 100000 entries, 0 to 99999\n",
      "Data columns (total 16 columns):\n",
      " #   Column                Non-Null Count   Dtype  \n",
      "---  ------                --------------   -----  \n",
      " 0   year                  100000 non-null  int64  \n",
      " 1   gender                100000 non-null  object \n",
      " 2   age                   100000 non-null  float64\n",
      " 3   location              100000 non-null  object \n",
      " 4   race:AfricanAmerican  100000 non-null  int64  \n",
      " 5   race:Asian            100000 non-null  int64  \n",
      " 6   race:Caucasian        100000 non-null  int64  \n",
      " 7   race:Hispanic         100000 non-null  int64  \n",
      " 8   race:Other            100000 non-null  int64  \n",
      " 9   hypertension          100000 non-null  int64  \n",
      " 10  heart_disease         100000 non-null  int64  \n",
      " 11  smoking_history       100000 non-null  object \n",
      " 12  bmi                   100000 non-null  float64\n",
      " 13  hbA1c_level           100000 non-null  float64\n",
      " 14  blood_glucose_level   100000 non-null  int64  \n",
      " 15  diabetes              100000 non-null  int64  \n",
      "dtypes: float64(3), int64(10), object(3)\n",
      "memory usage: 12.2+ MB\n"
     ]
    }
   ],
   "source": [
    "data.info()"
   ]
  },
  {
   "cell_type": "code",
   "execution_count": 5,
   "id": "c61c3bad",
   "metadata": {},
   "outputs": [
    {
     "data": {
      "text/plain": [
       "gender\n",
       "Female    58552\n",
       "Male      41430\n",
       "Other        18\n",
       "Name: count, dtype: int64"
      ]
     },
     "execution_count": 5,
     "metadata": {},
     "output_type": "execute_result"
    }
   ],
   "source": [
    "data['gender'].value_counts()"
   ]
  },
  {
   "cell_type": "code",
   "execution_count": 6,
   "id": "4352db7b",
   "metadata": {},
   "outputs": [
    {
     "data": {
      "text/plain": [
       "smoking_history\n",
       "No Info        35816\n",
       "never          35095\n",
       "former          9352\n",
       "current         9286\n",
       "not current     6447\n",
       "ever            4004\n",
       "Name: count, dtype: int64"
      ]
     },
     "execution_count": 6,
     "metadata": {},
     "output_type": "execute_result"
    }
   ],
   "source": [
    "data['smoking_history'].value_counts()"
   ]
  },
  {
   "cell_type": "code",
   "execution_count": 7,
   "id": "8eced7c5",
   "metadata": {},
   "outputs": [
    {
     "data": {
      "text/html": [
       "<div>\n",
       "<style scoped>\n",
       "    .dataframe tbody tr th:only-of-type {\n",
       "        vertical-align: middle;\n",
       "    }\n",
       "\n",
       "    .dataframe tbody tr th {\n",
       "        vertical-align: top;\n",
       "    }\n",
       "\n",
       "    .dataframe thead th {\n",
       "        text-align: right;\n",
       "    }\n",
       "</style>\n",
       "<table border=\"1\" class=\"dataframe\">\n",
       "  <thead>\n",
       "    <tr style=\"text-align: right;\">\n",
       "      <th></th>\n",
       "      <th>gender</th>\n",
       "      <th>age</th>\n",
       "      <th>race:AfricanAmerican</th>\n",
       "      <th>race:Asian</th>\n",
       "      <th>race:Caucasian</th>\n",
       "      <th>race:Hispanic</th>\n",
       "      <th>race:Other</th>\n",
       "      <th>hypertension</th>\n",
       "      <th>heart_disease</th>\n",
       "      <th>smoking_history</th>\n",
       "      <th>bmi</th>\n",
       "      <th>hbA1c_level</th>\n",
       "      <th>blood_glucose_level</th>\n",
       "      <th>diabetes</th>\n",
       "    </tr>\n",
       "  </thead>\n",
       "  <tbody>\n",
       "    <tr>\n",
       "      <th>0</th>\n",
       "      <td>0</td>\n",
       "      <td>32.0</td>\n",
       "      <td>0</td>\n",
       "      <td>0</td>\n",
       "      <td>0</td>\n",
       "      <td>0</td>\n",
       "      <td>1</td>\n",
       "      <td>0</td>\n",
       "      <td>0</td>\n",
       "      <td>1</td>\n",
       "      <td>27.32</td>\n",
       "      <td>5.0</td>\n",
       "      <td>100</td>\n",
       "      <td>0</td>\n",
       "    </tr>\n",
       "    <tr>\n",
       "      <th>1</th>\n",
       "      <td>0</td>\n",
       "      <td>29.0</td>\n",
       "      <td>0</td>\n",
       "      <td>1</td>\n",
       "      <td>0</td>\n",
       "      <td>0</td>\n",
       "      <td>0</td>\n",
       "      <td>0</td>\n",
       "      <td>0</td>\n",
       "      <td>1</td>\n",
       "      <td>19.95</td>\n",
       "      <td>5.0</td>\n",
       "      <td>90</td>\n",
       "      <td>0</td>\n",
       "    </tr>\n",
       "    <tr>\n",
       "      <th>2</th>\n",
       "      <td>1</td>\n",
       "      <td>18.0</td>\n",
       "      <td>0</td>\n",
       "      <td>0</td>\n",
       "      <td>0</td>\n",
       "      <td>0</td>\n",
       "      <td>1</td>\n",
       "      <td>0</td>\n",
       "      <td>0</td>\n",
       "      <td>1</td>\n",
       "      <td>23.76</td>\n",
       "      <td>4.8</td>\n",
       "      <td>160</td>\n",
       "      <td>0</td>\n",
       "    </tr>\n",
       "    <tr>\n",
       "      <th>3</th>\n",
       "      <td>1</td>\n",
       "      <td>41.0</td>\n",
       "      <td>0</td>\n",
       "      <td>0</td>\n",
       "      <td>1</td>\n",
       "      <td>0</td>\n",
       "      <td>0</td>\n",
       "      <td>0</td>\n",
       "      <td>0</td>\n",
       "      <td>1</td>\n",
       "      <td>27.32</td>\n",
       "      <td>4.0</td>\n",
       "      <td>159</td>\n",
       "      <td>0</td>\n",
       "    </tr>\n",
       "    <tr>\n",
       "      <th>4</th>\n",
       "      <td>0</td>\n",
       "      <td>52.0</td>\n",
       "      <td>1</td>\n",
       "      <td>0</td>\n",
       "      <td>0</td>\n",
       "      <td>0</td>\n",
       "      <td>0</td>\n",
       "      <td>0</td>\n",
       "      <td>0</td>\n",
       "      <td>1</td>\n",
       "      <td>23.75</td>\n",
       "      <td>6.5</td>\n",
       "      <td>90</td>\n",
       "      <td>0</td>\n",
       "    </tr>\n",
       "  </tbody>\n",
       "</table>\n",
       "</div>"
      ],
      "text/plain": [
       "   gender   age  race:AfricanAmerican  race:Asian  race:Caucasian  \\\n",
       "0       0  32.0                     0           0               0   \n",
       "1       0  29.0                     0           1               0   \n",
       "2       1  18.0                     0           0               0   \n",
       "3       1  41.0                     0           0               1   \n",
       "4       0  52.0                     1           0               0   \n",
       "\n",
       "   race:Hispanic  race:Other  hypertension  heart_disease  smoking_history  \\\n",
       "0              0           1             0              0                1   \n",
       "1              0           0             0              0                1   \n",
       "2              0           1             0              0                1   \n",
       "3              0           0             0              0                1   \n",
       "4              0           0             0              0                1   \n",
       "\n",
       "     bmi  hbA1c_level  blood_glucose_level  diabetes  \n",
       "0  27.32          5.0                  100         0  \n",
       "1  19.95          5.0                   90         0  \n",
       "2  23.76          4.8                  160         0  \n",
       "3  27.32          4.0                  159         0  \n",
       "4  23.75          6.5                   90         0  "
      ]
     },
     "execution_count": 7,
     "metadata": {},
     "output_type": "execute_result"
    }
   ],
   "source": [
    "data[\"gender\"] = data[\"gender\"].map({\"Female\": 0, \"Male\": 1, \"Other\": 2})\n",
    "data[\"smoking_history\"] = data[\"smoking_history\"].map({\"No Info\": 0, \"never\": 1, \"former\": 2, \"current\": 3, \"not current\": 4, \"ever\": 5})\n",
    "data = data.drop([\"year\", \"location\"], axis=1)\n",
    "data.head()"
   ]
  },
  {
   "cell_type": "code",
   "execution_count": 8,
   "id": "5ffff312",
   "metadata": {},
   "outputs": [
    {
     "data": {
      "text/plain": [
       "(100000, 14)"
      ]
     },
     "execution_count": 8,
     "metadata": {},
     "output_type": "execute_result"
    }
   ],
   "source": [
    "data.shape"
   ]
  },
  {
   "cell_type": "code",
   "execution_count": 9,
   "id": "4b1ba5e8",
   "metadata": {},
   "outputs": [
    {
     "data": {
      "text/plain": [
       "((76500, 14), (8500, 14), (15000, 14))"
      ]
     },
     "execution_count": 9,
     "metadata": {},
     "output_type": "execute_result"
    }
   ],
   "source": [
    "from sklearn.model_selection import train_test_split\n",
    "\n",
    "train_data, test_data = train_test_split(data, test_size=0.15, random_state=579, stratify=data['diabetes'])\n",
    "\n",
    "train_data, validation_data = train_test_split(train_data, test_size=0.1, random_state=123, stratify=train_data['diabetes'])\n",
    "\n",
    "train_data.shape, validation_data.shape, test_data.shape"
   ]
  },
  {
   "cell_type": "code",
   "execution_count": 10,
   "id": "51e06e27",
   "metadata": {},
   "outputs": [
    {
     "name": "stdout",
     "output_type": "stream",
     "text": [
      "cuda\n"
     ]
    }
   ],
   "source": [
    "RANDOM_SEED = 123\n",
    "BATCH_SIZE = 128\n",
    "NUM_EPOCHS = 25\n",
    "DEVICE = \"cuda\" if torch.cuda.is_available() else \"mps\" if torch.backends.mps.is_available() else \"cpu\"\n",
    "\n",
    "print(DEVICE)"
   ]
  },
  {
   "cell_type": "code",
   "execution_count": 11,
   "id": "c097f624",
   "metadata": {},
   "outputs": [],
   "source": [
    "class PandasDataset(Dataset):\n",
    "    def __init__(self, data, target_column):\n",
    "        self.X = data.drop(columns=[target_column]).values\n",
    "        self.y = data[target_column].values\n",
    "\n",
    "    def __len__(self):\n",
    "        return len(self.y)\n",
    "\n",
    "    def __getitem__(self, idx):\n",
    "        return torch.tensor(self.X[idx], dtype=torch.float32), torch.tensor(self.y[idx], dtype=torch.long)"
   ]
  },
  {
   "cell_type": "code",
   "execution_count": 12,
   "id": "7d838ef7",
   "metadata": {},
   "outputs": [],
   "source": [
    "train_dataset = PandasDataset(train_data, target_column=\"diabetes\")\n",
    "train_data_loader = DataLoader(train_dataset, batch_size=BATCH_SIZE, shuffle=True)\n",
    "\n",
    "validation_dataset = PandasDataset(validation_data, target_column=\"diabetes\")\n",
    "validation_data_loader = DataLoader(validation_dataset, batch_size=BATCH_SIZE, shuffle=True)\n",
    "\n",
    "test_dataset = PandasDataset(test_data, target_column=\"diabetes\")\n",
    "test_data_loader = DataLoader(test_dataset, batch_size=BATCH_SIZE, shuffle=True)"
   ]
  },
  {
   "cell_type": "code",
   "execution_count": 13,
   "id": "43357438",
   "metadata": {},
   "outputs": [],
   "source": [
    "class MLP(nn.Module):\n",
    "\n",
    "    def __init__(self, input_size, hidden_size_1, hidden_size_2, num_classes):\n",
    "        super(MLP, self).__init__()\n",
    "\n",
    "        self.network = nn.Sequential(\n",
    "            nn.Linear(input_size, hidden_size_1),\n",
    "            nn.ReLU(),\n",
    "            nn.Linear(hidden_size_1, hidden_size_2),\n",
    "            nn.ReLU(),\n",
    "            nn.Linear(hidden_size_2, num_classes)\n",
    "        )\n",
    "\n",
    "    def forward(self, x):\n",
    "\n",
    "        logits = self.network(x)\n",
    "\n",
    "        return logits"
   ]
  },
  {
   "cell_type": "code",
   "execution_count": 14,
   "id": "22624092",
   "metadata": {},
   "outputs": [
    {
     "name": "stdout",
     "output_type": "stream",
     "text": [
      "number of features: 13, number of classes: 2\n"
     ]
    }
   ],
   "source": [
    "number_of_features = data.shape[1]-1\n",
    "number_of_classes = 2\n",
    "\n",
    "print(f\"number of features: {number_of_features}, number of classes: {number_of_classes}\")"
   ]
  },
  {
   "cell_type": "code",
   "execution_count": 15,
   "id": "13f65154",
   "metadata": {},
   "outputs": [
    {
     "name": "stdout",
     "output_type": "stream",
     "text": [
      "MLP(\n",
      "  (network): Sequential(\n",
      "    (0): Linear(in_features=13, out_features=40, bias=True)\n",
      "    (1): ReLU()\n",
      "    (2): Linear(in_features=40, out_features=40, bias=True)\n",
      "    (3): ReLU()\n",
      "    (4): Linear(in_features=40, out_features=2, bias=True)\n",
      "  )\n",
      ")\n"
     ]
    }
   ],
   "source": [
    "model = MLP(input_size=number_of_features, hidden_size_1=40, hidden_size_2=40, num_classes=number_of_classes)\n",
    "model = model.to(DEVICE)\n",
    "print(model)"
   ]
  },
  {
   "cell_type": "markdown",
   "id": "86ab5c42",
   "metadata": {},
   "source": [
    "How many number of parameters does this model have?"
   ]
  },
  {
   "cell_type": "code",
   "execution_count": 16,
   "id": "3ad9f13c",
   "metadata": {},
   "outputs": [
    {
     "name": "stdout",
     "output_type": "stream",
     "text": [
      "2282\n"
     ]
    }
   ],
   "source": [
    "total_params = sum(p.numel() for p in model.parameters())\n",
    "\n",
    "print(total_params)"
   ]
  },
  {
   "cell_type": "code",
   "execution_count": 17,
   "id": "c17fb1fe",
   "metadata": {},
   "outputs": [],
   "source": [
    "learning_rate = 0.01\n",
    "optimizer = torch.optim.SGD(model.parameters(), lr=learning_rate)"
   ]
  },
  {
   "cell_type": "code",
   "execution_count": 18,
   "id": "535f14c9",
   "metadata": {},
   "outputs": [],
   "source": [
    "def compute_loss(net, data_loader):\n",
    "    net.eval() # evaluation mode\n",
    "    total_loss, total_samples = 0.0, 0\n",
    "    with torch.no_grad(): # no gradient tracking\n",
    "        for features, targets in data_loader:\n",
    "            features, targets = features.to(DEVICE), targets.to(DEVICE)\n",
    "            logits = net(features)\n",
    "            loss = F.cross_entropy(logits, targets, reduction=\"sum\")  # sum, not mean\n",
    "            total_loss += loss.item()\n",
    "            total_samples += targets.size(0)\n",
    "    return total_loss / total_samples\n",
    "\n",
    "\n",
    "def compute_accuracy(net, data_loader):\n",
    "    net.eval()  # evaluation mode\n",
    "    correct_pred, num_examples = 0, 0\n",
    "    with torch.no_grad():  # no gradient tracking\n",
    "        for features, targets in data_loader:\n",
    "            features = features.to(DEVICE)\n",
    "            targets = targets.to(DEVICE)\n",
    "\n",
    "            logits = net(features)\n",
    "            predicted_labels = torch.argmax(logits, dim=1)\n",
    "\n",
    "            num_examples += targets.size(0)\n",
    "            correct_pred += (predicted_labels == targets).sum().item()\n",
    "\n",
    "    return correct_pred / num_examples * 100"
   ]
  },
  {
   "cell_type": "code",
   "execution_count": 19,
   "id": "07d1fdf9",
   "metadata": {},
   "outputs": [
    {
     "name": "stdout",
     "output_type": "stream",
     "text": [
      "Epoch: 001/025 | Train Loss: 0.2839 | Validation Loss: 0.2872 |            Train Acc: 91.56% | Validation Acc: 91.55%\n",
      "Epoch: 002/025 | Train Loss: 0.2922 | Validation Loss: 0.2901 |            Train Acc: 91.68% | Validation Acc: 91.55%\n",
      "Epoch: 003/025 | Train Loss: 0.2529 | Validation Loss: 0.2553 |            Train Acc: 92.59% | Validation Acc: 92.34%\n",
      "Epoch: 004/025 | Train Loss: 0.2475 | Validation Loss: 0.2508 |            Train Acc: 92.65% | Validation Acc: 92.48%\n",
      "Epoch: 005/025 | Train Loss: 0.2397 | Validation Loss: 0.2427 |            Train Acc: 92.74% | Validation Acc: 92.52%\n",
      "Epoch: 006/025 | Train Loss: 0.2393 | Validation Loss: 0.2408 |            Train Acc: 92.63% | Validation Acc: 92.41%\n",
      "Epoch: 007/025 | Train Loss: 0.2308 | Validation Loss: 0.2332 |            Train Acc: 92.88% | Validation Acc: 92.71%\n",
      "Epoch: 008/025 | Train Loss: 0.2263 | Validation Loss: 0.2298 |            Train Acc: 92.69% | Validation Acc: 92.45%\n",
      "Epoch: 009/025 | Train Loss: 0.2169 | Validation Loss: 0.2185 |            Train Acc: 92.98% | Validation Acc: 92.81%\n",
      "Epoch: 010/025 | Train Loss: 0.2122 | Validation Loss: 0.2154 |            Train Acc: 92.91% | Validation Acc: 92.76%\n",
      "Epoch: 011/025 | Train Loss: 0.2318 | Validation Loss: 0.2345 |            Train Acc: 93.55% | Validation Acc: 93.44%\n",
      "Epoch: 012/025 | Train Loss: 0.2069 | Validation Loss: 0.2094 |            Train Acc: 93.18% | Validation Acc: 92.95%\n",
      "Epoch: 013/025 | Train Loss: 0.2441 | Validation Loss: 0.2457 |            Train Acc: 92.50% | Validation Acc: 92.45%\n",
      "Epoch: 014/025 | Train Loss: 0.2000 | Validation Loss: 0.2024 |            Train Acc: 93.41% | Validation Acc: 93.11%\n",
      "Epoch: 015/025 | Train Loss: 0.2121 | Validation Loss: 0.2136 |            Train Acc: 94.00% | Validation Acc: 93.95%\n",
      "Epoch: 016/025 | Train Loss: 0.2058 | Validation Loss: 0.2071 |            Train Acc: 92.96% | Validation Acc: 93.00%\n",
      "Epoch: 017/025 | Train Loss: 0.2286 | Validation Loss: 0.2297 |            Train Acc: 92.71% | Validation Acc: 92.62%\n",
      "Epoch: 018/025 | Train Loss: 0.2326 | Validation Loss: 0.2311 |            Train Acc: 91.85% | Validation Acc: 91.84%\n",
      "Epoch: 019/025 | Train Loss: 0.2111 | Validation Loss: 0.2106 |            Train Acc: 92.73% | Validation Acc: 92.74%\n",
      "Epoch: 020/025 | Train Loss: 0.2655 | Validation Loss: 0.2650 |            Train Acc: 91.55% | Validation Acc: 91.54%\n",
      "Epoch: 021/025 | Train Loss: 0.2017 | Validation Loss: 0.2018 |            Train Acc: 93.68% | Validation Acc: 93.51%\n",
      "Epoch: 022/025 | Train Loss: 0.1950 | Validation Loss: 0.1953 |            Train Acc: 93.76% | Validation Acc: 93.74%\n",
      "Epoch: 023/025 | Train Loss: 0.2345 | Validation Loss: 0.2338 |            Train Acc: 92.74% | Validation Acc: 92.75%\n",
      "Epoch: 024/025 | Train Loss: 0.1888 | Validation Loss: 0.1890 |            Train Acc: 93.42% | Validation Acc: 93.53%\n",
      "Epoch: 025/025 | Train Loss: 0.1939 | Validation Loss: 0.1949 |            Train Acc: 93.30% | Validation Acc: 93.39%\n",
      "Total Time Elapsed: 4.46 min\n"
     ]
    }
   ],
   "source": [
    "training_loss = []\n",
    "validation_loss = []\n",
    "\n",
    "start_time = time.time()\n",
    "\n",
    "for epoch in range(NUM_EPOCHS):\n",
    "    model.train()\n",
    "    \n",
    "    for batch_idx, (features, labels) in enumerate(train_data_loader):\n",
    "\n",
    "        features = features.to(DEVICE)\n",
    "        labels = labels.to(DEVICE)\n",
    "\n",
    "        logits = model(features)\n",
    "\n",
    "        loss = F.cross_entropy(logits, labels)\n",
    "\n",
    "        optimizer.zero_grad()\n",
    "\n",
    "        loss.backward()\n",
    "\n",
    "        optimizer.step()\n",
    "        \n",
    "\n",
    "    # training loss\n",
    "    loss_train = compute_loss(model, train_data_loader)\n",
    "    training_loss.append(loss_train)\n",
    "\n",
    "    # validation loss\n",
    "    loss_val = compute_loss(model, validation_data_loader)\n",
    "    validation_loss.append(loss_val)\n",
    "\n",
    "    # training accuracy for each epoch\n",
    "    training_accuracy = compute_accuracy(model, train_data_loader)\n",
    "\n",
    "    # validation accuracy for each epoch\n",
    "    validation_accuracy = compute_accuracy(model, validation_data_loader)\n",
    "\n",
    "    print(f\"Epoch: {epoch+1:03d}/{NUM_EPOCHS:03d} | Train Loss: {loss_train:.4f} | Validation Loss: {loss_val:.4f} | \\\n",
    "           Train Acc: {training_accuracy:.2f}% | Validation Acc: {validation_accuracy:.2f}%\")\n",
    "    \n",
    "print(f\"Total Time Elapsed: {((time.time() - start_time)/60):.2f} min\")\n"
   ]
  },
  {
   "cell_type": "code",
   "execution_count": 20,
   "id": "183f4ea5",
   "metadata": {},
   "outputs": [
    {
     "data": {
      "image/png": "[encoded data removed]",
      "text/plain": [
       "<Figure size 1000x600 with 1 Axes>"
      ]
     },
     "metadata": {},
     "output_type": "display_data"
    }
   ],
   "source": [
    "plt.figure(figsize=(10,6))\n",
    "plt.plot(range(NUM_EPOCHS), training_loss, label=\"Training Loss\")\n",
    "plt.plot(range(NUM_EPOCHS), validation_loss, label=\"Validation Loss\")\n",
    "plt.legend()\n",
    "plt.grid()\n",
    "plt.show()"
   ]
  },
  {
   "cell_type": "code",
   "execution_count": 21,
   "id": "e6cad1c6",
   "metadata": {},
   "outputs": [
    {
     "name": "stdout",
     "output_type": "stream",
     "text": [
      "Test Accuracy: 93.32%\n"
     ]
    }
   ],
   "source": [
    "# compute test accuracy after completeing the training\n",
    "test_accuracy = compute_accuracy(model, test_data_loader)\n",
    "\n",
    "print(f\"Test Accuracy: {test_accuracy:.2f}%\")"
   ]
  },
  {
   "cell_type": "code",
   "execution_count": null,
   "id": "4c3b95fe",
   "metadata": {},
   "outputs": [],
   "source": []
  }
 ],
 "metadata": {
  "kernelspec": {
   "display_name": ".venv",
   "language": "python",
   "name": "python3"
  },
  "language_info": {
   "codemirror_mode": {
    "name": "ipython",
    "version": 3
   },
   "file_extension": ".py",
   "mimetype": "text/x-python",
   "name": "python",
   "nbconvert_exporter": "python",
   "pygments_lexer": "ipython3",
   "version": "3.12.10"
  }
 },
 "nbformat": 4,
 "nbformat_minor": 5
}
