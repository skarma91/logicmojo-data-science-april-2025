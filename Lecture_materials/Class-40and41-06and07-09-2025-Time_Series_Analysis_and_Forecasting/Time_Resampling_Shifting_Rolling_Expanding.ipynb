{
 "cells": [
  {
   "cell_type": "markdown",
   "id": "2cb26a27",
   "metadata": {},
   "source": [
    "# Time Resampling, Shifting, Rolling and Expanding\n",
    "\n",
    "In this notebook we shall discuss about:\n",
    "\n",
    "- Time resampling \n",
    "- Time Shifting\n",
    "- Time rolling\n",
    "- TIme Expanding"
   ]
  },
  {
   "cell_type": "code",
   "execution_count": null,
   "id": "0c0db9c1",
   "metadata": {
    "ExecuteTime": {
     "end_time": "2022-11-12T14:00:31.127345Z",
     "start_time": "2022-11-12T14:00:27.659359Z"
    }
   },
   "outputs": [],
   "source": [
    "import pandas as pd\n",
    "import numpy as np\n",
    "import matplotlib.pyplot as plt"
   ]
  },
  {
   "cell_type": "markdown",
   "id": "464f5a1c",
   "metadata": {},
   "source": [
    "## Read the data"
   ]
  },
  {
   "cell_type": "code",
   "execution_count": null,
   "id": "14cdf7b4",
   "metadata": {
    "ExecuteTime": {
     "end_time": "2022-11-12T14:06:22.667824Z",
     "start_time": "2022-11-12T14:06:22.644549Z"
    }
   },
   "outputs": [],
   "source": [
    "data = pd.read_csv(\"./starbucks.csv\", index_col='Date', parse_dates = True)"
   ]
  },
  {
   "cell_type": "code",
   "execution_count": null,
   "id": "d65671ea",
   "metadata": {
    "ExecuteTime": {
     "end_time": "2022-11-12T14:29:03.181232Z",
     "start_time": "2022-11-12T14:29:03.161563Z"
    }
   },
   "outputs": [],
   "source": [
    "data.head(20)"
   ]
  },
  {
   "cell_type": "markdown",
   "id": "c5c4f058",
   "metadata": {},
   "source": [
    "*Close*: Closing stock price (last traded stock price) of Starbuck for each day \n",
    "\n",
    "*Volume*: Number of coffees sold in that particular day"
   ]
  },
  {
   "cell_type": "code",
   "execution_count": null,
   "id": "2796f6c3",
   "metadata": {
    "ExecuteTime": {
     "end_time": "2022-11-12T14:06:39.145443Z",
     "start_time": "2022-11-12T14:06:39.127926Z"
    }
   },
   "outputs": [],
   "source": [
    "data.info()"
   ]
  },
  {
   "cell_type": "code",
   "execution_count": null,
   "id": "337cf99e",
   "metadata": {
    "ExecuteTime": {
     "end_time": "2022-11-12T14:08:40.238962Z",
     "start_time": "2022-11-12T14:08:40.014974Z"
    }
   },
   "outputs": [],
   "source": [
    "data['Close'].plot(figsize=(18,5), grid=True, title='Closing Stock Price of Starbucks');"
   ]
  },
  {
   "cell_type": "code",
   "execution_count": null,
   "id": "715b8805",
   "metadata": {
    "ExecuteTime": {
     "end_time": "2022-11-12T14:08:57.516003Z",
     "start_time": "2022-11-12T14:08:57.497974Z"
    }
   },
   "outputs": [],
   "source": [
    "data.tail()"
   ]
  },
  {
   "cell_type": "markdown",
   "id": "0a5f819b",
   "metadata": {},
   "source": [
    "## Time Resampling\n",
    "\n",
    "We shall be using DataFrame.resample() method in pandas.\n",
    "\n",
    "It takes **rule** parameter and then need to call an aggregate function.\n",
    "\n",
    "The **rule** parameter describes the frequency with which to apply the aggregation function (daily, monthly, yearly etc.)\n",
    "\n",
    "It is passed using offset alias. Reference of the same can be found in the [link](https://pandas.pydata.org/docs/user_guide/timeseries.html#offset-aliases)"
   ]
  },
  {
   "cell_type": "code",
   "execution_count": null,
   "id": "865f5485",
   "metadata": {
    "ExecuteTime": {
     "end_time": "2022-11-12T14:32:52.923972Z",
     "start_time": "2022-11-12T14:32:52.893760Z"
    }
   },
   "outputs": [],
   "source": [
    "data.resample(rule='YE').mean()  # Annual (Year-end) resampling with mean aggregation"
   ]
  },
  {
   "cell_type": "code",
   "execution_count": null,
   "id": "1df4b26c",
   "metadata": {
    "ExecuteTime": {
     "end_time": "2022-11-12T14:34:21.166245Z",
     "start_time": "2022-11-12T14:34:21.130562Z"
    }
   },
   "outputs": [],
   "source": [
    "data.resample(rule='ME').mean()  # Month end resampling with mean aggregation"
   ]
  },
  {
   "cell_type": "code",
   "execution_count": null,
   "id": "7b9c58cf",
   "metadata": {
    "ExecuteTime": {
     "end_time": "2022-11-12T14:35:22.706158Z",
     "start_time": "2022-11-12T14:35:22.677034Z"
    }
   },
   "outputs": [],
   "source": [
    "data.resample(rule='MS').mean()  # Month start resampling with mean aggregation"
   ]
  },
  {
   "cell_type": "code",
   "execution_count": null,
   "id": "e52e8ed4",
   "metadata": {
    "ExecuteTime": {
     "end_time": "2022-11-12T14:36:19.605306Z",
     "start_time": "2022-11-12T14:36:19.590089Z"
    }
   },
   "outputs": [],
   "source": [
    "data.resample(rule='QE').mean()"
   ]
  },
  {
   "cell_type": "code",
   "execution_count": null,
   "id": "dc92e6cc",
   "metadata": {
    "ExecuteTime": {
     "end_time": "2022-11-12T14:37:34.595074Z",
     "start_time": "2022-11-12T14:37:34.393830Z"
    }
   },
   "outputs": [],
   "source": [
    "data['Close'].resample(rule='QE').mean().plot.bar(figsize=(14,5))"
   ]
  },
  {
   "cell_type": "code",
   "execution_count": null,
   "id": "4565bd34",
   "metadata": {
    "ExecuteTime": {
     "end_time": "2022-11-12T14:38:03.327000Z",
     "start_time": "2022-11-12T14:38:03.168833Z"
    }
   },
   "outputs": [],
   "source": [
    "data['Volume'].resample(rule='YE').sum().plot.bar(figsize=(14,5))"
   ]
  },
  {
   "cell_type": "markdown",
   "id": "8181aafd",
   "metadata": {},
   "source": [
    "## Time Shifting"
   ]
  },
  {
   "cell_type": "code",
   "execution_count": null,
   "id": "d81ba3a2",
   "metadata": {
    "ExecuteTime": {
     "end_time": "2022-11-12T14:41:08.385537Z",
     "start_time": "2022-11-12T14:41:08.370354Z"
    }
   },
   "outputs": [],
   "source": [
    "data['Close']"
   ]
  },
  {
   "cell_type": "markdown",
   "id": "67f3887c",
   "metadata": {},
   "source": [
    "### Shifting down by 1 unit"
   ]
  },
  {
   "cell_type": "code",
   "execution_count": null,
   "id": "42d6c329",
   "metadata": {
    "ExecuteTime": {
     "end_time": "2022-11-12T14:50:44.272722Z",
     "start_time": "2022-11-12T14:50:44.255888Z"
    }
   },
   "outputs": [],
   "source": [
    "data['Close: 1 day delay'] = data['Close'].shift(1)"
   ]
  },
  {
   "cell_type": "code",
   "execution_count": null,
   "id": "8070c5a3",
   "metadata": {
    "ExecuteTime": {
     "end_time": "2022-11-12T14:50:50.408387Z",
     "start_time": "2022-11-12T14:50:50.387715Z"
    }
   },
   "outputs": [],
   "source": [
    "data.head(10)"
   ]
  },
  {
   "cell_type": "code",
   "execution_count": null,
   "id": "48a4b9f0",
   "metadata": {
    "ExecuteTime": {
     "end_time": "2022-11-12T14:51:40.151156Z",
     "start_time": "2022-11-12T14:51:40.126412Z"
    }
   },
   "outputs": [],
   "source": [
    "data.tail()"
   ]
  },
  {
   "cell_type": "code",
   "execution_count": null,
   "id": "d91ced39",
   "metadata": {
    "ExecuteTime": {
     "end_time": "2022-11-12T14:55:27.078763Z",
     "start_time": "2022-11-12T14:55:27.062192Z"
    }
   },
   "outputs": [],
   "source": [
    "data['Change in Close'] = data['Close'] - data['Close: 1 day delay']"
   ]
  },
  {
   "cell_type": "code",
   "execution_count": null,
   "id": "2ba2df50",
   "metadata": {
    "ExecuteTime": {
     "end_time": "2022-11-12T14:55:37.152198Z",
     "start_time": "2022-11-12T14:55:37.131689Z"
    }
   },
   "outputs": [],
   "source": [
    "data.head(10)"
   ]
  },
  {
   "cell_type": "code",
   "execution_count": null,
   "id": "4abea51a",
   "metadata": {
    "ExecuteTime": {
     "end_time": "2022-11-12T14:56:54.111023Z",
     "start_time": "2022-11-12T14:56:53.860204Z"
    }
   },
   "outputs": [],
   "source": [
    "data['Change in Close'].plot(figsize = (14,5), title=\"Change in Closing stock price per day\", grid=True)"
   ]
  },
  {
   "cell_type": "code",
   "execution_count": null,
   "id": "db214cbd",
   "metadata": {
    "ExecuteTime": {
     "end_time": "2022-11-12T14:58:38.358211Z",
     "start_time": "2022-11-12T14:58:38.147266Z"
    }
   },
   "outputs": [],
   "source": [
    "data['Change in Close'].hist(bins=40, figsize=(10,8), edgecolor='k')"
   ]
  },
  {
   "cell_type": "markdown",
   "id": "4a9f3d6c",
   "metadata": {},
   "source": [
    "### Shifting down by k units"
   ]
  },
  {
   "cell_type": "code",
   "execution_count": null,
   "id": "4cf9b220",
   "metadata": {
    "ExecuteTime": {
     "end_time": "2022-11-12T15:00:55.368961Z",
     "start_time": "2022-11-12T15:00:55.363829Z"
    }
   },
   "outputs": [],
   "source": [
    "k = 7\n",
    "\n",
    "data['Close: k days delay'] = data['Close'].shift(periods=k)"
   ]
  },
  {
   "cell_type": "code",
   "execution_count": null,
   "id": "1728c187",
   "metadata": {
    "ExecuteTime": {
     "end_time": "2022-11-12T15:01:00.854988Z",
     "start_time": "2022-11-12T15:01:00.829713Z"
    }
   },
   "outputs": [],
   "source": [
    "data.head(20)"
   ]
  },
  {
   "cell_type": "code",
   "execution_count": null,
   "id": "20dd3d83",
   "metadata": {
    "ExecuteTime": {
     "end_time": "2022-11-12T15:02:56.287818Z",
     "start_time": "2022-11-12T15:02:56.075330Z"
    }
   },
   "outputs": [],
   "source": [
    "(data['Close'] - data['Close: k days delay']).plot(figsize=(14,5), grid=True)"
   ]
  },
  {
   "cell_type": "code",
   "execution_count": null,
   "id": "8b32dda7",
   "metadata": {
    "ExecuteTime": {
     "end_time": "2022-11-12T15:03:44.753459Z",
     "start_time": "2022-11-12T15:03:44.573635Z"
    }
   },
   "outputs": [],
   "source": [
    "(data['Close'] - data['Close: k days delay']).hist(bins=10, figsize=(10,8), edgecolor='k')"
   ]
  },
  {
   "cell_type": "markdown",
   "id": "1cbbfc60",
   "metadata": {},
   "source": [
    "### Shifting up by 1 unit\n",
    "\n",
    "Shifting up by 1 unit is putting the perod = -1"
   ]
  },
  {
   "cell_type": "code",
   "execution_count": null,
   "id": "85ea4ea0",
   "metadata": {
    "ExecuteTime": {
     "end_time": "2022-11-12T15:15:47.075287Z",
     "start_time": "2022-11-12T15:15:47.059943Z"
    }
   },
   "outputs": [],
   "source": [
    "data['Close: 1 day lead'] = data['Close'].shift(-1)"
   ]
  },
  {
   "cell_type": "code",
   "execution_count": null,
   "id": "e47e2227",
   "metadata": {
    "ExecuteTime": {
     "end_time": "2022-11-12T15:16:10.199033Z",
     "start_time": "2022-11-12T15:16:10.182163Z"
    }
   },
   "outputs": [],
   "source": [
    "data[['Close', 'Close: 1 day lead']].head(10)"
   ]
  },
  {
   "cell_type": "code",
   "execution_count": null,
   "id": "807305de",
   "metadata": {
    "ExecuteTime": {
     "end_time": "2022-11-12T15:16:40.196214Z",
     "start_time": "2022-11-12T15:16:40.175931Z"
    }
   },
   "outputs": [],
   "source": [
    "data[['Close', 'Close: 1 day lead']].tail(10)"
   ]
  },
  {
   "cell_type": "markdown",
   "id": "e86ae20e",
   "metadata": {},
   "source": [
    "### Shifting up by k units"
   ]
  },
  {
   "cell_type": "code",
   "execution_count": null,
   "id": "27270676",
   "metadata": {
    "ExecuteTime": {
     "end_time": "2022-11-12T15:17:50.275482Z",
     "start_time": "2022-11-12T15:17:50.261627Z"
    }
   },
   "outputs": [],
   "source": [
    "k = 7\n",
    "\n",
    "data['Close: k days lead'] = data['Close'].shift(periods=(-1)*k)"
   ]
  },
  {
   "cell_type": "code",
   "execution_count": null,
   "id": "e915b6c0",
   "metadata": {
    "ExecuteTime": {
     "end_time": "2022-11-12T15:18:07.024567Z",
     "start_time": "2022-11-12T15:18:07.001951Z"
    }
   },
   "outputs": [],
   "source": [
    "data[['Close', 'Close: k days lead']].head(20)"
   ]
  },
  {
   "cell_type": "code",
   "execution_count": null,
   "id": "9ce2ae66",
   "metadata": {
    "ExecuteTime": {
     "end_time": "2022-11-12T15:18:58.131699Z",
     "start_time": "2022-11-12T15:18:58.108541Z"
    }
   },
   "outputs": [],
   "source": [
    "data[['Close', 'Close: k days lead']].tail(20)"
   ]
  },
  {
   "cell_type": "markdown",
   "id": "f63695dd",
   "metadata": {},
   "source": [
    "## Time rolling"
   ]
  },
  {
   "cell_type": "code",
   "execution_count": null,
   "id": "98d0747d",
   "metadata": {
    "ExecuteTime": {
     "end_time": "2022-11-12T15:58:35.484123Z",
     "start_time": "2022-11-12T15:58:35.476906Z"
    }
   },
   "outputs": [],
   "source": [
    "k = 30\n",
    "\n",
    "data['Close: rolling avg 7 days'] = data['Close'].rolling(window=7).mean()\n",
    "\n",
    "data['Close: rolling avg 30 days'] = data['Close'].rolling(window=30).mean()"
   ]
  },
  {
   "cell_type": "code",
   "execution_count": null,
   "id": "895e2bdd",
   "metadata": {
    "ExecuteTime": {
     "end_time": "2022-11-12T15:58:37.336695Z",
     "start_time": "2022-11-12T15:58:37.217840Z"
    }
   },
   "outputs": [],
   "source": [
    "data[['Close', 'Close: rolling avg 7 days', 'Close: rolling avg 30 days']].plot(figsize=(12,5), grid= True)"
   ]
  },
  {
   "cell_type": "markdown",
   "id": "d70544c3",
   "metadata": {},
   "source": [
    "## Time Expanding"
   ]
  },
  {
   "cell_type": "code",
   "execution_count": null,
   "id": "962b1a57",
   "metadata": {
    "ExecuteTime": {
     "end_time": "2022-11-12T16:00:59.997843Z",
     "start_time": "2022-11-12T16:00:59.978871Z"
    }
   },
   "outputs": [],
   "source": [
    "data['Close: expanding sum'] = data['Close'].expanding().sum()\n",
    "data['Close: expanding avg'] = data['Close'].expanding().mean()"
   ]
  },
  {
   "cell_type": "code",
   "execution_count": null,
   "id": "8307331d",
   "metadata": {},
   "outputs": [],
   "source": [
    "data[['Close','Close: expanding sum', 'Close: expanding avg']].head(20)"
   ]
  },
  {
   "cell_type": "code",
   "execution_count": null,
   "id": "e38b0e59",
   "metadata": {
    "ExecuteTime": {
     "end_time": "2022-11-12T16:02:24.743670Z",
     "start_time": "2022-11-12T16:02:24.653788Z"
    }
   },
   "outputs": [],
   "source": [
    "data[['Close','Close: expanding avg']].plot(figsize=(12,5), grid = True);"
   ]
  },
  {
   "cell_type": "code",
   "execution_count": null,
   "id": "8e0f3148",
   "metadata": {
    "ExecuteTime": {
     "end_time": "2022-11-12T16:03:39.228922Z",
     "start_time": "2022-11-12T16:03:39.218544Z"
    }
   },
   "outputs": [],
   "source": [
    "avg = 20\n",
    "n = 100\n",
    "\n",
    "total = n * avg"
   ]
  },
  {
   "cell_type": "code",
   "execution_count": null,
   "id": "76f4fdf7",
   "metadata": {
    "ExecuteTime": {
     "end_time": "2022-11-12T16:03:59.068693Z",
     "start_time": "2022-11-12T16:03:59.063828Z"
    }
   },
   "outputs": [],
   "source": [
    "new_total = total + 60"
   ]
  },
  {
   "cell_type": "code",
   "execution_count": null,
   "id": "7263bec6",
   "metadata": {
    "ExecuteTime": {
     "end_time": "2022-11-12T16:04:18.707588Z",
     "start_time": "2022-11-12T16:04:18.689540Z"
    }
   },
   "outputs": [],
   "source": [
    "new_avg = new_total / (n+1)"
   ]
  },
  {
   "cell_type": "code",
   "execution_count": null,
   "id": "113bdad7",
   "metadata": {
    "ExecuteTime": {
     "end_time": "2022-11-12T16:04:21.048232Z",
     "start_time": "2022-11-12T16:04:21.035649Z"
    }
   },
   "outputs": [],
   "source": [
    "new_avg"
   ]
  },
  {
   "cell_type": "code",
   "execution_count": null,
   "id": "bd802395",
   "metadata": {},
   "outputs": [],
   "source": []
  }
 ],
 "metadata": {
  "kernelspec": {
   "display_name": ".venv",
   "language": "python",
   "name": "python3"
  },
  "language_info": {
   "codemirror_mode": {
    "name": "ipython",
    "version": 3
   },
   "file_extension": ".py",
   "mimetype": "text/x-python",
   "name": "python",
   "nbconvert_exporter": "python",
   "pygments_lexer": "ipython3",
   "version": "3.12.9"
  },
  "toc": {
   "base_numbering": 1,
   "nav_menu": {},
   "number_sections": true,
   "sideBar": true,
   "skip_h1_title": true,
   "title_cell": "Table of Contents",
   "title_sidebar": "Contents",
   "toc_cell": false,
   "toc_position": {
    "height": "calc(100% - 180px)",
    "left": "10px",
    "top": "150px",
    "width": "215.475px"
   },
   "toc_section_display": true,
   "toc_window_display": true
  }
 },
 "nbformat": 4,
 "nbformat_minor": 5
}
