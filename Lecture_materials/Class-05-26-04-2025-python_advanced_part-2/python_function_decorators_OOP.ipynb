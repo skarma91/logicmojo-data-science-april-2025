{
 "cells": [
  {
   "cell_type": "markdown",
   "id": "db624db5-4e6b-4b10-8099-c32dddaeeca7",
   "metadata": {},
   "source": [
    "### Lambda function\n",
    "\n",
    "Lambda function is an anonymous function.\n",
    "```python\n",
    "lambda <variables>: operations on variables\n",
    "```\n",
    "\n",
    "It returns a function."
   ]
  },
  {
   "cell_type": "code",
   "execution_count": 2,
   "id": "5558cfdc-a45c-4fb3-a183-335d157989d0",
   "metadata": {},
   "outputs": [],
   "source": [
    "f = lambda x: x**2"
   ]
  },
  {
   "cell_type": "code",
   "execution_count": 3,
   "id": "adc3fffa-20ef-4dcd-a2f7-ac92c31c9166",
   "metadata": {},
   "outputs": [
    {
     "data": {
      "text/plain": [
       "<function __main__.<lambda>(x)>"
      ]
     },
     "execution_count": 3,
     "metadata": {},
     "output_type": "execute_result"
    }
   ],
   "source": [
    "f"
   ]
  },
  {
   "cell_type": "code",
   "execution_count": 5,
   "id": "3a5e756b-d28f-4f1f-b452-93948c30d7ab",
   "metadata": {},
   "outputs": [
    {
     "data": {
      "text/plain": [
       "196"
      ]
     },
     "execution_count": 5,
     "metadata": {},
     "output_type": "execute_result"
    }
   ],
   "source": [
    "f(14)"
   ]
  },
  {
   "cell_type": "code",
   "execution_count": 8,
   "id": "0a357a8b-725b-4144-ac0c-c81d9cee352a",
   "metadata": {},
   "outputs": [
    {
     "data": {
      "text/plain": [
       "5"
      ]
     },
     "execution_count": 8,
     "metadata": {},
     "output_type": "execute_result"
    }
   ],
   "source": [
    "g = lambda x,y: x**2+y**2\n",
    "\n",
    "g(1,2)"
   ]
  },
  {
   "cell_type": "code",
   "execution_count": 9,
   "id": "65b582b0-ea82-43de-9b55-d6403fed424a",
   "metadata": {},
   "outputs": [
    {
     "data": {
      "text/plain": [
       "13"
      ]
     },
     "execution_count": 9,
     "metadata": {},
     "output_type": "execute_result"
    }
   ],
   "source": [
    "g(2,3)"
   ]
  },
  {
   "cell_type": "code",
   "execution_count": 10,
   "id": "14d310fd-0c2c-4e73-96fe-cf98e0e7cbda",
   "metadata": {},
   "outputs": [
    {
     "data": {
      "text/plain": [
       "<function __main__.<lambda>(x, y)>"
      ]
     },
     "execution_count": 10,
     "metadata": {},
     "output_type": "execute_result"
    }
   ],
   "source": [
    "g"
   ]
  },
  {
   "cell_type": "code",
   "execution_count": 12,
   "id": "7a6c1737-454e-41c8-b3e1-e214f647a31f",
   "metadata": {},
   "outputs": [
    {
     "data": {
      "text/plain": [
       "[1, 4, 9]"
      ]
     },
     "execution_count": 12,
     "metadata": {},
     "output_type": "execute_result"
    }
   ],
   "source": [
    "list(map(f, [1,2,3]))"
   ]
  },
  {
   "cell_type": "markdown",
   "id": "14de74d2-df91-41fe-a7f6-872f5f44db12",
   "metadata": {},
   "source": [
    "### Functions arguments\n",
    "\n",
    "Two types of argument that a python function takes.\n",
    "\n",
    "1. positional argument\n",
    "2. keyward argument\n",
    "\n",
    "#### Positional arguments\n",
    "\n",
    "Positional arguments are passed to a function based on their position or order."
   ]
  },
  {
   "cell_type": "code",
   "execution_count": 13,
   "id": "c175cdda-04c8-49c7-90c0-9132c23dfd13",
   "metadata": {},
   "outputs": [],
   "source": [
    "def greet(name, greeting):\n",
    "    print(f\"{greeting}, {name}\")"
   ]
  },
  {
   "cell_type": "code",
   "execution_count": 14,
   "id": "d476312d-5097-48a9-85b8-6becc616493d",
   "metadata": {},
   "outputs": [
    {
     "name": "stdout",
     "output_type": "stream",
     "text": [
      "Welcome, bob\n"
     ]
    }
   ],
   "source": [
    "greet('bob', 'Welcome')"
   ]
  },
  {
   "cell_type": "code",
   "execution_count": 15,
   "id": "04b2b720-80e7-47a2-b62c-d69ca93135a9",
   "metadata": {},
   "outputs": [
    {
     "name": "stdout",
     "output_type": "stream",
     "text": [
      "Sourav, Hi\n"
     ]
    }
   ],
   "source": [
    "greet('Hi', 'Sourav')"
   ]
  },
  {
   "cell_type": "markdown",
   "id": "f86404be-e81c-4d6a-a8fb-88b31eba0e07",
   "metadata": {},
   "source": [
    "### Keyward arguments"
   ]
  },
  {
   "cell_type": "code",
   "execution_count": 24,
   "id": "5de46872-dc0e-41d3-ac26-010b8433c405",
   "metadata": {},
   "outputs": [
    {
     "name": "stdout",
     "output_type": "stream",
     "text": [
      "Hi Sourav\n"
     ]
    }
   ],
   "source": [
    "greet(greeting='Hi',name='Sourav')"
   ]
  },
  {
   "cell_type": "markdown",
   "id": "66c6679a-223d-49f7-8592-ac2460c34d4c",
   "metadata": {},
   "source": [
    "#### default values"
   ]
  },
  {
   "cell_type": "code",
   "execution_count": 20,
   "id": "a4feca1b-a3fc-4d81-b629-ec8c9beff237",
   "metadata": {},
   "outputs": [],
   "source": [
    "def greet(name, greeting=\"Hello\"):\n",
    "    \"\"\"\n",
    "    This function greets the people by their name.\n",
    "\n",
    "    Args:\n",
    "     - name: (str) [required] The name of the person\n",
    "     - greeting: (str) [optional] The greeting string, default value of \"Hello\"\n",
    "    \"\"\"\n",
    "\n",
    "    print(f\"{greeting} {name}\")"
   ]
  },
  {
   "cell_type": "code",
   "execution_count": 21,
   "id": "053e92ed-4dfc-4693-b86c-03c643cd44ac",
   "metadata": {},
   "outputs": [
    {
     "name": "stdout",
     "output_type": "stream",
     "text": [
      "Hello Alice\n"
     ]
    }
   ],
   "source": [
    "greet(\"Alice\")"
   ]
  },
  {
   "cell_type": "code",
   "execution_count": 22,
   "id": "cfe9a348-d4b5-4305-be2d-af5bfa7ecc94",
   "metadata": {},
   "outputs": [
    {
     "name": "stdout",
     "output_type": "stream",
     "text": [
      "Hi Alice\n"
     ]
    }
   ],
   "source": [
    "greet(\"Alice\", \"Hi\")"
   ]
  },
  {
   "cell_type": "code",
   "execution_count": 26,
   "id": "6a56bee8-3190-41a6-958f-221a93d3244c",
   "metadata": {},
   "outputs": [
    {
     "ename": "SyntaxError",
     "evalue": "positional argument follows keyword argument (2885103309.py, line 1)",
     "output_type": "error",
     "traceback": [
      "  \u001b[36mCell\u001b[39m\u001b[36m \u001b[39m\u001b[32mIn[26]\u001b[39m\u001b[32m, line 1\u001b[39m\n\u001b[31m    \u001b[39m\u001b[31mgreet(name=\"Alice\", \"Hi\")  # Positional argument is followed by keyword argument -> return an error\u001b[39m\n                            ^\n\u001b[31mSyntaxError\u001b[39m\u001b[31m:\u001b[39m positional argument follows keyword argument\n"
     ]
    }
   ],
   "source": [
    "greet(name=\"Alice\", \"Hi\")  # Positional argument is followed by keyword argument -> return an error"
   ]
  },
  {
   "cell_type": "code",
   "execution_count": 27,
   "id": "a00a8ffa-c3b7-479c-a89a-00cf58c23b23",
   "metadata": {},
   "outputs": [
    {
     "name": "stdout",
     "output_type": "stream",
     "text": [
      "Welcome Alice\n"
     ]
    }
   ],
   "source": [
    "greet(\"Alice\", greeting=\"Welcome\")"
   ]
  },
  {
   "cell_type": "code",
   "execution_count": 30,
   "id": "b0658851-5562-40d9-8c68-69732272c5e7",
   "metadata": {},
   "outputs": [
    {
     "ename": "TypeError",
     "evalue": "greet() got multiple values for argument 'name'",
     "output_type": "error",
     "traceback": [
      "\u001b[31m---------------------------------------------------------------------------\u001b[39m",
      "\u001b[31mTypeError\u001b[39m                                 Traceback (most recent call last)",
      "\u001b[36mCell\u001b[39m\u001b[36m \u001b[39m\u001b[32mIn[30]\u001b[39m\u001b[32m, line 1\u001b[39m\n\u001b[32m----> \u001b[39m\u001b[32m1\u001b[39m \u001b[43mgreet\u001b[49m\u001b[43m(\u001b[49m\u001b[33;43m\"\u001b[39;49m\u001b[33;43mWelcome\u001b[39;49m\u001b[33;43m\"\u001b[39;49m\u001b[43m,\u001b[49m\u001b[43m \u001b[49m\u001b[43mname\u001b[49m\u001b[43m=\u001b[49m\u001b[33;43m\"\u001b[39;49m\u001b[33;43mAlice\u001b[39;49m\u001b[33;43m\"\u001b[39;49m\u001b[43m)\u001b[49m\n",
      "\u001b[31mTypeError\u001b[39m: greet() got multiple values for argument 'name'"
     ]
    }
   ],
   "source": [
    "greet(\"Welcome\", name=\"Alice\")"
   ]
  },
  {
   "cell_type": "markdown",
   "id": "4ab3d253-af84-40c1-bc1d-f94da1b0b562",
   "metadata": {},
   "source": [
    "#### *args"
   ]
  },
  {
   "cell_type": "code",
   "execution_count": 34,
   "id": "482a4b51-5eb3-4801-acea-c707de77f095",
   "metadata": {},
   "outputs": [
    {
     "name": "stdout",
     "output_type": "stream",
     "text": [
      "There are many variables  like: x =  25 y =  34 z =  17\n"
     ]
    }
   ],
   "source": [
    "x =25\n",
    "y= 34\n",
    "z = 17\n",
    "\n",
    "print(\"There are many variables \", \"like: x = \", str(x), \"y = \", str(y), \"z = \", str(z))"
   ]
  },
  {
   "cell_type": "code",
   "execution_count": 35,
   "id": "6b567583-32b9-41ed-9de2-3fd47892b07e",
   "metadata": {},
   "outputs": [],
   "source": [
    "# *args can take any number of positional arguments into tuple\n",
    "\n",
    "def func(*args):\n",
    "    for arg in args:\n",
    "        print(arg)"
   ]
  },
  {
   "cell_type": "code",
   "execution_count": 37,
   "id": "9fb1d683-43ba-4d2b-b3ca-169d79999c85",
   "metadata": {},
   "outputs": [
    {
     "name": "stdout",
     "output_type": "stream",
     "text": [
      "1\n",
      "5\n",
      "Sachin\n",
      "Sourav\n",
      "Shehwag\n"
     ]
    }
   ],
   "source": [
    "func(1, 5, \"Sachin\", \"Sourav\", \"Shehwag\")"
   ]
  },
  {
   "cell_type": "code",
   "execution_count": 38,
   "id": "acc162f8-fc86-45e9-838b-4ee9e5dda22a",
   "metadata": {},
   "outputs": [],
   "source": [
    "func()"
   ]
  },
  {
   "cell_type": "code",
   "execution_count": 44,
   "id": "4ecb305e-52eb-46c7-87a7-34f25ba208f9",
   "metadata": {},
   "outputs": [
    {
     "name": "stdout",
     "output_type": "stream",
     "text": [
      "a\n",
      "12\n",
      "25.35\n",
      "34.6\n",
      "I love my country\n",
      "True\n"
     ]
    }
   ],
   "source": [
    "my_arguments = ('a', 12, '25.35', 34.6, 'I love my country', True)\n",
    "\n",
    "func(*my_arguments)"
   ]
  },
  {
   "cell_type": "markdown",
   "id": "0efa3fa0-7557-44c7-9407-954c60abb6a9",
   "metadata": {},
   "source": [
    "#### **kwargs"
   ]
  },
  {
   "cell_type": "code",
   "execution_count": 39,
   "id": "0d226dda-4647-415a-b385-2bf9c624f164",
   "metadata": {},
   "outputs": [],
   "source": [
    "# **kwargs can take any number of key word arguments into dictionary\n",
    "\n",
    "def another_func(**kwargs):\n",
    "    for k,v in kwargs.items():\n",
    "        print(f\"{k}: {v}\")"
   ]
  },
  {
   "cell_type": "code",
   "execution_count": 41,
   "id": "80b9338c-6076-48ba-bde6-e0bf8f6f313a",
   "metadata": {},
   "outputs": [
    {
     "name": "stdout",
     "output_type": "stream",
     "text": [
      "a: 7\n",
      "b: 24\n",
      "c: 56\n",
      "d: 12\n"
     ]
    }
   ],
   "source": [
    "another_func(a=7, b=24, c=56, d=12)"
   ]
  },
  {
   "cell_type": "code",
   "execution_count": 42,
   "id": "39bc89de-0a33-453f-8530-35a7266c9684",
   "metadata": {},
   "outputs": [],
   "source": [
    "d = {'name': \"Sourav\",\n",
    "     'position': \"DS\",\n",
    "     'nationality': 'Indian',\n",
    "     'age': 32}  "
   ]
  },
  {
   "cell_type": "code",
   "execution_count": 43,
   "id": "4c1f6fd0-f61a-40a1-9297-65ab67e1dff4",
   "metadata": {},
   "outputs": [
    {
     "name": "stdout",
     "output_type": "stream",
     "text": [
      "name: Sourav\n",
      "position: DS\n",
      "nationality: Indian\n",
      "age: 32\n"
     ]
    }
   ],
   "source": [
    "another_func(**d)"
   ]
  },
  {
   "cell_type": "code",
   "execution_count": 45,
   "id": "d41bf97d-aeaa-465f-aaa4-f11e26920cbb",
   "metadata": {},
   "outputs": [
    {
     "data": {
      "text/plain": [
       "{'name': 'Sourav', 'position': 'DS', 'nationality': 'Indian', 'age': 32}"
      ]
     },
     "execution_count": 45,
     "metadata": {},
     "output_type": "execute_result"
    }
   ],
   "source": [
    "d1 = {'name': \"Sourav\",\n",
    "     'position': \"DS\"\n",
    "     }\n",
    "d2 = {'nationality': 'Indian',\n",
    "     'age': 32\n",
    "     } \n",
    "\n",
    "{**d1, **d2}"
   ]
  },
  {
   "cell_type": "code",
   "execution_count": 48,
   "id": "90759684-0b38-4a63-b146-0ada79326906",
   "metadata": {},
   "outputs": [
    {
     "name": "stdout",
     "output_type": "stream",
     "text": [
      "name: Sourav\n",
      "position: DS\n",
      "nationality: Indian\n",
      "age: 32\n"
     ]
    }
   ],
   "source": [
    "another_func(**d1, **d2)"
   ]
  },
  {
   "cell_type": "markdown",
   "id": "69cd8177-fd1a-419b-8391-dcd8b95bfb12",
   "metadata": {},
   "source": [
    "### Function within a function"
   ]
  },
  {
   "cell_type": "code",
   "execution_count": 64,
   "id": "eb083ff9-574d-456c-9dd3-400a2608753d",
   "metadata": {},
   "outputs": [],
   "source": [
    "def operations(number1, number2):\n",
    "\n",
    "    def add_one(number):\n",
    "        return number+1\n",
    "\n",
    "    def square(number):\n",
    "        return number**2\n",
    "\n",
    "    result = add_one(number1) + square(number2)\n",
    "    return result"
   ]
  },
  {
   "cell_type": "code",
   "execution_count": 66,
   "id": "65a198e3-18b4-462a-9e2c-bed8c4a9da20",
   "metadata": {},
   "outputs": [
    {
     "data": {
      "text/plain": [
       "30"
      ]
     },
     "execution_count": 66,
     "metadata": {},
     "output_type": "execute_result"
    }
   ],
   "source": [
    "operations(4,5)"
   ]
  },
  {
   "cell_type": "code",
   "execution_count": 67,
   "id": "0de8fe45-339d-4901-9373-bd09d1474523",
   "metadata": {},
   "outputs": [],
   "source": [
    "def operations():\n",
    "\n",
    "    def add_one(number):\n",
    "        return number+1\n",
    "\n",
    "    return add_one"
   ]
  },
  {
   "cell_type": "code",
   "execution_count": 69,
   "id": "0ab68b8f-9376-403b-8d2e-ad231b2cdfee",
   "metadata": {},
   "outputs": [],
   "source": [
    "v = operations()"
   ]
  },
  {
   "cell_type": "code",
   "execution_count": 71,
   "id": "f770051a-3184-4171-9e86-4cf4cf331039",
   "metadata": {},
   "outputs": [
    {
     "data": {
      "text/plain": [
       "4"
      ]
     },
     "execution_count": 71,
     "metadata": {},
     "output_type": "execute_result"
    }
   ],
   "source": [
    "v(3)"
   ]
  },
  {
   "cell_type": "code",
   "execution_count": 72,
   "id": "b9e37928-d90a-4796-bac2-f19f005bd1db",
   "metadata": {},
   "outputs": [],
   "source": [
    "def greeting(greeting):\n",
    "    \"Enclosing function\"\n",
    "    def print_message():\n",
    "        \"nested function\"\n",
    "        print(f\"{greeting}\")\n",
    "\n",
    "    print_message()"
   ]
  },
  {
   "cell_type": "code",
   "execution_count": 73,
   "id": "f1062740-ff5d-4d0a-b230-a9fc1fb4dd99",
   "metadata": {},
   "outputs": [
    {
     "name": "stdout",
     "output_type": "stream",
     "text": [
      "Welcome\n"
     ]
    }
   ],
   "source": [
    "greeting(\"Welcome\")"
   ]
  },
  {
   "cell_type": "markdown",
   "id": "4fd16918-e327-40f7-9fa4-cd843e8ad960",
   "metadata": {},
   "source": [
    "### Function as an argument to a function"
   ]
  },
  {
   "cell_type": "code",
   "execution_count": 81,
   "id": "d601936e-9c46-44f2-b5bc-75efc640429b",
   "metadata": {},
   "outputs": [],
   "source": [
    "def say_hi():\n",
    "    return \"Hi, how are you?\""
   ]
  },
  {
   "cell_type": "code",
   "execution_count": 133,
   "id": "93adacb6-0eef-4410-83cf-9623062988e2",
   "metadata": {},
   "outputs": [],
   "source": [
    "def operations(function):\n",
    "    def wrapper():\n",
    "        return_value = function()\n",
    "        # print(return_value, type(return_value))\n",
    "        make_uppercase = [r.upper() for r in return_value]\n",
    "        make_uppercase = ''.join(x for x in make_uppercase)\n",
    "        return make_uppercase\n",
    "\n",
    "    return wrapper"
   ]
  },
  {
   "cell_type": "code",
   "execution_count": 95,
   "id": "4b90a7f5-0b1f-4bd2-8b9b-bfa49fa1b225",
   "metadata": {},
   "outputs": [],
   "source": [
    "f = operations(say_hi)"
   ]
  },
  {
   "cell_type": "code",
   "execution_count": 96,
   "id": "b06f4849-d9e1-4dcc-8e9a-15b718b5c74b",
   "metadata": {},
   "outputs": [
    {
     "data": {
      "text/plain": [
       "<function __main__.operations.<locals>.wrapper()>"
      ]
     },
     "execution_count": 96,
     "metadata": {},
     "output_type": "execute_result"
    }
   ],
   "source": [
    "f"
   ]
  },
  {
   "cell_type": "code",
   "execution_count": 97,
   "id": "3f168440-d7e5-4135-bf38-b88073c872a5",
   "metadata": {},
   "outputs": [
    {
     "name": "stdout",
     "output_type": "stream",
     "text": [
      "Hi, how are you? <class 'str'>\n"
     ]
    },
    {
     "data": {
      "text/plain": [
       "'HI, HOW ARE YOU?'"
      ]
     },
     "execution_count": 97,
     "metadata": {},
     "output_type": "execute_result"
    }
   ],
   "source": [
    "f()"
   ]
  },
  {
   "cell_type": "code",
   "execution_count": 98,
   "id": "85b27ce2-f957-46a3-8aaa-75b0355a2be7",
   "metadata": {},
   "outputs": [],
   "source": [
    "def say_bye():\n",
    "    return \"bye bye, see you soon\""
   ]
  },
  {
   "cell_type": "code",
   "execution_count": 99,
   "id": "4a1c41d2-bdc8-4e61-9fe7-caae5fb67d68",
   "metadata": {},
   "outputs": [],
   "source": [
    "g = operations(say_bye)"
   ]
  },
  {
   "cell_type": "code",
   "execution_count": 100,
   "id": "08ea3c64-2b5b-44b7-90bf-5b41f3dd7118",
   "metadata": {},
   "outputs": [
    {
     "name": "stdout",
     "output_type": "stream",
     "text": [
      "bye bye, see you soon <class 'str'>\n"
     ]
    },
    {
     "data": {
      "text/plain": [
       "'BYE BYE, SEE YOU SOON'"
      ]
     },
     "execution_count": 100,
     "metadata": {},
     "output_type": "execute_result"
    }
   ],
   "source": [
    "g()"
   ]
  },
  {
   "cell_type": "markdown",
   "id": "52c6538e-e1d6-4bae-8fa2-bc8987bacda0",
   "metadata": {},
   "source": [
    "### Decorators"
   ]
  },
  {
   "cell_type": "code",
   "execution_count": 136,
   "id": "b5878712-61e0-432e-a2dd-42537f6ecdd8",
   "metadata": {},
   "outputs": [],
   "source": [
    "@operations  #decorator\n",
    "\n",
    "def say_name():\n",
    "    return(f\"Hello please say your name\")"
   ]
  },
  {
   "cell_type": "code",
   "execution_count": 137,
   "id": "cba9ee03-e969-450e-869a-122bd7edea45",
   "metadata": {},
   "outputs": [
    {
     "data": {
      "text/plain": [
       "'HELLO PLEASE SAY YOUR NAME'"
      ]
     },
     "execution_count": 137,
     "metadata": {},
     "output_type": "execute_result"
    }
   ],
   "source": [
    "say_name()"
   ]
  },
  {
   "cell_type": "markdown",
   "id": "181c46d0-a4c1-4d56-b49e-7c60aa6685b3",
   "metadata": {},
   "source": [
    "#### Decorators with argument"
   ]
  },
  {
   "cell_type": "code",
   "execution_count": 138,
   "id": "74d34fee-92fa-4bcf-9742-569c5186515d",
   "metadata": {},
   "outputs": [],
   "source": [
    "def square_decorator(function):\n",
    "    def wrapper(arg1, arg2, arg3):\n",
    "        value = function(arg1, arg2, arg3)\n",
    "        return value**2\n",
    "\n",
    "    return wrapper"
   ]
  },
  {
   "cell_type": "code",
   "execution_count": 142,
   "id": "433b8e88-2664-4bb3-9d61-592c76d5a4c7",
   "metadata": {},
   "outputs": [],
   "source": [
    "@square_decorator\n",
    "\n",
    "def hello(a,b,c):\n",
    "    return a+b+c"
   ]
  },
  {
   "cell_type": "code",
   "execution_count": 143,
   "id": "ff602663-e6cc-4b7e-9243-b58536c1e1ef",
   "metadata": {},
   "outputs": [
    {
     "data": {
      "text/plain": [
       "36"
      ]
     },
     "execution_count": 143,
     "metadata": {},
     "output_type": "execute_result"
    }
   ],
   "source": [
    "hello(1,2,3)"
   ]
  },
  {
   "cell_type": "code",
   "execution_count": null,
   "id": "eae7b26a-51fb-47fd-a4e8-59b5a1173332",
   "metadata": {},
   "outputs": [],
   "source": []
  },
  {
   "cell_type": "markdown",
   "id": "169c35d3-a018-400b-9643-7923e4b7bf39",
   "metadata": {},
   "source": [
    "## Object oriented programming in python"
   ]
  },
  {
   "cell_type": "markdown",
   "id": "1864cc9b-0ba6-40b5-9793-e88d3d933a1c",
   "metadata": {},
   "source": [
    "Python is a obejct oriented programming language. Everything in python is an object."
   ]
  },
  {
   "cell_type": "code",
   "execution_count": 144,
   "id": "5e90cb73-6272-40ed-9736-dfe34a4f8d23",
   "metadata": {},
   "outputs": [
    {
     "name": "stdout",
     "output_type": "stream",
     "text": [
      "<class 'int'>\n"
     ]
    }
   ],
   "source": [
    "num = 10\n",
    "\n",
    "print(type(num))"
   ]
  },
  {
   "cell_type": "code",
   "execution_count": 145,
   "id": "b0f597a2-51e1-45e0-bfce-327a17205281",
   "metadata": {},
   "outputs": [
    {
     "name": "stdout",
     "output_type": "stream",
     "text": [
      "<class 'str'>\n"
     ]
    }
   ],
   "source": [
    "string = \"abcd\"\n",
    "\n",
    "print(type(string))"
   ]
  },
  {
   "cell_type": "markdown",
   "id": "9d73c82b-45c3-463a-acdb-6d63afeb88c9",
   "metadata": {},
   "source": [
    "```python\n",
    "class className:\n",
    "    <write some code>\n",
    "\n",
    "```"
   ]
  },
  {
   "cell_type": "code",
   "execution_count": 146,
   "id": "0b310719-606c-4135-b12f-54d88a606057",
   "metadata": {},
   "outputs": [
    {
     "name": "stdout",
     "output_type": "stream",
     "text": [
      "<class '__main__.Person'>\n"
     ]
    }
   ],
   "source": [
    "class Person:\n",
    "    pass\n",
    "\n",
    "print(Person)"
   ]
  },
  {
   "cell_type": "code",
   "execution_count": 147,
   "id": "c0d485d0-2d22-497f-860f-aae98c5191ea",
   "metadata": {},
   "outputs": [],
   "source": [
    "p1 = Person()  # object\n",
    "p2 = Person()  # another object"
   ]
  },
  {
   "cell_type": "code",
   "execution_count": 149,
   "id": "a989b8ba-9c52-40b4-9e8a-a5e35e95de30",
   "metadata": {},
   "outputs": [
    {
     "name": "stdout",
     "output_type": "stream",
     "text": [
      "<class '__main__.Person'>\n"
     ]
    }
   ],
   "source": [
    "print(type(p1))"
   ]
  },
  {
   "cell_type": "code",
   "execution_count": 150,
   "id": "dd2524a9-da51-493b-9b39-d350549f8218",
   "metadata": {},
   "outputs": [
    {
     "name": "stdout",
     "output_type": "stream",
     "text": [
      "<class '__main__.Person'>\n"
     ]
    }
   ],
   "source": [
    "print(type(p2))"
   ]
  },
  {
   "cell_type": "code",
   "execution_count": 151,
   "id": "a3ee1c26-5cbc-4530-aa69-c20bb89e2a3c",
   "metadata": {},
   "outputs": [
    {
     "data": {
      "text/plain": [
       "<__main__.Person at 0x190dbd05040>"
      ]
     },
     "execution_count": 151,
     "metadata": {},
     "output_type": "execute_result"
    }
   ],
   "source": [
    "p1"
   ]
  },
  {
   "cell_type": "code",
   "execution_count": 152,
   "id": "9c0388db-8865-410b-9f01-b3666bef4100",
   "metadata": {},
   "outputs": [
    {
     "data": {
      "text/plain": [
       "<__main__.Person at 0x190dbd07050>"
      ]
     },
     "execution_count": 152,
     "metadata": {},
     "output_type": "execute_result"
    }
   ],
   "source": [
    "p2"
   ]
  },
  {
   "cell_type": "code",
   "execution_count": 198,
   "id": "9f50489c-d143-42a1-912d-63e348873a26",
   "metadata": {},
   "outputs": [],
   "source": [
    "class Person:\n",
    "    \"\"\"\n",
    "    This class defines a person\n",
    "    \"\"\"\n",
    "    # class constructor\n",
    "    def  __init__(self, firstname, lastname, age, country, city):\n",
    "        self.firstname = firstname\n",
    "        self.lastname = lastname\n",
    "        self.age = age\n",
    "        self.country = country\n",
    "        self.city = city\n",
    "\n",
    "    def print_name(self):    # object method\n",
    "        print(f\"{self.firstname} {self.lastname}\")\n",
    "\n",
    "    def greet(self, greetings=\"Hello!\"):\n",
    "        print(f\"{greetings} {self.firstname} {self.lastname}\")"
   ]
  },
  {
   "cell_type": "code",
   "execution_count": 199,
   "id": "a7b580ab-fcca-49df-8295-3d1410d25afc",
   "metadata": {},
   "outputs": [],
   "source": [
    "p1 = Person('Akash', 'Das', 30, 'India', 'Bhuwansewar')"
   ]
  },
  {
   "cell_type": "code",
   "execution_count": 200,
   "id": "656fa1d4-874e-452a-85a8-63829d61cc27",
   "metadata": {},
   "outputs": [
    {
     "data": {
      "text/plain": [
       "<__main__.Person at 0x190dbd13290>"
      ]
     },
     "execution_count": 200,
     "metadata": {},
     "output_type": "execute_result"
    }
   ],
   "source": [
    "p1"
   ]
  },
  {
   "cell_type": "code",
   "execution_count": 201,
   "id": "e94450c9-42cd-4bee-a8e7-e940cf9dd120",
   "metadata": {},
   "outputs": [],
   "source": [
    "p2 = Person('Dipika', 'Khanna', 25, 'India', 'Mumbai')"
   ]
  },
  {
   "cell_type": "code",
   "execution_count": 202,
   "id": "c5c1a21e-4888-43de-9b79-013d3700690f",
   "metadata": {},
   "outputs": [
    {
     "data": {
      "text/plain": [
       "<__main__.Person at 0x190dbd94980>"
      ]
     },
     "execution_count": 202,
     "metadata": {},
     "output_type": "execute_result"
    }
   ],
   "source": [
    "p2"
   ]
  },
  {
   "cell_type": "code",
   "execution_count": 203,
   "id": "dfe826c0-04b2-4ce3-95c8-52fa71784dc4",
   "metadata": {},
   "outputs": [
    {
     "name": "stdout",
     "output_type": "stream",
     "text": [
      "Akash Das\n"
     ]
    }
   ],
   "source": [
    "p1.print_name()"
   ]
  },
  {
   "cell_type": "code",
   "execution_count": 204,
   "id": "7b1b529a-31f5-456e-92ac-b9822cc37be3",
   "metadata": {},
   "outputs": [
    {
     "name": "stdout",
     "output_type": "stream",
     "text": [
      "Dipika Khanna\n"
     ]
    }
   ],
   "source": [
    "p2.print_name()"
   ]
  },
  {
   "cell_type": "code",
   "execution_count": 205,
   "id": "eed733e8-d9db-430d-8f26-a9771c92917a",
   "metadata": {},
   "outputs": [
    {
     "name": "stdout",
     "output_type": "stream",
     "text": [
      "Hello! Akash Das\n"
     ]
    }
   ],
   "source": [
    "p1.greet()"
   ]
  },
  {
   "cell_type": "code",
   "execution_count": 206,
   "id": "0106c996-899e-4e95-bf23-72874988bdcb",
   "metadata": {},
   "outputs": [
    {
     "name": "stdout",
     "output_type": "stream",
     "text": [
      "Welcome! Akash Das\n"
     ]
    }
   ],
   "source": [
    "p1.greet(\"Welcome!\")"
   ]
  },
  {
   "cell_type": "code",
   "execution_count": 229,
   "id": "98f59fdb-b760-442a-97b8-bc5c793b037b",
   "metadata": {},
   "outputs": [],
   "source": [
    "class Person:\n",
    "    \"\"\"\n",
    "    This class defines a person\n",
    "    \"\"\"\n",
    "    # class constructor\n",
    "    def  __init__(self, first_name, last_name, age, country, city, skillset=[]):\n",
    "        self.firstname = first_name\n",
    "        self.lastname = last_name\n",
    "        self.age = age\n",
    "        self.country = country\n",
    "        self.city = city\n",
    "        self.skills = skillset\n",
    "\n",
    "    # object methods\n",
    "    def print_name(self):    \n",
    "        print(f\"{self.firstname} {self.lastname}\")\n",
    "\n",
    "    def greet(self, greetings=\"Hello!\"):\n",
    "        print(f\"{greetings} {self.firstname} {self.lastname}\")\n",
    "\n",
    "    def set_phone_number(self, value):\n",
    "        self.phone_number = value\n",
    "\n",
    "    def add_skills(self, skill):\n",
    "        self.skills.append(skill)\n",
    "\n",
    "    def show_skills(self):\n",
    "        if len(self.skills) == 0:\n",
    "            print(f\"The person has no skills\")\n",
    "        else:\n",
    "            print(f\"The person is skilled in: {self.skills}\")"
   ]
  },
  {
   "cell_type": "code",
   "execution_count": 230,
   "id": "9c82e0f0-2541-48ef-b8f9-5f7e223dc640",
   "metadata": {},
   "outputs": [],
   "source": [
    "p1 = Person('Akash', 'Das', 30, 'India', 'Bhuwansewar', ['python', 'machine learning'])"
   ]
  },
  {
   "cell_type": "code",
   "execution_count": 231,
   "id": "7189d3af-e7d8-4f3b-beb6-9da7cb877546",
   "metadata": {},
   "outputs": [],
   "source": [
    "p1.set_phone_number(8934126787)"
   ]
  },
  {
   "cell_type": "code",
   "execution_count": 232,
   "id": "f34ca212-9119-462d-9bdd-5a26b3cfa1c8",
   "metadata": {},
   "outputs": [
    {
     "data": {
      "text/plain": [
       "8934126787"
      ]
     },
     "execution_count": 232,
     "metadata": {},
     "output_type": "execute_result"
    }
   ],
   "source": [
    "p1.phone_number"
   ]
  },
  {
   "cell_type": "code",
   "execution_count": 233,
   "id": "ec31f99d-4c4d-4f2b-b62b-279556b484c1",
   "metadata": {},
   "outputs": [],
   "source": [
    "p2 = Person('Dipika', 'Khanna', 25, 'India', 'Mumbai')"
   ]
  },
  {
   "cell_type": "code",
   "execution_count": 234,
   "id": "7409e3a0-d445-43f9-8afe-585f27e658b9",
   "metadata": {},
   "outputs": [
    {
     "ename": "AttributeError",
     "evalue": "'Person' object has no attribute 'phone_number'",
     "output_type": "error",
     "traceback": [
      "\u001b[31m---------------------------------------------------------------------------\u001b[39m",
      "\u001b[31mAttributeError\u001b[39m                            Traceback (most recent call last)",
      "\u001b[36mCell\u001b[39m\u001b[36m \u001b[39m\u001b[32mIn[234]\u001b[39m\u001b[32m, line 1\u001b[39m\n\u001b[32m----> \u001b[39m\u001b[32m1\u001b[39m \u001b[43mp2\u001b[49m\u001b[43m.\u001b[49m\u001b[43mphone_number\u001b[49m\n",
      "\u001b[31mAttributeError\u001b[39m: 'Person' object has no attribute 'phone_number'"
     ]
    }
   ],
   "source": [
    "p2.phone_number"
   ]
  },
  {
   "cell_type": "code",
   "execution_count": 224,
   "id": "c1eecdee-d72c-4341-8f75-be242cc9061c",
   "metadata": {},
   "outputs": [],
   "source": [
    "p1 = Person('Aaakash', 'Das', 30, 'India', 'Bhuwansewar')"
   ]
  },
  {
   "cell_type": "code",
   "execution_count": 225,
   "id": "73fd0344-0724-47b7-88a1-fde93818e02c",
   "metadata": {},
   "outputs": [
    {
     "name": "stdout",
     "output_type": "stream",
     "text": [
      "Hello! Aaakash Das\n"
     ]
    }
   ],
   "source": [
    "p1.greet()"
   ]
  },
  {
   "cell_type": "code",
   "execution_count": 226,
   "id": "e3f989f7-c262-422e-9bb6-b203fb2c939e",
   "metadata": {},
   "outputs": [],
   "source": [
    "p1.firstname = \"Akash\""
   ]
  },
  {
   "cell_type": "code",
   "execution_count": 227,
   "id": "e42f5dd6-8269-4323-bf4c-6f74cb6d91a9",
   "metadata": {},
   "outputs": [
    {
     "name": "stdout",
     "output_type": "stream",
     "text": [
      "Hello! Akash Das\n"
     ]
    }
   ],
   "source": [
    "p1.greet()"
   ]
  },
  {
   "cell_type": "code",
   "execution_count": 235,
   "id": "15ee1eae-72e9-47a1-a516-a403ad593261",
   "metadata": {},
   "outputs": [
    {
     "name": "stdout",
     "output_type": "stream",
     "text": [
      "The person is skilled in: ['python', 'machine learning']\n"
     ]
    }
   ],
   "source": [
    "p1.show_skills()"
   ]
  },
  {
   "cell_type": "code",
   "execution_count": 236,
   "id": "a2a886e8-0a61-4dcf-bb12-d5a3de4440c8",
   "metadata": {},
   "outputs": [],
   "source": [
    "p1.add_skills('Deep learning')"
   ]
  },
  {
   "cell_type": "code",
   "execution_count": 237,
   "id": "eb3ce657-e3c5-44a7-9054-62554510803a",
   "metadata": {},
   "outputs": [
    {
     "name": "stdout",
     "output_type": "stream",
     "text": [
      "The person is skilled in: ['python', 'machine learning', 'Deep learning']\n"
     ]
    }
   ],
   "source": [
    "p1.show_skills()"
   ]
  },
  {
   "cell_type": "code",
   "execution_count": 238,
   "id": "5d4a4eff-3e18-4702-aee9-7ab217bf04f6",
   "metadata": {},
   "outputs": [
    {
     "name": "stdout",
     "output_type": "stream",
     "text": [
      "The person has no skills\n"
     ]
    }
   ],
   "source": [
    "p2.show_skills()"
   ]
  },
  {
   "cell_type": "code",
   "execution_count": 239,
   "id": "2e769d11-60ce-4d9e-951e-ecb02ab4e966",
   "metadata": {},
   "outputs": [],
   "source": [
    "p2.add_skills(\"Marketing\")"
   ]
  },
  {
   "cell_type": "code",
   "execution_count": 240,
   "id": "d3ef4c9b-3092-4a07-a664-d53688494ac2",
   "metadata": {},
   "outputs": [
    {
     "name": "stdout",
     "output_type": "stream",
     "text": [
      "The person is skilled in: ['Marketing']\n"
     ]
    }
   ],
   "source": [
    "p2.show_skills()"
   ]
  },
  {
   "cell_type": "markdown",
   "id": "0648b5f1-2159-4353-ae6a-ab8c39a9b3dd",
   "metadata": {},
   "source": [
    "### Inheritance\n",
    "\n",
    "```python\n",
    "\n",
    "class parentClass:\n",
    "    <codes>\n",
    "\n",
    "\n",
    "class childClass(parentClass):\n",
    "    <codes>\n",
    "```"
   ]
  },
  {
   "cell_type": "code",
   "execution_count": 264,
   "id": "97e889cf-de2f-4c70-b2fe-70e5cb7d9f39",
   "metadata": {},
   "outputs": [],
   "source": [
    "class shapes:\n",
    "    \"\"\"\n",
    "    This class is the definition of shapes\n",
    "    \"\"\"\n",
    "    def __init__(self, name, colour):\n",
    "        self.name = name\n",
    "        self.colour = colour\n",
    "\n",
    "    def show_name(self):\n",
    "        print(f\"The name of the shape is: {self.name}\")\n",
    "\n",
    "    def show_colour(self):\n",
    "        print(f\"The colour of the shape is: {self.colour}\")"
   ]
  },
  {
   "cell_type": "code",
   "execution_count": 266,
   "id": "5ea46d02-c273-48c1-825b-c1563aa8d0ff",
   "metadata": {},
   "outputs": [],
   "source": [
    "s1 = shapes(\"my_shape\", \"orange\")"
   ]
  },
  {
   "cell_type": "code",
   "execution_count": 267,
   "id": "0a08bb0f-688b-4cb0-97cf-48e03e8106fb",
   "metadata": {},
   "outputs": [
    {
     "name": "stdout",
     "output_type": "stream",
     "text": [
      "The name of the shape is: my_shape\n"
     ]
    }
   ],
   "source": [
    "s1.show_name()"
   ]
  },
  {
   "cell_type": "code",
   "execution_count": 306,
   "id": "6cc27a00-f99c-4440-be64-38e162bdfe0c",
   "metadata": {},
   "outputs": [],
   "source": [
    "class rectangle(shapes):\n",
    "    \"\"\"\n",
    "    This class inherits the base class shapes\n",
    "    \"\"\"\n",
    "    # constructor\n",
    "    def __init__(self, length, breadth, n, c):\n",
    "        self.length = length\n",
    "        self.breadth = breadth\n",
    "        self.n = n\n",
    "        self.c = c\n",
    "        super().__init__(self.n, self.c)   # optional\n",
    "\n",
    "    def show_area(self):\n",
    "        print(f\"Area is: {self.length * self.breadth}\")"
   ]
  },
  {
   "cell_type": "code",
   "execution_count": 307,
   "id": "ea759552-0939-422f-85bb-16355b72041b",
   "metadata": {},
   "outputs": [],
   "source": [
    "r = rectangle(2, 1, \"rectangle\", \"red\")"
   ]
  },
  {
   "cell_type": "code",
   "execution_count": 308,
   "id": "d5ccbbff-35eb-49d5-b0ab-b0585e8633c4",
   "metadata": {},
   "outputs": [
    {
     "name": "stdout",
     "output_type": "stream",
     "text": [
      "The name of the shape is: rectangle\n"
     ]
    }
   ],
   "source": [
    "r.show_name()"
   ]
  },
  {
   "cell_type": "code",
   "execution_count": 309,
   "id": "1f462cd0-6882-4d0c-b491-0040605b7e17",
   "metadata": {},
   "outputs": [
    {
     "name": "stdout",
     "output_type": "stream",
     "text": [
      "Area is: 2\n"
     ]
    }
   ],
   "source": [
    "r.show_area()"
   ]
  },
  {
   "cell_type": "code",
   "execution_count": 321,
   "id": "d682c4e1-4a92-43bb-9d32-a3dc095a09bc",
   "metadata": {},
   "outputs": [],
   "source": [
    "class square(rectangle):\n",
    "\n",
    "    def __init__(self, side, name, colour):\n",
    "        self.side = side\n",
    "        self.length = side\n",
    "        self.breadth = side\n",
    "        self.name = name\n",
    "        self.colour = colour\n",
    "        super().__init__(side, side, name, colour)\n",
    "\n",
    "    def show_area(self):  # method over-riding\n",
    "        return (f\"The Area is: {self.side**2}\")"
   ]
  },
  {
   "cell_type": "code",
   "execution_count": 322,
   "id": "b66ca639-5bae-4f30-bbc7-680a61c372c3",
   "metadata": {},
   "outputs": [],
   "source": [
    "s = square(5, 's', 'green')"
   ]
  },
  {
   "cell_type": "code",
   "execution_count": 323,
   "id": "4c687ac0-12d8-4605-9021-36e5cd66ed7c",
   "metadata": {},
   "outputs": [
    {
     "data": {
      "text/plain": [
       "'The Area is: 25'"
      ]
     },
     "execution_count": 323,
     "metadata": {},
     "output_type": "execute_result"
    }
   ],
   "source": [
    "s.show_area()"
   ]
  },
  {
   "cell_type": "code",
   "execution_count": 319,
   "id": "e23a8afa-ec33-4f4f-aad4-04406324642b",
   "metadata": {},
   "outputs": [
    {
     "name": "stdout",
     "output_type": "stream",
     "text": [
      "The name of the shape is: s\n"
     ]
    }
   ],
   "source": [
    "s.show_name()"
   ]
  },
  {
   "cell_type": "code",
   "execution_count": 320,
   "id": "eb18033a-6b17-477a-b9ac-01148946fa04",
   "metadata": {},
   "outputs": [
    {
     "name": "stdout",
     "output_type": "stream",
     "text": [
      "The colour of the shape is: green\n"
     ]
    }
   ],
   "source": [
    "s.show_colour()"
   ]
  },
  {
   "cell_type": "code",
   "execution_count": 324,
   "id": "6acd3788-c28c-42db-a1da-9ede6f2f2318",
   "metadata": {},
   "outputs": [],
   "source": [
    "r = rectangle(3, 4, 'x', 'y')"
   ]
  },
  {
   "cell_type": "code",
   "execution_count": 325,
   "id": "fe8840b1-cf56-405f-995a-6b85ea10a336",
   "metadata": {},
   "outputs": [
    {
     "name": "stdout",
     "output_type": "stream",
     "text": [
      "Area is: 12\n"
     ]
    }
   ],
   "source": [
    "r.show_area()"
   ]
  },
  {
   "cell_type": "code",
   "execution_count": 327,
   "id": "d61a71ec-4fa5-4dc2-90e5-a583b5167d93",
   "metadata": {},
   "outputs": [
    {
     "data": {
      "text/plain": [
       "(__main__.square, __main__.rectangle, __main__.shapes, object)"
      ]
     },
     "execution_count": 327,
     "metadata": {},
     "output_type": "execute_result"
    }
   ],
   "source": [
    "square.__mro__   # method resolution order"
   ]
  },
  {
   "cell_type": "markdown",
   "id": "ae3a933e-8dd3-430a-854d-8803d8f4093f",
   "metadata": {},
   "source": [
    "### Multiple inheritance"
   ]
  },
  {
   "cell_type": "code",
   "execution_count": 328,
   "id": "0aded7de-77bf-451a-b7a3-d8da6280727f",
   "metadata": {},
   "outputs": [],
   "source": [
    "## base class - 1\n",
    "\n",
    "class Person:\n",
    "\n",
    "    def __init__(self, name, age):\n",
    "        self.name = name\n",
    "        self.age = age\n",
    "\n",
    "    def give_info(self):\n",
    "        print(f\"The name of the person is: {self.name} and age is {self.age}\")"
   ]
  },
  {
   "cell_type": "code",
   "execution_count": 330,
   "id": "a6ca1c1f-d5f9-4054-a3c6-3da8813b2244",
   "metadata": {},
   "outputs": [],
   "source": [
    "## base class - 2\n",
    "\n",
    "class Company:\n",
    "\n",
    "    def __init__(self, company_name, location):\n",
    "        self.company_name = company_name\n",
    "        self.location = location\n",
    "\n",
    "    def give_company_info(self):\n",
    "        print(f\"The name of the company is: {self.company_name} and it is situated in: {self.location}\")"
   ]
  },
  {
   "cell_type": "code",
   "execution_count": 356,
   "id": "4c55500f-0a10-416a-89fb-c150ffdf12c6",
   "metadata": {},
   "outputs": [],
   "source": [
    "## child class\n",
    "\n",
    "class Employee(Person, Company):\n",
    "\n",
    "    def __init__(self, name, age, company, location, salary, skills=[]):\n",
    "        self.name = name\n",
    "        self.age = age\n",
    "        self.company = company\n",
    "        self.location = location\n",
    "        self.salary = salary\n",
    "        self.skills = skills\n",
    "        Person.__init__(self, name, age)\n",
    "        Company.__init__(self, company, location)\n",
    "\n",
    "    def show_skills(self):\n",
    "        print(f\"The person has: {', '.join(x for x in self.skills)} skills\")"
   ]
  },
  {
   "cell_type": "code",
   "execution_count": 357,
   "id": "a384422f-6be3-49ca-932a-197215cb5d71",
   "metadata": {},
   "outputs": [],
   "source": [
    "emp = Employee(\"David\", 32, \"Amazon\", \"Seatle\", 100000, skills=['python' , 'machine learning'])"
   ]
  },
  {
   "cell_type": "code",
   "execution_count": 358,
   "id": "93ed64d7-0afe-4082-9657-70ba783c3975",
   "metadata": {},
   "outputs": [
    {
     "name": "stdout",
     "output_type": "stream",
     "text": [
      "The person has: python, machine learning skills\n"
     ]
    }
   ],
   "source": [
    "emp.show_skills()"
   ]
  },
  {
   "cell_type": "code",
   "execution_count": 359,
   "id": "98c8f209-e536-4cd2-bc98-c7221649aecc",
   "metadata": {},
   "outputs": [
    {
     "name": "stdout",
     "output_type": "stream",
     "text": [
      "The name of the company is: Amazon and it is situated in: Seatle\n"
     ]
    }
   ],
   "source": [
    "emp.give_company_info()"
   ]
  },
  {
   "cell_type": "code",
   "execution_count": 360,
   "id": "fbe65769-c0d1-4086-801b-c941a4c0b521",
   "metadata": {},
   "outputs": [
    {
     "data": {
      "text/plain": [
       "(__main__.Employee, __main__.Person, __main__.Company, object)"
      ]
     },
     "execution_count": 360,
     "metadata": {},
     "output_type": "execute_result"
    }
   ],
   "source": [
    "Employee.__mro__"
   ]
  },
  {
   "cell_type": "code",
   "execution_count": null,
   "id": "afd68f17-da91-49f4-8bc3-e77e374bd2e3",
   "metadata": {},
   "outputs": [],
   "source": []
  }
 ],
 "metadata": {
  "kernelspec": {
   "display_name": "Python 3 (ipykernel)",
   "language": "python",
   "name": "python3"
  },
  "language_info": {
   "codemirror_mode": {
    "name": "ipython",
    "version": 3
   },
   "file_extension": ".py",
   "mimetype": "text/x-python",
   "name": "python",
   "nbconvert_exporter": "python",
   "pygments_lexer": "ipython3",
   "version": "3.12.9"
  }
 },
 "nbformat": 4,
 "nbformat_minor": 5
}
