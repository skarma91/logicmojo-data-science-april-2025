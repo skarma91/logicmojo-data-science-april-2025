{
 "cells": [
  {
   "cell_type": "markdown",
   "id": "1edfd9b1-95db-4551-8ab8-eeb71963b3f5",
   "metadata": {},
   "source": [
    "### Range function in python\n",
    "\n",
    "The range function gives values within the range of two numbers\n",
    "\n",
    "```python\n",
    "range(start, stop, step)\n",
    "```\n",
    "\n",
    "- start -> The number from where you want to start (optional), default value is 0\n",
    "- stop -> the number where you want to stop, **excluded** (required)\n",
    "- step -> the number specifies the increment (optional), default value is 1"
   ]
  },
  {
   "cell_type": "code",
   "execution_count": 1,
   "id": "e42bee0c-a69f-44a8-a294-ef52b6fbd001",
   "metadata": {},
   "outputs": [
    {
     "name": "stdout",
     "output_type": "stream",
     "text": [
      "range(0, 10)\n"
     ]
    }
   ],
   "source": [
    "x = range(10)\n",
    "\n",
    "print(x)"
   ]
  },
  {
   "cell_type": "markdown",
   "id": "a8fbdb8f-ed3b-41cd-be6b-62380a2ea83a",
   "metadata": {},
   "source": [
    "### For loop\n",
    "\n",
    "```python\n",
    "for i in iterables:\n",
    "    codes\n",
    "```\n",
    "\n",
    "`i` is an itrator (you can use any name of variable instead of `i`)\n",
    "\n",
    "`iterable` is an object in python on which we can iterate\n"
   ]
  },
  {
   "cell_type": "code",
   "execution_count": 2,
   "id": "04551e87-cefc-4814-ae1f-163860581f39",
   "metadata": {},
   "outputs": [
    {
     "name": "stdout",
     "output_type": "stream",
     "text": [
      "0\n",
      "1\n",
      "2\n",
      "3\n",
      "4\n",
      "5\n",
      "6\n",
      "7\n",
      "8\n",
      "9\n"
     ]
    }
   ],
   "source": [
    "for i in x:\n",
    "    print(i)"
   ]
  },
  {
   "cell_type": "code",
   "execution_count": 3,
   "id": "6586fd14-eb2b-4298-a2a9-7c19885dad1f",
   "metadata": {},
   "outputs": [
    {
     "name": "stdout",
     "output_type": "stream",
     "text": [
      "10\n",
      "15\n",
      "20\n",
      "25\n",
      "30\n",
      "35\n",
      "40\n",
      "45\n",
      "50\n",
      "55\n",
      "60\n",
      "65\n",
      "70\n",
      "75\n",
      "80\n",
      "85\n",
      "90\n",
      "95\n"
     ]
    }
   ],
   "source": [
    "for i in range(10,100,5):\n",
    "    print(i)"
   ]
  },
  {
   "cell_type": "code",
   "execution_count": 5,
   "id": "5dbff3fa-8a82-4032-ac6f-a9350a00c824",
   "metadata": {},
   "outputs": [
    {
     "name": "stdout",
     "output_type": "stream",
     "text": [
      "100\n",
      "90\n",
      "80\n",
      "70\n",
      "60\n",
      "50\n",
      "40\n",
      "30\n",
      "20\n",
      "10\n",
      "0\n"
     ]
    }
   ],
   "source": [
    "for i in range(100, -1, -10):\n",
    "    print(i)"
   ]
  },
  {
   "cell_type": "markdown",
   "id": "8738c35d-beaa-4cf7-afdb-36b6d2dd7a55",
   "metadata": {},
   "source": [
    "### print all the odd numbers between a range given by user"
   ]
  },
  {
   "cell_type": "code",
   "execution_count": 16,
   "id": "6e20bd70-70bb-4024-a80b-65cb1263b476",
   "metadata": {},
   "outputs": [
    {
     "name": "stdin",
     "output_type": "stream",
     "text": [
      "Enter the starting number:  5\n",
      "Enter the ending number:  57\n"
     ]
    }
   ],
   "source": [
    "start = int(input(\"Enter the starting number: \"))\n",
    "stop = int(input(\"Enter the ending number: \"))"
   ]
  },
  {
   "cell_type": "code",
   "execution_count": 19,
   "id": "4ed6501d-1545-44aa-9023-d68ce5c50f16",
   "metadata": {},
   "outputs": [
    {
     "name": "stdout",
     "output_type": "stream",
     "text": [
      "5\n",
      "7\n",
      "9\n",
      "11\n",
      "13\n",
      "15\n",
      "17\n",
      "19\n",
      "21\n",
      "23\n",
      "25\n",
      "27\n",
      "29\n",
      "31\n",
      "33\n",
      "35\n",
      "37\n",
      "39\n",
      "41\n",
      "43\n",
      "45\n",
      "47\n",
      "49\n",
      "51\n",
      "53\n",
      "55\n",
      "57\n"
     ]
    }
   ],
   "source": [
    "for i in range(start, stop+1, 1):\n",
    "    if i % 2 != 0:\n",
    "        print(i)"
   ]
  },
  {
   "cell_type": "markdown",
   "id": "3c2bde23-3db9-46ef-8993-bdac9569335d",
   "metadata": {},
   "source": [
    "### Nested for loop\n",
    "\n",
    "```python\n",
    "for i in range(0, 25):\n",
    "    for j in range(12, 35):\n",
    "        print(j)\n",
    "```"
   ]
  },
  {
   "cell_type": "markdown",
   "id": "8ff700fc-eb08-4d52-9cd5-146fc71a6b2e",
   "metadata": {},
   "source": [
    "### Print the multiplication table of all numbers upto 5"
   ]
  },
  {
   "cell_type": "code",
   "execution_count": 21,
   "id": "7dc31466-553d-4546-9d08-2392106e12f0",
   "metadata": {},
   "outputs": [
    {
     "name": "stdout",
     "output_type": "stream",
     "text": [
      "Multiplication table of 1\n",
      "\n",
      "1 * 1 = 1\n",
      "1 * 2 = 2\n",
      "1 * 3 = 3\n",
      "1 * 4 = 4\n",
      "1 * 5 = 5\n",
      "1 * 6 = 6\n",
      "1 * 7 = 7\n",
      "1 * 8 = 8\n",
      "1 * 9 = 9\n",
      "1 * 10 = 10\n",
      "\n",
      "\n",
      "Multiplication table of 2\n",
      "\n",
      "2 * 1 = 2\n",
      "2 * 2 = 4\n",
      "2 * 3 = 6\n",
      "2 * 4 = 8\n",
      "2 * 5 = 10\n",
      "2 * 6 = 12\n",
      "2 * 7 = 14\n",
      "2 * 8 = 16\n",
      "2 * 9 = 18\n",
      "2 * 10 = 20\n",
      "\n",
      "\n",
      "Multiplication table of 3\n",
      "\n",
      "3 * 1 = 3\n",
      "3 * 2 = 6\n",
      "3 * 3 = 9\n",
      "3 * 4 = 12\n",
      "3 * 5 = 15\n",
      "3 * 6 = 18\n",
      "3 * 7 = 21\n",
      "3 * 8 = 24\n",
      "3 * 9 = 27\n",
      "3 * 10 = 30\n",
      "\n",
      "\n",
      "Multiplication table of 4\n",
      "\n",
      "4 * 1 = 4\n",
      "4 * 2 = 8\n",
      "4 * 3 = 12\n",
      "4 * 4 = 16\n",
      "4 * 5 = 20\n",
      "4 * 6 = 24\n",
      "4 * 7 = 28\n",
      "4 * 8 = 32\n",
      "4 * 9 = 36\n",
      "4 * 10 = 40\n",
      "\n",
      "\n",
      "Multiplication table of 5\n",
      "\n",
      "5 * 1 = 5\n",
      "5 * 2 = 10\n",
      "5 * 3 = 15\n",
      "5 * 4 = 20\n",
      "5 * 5 = 25\n",
      "5 * 6 = 30\n",
      "5 * 7 = 35\n",
      "5 * 8 = 40\n",
      "5 * 9 = 45\n",
      "5 * 10 = 50\n",
      "\n",
      "\n"
     ]
    }
   ],
   "source": [
    "for i in range(1,6):\n",
    "    print(f\"Multiplication table of {i}\\n\")\n",
    "    for j in range(1,11):\n",
    "        print(f\"{i} * {j} = {i*j}\")\n",
    "    print(\"\\n\")"
   ]
  },
  {
   "cell_type": "markdown",
   "id": "5d817461-3fb4-4964-b31b-12cd14fc1ffd",
   "metadata": {},
   "source": [
    "## Python in-built Data Structures\n",
    "\n",
    "### List\n",
    "\n",
    "```python\n",
    "my_list = [2, 4, 9]\n",
    "```"
   ]
  },
  {
   "cell_type": "code",
   "execution_count": 22,
   "id": "5a09780c-e36e-4f06-a8b9-b576b296a030",
   "metadata": {},
   "outputs": [
    {
     "data": {
      "text/plain": [
       "list"
      ]
     },
     "execution_count": 22,
     "metadata": {},
     "output_type": "execute_result"
    }
   ],
   "source": [
    "a = []  # empty list\n",
    "\n",
    "type(a)"
   ]
  },
  {
   "cell_type": "code",
   "execution_count": 23,
   "id": "82a6e678-3c0d-4130-91ff-6178caaabd15",
   "metadata": {},
   "outputs": [],
   "source": [
    "b = [1, 3.5, True, 'donald trump', 34]"
   ]
  },
  {
   "cell_type": "code",
   "execution_count": 24,
   "id": "781cf14d-a61d-40f1-9e72-583022388d32",
   "metadata": {},
   "outputs": [
    {
     "data": {
      "text/plain": [
       "list"
      ]
     },
     "execution_count": 24,
     "metadata": {},
     "output_type": "execute_result"
    }
   ],
   "source": [
    "type(b)"
   ]
  },
  {
   "cell_type": "markdown",
   "id": "96fd2f0b-ee51-4e95-a13c-336f5ff35d81",
   "metadata": {},
   "source": [
    "#### Length of a list\n",
    "\n",
    "number of elements in the list"
   ]
  },
  {
   "cell_type": "code",
   "execution_count": 25,
   "id": "e63fcb7a-6f93-44fe-9a13-0f3235e20b81",
   "metadata": {},
   "outputs": [
    {
     "data": {
      "text/plain": [
       "5"
      ]
     },
     "execution_count": 25,
     "metadata": {},
     "output_type": "execute_result"
    }
   ],
   "source": [
    "len(b)"
   ]
  },
  {
   "cell_type": "code",
   "execution_count": 26,
   "id": "2fc8c41f-eda2-47d5-b3ef-07930c16cc78",
   "metadata": {},
   "outputs": [
    {
     "data": {
      "text/plain": [
       "0"
      ]
     },
     "execution_count": 26,
     "metadata": {},
     "output_type": "execute_result"
    }
   ],
   "source": [
    "len(a)"
   ]
  },
  {
   "cell_type": "markdown",
   "id": "8487838e-f54c-4654-8fde-a8983e5bd7e0",
   "metadata": {},
   "source": [
    "### Indexing a list\n",
    "\n",
    "list index starts from 0 and ends at n-1 where n is the length of the list"
   ]
  },
  {
   "cell_type": "code",
   "execution_count": 27,
   "id": "e6496966-fa18-41d2-a421-55c7a2310a8f",
   "metadata": {},
   "outputs": [
    {
     "data": {
      "text/plain": [
       "[1, 3.5, True, 'donald trump', 34]"
      ]
     },
     "execution_count": 27,
     "metadata": {},
     "output_type": "execute_result"
    }
   ],
   "source": [
    "b"
   ]
  },
  {
   "cell_type": "code",
   "execution_count": 28,
   "id": "beb99da2-873c-4172-b317-0ed530ad7600",
   "metadata": {},
   "outputs": [
    {
     "data": {
      "text/plain": [
       "1"
      ]
     },
     "execution_count": 28,
     "metadata": {},
     "output_type": "execute_result"
    }
   ],
   "source": [
    "b[0]"
   ]
  },
  {
   "cell_type": "code",
   "execution_count": 29,
   "id": "5853ba3d-df17-43b9-b043-4f6661941894",
   "metadata": {},
   "outputs": [
    {
     "data": {
      "text/plain": [
       "34"
      ]
     },
     "execution_count": 29,
     "metadata": {},
     "output_type": "execute_result"
    }
   ],
   "source": [
    "b[4]"
   ]
  },
  {
   "cell_type": "code",
   "execution_count": 32,
   "id": "80944063-70f6-4fa0-b9b2-60845470ae1b",
   "metadata": {},
   "outputs": [
    {
     "data": {
      "text/plain": [
       "'donald trump'"
      ]
     },
     "execution_count": 32,
     "metadata": {},
     "output_type": "execute_result"
    }
   ],
   "source": [
    "b[3]"
   ]
  },
  {
   "cell_type": "markdown",
   "id": "4e00e43f-0d30-4844-b1e3-1afa7797d515",
   "metadata": {},
   "source": [
    "#### negative indexing"
   ]
  },
  {
   "cell_type": "code",
   "execution_count": 33,
   "id": "f20e625c-fccc-4913-a0aa-f91cd972dd8e",
   "metadata": {},
   "outputs": [
    {
     "data": {
      "text/plain": [
       "34"
      ]
     },
     "execution_count": 33,
     "metadata": {},
     "output_type": "execute_result"
    }
   ],
   "source": [
    "b[-1]"
   ]
  },
  {
   "cell_type": "code",
   "execution_count": 34,
   "id": "b6636661-dadc-46ad-9a59-0798dee57460",
   "metadata": {},
   "outputs": [
    {
     "data": {
      "text/plain": [
       "'donald trump'"
      ]
     },
     "execution_count": 34,
     "metadata": {},
     "output_type": "execute_result"
    }
   ],
   "source": [
    "b[-2]"
   ]
  },
  {
   "cell_type": "code",
   "execution_count": 35,
   "id": "62852788-ccbd-4370-9e3d-0a6942c291b8",
   "metadata": {},
   "outputs": [
    {
     "data": {
      "text/plain": [
       "1"
      ]
     },
     "execution_count": 35,
     "metadata": {},
     "output_type": "execute_result"
    }
   ],
   "source": [
    "b[-5]"
   ]
  },
  {
   "cell_type": "code",
   "execution_count": 36,
   "id": "fff5375a-4f16-4b86-afb8-3d6e77f796f6",
   "metadata": {},
   "outputs": [
    {
     "ename": "IndexError",
     "evalue": "list index out of range",
     "output_type": "error",
     "traceback": [
      "\u001b[31m---------------------------------------------------------------------------\u001b[39m",
      "\u001b[31mIndexError\u001b[39m                                Traceback (most recent call last)",
      "\u001b[36mCell\u001b[39m\u001b[36m \u001b[39m\u001b[32mIn[36]\u001b[39m\u001b[32m, line 1\u001b[39m\n\u001b[32m----> \u001b[39m\u001b[32m1\u001b[39m \u001b[43mb\u001b[49m\u001b[43m[\u001b[49m\u001b[43m-\u001b[49m\u001b[32;43m6\u001b[39;49m\u001b[43m]\u001b[49m\n",
      "\u001b[31mIndexError\u001b[39m: list index out of range"
     ]
    }
   ],
   "source": [
    "b[-6]"
   ]
  },
  {
   "cell_type": "markdown",
   "id": "6365cc71-337d-4096-9f12-986cfb98dc69",
   "metadata": {},
   "source": [
    "### Slicing\n",
    "\n",
    "for a list `L` slicing is done in the following way\n",
    "\n",
    "`L[a:b:c]`\n",
    "\n",
    "a: starting index (included) {optional} | default is 0\n",
    "\n",
    "b: ending index (excluded) {optional} | default = len(L)\n",
    "\n",
    "c: step {optional} | default = 1"
   ]
  },
  {
   "cell_type": "code",
   "execution_count": 37,
   "id": "d7efbd94-0d74-456a-bb7b-aaee5a09d6e2",
   "metadata": {},
   "outputs": [
    {
     "data": {
      "text/plain": [
       "[-4, 7, 10]"
      ]
     },
     "execution_count": 37,
     "metadata": {},
     "output_type": "execute_result"
    }
   ],
   "source": [
    "l = [2, -4, 7, 10, 8, -23, 78, -43]\n",
    "\n",
    "l[1:4]   # l[1] , l[2], l[3]"
   ]
  },
  {
   "cell_type": "code",
   "execution_count": 44,
   "id": "c7c471bd-16fb-4b72-b631-f57a6edea520",
   "metadata": {},
   "outputs": [
    {
     "data": {
      "text/plain": [
       "[-4, 7, 10, 8, -23, 78, -43]"
      ]
     },
     "execution_count": 44,
     "metadata": {},
     "output_type": "execute_result"
    }
   ],
   "source": [
    "l[1:1000]   # l[1] , l[3], l[5], l[7]"
   ]
  },
  {
   "cell_type": "code",
   "execution_count": 45,
   "id": "f0a751d0-e1e6-485c-9472-fc5525eb1560",
   "metadata": {},
   "outputs": [
    {
     "data": {
      "text/plain": [
       "[-4, 7, 10, 8, -23, 78, -43]"
      ]
     },
     "execution_count": 45,
     "metadata": {},
     "output_type": "execute_result"
    }
   ],
   "source": [
    "l[1:]"
   ]
  },
  {
   "cell_type": "code",
   "execution_count": 46,
   "id": "eb68a046-40a2-4db8-87f2-4ce2ffaf8607",
   "metadata": {},
   "outputs": [
    {
     "data": {
      "text/plain": [
       "[2, -4, 7, 10, 8]"
      ]
     },
     "execution_count": 46,
     "metadata": {},
     "output_type": "execute_result"
    }
   ],
   "source": [
    "l[:5]"
   ]
  },
  {
   "cell_type": "code",
   "execution_count": 47,
   "id": "225203d9-a748-4adf-9fc4-d990ffbad949",
   "metadata": {},
   "outputs": [
    {
     "data": {
      "text/plain": [
       "[2, -4, 7, 10, 8, -23, 78, -43]"
      ]
     },
     "execution_count": 47,
     "metadata": {},
     "output_type": "execute_result"
    }
   ],
   "source": [
    "l[:]"
   ]
  },
  {
   "cell_type": "code",
   "execution_count": 48,
   "id": "cf2adbb8-1ef4-42cf-bb39-67aa850a1a60",
   "metadata": {},
   "outputs": [
    {
     "data": {
      "text/plain": [
       "[2, -4, 7, 10, 8, -23, 78, -43]"
      ]
     },
     "execution_count": 48,
     "metadata": {},
     "output_type": "execute_result"
    }
   ],
   "source": [
    "l[::]"
   ]
  },
  {
   "cell_type": "code",
   "execution_count": 51,
   "id": "f0ccb6b7-8d32-4db4-991b-b7a6c331bd5d",
   "metadata": {},
   "outputs": [
    {
     "data": {
      "text/plain": [
       "[2, 7, 8, 78]"
      ]
     },
     "execution_count": 51,
     "metadata": {},
     "output_type": "execute_result"
    }
   ],
   "source": [
    "l[::2]"
   ]
  },
  {
   "cell_type": "code",
   "execution_count": 52,
   "id": "f9b57915-5324-4102-97f2-967debdc5c9a",
   "metadata": {},
   "outputs": [
    {
     "data": {
      "text/plain": [
       "[2, -4, 7, 10, 8, -23, 78, -43]"
      ]
     },
     "execution_count": 52,
     "metadata": {},
     "output_type": "execute_result"
    }
   ],
   "source": [
    "l"
   ]
  },
  {
   "cell_type": "code",
   "execution_count": 53,
   "id": "82bb472f-4eab-4e2e-ba91-661cf2ed163e",
   "metadata": {},
   "outputs": [
    {
     "data": {
      "text/plain": [
       "[-43, 78, -23, 8, 10]"
      ]
     },
     "execution_count": 53,
     "metadata": {},
     "output_type": "execute_result"
    }
   ],
   "source": [
    "l[7:2:-1]  # l[7], l[6], l[5], l[4], l[3]    start > end and step -ve : ok"
   ]
  },
  {
   "cell_type": "code",
   "execution_count": 54,
   "id": "43401b3a-d882-4a8a-99fd-1afadc255e6a",
   "metadata": {},
   "outputs": [
    {
     "data": {
      "text/plain": [
       "[-43, 78, -23, 8, 10]"
      ]
     },
     "execution_count": 54,
     "metadata": {},
     "output_type": "execute_result"
    }
   ],
   "source": [
    "l[-1:2:-1] # l[n-1], l[n-2], l[n-3], l[n-4], l[n-5]  n -> len(l)"
   ]
  },
  {
   "cell_type": "code",
   "execution_count": 57,
   "id": "a4567f42-3d96-4e2c-a06c-7bc59af10d63",
   "metadata": {},
   "outputs": [
    {
     "data": {
      "text/plain": [
       "[-4, 7, 10, 8]"
      ]
     },
     "execution_count": 57,
     "metadata": {},
     "output_type": "execute_result"
    }
   ],
   "source": [
    "l[1:5:1]  # l[1], l[2], l[3]   start < end and step +ve : ok"
   ]
  },
  {
   "cell_type": "code",
   "execution_count": 63,
   "id": "ab54d908-571b-4264-9007-4eabe776c952",
   "metadata": {},
   "outputs": [
    {
     "data": {
      "text/plain": [
       "[]"
      ]
     },
     "execution_count": 63,
     "metadata": {},
     "output_type": "execute_result"
    }
   ],
   "source": [
    "l[1:5:-1]   # start < end and step -ve : not ok  -> empty list"
   ]
  },
  {
   "cell_type": "code",
   "execution_count": 60,
   "id": "4bea35a6-e5b1-4850-9b02-2ee32facc2ba",
   "metadata": {},
   "outputs": [
    {
     "data": {
      "text/plain": [
       "[]"
      ]
     },
     "execution_count": 60,
     "metadata": {},
     "output_type": "execute_result"
    }
   ],
   "source": [
    "l[7:2:1]  # start > end and step +ve: not ok -> empty list"
   ]
  },
  {
   "cell_type": "code",
   "execution_count": 61,
   "id": "a3215f9f-739e-42ff-9857-ab2cecf3873c",
   "metadata": {},
   "outputs": [
    {
     "data": {
      "text/plain": [
       "[-43, 78, -23, 8, 10, 7, -4, 2]"
      ]
     },
     "execution_count": 61,
     "metadata": {},
     "output_type": "execute_result"
    }
   ],
   "source": [
    "l[::-1] # reverse the list"
   ]
  },
  {
   "cell_type": "markdown",
   "id": "c2b757cd-ad18-42fb-b410-8ca53ec00210",
   "metadata": {},
   "source": [
    "### Printing the elements of a list"
   ]
  },
  {
   "cell_type": "code",
   "execution_count": 64,
   "id": "529bf5ca-8641-4992-921e-f3cb8cdb48f0",
   "metadata": {},
   "outputs": [
    {
     "name": "stdout",
     "output_type": "stream",
     "text": [
      "apple\n",
      "banana\n",
      "kiwi\n",
      "grapes\n",
      "coconut\n"
     ]
    }
   ],
   "source": [
    "my_list = ['apple', 'banana' , 'kiwi', 'grapes', 'coconut']   # the list is an iterable object in python\n",
    "\n",
    "for x in my_list:\n",
    "    print(x)"
   ]
  },
  {
   "cell_type": "code",
   "execution_count": 65,
   "id": "cbdfe0ff-d3cf-4444-9c14-7ffea08aabd5",
   "metadata": {},
   "outputs": [
    {
     "name": "stdout",
     "output_type": "stream",
     "text": [
      "apple\n",
      "banana\n",
      "kiwi\n",
      "grapes\n",
      "coconut\n"
     ]
    }
   ],
   "source": [
    "for i in range(len(my_list)):\n",
    "    print(my_list[i])"
   ]
  },
  {
   "cell_type": "code",
   "execution_count": 66,
   "id": "e1b59c98-11a7-4093-b1f4-026b12348c80",
   "metadata": {},
   "outputs": [
    {
     "data": {
      "text/plain": [
       "5"
      ]
     },
     "execution_count": 66,
     "metadata": {},
     "output_type": "execute_result"
    }
   ],
   "source": [
    "len(my_list)"
   ]
  },
  {
   "cell_type": "code",
   "execution_count": 67,
   "id": "4232bf5a-027a-4a76-80bd-39aa8e4c6820",
   "metadata": {},
   "outputs": [
    {
     "data": {
      "text/plain": [
       "range(0, 5)"
      ]
     },
     "execution_count": 67,
     "metadata": {},
     "output_type": "execute_result"
    }
   ],
   "source": [
    "range(len(my_list)) # range(0,5)"
   ]
  },
  {
   "cell_type": "markdown",
   "id": "c4b54786-5fb6-4398-b466-2a2c165f1dd7",
   "metadata": {},
   "source": [
    "### List of lists"
   ]
  },
  {
   "cell_type": "code",
   "execution_count": 68,
   "id": "db76defa-46cd-42c5-be73-84c1e39445e5",
   "metadata": {},
   "outputs": [],
   "source": [
    "a = [9, 10, -12]\n",
    "b = [True, 'c', 25.5, 92, 'Sherlock Holmes']\n",
    "c = []\n",
    "d = [-3.45]"
   ]
  },
  {
   "cell_type": "code",
   "execution_count": 69,
   "id": "43d93f6c-01b3-4fb5-a91e-9ff543c1b1fa",
   "metadata": {},
   "outputs": [
    {
     "data": {
      "text/plain": [
       "list"
      ]
     },
     "execution_count": 69,
     "metadata": {},
     "output_type": "execute_result"
    }
   ],
   "source": [
    "my_list = [a,b,c,d]\n",
    "\n",
    "type(my_list)"
   ]
  },
  {
   "cell_type": "code",
   "execution_count": 70,
   "id": "8a1e883f-6838-433c-9440-f0972a028d38",
   "metadata": {},
   "outputs": [
    {
     "data": {
      "text/plain": [
       "[[9, 10, -12], [True, 'c', 25.5, 92, 'Sherlock Holmes'], [], [-3.45]]"
      ]
     },
     "execution_count": 70,
     "metadata": {},
     "output_type": "execute_result"
    }
   ],
   "source": [
    "my_list"
   ]
  },
  {
   "cell_type": "code",
   "execution_count": 71,
   "id": "70d95ac8-a019-4168-b95c-19e415fc8879",
   "metadata": {},
   "outputs": [
    {
     "data": {
      "text/plain": [
       "[9, 10, -12]"
      ]
     },
     "execution_count": 71,
     "metadata": {},
     "output_type": "execute_result"
    }
   ],
   "source": [
    "my_list[0]"
   ]
  },
  {
   "cell_type": "code",
   "execution_count": 72,
   "id": "0209de0a-9bb8-436b-b414-022b71b0bc0f",
   "metadata": {},
   "outputs": [
    {
     "data": {
      "text/plain": [
       "[]"
      ]
     },
     "execution_count": 72,
     "metadata": {},
     "output_type": "execute_result"
    }
   ],
   "source": [
    "my_list[2]"
   ]
  },
  {
   "cell_type": "code",
   "execution_count": 73,
   "id": "7036d25f-9032-45b2-b633-11475b989230",
   "metadata": {},
   "outputs": [
    {
     "data": {
      "text/plain": [
       "4"
      ]
     },
     "execution_count": 73,
     "metadata": {},
     "output_type": "execute_result"
    }
   ],
   "source": [
    "len(my_list)"
   ]
  },
  {
   "cell_type": "code",
   "execution_count": 74,
   "id": "c09f82e0-4ef6-46fa-a1bb-3b50d7a3403e",
   "metadata": {},
   "outputs": [
    {
     "data": {
      "text/plain": [
       "[True, 'c', 25.5, 92, 'Sherlock Holmes']"
      ]
     },
     "execution_count": 74,
     "metadata": {},
     "output_type": "execute_result"
    }
   ],
   "source": [
    "my_list[1]"
   ]
  },
  {
   "cell_type": "code",
   "execution_count": 75,
   "id": "eff14817-85fc-4321-b8e2-3e10c60deb9e",
   "metadata": {},
   "outputs": [
    {
     "data": {
      "text/plain": [
       "25.5"
      ]
     },
     "execution_count": 75,
     "metadata": {},
     "output_type": "execute_result"
    }
   ],
   "source": [
    "my_list[1][2]"
   ]
  },
  {
   "cell_type": "markdown",
   "id": "368328d7-e6dd-4674-97f5-af3ca693b017",
   "metadata": {},
   "source": [
    "### List methods"
   ]
  },
  {
   "cell_type": "markdown",
   "id": "e8d6291b-7a8b-4deb-8848-3d673e650c1e",
   "metadata": {},
   "source": [
    "#### append()\n",
    "\n",
    "```python\n",
    "L = [1,3,5]\n",
    "\n",
    "L.append(7)\n",
    "```\n",
    "then it will produce ```[1,3,5,7]```"
   ]
  },
  {
   "cell_type": "code",
   "execution_count": 76,
   "id": "09a8a112-cde3-4188-baf4-56b071f04480",
   "metadata": {},
   "outputs": [],
   "source": [
    "l = [3, 5, -1, 6, 25] \n",
    "\n",
    "l.append(9)"
   ]
  },
  {
   "cell_type": "code",
   "execution_count": 77,
   "id": "53710072-4dd9-4411-852c-93513ba9fcda",
   "metadata": {},
   "outputs": [
    {
     "data": {
      "text/plain": [
       "[3, 5, -1, 6, 25, 9]"
      ]
     },
     "execution_count": 77,
     "metadata": {},
     "output_type": "execute_result"
    }
   ],
   "source": [
    "l"
   ]
  },
  {
   "cell_type": "code",
   "execution_count": 78,
   "id": "a60d2c73-17ac-443d-94eb-ee70ee18d985",
   "metadata": {},
   "outputs": [
    {
     "name": "stdout",
     "output_type": "stream",
     "text": [
      "[4, 7]\n"
     ]
    }
   ],
   "source": [
    "a = []\n",
    "\n",
    "a.append(4)\n",
    "\n",
    "a.append(7)\n",
    "\n",
    "print(a)"
   ]
  },
  {
   "cell_type": "markdown",
   "id": "ee18b7cd-b83b-4def-b2a9-7245da818109",
   "metadata": {},
   "source": [
    "### insert()\n",
    "\n",
    "```python\n",
    "insert(index, value)\n",
    "```"
   ]
  },
  {
   "cell_type": "code",
   "execution_count": 79,
   "id": "a28219c7-db9e-4355-86ef-86b63632a7fc",
   "metadata": {},
   "outputs": [
    {
     "name": "stdout",
     "output_type": "stream",
     "text": [
      "[1, 3, -9, 5, 8, 10, -12]\n"
     ]
    }
   ],
   "source": [
    "x = [3, -9, 5, 8, 10, -12]\n",
    "\n",
    "x.insert(0, 1)\n",
    "\n",
    "print(x)"
   ]
  },
  {
   "cell_type": "code",
   "execution_count": 80,
   "id": "bda33082-9238-4e82-a717-c973d15c5170",
   "metadata": {},
   "outputs": [],
   "source": [
    "x.insert(3, 45.5)"
   ]
  },
  {
   "cell_type": "code",
   "execution_count": 83,
   "id": "5d05f2a3-378b-4f4e-85ec-ca7683cebd8c",
   "metadata": {},
   "outputs": [
    {
     "name": "stdout",
     "output_type": "stream",
     "text": [
      "[1, 3, -9, 45.5, 5, 8, 10, 5.7, -12]\n"
     ]
    }
   ],
   "source": [
    "print(x)"
   ]
  },
  {
   "cell_type": "code",
   "execution_count": 84,
   "id": "07a8135c-289a-4505-a646-98e147db63f9",
   "metadata": {},
   "outputs": [],
   "source": [
    "x.insert(-1, 0)"
   ]
  },
  {
   "cell_type": "code",
   "execution_count": 85,
   "id": "85819f92-77c6-48e5-858f-cacc4dd6fabf",
   "metadata": {},
   "outputs": [
    {
     "data": {
      "text/plain": [
       "[1, 3, -9, 45.5, 5, 8, 10, 5.7, 0, -12]"
      ]
     },
     "execution_count": 85,
     "metadata": {},
     "output_type": "execute_result"
    }
   ],
   "source": [
    "x"
   ]
  },
  {
   "cell_type": "code",
   "execution_count": 86,
   "id": "862f5410-c4b8-407d-af84-fd816a94885c",
   "metadata": {},
   "outputs": [],
   "source": [
    "x.insert(-2, 3.3)"
   ]
  },
  {
   "cell_type": "code",
   "execution_count": 87,
   "id": "016a80d7-65cb-4ef4-8ce4-733c2ef6b524",
   "metadata": {},
   "outputs": [
    {
     "data": {
      "text/plain": [
       "[1, 3, -9, 45.5, 5, 8, 10, 5.7, 3.3, 0, -12]"
      ]
     },
     "execution_count": 87,
     "metadata": {},
     "output_type": "execute_result"
    }
   ],
   "source": [
    "x"
   ]
  },
  {
   "cell_type": "code",
   "execution_count": 88,
   "id": "bb7633f7-a8b2-43ea-9a4e-ca7d855d2c89",
   "metadata": {},
   "outputs": [
    {
     "name": "stdout",
     "output_type": "stream",
     "text": [
      "[1, 3, -9, 45.5, 5, 8, 10, 5.7, 3.3, 0, -12, 7152]\n"
     ]
    }
   ],
   "source": [
    "x.insert(len(x), 7152)  # x.append(7152)\n",
    "\n",
    "print(x)"
   ]
  },
  {
   "cell_type": "markdown",
   "id": "5d361dfa-1a53-4bb9-a273-0e8894b506fe",
   "metadata": {},
   "source": [
    "#### sort()"
   ]
  },
  {
   "cell_type": "code",
   "execution_count": 90,
   "id": "4c2f0ed3-80e5-41de-b648-a56631f4ec27",
   "metadata": {},
   "outputs": [
    {
     "name": "stdout",
     "output_type": "stream",
     "text": [
      "[-54, -2, 2, 4, 27, 67]\n"
     ]
    }
   ],
   "source": [
    "y = [4, -2, 67, -54, 2, 27]\n",
    "\n",
    "y.sort()   # arranges the elements of the list in ascending order\n",
    "\n",
    "print(y)"
   ]
  },
  {
   "cell_type": "code",
   "execution_count": 93,
   "id": "3dac516a-b3b5-48a8-971e-8027e30d600b",
   "metadata": {},
   "outputs": [
    {
     "name": "stdout",
     "output_type": "stream",
     "text": [
      "[90, 23, 4, -1, -1, -2, -3, -34]\n"
     ]
    }
   ],
   "source": [
    "z = [4, -3, -1, 23, 90, -2, -1, -34]\n",
    "\n",
    "z.sort(reverse=True) # arranges the elements in the descending order\n",
    "\n",
    "print(z)"
   ]
  },
  {
   "cell_type": "code",
   "execution_count": 94,
   "id": "c63d1c83-b2ec-4166-a698-1f408b85fac6",
   "metadata": {},
   "outputs": [
    {
     "data": {
      "text/plain": [
       "[90, 23, 4, -1, -1, -2, -3, -34]"
      ]
     },
     "execution_count": 94,
     "metadata": {},
     "output_type": "execute_result"
    }
   ],
   "source": [
    "z"
   ]
  },
  {
   "cell_type": "code",
   "execution_count": 95,
   "id": "abe10ab9-e4fa-46b3-856d-efaf193408f3",
   "metadata": {},
   "outputs": [],
   "source": [
    "my_list = ['apple', 'banana' , 'kiwi', 'grapes', 'coconut']\n",
    "\n",
    "my_list.sort()"
   ]
  },
  {
   "cell_type": "code",
   "execution_count": 96,
   "id": "acec437b-92f8-4d17-a409-c4940e2758e2",
   "metadata": {},
   "outputs": [
    {
     "data": {
      "text/plain": [
       "['apple', 'banana', 'coconut', 'grapes', 'kiwi']"
      ]
     },
     "execution_count": 96,
     "metadata": {},
     "output_type": "execute_result"
    }
   ],
   "source": [
    "my_list"
   ]
  },
  {
   "cell_type": "code",
   "execution_count": 97,
   "id": "303cc20f-4162-4237-be09-59a888f81a3e",
   "metadata": {},
   "outputs": [
    {
     "ename": "TypeError",
     "evalue": "'<' not supported between instances of 'str' and 'bool'",
     "output_type": "error",
     "traceback": [
      "\u001b[31m---------------------------------------------------------------------------\u001b[39m",
      "\u001b[31mTypeError\u001b[39m                                 Traceback (most recent call last)",
      "\u001b[36mCell\u001b[39m\u001b[36m \u001b[39m\u001b[32mIn[97]\u001b[39m\u001b[32m, line 3\u001b[39m\n\u001b[32m      1\u001b[39m b = [\u001b[38;5;28;01mTrue\u001b[39;00m, \u001b[33m'\u001b[39m\u001b[33mc\u001b[39m\u001b[33m'\u001b[39m, \u001b[32m25.5\u001b[39m, \u001b[32m92\u001b[39m, \u001b[33m'\u001b[39m\u001b[33mSherlock Holmes\u001b[39m\u001b[33m'\u001b[39m]\n\u001b[32m----> \u001b[39m\u001b[32m3\u001b[39m \u001b[43mb\u001b[49m\u001b[43m.\u001b[49m\u001b[43msort\u001b[49m\u001b[43m(\u001b[49m\u001b[43m)\u001b[49m\n",
      "\u001b[31mTypeError\u001b[39m: '<' not supported between instances of 'str' and 'bool'"
     ]
    }
   ],
   "source": [
    "b = [True, 'c', 25.5, 92, 'Sherlock Holmes']\n",
    "\n",
    "b.sort()"
   ]
  },
  {
   "cell_type": "markdown",
   "id": "edc2f2d5-1b0d-4141-aadb-82a93532d9f8",
   "metadata": {},
   "source": [
    "### extend()"
   ]
  },
  {
   "cell_type": "code",
   "execution_count": 104,
   "id": "e869bb65-f107-4006-8ca2-851e23378ae9",
   "metadata": {},
   "outputs": [],
   "source": [
    "a = [2, 3, 4]\n",
    "\n",
    "b = [4, 7, 9]\n",
    "\n",
    "a.extend(b)"
   ]
  },
  {
   "cell_type": "code",
   "execution_count": 105,
   "id": "c204b5f6-372f-4e6f-bda9-8df644aef77a",
   "metadata": {},
   "outputs": [
    {
     "name": "stdout",
     "output_type": "stream",
     "text": [
      "[2, 3, 4, 4, 7, 9]\n"
     ]
    }
   ],
   "source": [
    "print(a)"
   ]
  },
  {
   "cell_type": "code",
   "execution_count": 101,
   "id": "278df41b-0f3b-49e0-b585-3da5250e0b35",
   "metadata": {},
   "outputs": [
    {
     "data": {
      "text/plain": [
       "[1, 1, 2, 3, 3, 7, 9]"
      ]
     },
     "execution_count": 101,
     "metadata": {},
     "output_type": "execute_result"
    }
   ],
   "source": [
    "s = [1, 1, 2, 3]\n",
    "\n",
    "t = [3, 7, 9]\n",
    "\n",
    "s + t"
   ]
  },
  {
   "cell_type": "code",
   "execution_count": 102,
   "id": "16c56064-a817-4ea7-aa35-45c8ae166465",
   "metadata": {},
   "outputs": [
    {
     "data": {
      "text/plain": [
       "[1, 1, 2, 3]"
      ]
     },
     "execution_count": 102,
     "metadata": {},
     "output_type": "execute_result"
    }
   ],
   "source": [
    "s"
   ]
  },
  {
   "cell_type": "code",
   "execution_count": 103,
   "id": "5ae26ba3-ada9-42a7-aa61-a77f53bbe332",
   "metadata": {},
   "outputs": [
    {
     "data": {
      "text/plain": [
       "[3, 7, 9]"
      ]
     },
     "execution_count": 103,
     "metadata": {},
     "output_type": "execute_result"
    }
   ],
   "source": [
    "t"
   ]
  },
  {
   "cell_type": "code",
   "execution_count": 106,
   "id": "8eaefd41-3c48-4ea7-b9e4-15f61e031703",
   "metadata": {},
   "outputs": [],
   "source": [
    "s.extend(t)"
   ]
  },
  {
   "cell_type": "code",
   "execution_count": 107,
   "id": "ca9ec782-3b32-4105-9699-529063b33dd6",
   "metadata": {},
   "outputs": [
    {
     "name": "stdout",
     "output_type": "stream",
     "text": [
      "[1, 1, 2, 3, 3, 7, 9]\n"
     ]
    }
   ],
   "source": [
    "print(s)"
   ]
  },
  {
   "cell_type": "code",
   "execution_count": 108,
   "id": "b2c17522-2837-4586-a86a-43b94aec7b53",
   "metadata": {},
   "outputs": [
    {
     "ename": "TypeError",
     "evalue": "can't multiply sequence by non-int of type 'list'",
     "output_type": "error",
     "traceback": [
      "\u001b[31m---------------------------------------------------------------------------\u001b[39m",
      "\u001b[31mTypeError\u001b[39m                                 Traceback (most recent call last)",
      "\u001b[36mCell\u001b[39m\u001b[36m \u001b[39m\u001b[32mIn[108]\u001b[39m\u001b[32m, line 1\u001b[39m\n\u001b[32m----> \u001b[39m\u001b[32m1\u001b[39m \u001b[43ms\u001b[49m\u001b[43m \u001b[49m\u001b[43m*\u001b[49m\u001b[43m \u001b[49m\u001b[43mt\u001b[49m\n",
      "\u001b[31mTypeError\u001b[39m: can't multiply sequence by non-int of type 'list'"
     ]
    }
   ],
   "source": [
    "s * t"
   ]
  },
  {
   "cell_type": "code",
   "execution_count": 109,
   "id": "9fdb088e-882a-44b5-80f8-684042408cb6",
   "metadata": {},
   "outputs": [
    {
     "data": {
      "text/plain": [
       "[1, 1, 2, 3, 3, 7, 9, 1, 1, 2, 3, 3, 7, 9, 1, 1, 2, 3, 3, 7, 9]"
      ]
     },
     "execution_count": 109,
     "metadata": {},
     "output_type": "execute_result"
    }
   ],
   "source": [
    "3 * s   # s + s + s"
   ]
  },
  {
   "cell_type": "markdown",
   "id": "c57eab26-c0ff-42f8-afca-467e840b22df",
   "metadata": {},
   "source": [
    "### pop()"
   ]
  },
  {
   "cell_type": "code",
   "execution_count": 110,
   "id": "5516ef03-3233-47e8-bb3b-09aba3ab2f90",
   "metadata": {},
   "outputs": [],
   "source": [
    "a = [2, 5, 9, 10, 11]"
   ]
  },
  {
   "cell_type": "code",
   "execution_count": 111,
   "id": "0d05a494-735a-46b8-aff2-813811f56272",
   "metadata": {},
   "outputs": [
    {
     "data": {
      "text/plain": [
       "11"
      ]
     },
     "execution_count": 111,
     "metadata": {},
     "output_type": "execute_result"
    }
   ],
   "source": [
    "a.pop()"
   ]
  },
  {
   "cell_type": "code",
   "execution_count": 112,
   "id": "d4b9c065-9591-41a5-ba88-f6dd342acaff",
   "metadata": {},
   "outputs": [
    {
     "data": {
      "text/plain": [
       "[2, 5, 9, 10]"
      ]
     },
     "execution_count": 112,
     "metadata": {},
     "output_type": "execute_result"
    }
   ],
   "source": [
    "a"
   ]
  },
  {
   "cell_type": "code",
   "execution_count": 113,
   "id": "89b8fea5-8170-4d34-bac3-e27912fcca48",
   "metadata": {},
   "outputs": [
    {
     "data": {
      "text/plain": [
       "1"
      ]
     },
     "execution_count": 113,
     "metadata": {},
     "output_type": "execute_result"
    }
   ],
   "source": [
    "c = [4, 6, 1, 8, 2]\n",
    "\n",
    "c.pop(2)"
   ]
  },
  {
   "cell_type": "code",
   "execution_count": 114,
   "id": "68ecb332-d9ff-4f54-a097-69b402fe25b2",
   "metadata": {},
   "outputs": [
    {
     "data": {
      "text/plain": [
       "[4, 6, 8, 2]"
      ]
     },
     "execution_count": 114,
     "metadata": {},
     "output_type": "execute_result"
    }
   ],
   "source": [
    "c"
   ]
  },
  {
   "cell_type": "code",
   "execution_count": 115,
   "id": "4647e071-f33f-4ed3-981f-97f8b7a9032f",
   "metadata": {},
   "outputs": [
    {
     "ename": "IndexError",
     "evalue": "pop index out of range",
     "output_type": "error",
     "traceback": [
      "\u001b[31m---------------------------------------------------------------------------\u001b[39m",
      "\u001b[31mIndexError\u001b[39m                                Traceback (most recent call last)",
      "\u001b[36mCell\u001b[39m\u001b[36m \u001b[39m\u001b[32mIn[115]\u001b[39m\u001b[32m, line 1\u001b[39m\n\u001b[32m----> \u001b[39m\u001b[32m1\u001b[39m \u001b[43mc\u001b[49m\u001b[43m.\u001b[49m\u001b[43mpop\u001b[49m\u001b[43m(\u001b[49m\u001b[32;43m100\u001b[39;49m\u001b[43m)\u001b[49m\n",
      "\u001b[31mIndexError\u001b[39m: pop index out of range"
     ]
    }
   ],
   "source": [
    "c.pop(100)"
   ]
  },
  {
   "cell_type": "markdown",
   "id": "f52ff953-15d5-437c-9137-c15bd38a4372",
   "metadata": {},
   "source": [
    "### index()\n",
    "\n",
    "```\n",
    "index(value)\n",
    "\n",
    "```\n",
    "gives the index of the first occurrence of the value in the list"
   ]
  },
  {
   "cell_type": "code",
   "execution_count": 116,
   "id": "75e41e28-ce0b-412b-bec4-5ade0b06ba79",
   "metadata": {},
   "outputs": [
    {
     "data": {
      "text/plain": [
       "0"
      ]
     },
     "execution_count": 116,
     "metadata": {},
     "output_type": "execute_result"
    }
   ],
   "source": [
    "l = [3, 6, 0, -1, 5, -2]\n",
    "\n",
    "l.index(3)"
   ]
  },
  {
   "cell_type": "code",
   "execution_count": 118,
   "id": "a5b913ed-9914-4f0d-9bf3-b2f8c6be1ff9",
   "metadata": {},
   "outputs": [
    {
     "ename": "ValueError",
     "evalue": "4 is not in list",
     "output_type": "error",
     "traceback": [
      "\u001b[31m---------------------------------------------------------------------------\u001b[39m",
      "\u001b[31mValueError\u001b[39m                                Traceback (most recent call last)",
      "\u001b[36mCell\u001b[39m\u001b[36m \u001b[39m\u001b[32mIn[118]\u001b[39m\u001b[32m, line 1\u001b[39m\n\u001b[32m----> \u001b[39m\u001b[32m1\u001b[39m \u001b[43ml\u001b[49m\u001b[43m.\u001b[49m\u001b[43mindex\u001b[49m\u001b[43m(\u001b[49m\u001b[32;43m4\u001b[39;49m\u001b[43m)\u001b[49m\n",
      "\u001b[31mValueError\u001b[39m: 4 is not in list"
     ]
    }
   ],
   "source": [
    "l.index(4)"
   ]
  },
  {
   "cell_type": "code",
   "execution_count": 119,
   "id": "be2d34b3-a72d-4c63-a0a0-209328d4fced",
   "metadata": {},
   "outputs": [
    {
     "data": {
      "text/plain": [
       "3"
      ]
     },
     "execution_count": 119,
     "metadata": {},
     "output_type": "execute_result"
    }
   ],
   "source": [
    "l[0]"
   ]
  },
  {
   "cell_type": "code",
   "execution_count": 120,
   "id": "d0f1ea2e-dd8a-4603-b363-903ab382e12e",
   "metadata": {},
   "outputs": [
    {
     "data": {
      "text/plain": [
       "0"
      ]
     },
     "execution_count": 120,
     "metadata": {},
     "output_type": "execute_result"
    }
   ],
   "source": [
    "l.index(3)"
   ]
  },
  {
   "cell_type": "code",
   "execution_count": 121,
   "id": "b9a3d227-c4e1-4ccc-b4f8-3230ff11c78b",
   "metadata": {},
   "outputs": [
    {
     "data": {
      "text/plain": [
       "4"
      ]
     },
     "execution_count": 121,
     "metadata": {},
     "output_type": "execute_result"
    }
   ],
   "source": [
    "l.index(5)"
   ]
  },
  {
   "cell_type": "code",
   "execution_count": 122,
   "id": "02417503-25f6-441e-85d8-d9e4fba8988e",
   "metadata": {},
   "outputs": [
    {
     "data": {
      "text/plain": [
       "2"
      ]
     },
     "execution_count": 122,
     "metadata": {},
     "output_type": "execute_result"
    }
   ],
   "source": [
    "a = [1, -1, 2, 3, 2, -1, 1]\n",
    "\n",
    "a.index(2)"
   ]
  },
  {
   "cell_type": "code",
   "execution_count": 124,
   "id": "d1a0114b-c439-4e34-af86-840e33e9be7c",
   "metadata": {},
   "outputs": [
    {
     "data": {
      "text/plain": [
       "4"
      ]
     },
     "execution_count": 124,
     "metadata": {},
     "output_type": "execute_result"
    }
   ],
   "source": [
    "a.index(2, 3)"
   ]
  },
  {
   "cell_type": "code",
   "execution_count": 125,
   "id": "ef1af35e-88cc-4b5c-9ffc-7f85a6d6490e",
   "metadata": {},
   "outputs": [
    {
     "data": {
      "text/plain": [
       "4"
      ]
     },
     "execution_count": 125,
     "metadata": {},
     "output_type": "execute_result"
    }
   ],
   "source": [
    "a.index(2, a.index(2)+1)"
   ]
  },
  {
   "cell_type": "markdown",
   "id": "4caa0998-fa4c-46cc-a216-99f1a0e60043",
   "metadata": {},
   "source": [
    "### count()"
   ]
  },
  {
   "cell_type": "code",
   "execution_count": 126,
   "id": "3fb3fe46-81ef-4e13-9758-7bacf5c60650",
   "metadata": {},
   "outputs": [
    {
     "data": {
      "text/plain": [
       "2"
      ]
     },
     "execution_count": 126,
     "metadata": {},
     "output_type": "execute_result"
    }
   ],
   "source": [
    "a.count(2)"
   ]
  },
  {
   "cell_type": "code",
   "execution_count": 127,
   "id": "070d8e46-07f8-40f3-9472-efb34b3d1df2",
   "metadata": {},
   "outputs": [
    {
     "data": {
      "text/plain": [
       "4"
      ]
     },
     "execution_count": 127,
     "metadata": {},
     "output_type": "execute_result"
    }
   ],
   "source": [
    "b = [3, 7, 9, 3, 1, -2, 3, 4, 3, 9]\n",
    "\n",
    "b.count(3)"
   ]
  },
  {
   "cell_type": "code",
   "execution_count": 128,
   "id": "9280ff47-dea6-4a93-a7b3-76e3584897b9",
   "metadata": {},
   "outputs": [
    {
     "data": {
      "text/plain": [
       "2"
      ]
     },
     "execution_count": 128,
     "metadata": {},
     "output_type": "execute_result"
    }
   ],
   "source": [
    "b.count(9)"
   ]
  },
  {
   "cell_type": "code",
   "execution_count": 129,
   "id": "413eb50b-de35-42ca-b142-843ffd6432ca",
   "metadata": {},
   "outputs": [
    {
     "ename": "TypeError",
     "evalue": "list.count() takes exactly one argument (2 given)",
     "output_type": "error",
     "traceback": [
      "\u001b[31m---------------------------------------------------------------------------\u001b[39m",
      "\u001b[31mTypeError\u001b[39m                                 Traceback (most recent call last)",
      "\u001b[36mCell\u001b[39m\u001b[36m \u001b[39m\u001b[32mIn[129]\u001b[39m\u001b[32m, line 1\u001b[39m\n\u001b[32m----> \u001b[39m\u001b[32m1\u001b[39m \u001b[43mb\u001b[49m\u001b[43m.\u001b[49m\u001b[43mcount\u001b[49m\u001b[43m(\u001b[49m\u001b[32;43m3\u001b[39;49m\u001b[43m,\u001b[49m\u001b[32;43m9\u001b[39;49m\u001b[43m)\u001b[49m\n",
      "\u001b[31mTypeError\u001b[39m: list.count() takes exactly one argument (2 given)"
     ]
    }
   ],
   "source": [
    "b.count(3,9)"
   ]
  },
  {
   "cell_type": "markdown",
   "id": "dc6dd844-aac5-479e-8f9c-ec2681dbe183",
   "metadata": {},
   "source": [
    "## Tuple data structure"
   ]
  },
  {
   "cell_type": "markdown",
   "id": "36aeaeca-78f3-47a9-a8a7-1510dc9db4d6",
   "metadata": {},
   "source": [
    "Tuple is another data structure in python similar to list but tuples are immutable. \n",
    "\n",
    "list is mutable -> you can change the element of a list after assignment \n",
    "\n",
    "tuple is immutable -> you can't change the element of a tuple after assignment"
   ]
  },
  {
   "cell_type": "code",
   "execution_count": 132,
   "id": "632baa9e-727e-4dd9-9f52-be395e0857f3",
   "metadata": {},
   "outputs": [],
   "source": [
    "a = ()  # empty tuple"
   ]
  },
  {
   "cell_type": "code",
   "execution_count": 131,
   "id": "b0eed6d4-bf23-4c8b-b294-27be238bdcd2",
   "metadata": {},
   "outputs": [
    {
     "data": {
      "text/plain": [
       "tuple"
      ]
     },
     "execution_count": 131,
     "metadata": {},
     "output_type": "execute_result"
    }
   ],
   "source": [
    "type(a)"
   ]
  },
  {
   "cell_type": "code",
   "execution_count": 133,
   "id": "f6873799-d767-499b-836f-ec25f5a98419",
   "metadata": {},
   "outputs": [
    {
     "data": {
      "text/plain": [
       "tuple"
      ]
     },
     "execution_count": 133,
     "metadata": {},
     "output_type": "execute_result"
    }
   ],
   "source": [
    "b = (2, 4, 7) \n",
    "\n",
    "type(b)"
   ]
  },
  {
   "cell_type": "code",
   "execution_count": 134,
   "id": "328b95c9-7c38-4ad7-a040-771c42dd4004",
   "metadata": {},
   "outputs": [
    {
     "data": {
      "text/plain": [
       "tuple"
      ]
     },
     "execution_count": 134,
     "metadata": {},
     "output_type": "execute_result"
    }
   ],
   "source": [
    "c = 4, 6, -1\n",
    "\n",
    "type(c)"
   ]
  },
  {
   "cell_type": "code",
   "execution_count": 135,
   "id": "a37ff627-2718-476b-bb7c-8ce31a9fef6d",
   "metadata": {},
   "outputs": [
    {
     "name": "stdout",
     "output_type": "stream",
     "text": [
      "(4, 6, -1)\n"
     ]
    }
   ],
   "source": [
    "print(c)"
   ]
  },
  {
   "cell_type": "code",
   "execution_count": 136,
   "id": "b2fdd4a8-72d0-4d26-9b23-2b2a6352286a",
   "metadata": {},
   "outputs": [
    {
     "data": {
      "text/plain": [
       "2"
      ]
     },
     "execution_count": 136,
     "metadata": {},
     "output_type": "execute_result"
    }
   ],
   "source": [
    "b[0]"
   ]
  },
  {
   "cell_type": "code",
   "execution_count": 137,
   "id": "07acbd4d-1e67-4388-a55a-f3d453e23e82",
   "metadata": {},
   "outputs": [
    {
     "data": {
      "text/plain": [
       "-1"
      ]
     },
     "execution_count": 137,
     "metadata": {},
     "output_type": "execute_result"
    }
   ],
   "source": [
    "c[-1]"
   ]
  },
  {
   "cell_type": "code",
   "execution_count": 138,
   "id": "bd0258cf-6e24-43c6-8d29-6652e2c66053",
   "metadata": {},
   "outputs": [
    {
     "data": {
      "text/plain": [
       "(9, 10, 4, 7)"
      ]
     },
     "execution_count": 138,
     "metadata": {},
     "output_type": "execute_result"
    }
   ],
   "source": [
    "a = (3, 6, 9, 10, 4, 7)\n",
    "\n",
    "a[2:6]"
   ]
  },
  {
   "cell_type": "code",
   "execution_count": 139,
   "id": "ac9404ad-46a0-4d6e-bd0a-1560ee49a443",
   "metadata": {},
   "outputs": [
    {
     "data": {
      "text/plain": [
       "(9, 10, 4, 7)"
      ]
     },
     "execution_count": 139,
     "metadata": {},
     "output_type": "execute_result"
    }
   ],
   "source": [
    "a[2:10]"
   ]
  },
  {
   "cell_type": "code",
   "execution_count": 140,
   "id": "29ef8ab2-773d-4281-8abc-12da222c97d3",
   "metadata": {},
   "outputs": [
    {
     "name": "stdout",
     "output_type": "stream",
     "text": [
      "<class 'list'> <class 'tuple'>\n"
     ]
    }
   ],
   "source": [
    "my_list = ['a', 34, -5.6, 'Sachin']  # list assignment\n",
    "\n",
    "my_tuple = ('a', 34, -5.6, 'Sachin')  # tuple assignment\n",
    "\n",
    "print(type(my_list), type(my_tuple))"
   ]
  },
  {
   "cell_type": "code",
   "execution_count": 141,
   "id": "5bef0269-9794-4337-ab00-0a83dd6ab576",
   "metadata": {},
   "outputs": [
    {
     "data": {
      "text/plain": [
       "['b', 34, -5.6, 'Sachin']"
      ]
     },
     "execution_count": 141,
     "metadata": {},
     "output_type": "execute_result"
    }
   ],
   "source": [
    "my_list[0] = 'b'\n",
    "\n",
    "my_list"
   ]
  },
  {
   "cell_type": "code",
   "execution_count": 142,
   "id": "5a35ccc2-5e73-4dec-917f-b42e08f7f290",
   "metadata": {},
   "outputs": [
    {
     "data": {
      "text/plain": [
       "['b', 34, -5.6, 'Kohli']"
      ]
     },
     "execution_count": 142,
     "metadata": {},
     "output_type": "execute_result"
    }
   ],
   "source": [
    "my_list[3] = 'Kohli'\n",
    "\n",
    "my_list"
   ]
  },
  {
   "cell_type": "code",
   "execution_count": 143,
   "id": "b6d6eb21-752d-4814-b4b8-cfab680d8b01",
   "metadata": {},
   "outputs": [
    {
     "ename": "TypeError",
     "evalue": "'tuple' object does not support item assignment",
     "output_type": "error",
     "traceback": [
      "\u001b[31m---------------------------------------------------------------------------\u001b[39m",
      "\u001b[31mTypeError\u001b[39m                                 Traceback (most recent call last)",
      "\u001b[36mCell\u001b[39m\u001b[36m \u001b[39m\u001b[32mIn[143]\u001b[39m\u001b[32m, line 1\u001b[39m\n\u001b[32m----> \u001b[39m\u001b[32m1\u001b[39m \u001b[43mmy_tuple\u001b[49m\u001b[43m[\u001b[49m\u001b[32;43m0\u001b[39;49m\u001b[43m]\u001b[49m = \u001b[33m'\u001b[39m\u001b[33mb\u001b[39m\u001b[33m'\u001b[39m\n",
      "\u001b[31mTypeError\u001b[39m: 'tuple' object does not support item assignment"
     ]
    }
   ],
   "source": [
    "my_tuple[0] = 'b'"
   ]
  },
  {
   "cell_type": "code",
   "execution_count": 144,
   "id": "b3adf1ce-2ea0-4963-8994-a7e9226df919",
   "metadata": {},
   "outputs": [
    {
     "ename": "AttributeError",
     "evalue": "'tuple' object has no attribute 'pop'",
     "output_type": "error",
     "traceback": [
      "\u001b[31m---------------------------------------------------------------------------\u001b[39m",
      "\u001b[31mAttributeError\u001b[39m                            Traceback (most recent call last)",
      "\u001b[36mCell\u001b[39m\u001b[36m \u001b[39m\u001b[32mIn[144]\u001b[39m\u001b[32m, line 1\u001b[39m\n\u001b[32m----> \u001b[39m\u001b[32m1\u001b[39m \u001b[43mmy_tuple\u001b[49m\u001b[43m.\u001b[49m\u001b[43mpop\u001b[49m()\n",
      "\u001b[31mAttributeError\u001b[39m: 'tuple' object has no attribute 'pop'"
     ]
    }
   ],
   "source": [
    "my_tuple.pop()"
   ]
  },
  {
   "cell_type": "code",
   "execution_count": 145,
   "id": "a60af79e-ddf7-4c44-83b2-9a3bba3e5340",
   "metadata": {},
   "outputs": [
    {
     "ename": "AttributeError",
     "evalue": "'tuple' object has no attribute 'append'",
     "output_type": "error",
     "traceback": [
      "\u001b[31m---------------------------------------------------------------------------\u001b[39m",
      "\u001b[31mAttributeError\u001b[39m                            Traceback (most recent call last)",
      "\u001b[36mCell\u001b[39m\u001b[36m \u001b[39m\u001b[32mIn[145]\u001b[39m\u001b[32m, line 1\u001b[39m\n\u001b[32m----> \u001b[39m\u001b[32m1\u001b[39m \u001b[43mmy_tuple\u001b[49m\u001b[43m.\u001b[49m\u001b[43mappend\u001b[49m(\u001b[32m4\u001b[39m)\n",
      "\u001b[31mAttributeError\u001b[39m: 'tuple' object has no attribute 'append'"
     ]
    }
   ],
   "source": [
    "my_tuple.append(4)"
   ]
  },
  {
   "cell_type": "code",
   "execution_count": 147,
   "id": "d10a3138-1582-42e1-bacc-8a61c4fc4404",
   "metadata": {},
   "outputs": [],
   "source": [
    "my_tuple = my_tuple + (4, 5)"
   ]
  },
  {
   "cell_type": "code",
   "execution_count": 148,
   "id": "16ccfeb3-372e-44bd-9d5b-d4e2a838408d",
   "metadata": {},
   "outputs": [
    {
     "data": {
      "text/plain": [
       "('a', 34, -5.6, 'Sachin', 4, 5)"
      ]
     },
     "execution_count": 148,
     "metadata": {},
     "output_type": "execute_result"
    }
   ],
   "source": [
    "my_tuple"
   ]
  },
  {
   "cell_type": "code",
   "execution_count": 149,
   "id": "02a93ec2-e790-422b-b98a-4d43f556bced",
   "metadata": {},
   "outputs": [
    {
     "data": {
      "text/plain": [
       "(2, 2, 3, 4)"
      ]
     },
     "execution_count": 149,
     "metadata": {},
     "output_type": "execute_result"
    }
   ],
   "source": [
    "(2, 2, 3, 4)"
   ]
  },
  {
   "cell_type": "code",
   "execution_count": 150,
   "id": "55b954c7-17f3-4abf-9910-4e93f6fe47f9",
   "metadata": {},
   "outputs": [],
   "source": [
    "t = (3, 4, 5)\n",
    "l =list(t)"
   ]
  },
  {
   "cell_type": "code",
   "execution_count": 151,
   "id": "77f17fa3-23d4-44e2-bf96-0b4ace55eb74",
   "metadata": {},
   "outputs": [
    {
     "data": {
      "text/plain": [
       "[3, 4, 5]"
      ]
     },
     "execution_count": 151,
     "metadata": {},
     "output_type": "execute_result"
    }
   ],
   "source": [
    "l"
   ]
  },
  {
   "cell_type": "code",
   "execution_count": 152,
   "id": "382ff279-015f-400d-88cd-445333c0e638",
   "metadata": {},
   "outputs": [
    {
     "data": {
      "text/plain": [
       "[-5, 4, 5]"
      ]
     },
     "execution_count": 152,
     "metadata": {},
     "output_type": "execute_result"
    }
   ],
   "source": [
    "l[0] = -5\n",
    "\n",
    "l"
   ]
  },
  {
   "cell_type": "code",
   "execution_count": 153,
   "id": "c713980e-4eb4-4981-a0ef-aa9581ed7c33",
   "metadata": {},
   "outputs": [],
   "source": [
    "t = tuple(l)"
   ]
  },
  {
   "cell_type": "code",
   "execution_count": 154,
   "id": "1fc36d20-dda1-4ba9-babe-9167e800f5fd",
   "metadata": {},
   "outputs": [
    {
     "data": {
      "text/plain": [
       "(-5, 4, 5)"
      ]
     },
     "execution_count": 154,
     "metadata": {},
     "output_type": "execute_result"
    }
   ],
   "source": [
    "t"
   ]
  },
  {
   "cell_type": "code",
   "execution_count": 156,
   "id": "5241cf69-423d-4988-a0f9-3c18aed594bb",
   "metadata": {},
   "outputs": [
    {
     "ename": "TypeError",
     "evalue": "'str' object does not support item assignment",
     "output_type": "error",
     "traceback": [
      "\u001b[31m---------------------------------------------------------------------------\u001b[39m",
      "\u001b[31mTypeError\u001b[39m                                 Traceback (most recent call last)",
      "\u001b[36mCell\u001b[39m\u001b[36m \u001b[39m\u001b[32mIn[156]\u001b[39m\u001b[32m, line 3\u001b[39m\n\u001b[32m      1\u001b[39m s = \u001b[33m'\u001b[39m\u001b[33madidas\u001b[39m\u001b[33m'\u001b[39m  \u001b[38;5;66;03m# string is also immutable\u001b[39;00m\n\u001b[32m----> \u001b[39m\u001b[32m3\u001b[39m \u001b[43ms\u001b[49m\u001b[43m[\u001b[49m\u001b[32;43m0\u001b[39;49m\u001b[43m]\u001b[49m = \u001b[33m'\u001b[39m\u001b[33mb\u001b[39m\u001b[33m'\u001b[39m\n",
      "\u001b[31mTypeError\u001b[39m: 'str' object does not support item assignment"
     ]
    }
   ],
   "source": [
    "s = 'adidas'  # string is also immutable\n",
    "\n",
    "s[0] = 'b'"
   ]
  },
  {
   "cell_type": "markdown",
   "id": "b93bf154-c82b-4845-806b-3beffbd06567",
   "metadata": {},
   "source": [
    "## Set"
   ]
  },
  {
   "cell_type": "markdown",
   "id": "61fb8acb-acb9-4602-af99-6b93d7ee0430",
   "metadata": {},
   "source": [
    "Set is a data structure which contains unique ordered values.\n",
    "\n",
    "Sets are also immutable.\n",
    "\n",
    "Indexing and slicing are not allowed on set."
   ]
  },
  {
   "cell_type": "code",
   "execution_count": 157,
   "id": "7a3c55b2-1a66-496a-9cf1-069ba3ddef55",
   "metadata": {},
   "outputs": [
    {
     "data": {
      "text/plain": [
       "[-3, 2, 4, 5, 2, 3, 4, 5, -3, 4]"
      ]
     },
     "execution_count": 157,
     "metadata": {},
     "output_type": "execute_result"
    }
   ],
   "source": [
    "my_list = [-3, 2, 4, 5, 2, 3, 4, 5, -3, 4]\n",
    "\n",
    "my_list"
   ]
  },
  {
   "cell_type": "code",
   "execution_count": 158,
   "id": "480f8728-5a3b-4bae-beae-ac006073a268",
   "metadata": {},
   "outputs": [
    {
     "data": {
      "text/plain": [
       "set"
      ]
     },
     "execution_count": 158,
     "metadata": {},
     "output_type": "execute_result"
    }
   ],
   "source": [
    "my_set = set(my_list)\n",
    "\n",
    "type(my_set)"
   ]
  },
  {
   "cell_type": "code",
   "execution_count": 159,
   "id": "053482ce-f12e-4cb2-95db-bb9bba2018a1",
   "metadata": {},
   "outputs": [
    {
     "data": {
      "text/plain": [
       "{-3, 2, 3, 4, 5}"
      ]
     },
     "execution_count": 159,
     "metadata": {},
     "output_type": "execute_result"
    }
   ],
   "source": [
    "my_set"
   ]
  },
  {
   "cell_type": "code",
   "execution_count": 160,
   "id": "ce160b1a-6df5-47f8-9240-883922f6ed1f",
   "metadata": {},
   "outputs": [
    {
     "name": "stdout",
     "output_type": "stream",
     "text": [
      "2 , count: 2\n",
      "3 , count: 1\n",
      "4 , count: 3\n",
      "5 , count: 2\n",
      "-3 , count: 2\n"
     ]
    }
   ],
   "source": [
    "for x in set(my_list):\n",
    "    print(f\"{x} , count: {my_list.count(x)}\")"
   ]
  },
  {
   "cell_type": "code",
   "execution_count": 163,
   "id": "5945d31e-534b-4654-bb29-8610e6991012",
   "metadata": {},
   "outputs": [
    {
     "data": {
      "text/plain": [
       "{2, 3, 5, 6}"
      ]
     },
     "execution_count": 163,
     "metadata": {},
     "output_type": "execute_result"
    }
   ],
   "source": [
    "s = {3, 5, 6, 2, 3, 6}\n",
    "s"
   ]
  },
  {
   "cell_type": "code",
   "execution_count": 164,
   "id": "7bbe5496-9b97-4232-bf05-174133612d9a",
   "metadata": {},
   "outputs": [
    {
     "data": {
      "text/plain": [
       "dict"
      ]
     },
     "execution_count": 164,
     "metadata": {},
     "output_type": "execute_result"
    }
   ],
   "source": [
    "f = {}  # not an empty set but an empty dictionary\n",
    "\n",
    "type(f)\n"
   ]
  },
  {
   "cell_type": "code",
   "execution_count": 165,
   "id": "aaadabdb-d17f-4681-933d-d6ed641214f3",
   "metadata": {},
   "outputs": [],
   "source": [
    "f = set()  # empty set"
   ]
  },
  {
   "cell_type": "code",
   "execution_count": 166,
   "id": "74a4998a-b425-469e-ab63-125de7530804",
   "metadata": {},
   "outputs": [
    {
     "data": {
      "text/plain": [
       "set"
      ]
     },
     "execution_count": 166,
     "metadata": {},
     "output_type": "execute_result"
    }
   ],
   "source": [
    "type(f)"
   ]
  },
  {
   "cell_type": "markdown",
   "id": "66c32c1e-cd35-4c49-b72b-7f1c1db061c8",
   "metadata": {},
   "source": [
    "### Set methods"
   ]
  },
  {
   "cell_type": "code",
   "execution_count": 167,
   "id": "90b0e995-8db3-4a41-bffe-f10c4cedf38e",
   "metadata": {},
   "outputs": [],
   "source": [
    "A = {3, 6, 9, 12, 15, 18, 21, 24, 27, 30}\n",
    "B = {5, 10, 15, 20, 25, 30}"
   ]
  },
  {
   "cell_type": "code",
   "execution_count": 168,
   "id": "6573c1a1-da06-4bde-a6ad-5c73afddc41f",
   "metadata": {},
   "outputs": [
    {
     "data": {
      "text/plain": [
       "{15, 30}"
      ]
     },
     "execution_count": 168,
     "metadata": {},
     "output_type": "execute_result"
    }
   ],
   "source": [
    "A.intersection(B)"
   ]
  },
  {
   "cell_type": "code",
   "execution_count": 169,
   "id": "a56f2762-f271-4f11-854b-d0521e4e01bb",
   "metadata": {},
   "outputs": [
    {
     "data": {
      "text/plain": [
       "{3, 5, 6, 9, 10, 12, 15, 18, 20, 21, 24, 25, 27, 30}"
      ]
     },
     "execution_count": 169,
     "metadata": {},
     "output_type": "execute_result"
    }
   ],
   "source": [
    "A.union(B)"
   ]
  },
  {
   "cell_type": "code",
   "execution_count": 170,
   "id": "e8306936-ca22-4bb8-9fd8-98a6ee89ceef",
   "metadata": {},
   "outputs": [
    {
     "data": {
      "text/plain": [
       "{3, 6, 9, 12, 18, 21, 24, 27}"
      ]
     },
     "execution_count": 170,
     "metadata": {},
     "output_type": "execute_result"
    }
   ],
   "source": [
    "A.difference(B)"
   ]
  },
  {
   "cell_type": "code",
   "execution_count": 171,
   "id": "a6a1315a-35ef-42d2-b9a4-bc30b758a610",
   "metadata": {},
   "outputs": [
    {
     "data": {
      "text/plain": [
       "{5, 10, 20, 25}"
      ]
     },
     "execution_count": 171,
     "metadata": {},
     "output_type": "execute_result"
    }
   ],
   "source": [
    "B.difference(A)"
   ]
  },
  {
   "cell_type": "code",
   "execution_count": 172,
   "id": "dd6a79f6-3b69-4082-a590-60cd7944eb68",
   "metadata": {},
   "outputs": [
    {
     "data": {
      "text/plain": [
       "{3, 5, 6, 9, 10, 12, 18, 20, 21, 24, 25, 27}"
      ]
     },
     "execution_count": 172,
     "metadata": {},
     "output_type": "execute_result"
    }
   ],
   "source": [
    "A.symmetric_difference(B)"
   ]
  },
  {
   "cell_type": "code",
   "execution_count": 173,
   "id": "128ab977-4022-45dd-955b-e40d0c4eb717",
   "metadata": {},
   "outputs": [
    {
     "data": {
      "text/plain": [
       "{3, 5, 6, 9, 10, 12, 18, 20, 21, 24, 25, 27}"
      ]
     },
     "execution_count": 173,
     "metadata": {},
     "output_type": "execute_result"
    }
   ],
   "source": [
    "A.union(B).difference(A.intersection(B))"
   ]
  },
  {
   "cell_type": "code",
   "execution_count": 174,
   "id": "6d27ddf7-d71a-4f0e-82eb-1cd3b6c970ca",
   "metadata": {},
   "outputs": [],
   "source": [
    "C = {'apple', 'banana', 'orange'}\n",
    "\n",
    "D = {'apple', 'banana', 'orange', 'guava', 'coconut'}"
   ]
  },
  {
   "cell_type": "code",
   "execution_count": 175,
   "id": "13ab4b6d-3767-4c62-a5af-2c9ecd5c92e7",
   "metadata": {},
   "outputs": [
    {
     "data": {
      "text/plain": [
       "True"
      ]
     },
     "execution_count": 175,
     "metadata": {},
     "output_type": "execute_result"
    }
   ],
   "source": [
    "C.issubset(D)"
   ]
  },
  {
   "cell_type": "code",
   "execution_count": 177,
   "id": "e489f401-4f7d-4baf-852f-21829986b1df",
   "metadata": {},
   "outputs": [
    {
     "data": {
      "text/plain": [
       "False"
      ]
     },
     "execution_count": 177,
     "metadata": {},
     "output_type": "execute_result"
    }
   ],
   "source": [
    "D.issubset(C)"
   ]
  },
  {
   "cell_type": "code",
   "execution_count": 178,
   "id": "ec04c2af-8115-4bb7-9a7b-ffc4548cd123",
   "metadata": {},
   "outputs": [
    {
     "data": {
      "text/plain": [
       "True"
      ]
     },
     "execution_count": 178,
     "metadata": {},
     "output_type": "execute_result"
    }
   ],
   "source": [
    "D.issuperset(C)"
   ]
  },
  {
   "cell_type": "code",
   "execution_count": 179,
   "id": "f0750fa5-58de-49c9-9d77-0e9782b1aa64",
   "metadata": {},
   "outputs": [
    {
     "data": {
      "text/plain": [
       "False"
      ]
     },
     "execution_count": 179,
     "metadata": {},
     "output_type": "execute_result"
    }
   ],
   "source": [
    "C.issuperset(D)"
   ]
  },
  {
   "cell_type": "code",
   "execution_count": 181,
   "id": "f118a945-2d91-47e7-9563-cc629aeb3e04",
   "metadata": {},
   "outputs": [
    {
     "data": {
      "text/plain": [
       "False"
      ]
     },
     "execution_count": 181,
     "metadata": {},
     "output_type": "execute_result"
    }
   ],
   "source": [
    "C.isdisjoint(D)"
   ]
  },
  {
   "cell_type": "code",
   "execution_count": 182,
   "id": "d9bdc75b-c09d-4f68-b1ee-bf233ad3c65b",
   "metadata": {},
   "outputs": [
    {
     "data": {
      "text/plain": [
       "True"
      ]
     },
     "execution_count": 182,
     "metadata": {},
     "output_type": "execute_result"
    }
   ],
   "source": [
    "A.isdisjoint(C)"
   ]
  },
  {
   "cell_type": "code",
   "execution_count": 183,
   "id": "af79f4c6-1eac-413a-baba-8cda54f5b2c0",
   "metadata": {},
   "outputs": [
    {
     "data": {
      "text/plain": [
       "set()"
      ]
     },
     "execution_count": 183,
     "metadata": {},
     "output_type": "execute_result"
    }
   ],
   "source": [
    "A.intersection(C)"
   ]
  },
  {
   "cell_type": "markdown",
   "id": "69229aae-6862-46fe-8ce7-c20d5aad41ff",
   "metadata": {},
   "source": [
    "## Dictionary\n",
    "\n",
    "Python dictionary is a key value pair data structure. This is python's in-built hash map. \n",
    "\n",
    "```\n",
    "{key1 : value1, key2 : value2, key3 : value3, ...}\n",
    "\n",
    "```\n",
    "\n",
    "The key in a python dictionary should be immutable."
   ]
  },
  {
   "cell_type": "code",
   "execution_count": 184,
   "id": "d803b03e-8bd7-42f7-b882-29e56b0e0566",
   "metadata": {},
   "outputs": [
    {
     "data": {
      "text/plain": [
       "dict"
      ]
     },
     "execution_count": 184,
     "metadata": {},
     "output_type": "execute_result"
    }
   ],
   "source": [
    "a = {} # empty dictionary\n",
    "\n",
    "type(a)"
   ]
  },
  {
   "cell_type": "code",
   "execution_count": 185,
   "id": "d65384fb-a318-41ae-9e40-6b243bb26409",
   "metadata": {},
   "outputs": [],
   "source": [
    "fruits = {'apple': 80, 'banana': 200, 'mango': 250, 'orange': 400}"
   ]
  },
  {
   "cell_type": "code",
   "execution_count": 186,
   "id": "2ee954d6-4c2b-42c0-9467-af894e48fa54",
   "metadata": {},
   "outputs": [
    {
     "data": {
      "text/plain": [
       "{'apple': 80, 'banana': 200, 'mango': 250, 'orange': 400}"
      ]
     },
     "execution_count": 186,
     "metadata": {},
     "output_type": "execute_result"
    }
   ],
   "source": [
    "fruits"
   ]
  },
  {
   "cell_type": "code",
   "execution_count": 187,
   "id": "6de70ce8-78f7-4eb6-aba3-f2fc9e6ea871",
   "metadata": {},
   "outputs": [],
   "source": [
    "fruits = {'apple': 80, 'banana': 200, 'mango': 250, 'orange': 400, 'banana': 150}"
   ]
  },
  {
   "cell_type": "code",
   "execution_count": 188,
   "id": "14d36570-5a70-4392-b9ee-4eae3755d518",
   "metadata": {},
   "outputs": [
    {
     "data": {
      "text/plain": [
       "{'apple': 80, 'banana': 150, 'mango': 250, 'orange': 400}"
      ]
     },
     "execution_count": 188,
     "metadata": {},
     "output_type": "execute_result"
    }
   ],
   "source": [
    "fruits"
   ]
  },
  {
   "cell_type": "code",
   "execution_count": 189,
   "id": "7a43a4a6-f0af-49e1-8ae6-7fe730578eae",
   "metadata": {},
   "outputs": [
    {
     "data": {
      "text/plain": [
       "80"
      ]
     },
     "execution_count": 189,
     "metadata": {},
     "output_type": "execute_result"
    }
   ],
   "source": [
    "fruits['apple']"
   ]
  },
  {
   "cell_type": "code",
   "execution_count": 191,
   "id": "a40c5387-82b5-4f82-8b9f-c673cb51fd11",
   "metadata": {},
   "outputs": [],
   "source": [
    "d = {(3, 5): 6, (4, 9): 10}"
   ]
  },
  {
   "cell_type": "code",
   "execution_count": 192,
   "id": "a274ab44-b12d-4605-b8b7-1c3a3445560d",
   "metadata": {},
   "outputs": [
    {
     "data": {
      "text/plain": [
       "6"
      ]
     },
     "execution_count": 192,
     "metadata": {},
     "output_type": "execute_result"
    }
   ],
   "source": [
    "d[(3,5)]"
   ]
  },
  {
   "cell_type": "code",
   "execution_count": 193,
   "id": "947f97c3-c0d1-4695-8459-ff552fb9f4ee",
   "metadata": {},
   "outputs": [
    {
     "data": {
      "text/plain": [
       "dict_items([('apple', 80), ('banana', 150), ('mango', 250), ('orange', 400)])"
      ]
     },
     "execution_count": 193,
     "metadata": {},
     "output_type": "execute_result"
    }
   ],
   "source": [
    "fruits.items()"
   ]
  },
  {
   "cell_type": "code",
   "execution_count": 194,
   "id": "25bf8c45-8b20-4912-b3c2-982fe3668866",
   "metadata": {},
   "outputs": [
    {
     "name": "stdout",
     "output_type": "stream",
     "text": [
      "The price of apple is 80\n",
      "The price of banana is 150\n",
      "The price of mango is 250\n",
      "The price of orange is 400\n"
     ]
    }
   ],
   "source": [
    "for k,v in fruits.items():\n",
    "    print(f\"The price of {k} is {v}\")"
   ]
  },
  {
   "cell_type": "code",
   "execution_count": 204,
   "id": "233b8ed8-ed7f-4dd6-a121-7a8646bd24cc",
   "metadata": {},
   "outputs": [],
   "source": [
    "list1 = [\"mango\", \"guava\", \"pineapple\", \"orange\", \"apple\"]\n",
    "\n",
    "list2 = [100, 40, 200, 80]\n"
   ]
  },
  {
   "cell_type": "code",
   "execution_count": 205,
   "id": "cdb7bb69-3ad9-4cef-957e-89445fd8524a",
   "metadata": {},
   "outputs": [],
   "source": [
    "fruit_price = dict()\n",
    "\n",
    "for x,y in zip(list1, list2):\n",
    "    fruit_price[x] = y"
   ]
  },
  {
   "cell_type": "code",
   "execution_count": 206,
   "id": "e90ea03f-6f63-49d1-8f77-bcbed48fd9b3",
   "metadata": {},
   "outputs": [
    {
     "data": {
      "text/plain": [
       "{'mango': 100, 'guava': 40, 'pineapple': 200, 'orange': 80}"
      ]
     },
     "execution_count": 206,
     "metadata": {},
     "output_type": "execute_result"
    }
   ],
   "source": [
    "fruit_price"
   ]
  },
  {
   "cell_type": "code",
   "execution_count": 207,
   "id": "bcbf6cf1-a01b-42aa-9e63-d803183ed832",
   "metadata": {},
   "outputs": [
    {
     "data": {
      "text/plain": [
       "{'mango': 100, 'guava': 40, 'pineapple': 200, 'orange': 80}"
      ]
     },
     "execution_count": 207,
     "metadata": {},
     "output_type": "execute_result"
    }
   ],
   "source": [
    "dict(zip(list1, list2))"
   ]
  },
  {
   "cell_type": "markdown",
   "id": "83aa9401-2c7a-4865-a721-50ad17b5f472",
   "metadata": {},
   "source": [
    "### List comprehension"
   ]
  },
  {
   "cell_type": "code",
   "execution_count": 208,
   "id": "0eba0646-bade-4635-9090-10694f923219",
   "metadata": {},
   "outputs": [
    {
     "data": {
      "text/plain": [
       "[9, 25, 100, 121, 4]"
      ]
     },
     "execution_count": 208,
     "metadata": {},
     "output_type": "execute_result"
    }
   ],
   "source": [
    "my_list = [3, 5, 10, 11, 2]\n",
    "\n",
    "# Create another list with squared values of the my_list\n",
    "\n",
    "result_list = []\n",
    "\n",
    "for x in my_list:\n",
    "    result_list.append(x**2)\n",
    "\n",
    "\n",
    "result_list"
   ]
  },
  {
   "cell_type": "code",
   "execution_count": 209,
   "id": "1261ce82-76a3-4ec5-8c0d-1b34feaeea9b",
   "metadata": {},
   "outputs": [
    {
     "data": {
      "text/plain": [
       "[9, 25, 100, 121, 4]"
      ]
     },
     "execution_count": 209,
     "metadata": {},
     "output_type": "execute_result"
    }
   ],
   "source": [
    "result_list = [x**2 for x in my_list]\n",
    "\n",
    "result_list"
   ]
  },
  {
   "cell_type": "markdown",
   "id": "afa678c1-5570-4df9-8913-9e6e9af5fcb0",
   "metadata": {},
   "source": [
    "### Dictionary comprehension"
   ]
  },
  {
   "cell_type": "code",
   "execution_count": 210,
   "id": "a67c3b6e-48b1-4631-b1f8-6e3391e53aec",
   "metadata": {},
   "outputs": [],
   "source": [
    "list1 = [\"mango\", \"guava\", \"pineapple\", \"orange\", \"apple\"]\n",
    "\n",
    "list2 = [100, 40, 200, 80, 120]"
   ]
  },
  {
   "cell_type": "code",
   "execution_count": 211,
   "id": "551ff780-f178-41bb-b0ff-43070a2a4dee",
   "metadata": {},
   "outputs": [],
   "source": [
    "fruit_price = {x:y for x,y in zip(list1, list2)}"
   ]
  },
  {
   "cell_type": "code",
   "execution_count": 212,
   "id": "2a73f9b0-57b6-48d8-bd81-aae5649abac9",
   "metadata": {},
   "outputs": [
    {
     "data": {
      "text/plain": [
       "{'mango': 100, 'guava': 40, 'pineapple': 200, 'orange': 80, 'apple': 120}"
      ]
     },
     "execution_count": 212,
     "metadata": {},
     "output_type": "execute_result"
    }
   ],
   "source": [
    "fruit_price"
   ]
  },
  {
   "cell_type": "markdown",
   "id": "55606f21-9b3e-4f94-afdc-4b5f92c4a811",
   "metadata": {},
   "source": [
    "### Dictionary methods"
   ]
  },
  {
   "cell_type": "code",
   "execution_count": 213,
   "id": "9befcd7b-b43b-43c6-9704-fc9d74b507c1",
   "metadata": {},
   "outputs": [],
   "source": [
    "d = {'a': 20, 'b': 40}\n",
    "\n",
    "d.clear()"
   ]
  },
  {
   "cell_type": "code",
   "execution_count": 214,
   "id": "c33341f4-6b9d-4a7c-8d3a-d9085d26bf7f",
   "metadata": {},
   "outputs": [
    {
     "data": {
      "text/plain": [
       "{}"
      ]
     },
     "execution_count": 214,
     "metadata": {},
     "output_type": "execute_result"
    }
   ],
   "source": [
    "d"
   ]
  },
  {
   "cell_type": "code",
   "execution_count": 215,
   "id": "98e60d05-8264-4657-843e-0996939dc70e",
   "metadata": {},
   "outputs": [
    {
     "data": {
      "text/plain": [
       "{'apple': 80, 'banana': 150, 'mango': 250, 'orange': 400}"
      ]
     },
     "execution_count": 215,
     "metadata": {},
     "output_type": "execute_result"
    }
   ],
   "source": [
    "fruits"
   ]
  },
  {
   "cell_type": "code",
   "execution_count": 216,
   "id": "7c13173a-3896-4e89-85b2-a9637ad2188c",
   "metadata": {},
   "outputs": [
    {
     "data": {
      "text/plain": [
       "80"
      ]
     },
     "execution_count": 216,
     "metadata": {},
     "output_type": "execute_result"
    }
   ],
   "source": [
    "fruits['apple']"
   ]
  },
  {
   "cell_type": "code",
   "execution_count": 217,
   "id": "15a014ba-b2f0-477f-8b85-541b02b8d77b",
   "metadata": {},
   "outputs": [
    {
     "data": {
      "text/plain": [
       "80"
      ]
     },
     "execution_count": 217,
     "metadata": {},
     "output_type": "execute_result"
    }
   ],
   "source": [
    "fruits.get('apple')"
   ]
  },
  {
   "cell_type": "code",
   "execution_count": 218,
   "id": "f91df30f-2dbc-4d3d-ac7a-0368c79e2566",
   "metadata": {},
   "outputs": [
    {
     "ename": "KeyError",
     "evalue": "'pineapple'",
     "output_type": "error",
     "traceback": [
      "\u001b[31m---------------------------------------------------------------------------\u001b[39m",
      "\u001b[31mKeyError\u001b[39m                                  Traceback (most recent call last)",
      "\u001b[36mCell\u001b[39m\u001b[36m \u001b[39m\u001b[32mIn[218]\u001b[39m\u001b[32m, line 1\u001b[39m\n\u001b[32m----> \u001b[39m\u001b[32m1\u001b[39m \u001b[43mfruits\u001b[49m\u001b[43m[\u001b[49m\u001b[33;43m'\u001b[39;49m\u001b[33;43mpineapple\u001b[39;49m\u001b[33;43m'\u001b[39;49m\u001b[43m]\u001b[49m\n",
      "\u001b[31mKeyError\u001b[39m: 'pineapple'"
     ]
    }
   ],
   "source": [
    "fruits['pineapple']"
   ]
  },
  {
   "cell_type": "code",
   "execution_count": 220,
   "id": "fee9fc0f-5260-4ff1-a905-ccb5a2e2dc2c",
   "metadata": {},
   "outputs": [
    {
     "data": {
      "text/plain": [
       "0"
      ]
     },
     "execution_count": 220,
     "metadata": {},
     "output_type": "execute_result"
    }
   ],
   "source": [
    "fruits.get('pineapple', 0)"
   ]
  },
  {
   "cell_type": "code",
   "execution_count": 221,
   "id": "6d6a2502-4c97-44cf-9a83-f7ef24818f76",
   "metadata": {},
   "outputs": [
    {
     "data": {
      "text/plain": [
       "dict_keys(['apple', 'banana', 'mango', 'orange'])"
      ]
     },
     "execution_count": 221,
     "metadata": {},
     "output_type": "execute_result"
    }
   ],
   "source": [
    "fruits.keys()"
   ]
  },
  {
   "cell_type": "code",
   "execution_count": 222,
   "id": "2ed176b2-76d8-4833-817a-4057378fdc26",
   "metadata": {},
   "outputs": [
    {
     "data": {
      "text/plain": [
       "dict_items([('apple', 80), ('banana', 150), ('mango', 250), ('orange', 400)])"
      ]
     },
     "execution_count": 222,
     "metadata": {},
     "output_type": "execute_result"
    }
   ],
   "source": [
    "fruits.items()"
   ]
  },
  {
   "cell_type": "code",
   "execution_count": 224,
   "id": "1528efe3-77ab-4cdb-90df-45fa73b69099",
   "metadata": {},
   "outputs": [
    {
     "data": {
      "text/plain": [
       "True"
      ]
     },
     "execution_count": 224,
     "metadata": {},
     "output_type": "execute_result"
    }
   ],
   "source": [
    "'apple' in fruits"
   ]
  },
  {
   "cell_type": "code",
   "execution_count": 225,
   "id": "da371397-8b53-450e-ba2c-efd80c812882",
   "metadata": {},
   "outputs": [
    {
     "data": {
      "text/plain": [
       "False"
      ]
     },
     "execution_count": 225,
     "metadata": {},
     "output_type": "execute_result"
    }
   ],
   "source": [
    "'guava' in fruits"
   ]
  },
  {
   "cell_type": "code",
   "execution_count": 226,
   "id": "486c08b6-7a4b-43d7-9d5f-503a2faa6fa5",
   "metadata": {},
   "outputs": [
    {
     "data": {
      "text/plain": [
       "dict_values([80, 150, 250, 400])"
      ]
     },
     "execution_count": 226,
     "metadata": {},
     "output_type": "execute_result"
    }
   ],
   "source": [
    "fruits.values()"
   ]
  },
  {
   "cell_type": "code",
   "execution_count": 227,
   "id": "ff2f7dd0-7fe1-4dca-8dcd-12ae4357252f",
   "metadata": {},
   "outputs": [
    {
     "data": {
      "text/plain": [
       "80"
      ]
     },
     "execution_count": 227,
     "metadata": {},
     "output_type": "execute_result"
    }
   ],
   "source": [
    "fruits.pop('apple')"
   ]
  },
  {
   "cell_type": "code",
   "execution_count": 228,
   "id": "668bbc8a-ae1a-415e-8334-94829c03d8e3",
   "metadata": {},
   "outputs": [
    {
     "data": {
      "text/plain": [
       "{'banana': 150, 'mango': 250, 'orange': 400}"
      ]
     },
     "execution_count": 228,
     "metadata": {},
     "output_type": "execute_result"
    }
   ],
   "source": [
    "fruits"
   ]
  },
  {
   "cell_type": "code",
   "execution_count": null,
   "id": "ae26f7c5-7b0e-43b2-af58-b34d242212e2",
   "metadata": {},
   "outputs": [],
   "source": []
  }
 ],
 "metadata": {
  "kernelspec": {
   "display_name": "Python 3 (ipykernel)",
   "language": "python",
   "name": "python3"
  },
  "language_info": {
   "codemirror_mode": {
    "name": "ipython",
    "version": 3
   },
   "file_extension": ".py",
   "mimetype": "text/x-python",
   "name": "python",
   "nbconvert_exporter": "python",
   "pygments_lexer": "ipython3",
   "version": "3.12.9"
  }
 },
 "nbformat": 4,
 "nbformat_minor": 5
}
